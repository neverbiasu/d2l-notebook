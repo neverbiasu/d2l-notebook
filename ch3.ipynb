{
 "cells": [
  {
   "cell_type": "markdown",
   "metadata": {},
   "source": [
    "# 线性神经网络"
   ]
  },
  {
   "cell_type": "markdown",
   "metadata": {},
   "source": [
    "### 我们将介绍神经网络的整个训练过程，包括：定义简单的神经网络架构、数据处理、指定损失函数和如何训练模型\n",
    "### 我们将从经典算法————线性神经网络开始，介绍神经网络的基础知识"
   ]
  },
  {
   "cell_type": "markdown",
   "metadata": {},
   "source": [
    "## 3.1 线性回归"
   ]
  },
  {
   "cell_type": "markdown",
   "metadata": {},
   "source": [
    "#### 回归是为单个或多个因变量和自变量之间关系建模的一类方法\n",
    "#### 在一些科学领域，回归经常用来表示输入和输出之间的关系"
   ]
  },
  {
   "cell_type": "markdown",
   "metadata": {},
   "source": [
    "#### 在机器学习领域中的大多数任务通常都与预测（prediction）有关\n",
    "#### 但不是所有预测都是回归问题"
   ]
  },
  {
   "cell_type": "markdown",
   "metadata": {},
   "source": [
    "### 3.1.1 线性回归的基本元素"
   ]
  },
  {
   "cell_type": "markdown",
   "metadata": {},
   "source": [
    "#### 线性回归（linear regression）可以追溯到19世纪初，它在回归的各种标准工具中最简单而且最流行"
   ]
  },
  {
   "cell_type": "markdown",
   "metadata": {},
   "source": [
    "#### 线性回归基于几个基本的假设：\n",
    "#### 1. 首先，假设自变量$\\chi$和因变量$y$的关系是线性的，即$y$可以表示为$\\chi$中元素的加权和\n",
    "#### 2. 这里通常允许包含观测值的一些噪声，其次，我们假设任何噪声都比较正常，如噪声遵循正态分布"
   ]
  },
  {
   "cell_type": "markdown",
   "metadata": {},
   "source": [
    "#### 为开发一个能预测__的模型，我们需要数据集，在ml中称为训练数据集（training dataset）\n",
    "#### 每行数据称为样本（sample），也可以称为数据点（data point）或数据样本（data instance）\n",
    "#### 预测的目标叫做标签（label）或者目标（target）。\n",
    "#### 预测所依据的自变量叫做特征（feature）或者协变量（covariate）"
   ]
  },
  {
   "cell_type": "markdown",
   "metadata": {},
   "source": [
    "#### 通常n表示数据集中的样本数。对索引为i的样本其输入表示为$x^{(i)} = [x_1^{(i)}, x_2^{(i)}]^⊤$"
   ]
  },
  {
   "cell_type": "markdown",
   "metadata": {},
   "source": [
    "### 线性模型"
   ]
  },
  {
   "cell_type": "markdown",
   "metadata": {},
   "source": [
    "#### 每个解决方案的核心都是一个模型，该模型描述如何将特征转换为目标的估计\n",
    "#### 线性假设是指目标（房屋价格）可以表示为特征（面积和房龄）的加权和"
   ]
  },
  {
   "cell_type": "markdown",
   "metadata": {},
   "source": [
    "#### $$ \\textrm{price} = w_{\\textrm{area}} \\cdot \\textrm{area} + w_{\\textrm{age}} \\cdot \\textrm{age} + b.\\textrm{price} = w_{\\textrm{area}} \\cdot \\textrm{area} + w_{\\textrm{age}} \\cdot \\textrm{age} + b. $$"
   ]
  },
  {
   "cell_type": "markdown",
   "metadata": {},
   "source": [
    "#### $w_{area}$ 和 $w_{age}$称为权重（weight），权重决定了每个特征对我们预测值的影响\n",
    "#### $b$称为偏置（bias）、偏移量（offset）或截距（intercept）\n",
    "#### 偏置是指当所有特征都取值为0时，预测值应该为多少\n",
    "#### 如果没有偏置项，我们模型的表达能力会出问题"
   ]
  },
  {
   "cell_type": "markdown",
   "metadata": {},
   "source": [
    "#### 严格来说，这个公式是输入特征的一个仿射变换（affine transformation）\n",
    "#### 仿射变换的特点是通过加权和对特征进行线性变换（linear transformation），并通过偏置项进行平移（translation）"
   ]
  },
  {
   "cell_type": "markdown",
   "metadata": {},
   "source": [
    "#### 我们的目标是找到权重$w$和偏置$b$"
   ]
  },
  {
   "cell_type": "markdown",
   "metadata": {},
   "source": [
    "#### 在机器学习中，我们的数据集通常都是高维的，建模时采用线性代数表示法更方便\n",
    "#### 当我们输入包含$d$个特征时，我们将预测结果$\\hat y$表示为\n",
    "#### $$ \\hat{y} = w_1  x_1 + \\cdots + w_d  x_d + b. $$"
   ]
  },
  {
   "cell_type": "markdown",
   "metadata": {},
   "source": [
    "#### 将所有特征收集到$\\chi \\in \\mathbb R^d$中，可以通过点积来表示公式\n",
    "#### $$ \\hat{y} = \\mathbf{w}^\\top \\mathbf{x} + b. $$"
   ]
  },
  {
   "cell_type": "markdown",
   "metadata": {},
   "source": [
    "#### 向量$\\chi$对应于单个数据样本的特征\n",
    "#### 用符号表示的矩阵$X \\in R^{n×d}$ 可以很方便地引用我们整个数据集的n个样本\n",
    "#### 其中，X的每一行是一个样本，每一列是一种特征。"
   ]
  },
  {
   "cell_type": "markdown",
   "metadata": {},
   "source": [
    "#### 对于特征集合X，预测值$\\hat y \\in R^n $可以通过矩阵‐向量乘法表示为："
   ]
  },
  {
   "cell_type": "markdown",
   "metadata": {},
   "source": [
    "#### $$ {\\hat{\\mathbf{y}}} = \\mathbf{X} \\mathbf{w} + b, $$"
   ]
  },
  {
   "cell_type": "markdown",
   "metadata": {},
   "source": [
    "#### 这个过程中的求和将使用广播机制\n",
    "#### 线性回归的目标是找到一组权重向量w和偏置b能够使得新样本预测标签的误差尽可能小"
   ]
  },
  {
   "cell_type": "markdown",
   "metadata": {},
   "source": [
    "#### 无论如何，都可能会出现少量的观测误差。因此，即使确信特征与标签的潜在关系是线性的，我们也会加入一个噪声项来考虑观测误差带来的影响"
   ]
  },
  {
   "cell_type": "markdown",
   "metadata": {},
   "source": [
    "#### 在开始寻找最好的模型参数（model parameters）w和b之前，我们还需要两个东西：（1）一种模型质量的度量方式；（2）一种能够更新模型以提高模型预测质量的方法。"
   ]
  },
  {
   "cell_type": "markdown",
   "metadata": {},
   "source": [
    "#### 损失函数和平方误差\n",
    "#### 在线性回归中，损失函数用于量化模型预测值与实际标签之间的差距。通常选择非负数作为损失，数值越小表示拟合效果越好，完美预测的损失为0。回归问题中常用的损失函数是平方误差函数，定义为：\n",
    "#### $$ l^{(i)}(w, b) = \\frac{1}{2} \\left( \\hat{y}^{(i)} - y^{(i)} \\right)^2 $$\n",
    "\n",
    "#### 平方误差函数的特点\n",
    "#### 平方误差函数中的常数 $\\frac{1}{2} $是为了求导时的方便。平方误差函数使得预测值与实际值之间较大的差异导致更大的损失，这有助于模型更好地拟合数据。 \n",
    "<img src = \"https://zh.d2l.ai/_images/fit-linreg.svg\" margin: auto>\n",
    "\n",
    "#### 模型在整个数据集上的质量度量\n",
    "#### 为了度量模型在整个数据集上的质量，计算所有训练样本上的损失均值：\n",
    "#### $$ L(w, b) = \\frac{1}{n} \\sum_{i=1}^{n} l^{(i)}(w, b) = \\frac{1}{n} \\sum_{i=1}^{n} \\frac{1}{2} \\left( w^\\top x^{(i)} + b - y^{(i)} \\right)^2 $$\n",
    "\n",
    "#### 模型训练的目标\n",
    "#### 训练模型的目标是找到一组参数 $ w^*, b^* $，使得它们能最小化所有训练样本上的总损失：\n",
    "#### $$ w^*, b^* = \\arg \\min_{w,b} L(w, b) $$\n"
   ]
  },
  {
   "cell_type": "markdown",
   "metadata": {},
   "source": [
    "### 解析解"
   ]
  },
  {
   "cell_type": "markdown",
   "metadata": {},
   "source": [
    "#### 线性回归不同于其他模型，其解可以用一个公式简单的表示出来，这类解叫作解析解\n",
    "#### 首先，将b合并到**w**中，方式是在包含所有参数的矩阵加一列\n",
    "#### 那我们的预测问题就是最小化$||y-\\chi w||$,在这损失平面只有一个临界点，这个点对应整个区域的损失极小值\n",
    "#### 将损失关于**w**的导数设为0，得到解：\n",
    "#### $$\\mathbf{w}^* = (\\mathbf X^\\top \\mathbf X)^{-1}\\mathbf X^\\top \\mathbf{y}.$$"
   ]
  },
  {
   "cell_type": "markdown",
   "metadata": {},
   "source": [
    "#### 解析解可以进行很好的数学分析，但解析解对问题的限制很严格，导致它无法广泛应用在深度学习里"
   ]
  },
  {
   "cell_type": "markdown",
   "metadata": {},
   "source": [
    "### 3.1.1.4. 随机梯度下降"
   ]
  },
  {
   "cell_type": "markdown",
   "metadata": {},
   "source": [
    "#### 我们用到一种名为梯度下降（gradient descent）的方法，这种方法几乎可以优化所有深度学习模型\n",
    "#### 它通过不断地在损失函数递减的方向上更新参数来降低误差"
   ]
  },
  {
   "cell_type": "markdown",
   "metadata": {},
   "source": [
    "#### 梯度下降最简单的用法是计算损失函数（数据集中所有样本的损失均值）关于模型参数的导数（在这里也可以称为梯度）\n",
    "#### 但实际中的执行可能会非常慢：因为在每一次更新参数之前，我们必须遍历整个数据集\n",
    "#### so，我们经常会在每次计算更新时随机抽取一小部分的样本，这种变体叫做随机梯度下降（minibatch stochastic gradient descent）"
   ]
  },
  {
   "cell_type": "markdown",
   "metadata": {},
   "source": [
    "#### 在每次迭代中，我们首先随机抽样一个小批量$B$。它是由固定数量的训练样本组成的\n",
    "#### 然后我们计算梯度，最后，我们将梯度乘以一个预先确定的正数η，并从当前参数值中减去\n",
    "#### $$ (\\mathbf{w},b) \\leftarrow (\\mathbf{w},b) - \\frac{\\eta}{|\\mathcal{B}|} \\sum_{i \\in \\mathcal{B}} \\partial_{(\\mathbf{w},b)} l^{(i)}(\\mathbf{w},b). $$"
   ]
  },
  {
   "cell_type": "markdown",
   "metadata": {},
   "source": [
    "#### 总结一下，算法的步骤如下： （1）初始化模型参数的值，如随机初始化； （2）从数据集中随机抽取小批量样本且在负梯度的方向上更新参数，并不断迭代这一步骤。 对于平方损失和仿射变换，我们可以明确地写成如下形式:"
   ]
  },
  {
   "cell_type": "markdown",
   "metadata": {},
   "source": [
    "#### $$\\begin{split}\\begin{aligned} \\mathbf{w} &\\leftarrow \\mathbf{w} -   \\frac{\\eta}{|\\mathcal{B}|} \\sum_{i \\in \\mathcal{B}} \\partial_{\\mathbf{w}} l^{(i)}(\\mathbf{w}, b) = \\mathbf{w} - \\frac{\\eta}{|\\mathcal{B}|} \\sum_{i \\in \\mathcal{B}} \\mathbf{x}^{(i)} \\left(\\mathbf{w}^\\top \\mathbf{x}^{(i)} + b - y^{(i)}\\right),\\\\ b &\\leftarrow b -  \\frac{\\eta}{|\\mathcal{B}|} \\sum_{i \\in \\mathcal{B}} \\partial_b l^{(i)}(\\mathbf{w}, b)  = b - \\frac{\\eta}{|\\mathcal{B}|} \\sum_{i \\in \\mathcal{B}} \\left(\\mathbf{w}^\\top \\mathbf{x}^{(i)} + b - y^{(i)}\\right). \\end{aligned}\\end{split}$$"
   ]
  },
  {
   "cell_type": "markdown",
   "metadata": {},
   "source": [
    "#### $w$和**x**都是向量。在这里，更优雅的向量表示法比系数表示法（如w1, w2, . . . , wd）更具可读性\n",
    "#### $|B|$表示每个小批量中的样本数，这也称为批量大小（batch size）η表示学习率（learning rate）。\n",
    "#### 批量大小和学习率的值通常是手动预先指定\n",
    "#### η表示学习率（learning rate）\n",
    "#### 批量大小和学习率的值通常是手动预先指定，而不是通过模型训练得到的。这些可以调整但不在训练过程中更新的参数称为超参数（hyperparameter）。调参（hyperparameter tuning）是选择超参数的过程"
   ]
  },
  {
   "cell_type": "markdown",
   "metadata": {},
   "source": [
    "#### 在训练了预先确定的若干迭代次数后（或者直到满足某些其他停止条件后），我们记录下模型参数的估计值，表示为$\\hat w$ ,$\\hat b$。"
   ]
  },
  {
   "cell_type": "markdown",
   "metadata": {},
   "source": [
    "#### 我们的函数确实是线性的且无噪声，这些估计值也不会使损失函数真正地达到最小值"
   ]
  },
  {
   "cell_type": "markdown",
   "metadata": {},
   "source": [
    "#### 深度学习实践者很少会去花费大力气寻找这样一组参数，使得在训练集上的损失达到最小。\n",
    "#### 事实上，更难做到的是找到一组参数，这组参数能够在我们从未见过的数据上实现较低的损失，这一挑战被称为泛化（generalization）"
   ]
  },
  {
   "cell_type": "markdown",
   "metadata": {},
   "source": [
    "### 用模型进行预测"
   ]
  },
  {
   "cell_type": "markdown",
   "metadata": {},
   "source": [
    "#### 给定“已学习”的线性回归模型$\\hat w^⊤x + \\hat b$，现在我们可以通过房屋面积$x_1$和房龄$x_2$来估计一个（未包含在训练数据中的）新房屋价格\n",
    "#### 给定特征估计目标的过程通常称为预测（prediction）或推断（inference）。 # 推理更好听，其实就是推断"
   ]
  },
  {
   "cell_type": "markdown",
   "metadata": {},
   "source": [
    "### 3.1.2 矢量化加速"
   ]
  },
  {
   "cell_type": "markdown",
   "metadata": {},
   "source": [
    "#### 训练我们的模型时，我们经常希望能够同时处理整个小批量的样本。\n",
    "#### 为实现，需要我们对计算进行矢量化，从而用线性代数库"
   ]
  },
  {
   "cell_type": "code",
   "execution_count": 1,
   "metadata": {},
   "outputs": [],
   "source": [
    "from fc import torch as fc"
   ]
  },
  {
   "cell_type": "code",
   "execution_count": 2,
   "metadata": {},
   "outputs": [],
   "source": [
    "%matplotlib inline\n",
    "import math\n",
    "import time\n",
    "import numpy as np\n",
    "import torch"
   ]
  },
  {
   "cell_type": "markdown",
   "metadata": {},
   "source": [
    "#### 为说明矢量化为何如此重要，我们考虑对向量相加的两种方法\n",
    "#### 实例化两个10000维的向量，第一种用for循环便利，第二种直接+"
   ]
  },
  {
   "cell_type": "code",
   "execution_count": 3,
   "metadata": {},
   "outputs": [],
   "source": [
    "n = 10000\n",
    "a = torch.ones([n])\n",
    "b = torch.ones([n])"
   ]
  },
  {
   "cell_type": "markdown",
   "metadata": {},
   "source": [
    "#### 我们将频繁地进行运行时间的基准测试，所以我们定义一个计时器："
   ]
  },
  {
   "cell_type": "code",
   "execution_count": 4,
   "metadata": {},
   "outputs": [],
   "source": [
    "class Timer:  #@save\n",
    "    \"\"\"记录多次运行时间\"\"\"\n",
    "    def __init__(self):\n",
    "        self.times = []\n",
    "        self.start()\n",
    "\n",
    "    def start(self):\n",
    "        \"\"\"启动计时器\"\"\"\n",
    "        self.tik = time.time()\n",
    "\n",
    "    def stop(self):\n",
    "        \"\"\"停止计时器并将时间记录在列表中\"\"\"\n",
    "        self.times.append(time.time() - self.tik)\n",
    "        return self.times[-1]\n",
    "\n",
    "    def avg(self):\n",
    "        \"\"\"返回平均时间\"\"\"\n",
    "        return sum(self.times) / len(self.times)\n",
    "\n",
    "    def sum(self):\n",
    "        \"\"\"返回时间总和\"\"\"\n",
    "        return sum(self.times)\n",
    "\n",
    "    def cumsum(self):\n",
    "        \"\"\"返回累计时间\"\"\"\n",
    "        return np.array(self.times).cumsum().tolist()"
   ]
  },
  {
   "cell_type": "markdown",
   "metadata": {},
   "source": [
    "#### 我们可以对工作负载进行基准测试\n",
    "#### 首先，我们使用for循环，每次执行一位的加法"
   ]
  },
  {
   "cell_type": "code",
   "execution_count": 5,
   "metadata": {},
   "outputs": [
    {
     "data": {
      "text/plain": [
       "'0.05801 sec'"
      ]
     },
     "execution_count": 5,
     "metadata": {},
     "output_type": "execute_result"
    }
   ],
   "source": [
    "c = torch.zeros(n)\n",
    "timer = Timer()\n",
    "for i in range(n):\n",
    "    c[i] = a[i] + b[i]\n",
    "f'{timer.stop():.5f} sec'"
   ]
  },
  {
   "cell_type": "markdown",
   "metadata": {},
   "source": [
    "#### 或者，我们使用重载的+运算符来计算按元素的和 🌟"
   ]
  },
  {
   "cell_type": "code",
   "execution_count": 6,
   "metadata": {},
   "outputs": [
    {
     "data": {
      "text/plain": [
       "'0.00000 sec'"
      ]
     },
     "execution_count": 6,
     "metadata": {},
     "output_type": "execute_result"
    }
   ],
   "source": [
    "timer.start()\n",
    "d = a + b\n",
    "f'{timer.stop():.5f} sec'"
   ]
  },
  {
   "cell_type": "markdown",
   "metadata": {},
   "source": [
    "### 3.1.3. 正态分布与平方损失"
   ]
  },
  {
   "cell_type": "markdown",
   "metadata": {},
   "source": [
    "#### 我们通过对噪声分布的假设来解读平方损失目标函数(mse)\n",
    "#### 正态分布和线性回归之间的关系很密切\n",
    "#### 正态分布（normal distribution），也称为高斯分布（Gaussian distribution）\n",
    "#### 高斯（Gauss）应用于天文学研究\n",
    "#### 若随机变量$x$具有均值$\\mu$和方差$\\sigma^2$(标准差$\\sigma $)"
   ]
  },
  {
   "cell_type": "markdown",
   "metadata": {},
   "source": [
    "#### $$ p(x) = \\frac{1}{\\sqrt{2 \\pi \\sigma^2}} \\exp\\left(-\\frac{1}{2 \\sigma^2} (x - \\mu)^2\\right). $$"
   ]
  },
  {
   "cell_type": "markdown",
   "metadata": {},
   "source": [
    "#### 定义一个Python函数来计算正态分布"
   ]
  },
  {
   "cell_type": "code",
   "execution_count": 7,
   "metadata": {},
   "outputs": [],
   "source": [
    "def normal(x, mu, sigma):\n",
    "    p = 1 / math.sqrt(2 * math.pi * sigma**2) * np.exp (-0.5 / sigma**2 * (x - mu)**2)\n",
    "    return p"
   ]
  },
  {
   "cell_type": "markdown",
   "metadata": {},
   "source": [
    "#### 可视化正态分布"
   ]
  },
  {
   "cell_type": "code",
   "execution_count": 8,
   "metadata": {},
   "outputs": [
    {
     "data": {
      "image/svg+xml": [
       "<?xml version=\"1.0\" encoding=\"utf-8\" standalone=\"no\"?>\n",
       "<!DOCTYPE svg PUBLIC \"-//W3C//DTD SVG 1.1//EN\"\n",
       "  \"http://www.w3.org/Graphics/SVG/1.1/DTD/svg11.dtd\">\n",
       "<svg xmlns:xlink=\"http://www.w3.org/1999/xlink\" width=\"302.08125pt\" height=\"183.35625pt\" viewBox=\"0 0 302.08125 183.35625\" xmlns=\"http://www.w3.org/2000/svg\" version=\"1.1\">\n",
       " <metadata>\n",
       "  <rdf:RDF xmlns:dc=\"http://purl.org/dc/elements/1.1/\" xmlns:cc=\"http://creativecommons.org/ns#\" xmlns:rdf=\"http://www.w3.org/1999/02/22-rdf-syntax-ns#\">\n",
       "   <cc:Work>\n",
       "    <dc:type rdf:resource=\"http://purl.org/dc/dcmitype/StillImage\"/>\n",
       "    <dc:date>2023-12-21T23:29:26.175295</dc:date>\n",
       "    <dc:format>image/svg+xml</dc:format>\n",
       "    <dc:creator>\n",
       "     <cc:Agent>\n",
       "      <dc:title>Matplotlib v3.8.2, https://matplotlib.org/</dc:title>\n",
       "     </cc:Agent>\n",
       "    </dc:creator>\n",
       "   </cc:Work>\n",
       "  </rdf:RDF>\n",
       " </metadata>\n",
       " <defs>\n",
       "  <style type=\"text/css\">*{stroke-linejoin: round; stroke-linecap: butt}</style>\n",
       " </defs>\n",
       " <g id=\"figure_1\">\n",
       "  <g id=\"patch_1\">\n",
       "   <path d=\"M 0 183.35625 \n",
       "L 302.08125 183.35625 \n",
       "L 302.08125 0 \n",
       "L 0 0 \n",
       "z\n",
       "\" style=\"fill: #ffffff\"/>\n",
       "  </g>\n",
       "  <g id=\"axes_1\">\n",
       "   <g id=\"patch_2\">\n",
       "    <path d=\"M 43.78125 145.8 \n",
       "L 294.88125 145.8 \n",
       "L 294.88125 7.2 \n",
       "L 43.78125 7.2 \n",
       "z\n",
       "\" style=\"fill: #ffffff\"/>\n",
       "   </g>\n",
       "   <g id=\"matplotlib.axis_1\">\n",
       "    <g id=\"xtick_1\">\n",
       "     <g id=\"line2d_1\">\n",
       "      <path d=\"M 71.511736 145.8 \n",
       "L 71.511736 7.2 \n",
       "\" clip-path=\"url(#pced6fe9c1b)\" style=\"fill: none; stroke: #b0b0b0; stroke-width: 0.8; stroke-linecap: square\"/>\n",
       "     </g>\n",
       "     <g id=\"line2d_2\">\n",
       "      <defs>\n",
       "       <path id=\"m437052bd22\" d=\"M 0 0 \n",
       "L 0 3.5 \n",
       "\" style=\"stroke: #000000; stroke-width: 0.8\"/>\n",
       "      </defs>\n",
       "      <g>\n",
       "       <use xlink:href=\"#m437052bd22\" x=\"71.511736\" y=\"145.8\" style=\"stroke: #000000; stroke-width: 0.8\"/>\n",
       "      </g>\n",
       "     </g>\n",
       "     <g id=\"text_1\">\n",
       "      <!-- −6 -->\n",
       "      <g transform=\"translate(64.140642 160.398438) scale(0.1 -0.1)\">\n",
       "       <defs>\n",
       "        <path id=\"DejaVuSans-2212\" d=\"M 678 2272 \n",
       "L 4684 2272 \n",
       "L 4684 1741 \n",
       "L 678 1741 \n",
       "L 678 2272 \n",
       "z\n",
       "\" transform=\"scale(0.015625)\"/>\n",
       "        <path id=\"DejaVuSans-36\" d=\"M 2113 2584 \n",
       "Q 1688 2584 1439 2293 \n",
       "Q 1191 2003 1191 1497 \n",
       "Q 1191 994 1439 701 \n",
       "Q 1688 409 2113 409 \n",
       "Q 2538 409 2786 701 \n",
       "Q 3034 994 3034 1497 \n",
       "Q 3034 2003 2786 2293 \n",
       "Q 2538 2584 2113 2584 \n",
       "z\n",
       "M 3366 4563 \n",
       "L 3366 3988 \n",
       "Q 3128 4100 2886 4159 \n",
       "Q 2644 4219 2406 4219 \n",
       "Q 1781 4219 1451 3797 \n",
       "Q 1122 3375 1075 2522 \n",
       "Q 1259 2794 1537 2939 \n",
       "Q 1816 3084 2150 3084 \n",
       "Q 2853 3084 3261 2657 \n",
       "Q 3669 2231 3669 1497 \n",
       "Q 3669 778 3244 343 \n",
       "Q 2819 -91 2113 -91 \n",
       "Q 1303 -91 875 529 \n",
       "Q 447 1150 447 2328 \n",
       "Q 447 3434 972 4092 \n",
       "Q 1497 4750 2381 4750 \n",
       "Q 2619 4750 2861 4703 \n",
       "Q 3103 4656 3366 4563 \n",
       "z\n",
       "\" transform=\"scale(0.015625)\"/>\n",
       "       </defs>\n",
       "       <use xlink:href=\"#DejaVuSans-2212\"/>\n",
       "       <use xlink:href=\"#DejaVuSans-36\" x=\"83.789062\"/>\n",
       "      </g>\n",
       "     </g>\n",
       "    </g>\n",
       "    <g id=\"xtick_2\">\n",
       "     <g id=\"line2d_3\">\n",
       "      <path d=\"M 104.145435 145.8 \n",
       "L 104.145435 7.2 \n",
       "\" clip-path=\"url(#pced6fe9c1b)\" style=\"fill: none; stroke: #b0b0b0; stroke-width: 0.8; stroke-linecap: square\"/>\n",
       "     </g>\n",
       "     <g id=\"line2d_4\">\n",
       "      <g>\n",
       "       <use xlink:href=\"#m437052bd22\" x=\"104.145435\" y=\"145.8\" style=\"stroke: #000000; stroke-width: 0.8\"/>\n",
       "      </g>\n",
       "     </g>\n",
       "     <g id=\"text_2\">\n",
       "      <!-- −4 -->\n",
       "      <g transform=\"translate(96.774342 160.398438) scale(0.1 -0.1)\">\n",
       "       <defs>\n",
       "        <path id=\"DejaVuSans-34\" d=\"M 2419 4116 \n",
       "L 825 1625 \n",
       "L 2419 1625 \n",
       "L 2419 4116 \n",
       "z\n",
       "M 2253 4666 \n",
       "L 3047 4666 \n",
       "L 3047 1625 \n",
       "L 3713 1625 \n",
       "L 3713 1100 \n",
       "L 3047 1100 \n",
       "L 3047 0 \n",
       "L 2419 0 \n",
       "L 2419 1100 \n",
       "L 313 1100 \n",
       "L 313 1709 \n",
       "L 2253 4666 \n",
       "z\n",
       "\" transform=\"scale(0.015625)\"/>\n",
       "       </defs>\n",
       "       <use xlink:href=\"#DejaVuSans-2212\"/>\n",
       "       <use xlink:href=\"#DejaVuSans-34\" x=\"83.789062\"/>\n",
       "      </g>\n",
       "     </g>\n",
       "    </g>\n",
       "    <g id=\"xtick_3\">\n",
       "     <g id=\"line2d_5\">\n",
       "      <path d=\"M 136.779135 145.8 \n",
       "L 136.779135 7.2 \n",
       "\" clip-path=\"url(#pced6fe9c1b)\" style=\"fill: none; stroke: #b0b0b0; stroke-width: 0.8; stroke-linecap: square\"/>\n",
       "     </g>\n",
       "     <g id=\"line2d_6\">\n",
       "      <g>\n",
       "       <use xlink:href=\"#m437052bd22\" x=\"136.779135\" y=\"145.8\" style=\"stroke: #000000; stroke-width: 0.8\"/>\n",
       "      </g>\n",
       "     </g>\n",
       "     <g id=\"text_3\">\n",
       "      <!-- −2 -->\n",
       "      <g transform=\"translate(129.408041 160.398438) scale(0.1 -0.1)\">\n",
       "       <defs>\n",
       "        <path id=\"DejaVuSans-32\" d=\"M 1228 531 \n",
       "L 3431 531 \n",
       "L 3431 0 \n",
       "L 469 0 \n",
       "L 469 531 \n",
       "Q 828 903 1448 1529 \n",
       "Q 2069 2156 2228 2338 \n",
       "Q 2531 2678 2651 2914 \n",
       "Q 2772 3150 2772 3378 \n",
       "Q 2772 3750 2511 3984 \n",
       "Q 2250 4219 1831 4219 \n",
       "Q 1534 4219 1204 4116 \n",
       "Q 875 4013 500 3803 \n",
       "L 500 4441 \n",
       "Q 881 4594 1212 4672 \n",
       "Q 1544 4750 1819 4750 \n",
       "Q 2544 4750 2975 4387 \n",
       "Q 3406 4025 3406 3419 \n",
       "Q 3406 3131 3298 2873 \n",
       "Q 3191 2616 2906 2266 \n",
       "Q 2828 2175 2409 1742 \n",
       "Q 1991 1309 1228 531 \n",
       "z\n",
       "\" transform=\"scale(0.015625)\"/>\n",
       "       </defs>\n",
       "       <use xlink:href=\"#DejaVuSans-2212\"/>\n",
       "       <use xlink:href=\"#DejaVuSans-32\" x=\"83.789062\"/>\n",
       "      </g>\n",
       "     </g>\n",
       "    </g>\n",
       "    <g id=\"xtick_4\">\n",
       "     <g id=\"line2d_7\">\n",
       "      <path d=\"M 169.412834 145.8 \n",
       "L 169.412834 7.2 \n",
       "\" clip-path=\"url(#pced6fe9c1b)\" style=\"fill: none; stroke: #b0b0b0; stroke-width: 0.8; stroke-linecap: square\"/>\n",
       "     </g>\n",
       "     <g id=\"line2d_8\">\n",
       "      <g>\n",
       "       <use xlink:href=\"#m437052bd22\" x=\"169.412834\" y=\"145.8\" style=\"stroke: #000000; stroke-width: 0.8\"/>\n",
       "      </g>\n",
       "     </g>\n",
       "     <g id=\"text_4\">\n",
       "      <!-- 0 -->\n",
       "      <g transform=\"translate(166.231584 160.398438) scale(0.1 -0.1)\">\n",
       "       <defs>\n",
       "        <path id=\"DejaVuSans-30\" d=\"M 2034 4250 \n",
       "Q 1547 4250 1301 3770 \n",
       "Q 1056 3291 1056 2328 \n",
       "Q 1056 1369 1301 889 \n",
       "Q 1547 409 2034 409 \n",
       "Q 2525 409 2770 889 \n",
       "Q 3016 1369 3016 2328 \n",
       "Q 3016 3291 2770 3770 \n",
       "Q 2525 4250 2034 4250 \n",
       "z\n",
       "M 2034 4750 \n",
       "Q 2819 4750 3233 4129 \n",
       "Q 3647 3509 3647 2328 \n",
       "Q 3647 1150 3233 529 \n",
       "Q 2819 -91 2034 -91 \n",
       "Q 1250 -91 836 529 \n",
       "Q 422 1150 422 2328 \n",
       "Q 422 3509 836 4129 \n",
       "Q 1250 4750 2034 4750 \n",
       "z\n",
       "\" transform=\"scale(0.015625)\"/>\n",
       "       </defs>\n",
       "       <use xlink:href=\"#DejaVuSans-30\"/>\n",
       "      </g>\n",
       "     </g>\n",
       "    </g>\n",
       "    <g id=\"xtick_5\">\n",
       "     <g id=\"line2d_9\">\n",
       "      <path d=\"M 202.046534 145.8 \n",
       "L 202.046534 7.2 \n",
       "\" clip-path=\"url(#pced6fe9c1b)\" style=\"fill: none; stroke: #b0b0b0; stroke-width: 0.8; stroke-linecap: square\"/>\n",
       "     </g>\n",
       "     <g id=\"line2d_10\">\n",
       "      <g>\n",
       "       <use xlink:href=\"#m437052bd22\" x=\"202.046534\" y=\"145.8\" style=\"stroke: #000000; stroke-width: 0.8\"/>\n",
       "      </g>\n",
       "     </g>\n",
       "     <g id=\"text_5\">\n",
       "      <!-- 2 -->\n",
       "      <g transform=\"translate(198.865284 160.398438) scale(0.1 -0.1)\">\n",
       "       <use xlink:href=\"#DejaVuSans-32\"/>\n",
       "      </g>\n",
       "     </g>\n",
       "    </g>\n",
       "    <g id=\"xtick_6\">\n",
       "     <g id=\"line2d_11\">\n",
       "      <path d=\"M 234.680233 145.8 \n",
       "L 234.680233 7.2 \n",
       "\" clip-path=\"url(#pced6fe9c1b)\" style=\"fill: none; stroke: #b0b0b0; stroke-width: 0.8; stroke-linecap: square\"/>\n",
       "     </g>\n",
       "     <g id=\"line2d_12\">\n",
       "      <g>\n",
       "       <use xlink:href=\"#m437052bd22\" x=\"234.680233\" y=\"145.8\" style=\"stroke: #000000; stroke-width: 0.8\"/>\n",
       "      </g>\n",
       "     </g>\n",
       "     <g id=\"text_6\">\n",
       "      <!-- 4 -->\n",
       "      <g transform=\"translate(231.498983 160.398438) scale(0.1 -0.1)\">\n",
       "       <use xlink:href=\"#DejaVuSans-34\"/>\n",
       "      </g>\n",
       "     </g>\n",
       "    </g>\n",
       "    <g id=\"xtick_7\">\n",
       "     <g id=\"line2d_13\">\n",
       "      <path d=\"M 267.313932 145.8 \n",
       "L 267.313932 7.2 \n",
       "\" clip-path=\"url(#pced6fe9c1b)\" style=\"fill: none; stroke: #b0b0b0; stroke-width: 0.8; stroke-linecap: square\"/>\n",
       "     </g>\n",
       "     <g id=\"line2d_14\">\n",
       "      <g>\n",
       "       <use xlink:href=\"#m437052bd22\" x=\"267.313932\" y=\"145.8\" style=\"stroke: #000000; stroke-width: 0.8\"/>\n",
       "      </g>\n",
       "     </g>\n",
       "     <g id=\"text_7\">\n",
       "      <!-- 6 -->\n",
       "      <g transform=\"translate(264.132682 160.398438) scale(0.1 -0.1)\">\n",
       "       <use xlink:href=\"#DejaVuSans-36\"/>\n",
       "      </g>\n",
       "     </g>\n",
       "    </g>\n",
       "    <g id=\"text_8\">\n",
       "     <!-- x -->\n",
       "     <g transform=\"translate(166.371875 174.076563) scale(0.1 -0.1)\">\n",
       "      <defs>\n",
       "       <path id=\"DejaVuSans-78\" d=\"M 3513 3500 \n",
       "L 2247 1797 \n",
       "L 3578 0 \n",
       "L 2900 0 \n",
       "L 1881 1375 \n",
       "L 863 0 \n",
       "L 184 0 \n",
       "L 1544 1831 \n",
       "L 300 3500 \n",
       "L 978 3500 \n",
       "L 1906 2253 \n",
       "L 2834 3500 \n",
       "L 3513 3500 \n",
       "z\n",
       "\" transform=\"scale(0.015625)\"/>\n",
       "      </defs>\n",
       "      <use xlink:href=\"#DejaVuSans-78\"/>\n",
       "     </g>\n",
       "    </g>\n",
       "   </g>\n",
       "   <g id=\"matplotlib.axis_2\">\n",
       "    <g id=\"ytick_1\">\n",
       "     <g id=\"line2d_15\">\n",
       "      <path d=\"M 43.78125 139.5 \n",
       "L 294.88125 139.5 \n",
       "\" clip-path=\"url(#pced6fe9c1b)\" style=\"fill: none; stroke: #b0b0b0; stroke-width: 0.8; stroke-linecap: square\"/>\n",
       "     </g>\n",
       "     <g id=\"line2d_16\">\n",
       "      <defs>\n",
       "       <path id=\"m1b1338cd80\" d=\"M 0 0 \n",
       "L -3.5 0 \n",
       "\" style=\"stroke: #000000; stroke-width: 0.8\"/>\n",
       "      </defs>\n",
       "      <g>\n",
       "       <use xlink:href=\"#m1b1338cd80\" x=\"43.78125\" y=\"139.5\" style=\"stroke: #000000; stroke-width: 0.8\"/>\n",
       "      </g>\n",
       "     </g>\n",
       "     <g id=\"text_9\">\n",
       "      <!-- 0.0 -->\n",
       "      <g transform=\"translate(20.878125 143.299219) scale(0.1 -0.1)\">\n",
       "       <defs>\n",
       "        <path id=\"DejaVuSans-2e\" d=\"M 684 794 \n",
       "L 1344 794 \n",
       "L 1344 0 \n",
       "L 684 0 \n",
       "L 684 794 \n",
       "z\n",
       "\" transform=\"scale(0.015625)\"/>\n",
       "       </defs>\n",
       "       <use xlink:href=\"#DejaVuSans-30\"/>\n",
       "       <use xlink:href=\"#DejaVuSans-2e\" x=\"63.623047\"/>\n",
       "       <use xlink:href=\"#DejaVuSans-30\" x=\"95.410156\"/>\n",
       "      </g>\n",
       "     </g>\n",
       "    </g>\n",
       "    <g id=\"ytick_2\">\n",
       "     <g id=\"line2d_17\">\n",
       "      <path d=\"M 43.78125 107.916484 \n",
       "L 294.88125 107.916484 \n",
       "\" clip-path=\"url(#pced6fe9c1b)\" style=\"fill: none; stroke: #b0b0b0; stroke-width: 0.8; stroke-linecap: square\"/>\n",
       "     </g>\n",
       "     <g id=\"line2d_18\">\n",
       "      <g>\n",
       "       <use xlink:href=\"#m1b1338cd80\" x=\"43.78125\" y=\"107.916484\" style=\"stroke: #000000; stroke-width: 0.8\"/>\n",
       "      </g>\n",
       "     </g>\n",
       "     <g id=\"text_10\">\n",
       "      <!-- 0.1 -->\n",
       "      <g transform=\"translate(20.878125 111.715702) scale(0.1 -0.1)\">\n",
       "       <defs>\n",
       "        <path id=\"DejaVuSans-31\" d=\"M 794 531 \n",
       "L 1825 531 \n",
       "L 1825 4091 \n",
       "L 703 3866 \n",
       "L 703 4441 \n",
       "L 1819 4666 \n",
       "L 2450 4666 \n",
       "L 2450 531 \n",
       "L 3481 531 \n",
       "L 3481 0 \n",
       "L 794 0 \n",
       "L 794 531 \n",
       "z\n",
       "\" transform=\"scale(0.015625)\"/>\n",
       "       </defs>\n",
       "       <use xlink:href=\"#DejaVuSans-30\"/>\n",
       "       <use xlink:href=\"#DejaVuSans-2e\" x=\"63.623047\"/>\n",
       "       <use xlink:href=\"#DejaVuSans-31\" x=\"95.410156\"/>\n",
       "      </g>\n",
       "     </g>\n",
       "    </g>\n",
       "    <g id=\"ytick_3\">\n",
       "     <g id=\"line2d_19\">\n",
       "      <path d=\"M 43.78125 76.332967 \n",
       "L 294.88125 76.332967 \n",
       "\" clip-path=\"url(#pced6fe9c1b)\" style=\"fill: none; stroke: #b0b0b0; stroke-width: 0.8; stroke-linecap: square\"/>\n",
       "     </g>\n",
       "     <g id=\"line2d_20\">\n",
       "      <g>\n",
       "       <use xlink:href=\"#m1b1338cd80\" x=\"43.78125\" y=\"76.332967\" style=\"stroke: #000000; stroke-width: 0.8\"/>\n",
       "      </g>\n",
       "     </g>\n",
       "     <g id=\"text_11\">\n",
       "      <!-- 0.2 -->\n",
       "      <g transform=\"translate(20.878125 80.132186) scale(0.1 -0.1)\">\n",
       "       <use xlink:href=\"#DejaVuSans-30\"/>\n",
       "       <use xlink:href=\"#DejaVuSans-2e\" x=\"63.623047\"/>\n",
       "       <use xlink:href=\"#DejaVuSans-32\" x=\"95.410156\"/>\n",
       "      </g>\n",
       "     </g>\n",
       "    </g>\n",
       "    <g id=\"ytick_4\">\n",
       "     <g id=\"line2d_21\">\n",
       "      <path d=\"M 43.78125 44.749451 \n",
       "L 294.88125 44.749451 \n",
       "\" clip-path=\"url(#pced6fe9c1b)\" style=\"fill: none; stroke: #b0b0b0; stroke-width: 0.8; stroke-linecap: square\"/>\n",
       "     </g>\n",
       "     <g id=\"line2d_22\">\n",
       "      <g>\n",
       "       <use xlink:href=\"#m1b1338cd80\" x=\"43.78125\" y=\"44.749451\" style=\"stroke: #000000; stroke-width: 0.8\"/>\n",
       "      </g>\n",
       "     </g>\n",
       "     <g id=\"text_12\">\n",
       "      <!-- 0.3 -->\n",
       "      <g transform=\"translate(20.878125 48.54867) scale(0.1 -0.1)\">\n",
       "       <defs>\n",
       "        <path id=\"DejaVuSans-33\" d=\"M 2597 2516 \n",
       "Q 3050 2419 3304 2112 \n",
       "Q 3559 1806 3559 1356 \n",
       "Q 3559 666 3084 287 \n",
       "Q 2609 -91 1734 -91 \n",
       "Q 1441 -91 1130 -33 \n",
       "Q 819 25 488 141 \n",
       "L 488 750 \n",
       "Q 750 597 1062 519 \n",
       "Q 1375 441 1716 441 \n",
       "Q 2309 441 2620 675 \n",
       "Q 2931 909 2931 1356 \n",
       "Q 2931 1769 2642 2001 \n",
       "Q 2353 2234 1838 2234 \n",
       "L 1294 2234 \n",
       "L 1294 2753 \n",
       "L 1863 2753 \n",
       "Q 2328 2753 2575 2939 \n",
       "Q 2822 3125 2822 3475 \n",
       "Q 2822 3834 2567 4026 \n",
       "Q 2313 4219 1838 4219 \n",
       "Q 1578 4219 1281 4162 \n",
       "Q 984 4106 628 3988 \n",
       "L 628 4550 \n",
       "Q 988 4650 1302 4700 \n",
       "Q 1616 4750 1894 4750 \n",
       "Q 2613 4750 3031 4423 \n",
       "Q 3450 4097 3450 3541 \n",
       "Q 3450 3153 3228 2886 \n",
       "Q 3006 2619 2597 2516 \n",
       "z\n",
       "\" transform=\"scale(0.015625)\"/>\n",
       "       </defs>\n",
       "       <use xlink:href=\"#DejaVuSans-30\"/>\n",
       "       <use xlink:href=\"#DejaVuSans-2e\" x=\"63.623047\"/>\n",
       "       <use xlink:href=\"#DejaVuSans-33\" x=\"95.410156\"/>\n",
       "      </g>\n",
       "     </g>\n",
       "    </g>\n",
       "    <g id=\"ytick_5\">\n",
       "     <g id=\"line2d_23\">\n",
       "      <path d=\"M 43.78125 13.165935 \n",
       "L 294.88125 13.165935 \n",
       "\" clip-path=\"url(#pced6fe9c1b)\" style=\"fill: none; stroke: #b0b0b0; stroke-width: 0.8; stroke-linecap: square\"/>\n",
       "     </g>\n",
       "     <g id=\"line2d_24\">\n",
       "      <g>\n",
       "       <use xlink:href=\"#m1b1338cd80\" x=\"43.78125\" y=\"13.165935\" style=\"stroke: #000000; stroke-width: 0.8\"/>\n",
       "      </g>\n",
       "     </g>\n",
       "     <g id=\"text_13\">\n",
       "      <!-- 0.4 -->\n",
       "      <g transform=\"translate(20.878125 16.965154) scale(0.1 -0.1)\">\n",
       "       <use xlink:href=\"#DejaVuSans-30\"/>\n",
       "       <use xlink:href=\"#DejaVuSans-2e\" x=\"63.623047\"/>\n",
       "       <use xlink:href=\"#DejaVuSans-34\" x=\"95.410156\"/>\n",
       "      </g>\n",
       "     </g>\n",
       "    </g>\n",
       "    <g id=\"text_14\">\n",
       "     <!-- p(x) -->\n",
       "     <g transform=\"translate(14.798438 86.535156) rotate(-90) scale(0.1 -0.1)\">\n",
       "      <defs>\n",
       "       <path id=\"DejaVuSans-70\" d=\"M 1159 525 \n",
       "L 1159 -1331 \n",
       "L 581 -1331 \n",
       "L 581 3500 \n",
       "L 1159 3500 \n",
       "L 1159 2969 \n",
       "Q 1341 3281 1617 3432 \n",
       "Q 1894 3584 2278 3584 \n",
       "Q 2916 3584 3314 3078 \n",
       "Q 3713 2572 3713 1747 \n",
       "Q 3713 922 3314 415 \n",
       "Q 2916 -91 2278 -91 \n",
       "Q 1894 -91 1617 61 \n",
       "Q 1341 213 1159 525 \n",
       "z\n",
       "M 3116 1747 \n",
       "Q 3116 2381 2855 2742 \n",
       "Q 2594 3103 2138 3103 \n",
       "Q 1681 3103 1420 2742 \n",
       "Q 1159 2381 1159 1747 \n",
       "Q 1159 1113 1420 752 \n",
       "Q 1681 391 2138 391 \n",
       "Q 2594 391 2855 752 \n",
       "Q 3116 1113 3116 1747 \n",
       "z\n",
       "\" transform=\"scale(0.015625)\"/>\n",
       "       <path id=\"DejaVuSans-28\" d=\"M 1984 4856 \n",
       "Q 1566 4138 1362 3434 \n",
       "Q 1159 2731 1159 2009 \n",
       "Q 1159 1288 1364 580 \n",
       "Q 1569 -128 1984 -844 \n",
       "L 1484 -844 \n",
       "Q 1016 -109 783 600 \n",
       "Q 550 1309 550 2009 \n",
       "Q 550 2706 781 3412 \n",
       "Q 1013 4119 1484 4856 \n",
       "L 1984 4856 \n",
       "z\n",
       "\" transform=\"scale(0.015625)\"/>\n",
       "       <path id=\"DejaVuSans-29\" d=\"M 513 4856 \n",
       "L 1013 4856 \n",
       "Q 1481 4119 1714 3412 \n",
       "Q 1947 2706 1947 2009 \n",
       "Q 1947 1309 1714 600 \n",
       "Q 1481 -109 1013 -844 \n",
       "L 513 -844 \n",
       "Q 928 -128 1133 580 \n",
       "Q 1338 1288 1338 2009 \n",
       "Q 1338 2731 1133 3434 \n",
       "Q 928 4138 513 4856 \n",
       "z\n",
       "\" transform=\"scale(0.015625)\"/>\n",
       "      </defs>\n",
       "      <use xlink:href=\"#DejaVuSans-70\"/>\n",
       "      <use xlink:href=\"#DejaVuSans-28\" x=\"63.476562\"/>\n",
       "      <use xlink:href=\"#DejaVuSans-78\" x=\"102.490234\"/>\n",
       "      <use xlink:href=\"#DejaVuSans-29\" x=\"161.669922\"/>\n",
       "     </g>\n",
       "    </g>\n",
       "   </g>\n",
       "   <g id=\"line2d_25\">\n",
       "    <path d=\"M 55.194886 139.5 \n",
       "L 108.061479 139.392742 \n",
       "L 113.44604 139.148719 \n",
       "L 117.035747 138.770771 \n",
       "L 119.809611 138.25954 \n",
       "L 122.09397 137.619981 \n",
       "L 124.051992 136.856558 \n",
       "L 125.846846 135.932618 \n",
       "L 127.478531 134.864093 \n",
       "L 129.110215 133.53546 \n",
       "L 130.7419 131.902404 \n",
       "L 132.373585 129.918522 \n",
       "L 133.842102 127.79423 \n",
       "L 135.473787 125.01546 \n",
       "L 137.105472 121.755388 \n",
       "L 138.737157 117.977866 \n",
       "L 140.368842 113.655911 \n",
       "L 142.163695 108.255858 \n",
       "L 144.121717 101.596938 \n",
       "L 146.242908 93.525729 \n",
       "L 148.690435 83.248545 \n",
       "L 151.790637 69.178196 \n",
       "L 157.827871 41.57206 \n",
       "L 159.949061 33.006718 \n",
       "L 161.743915 26.675681 \n",
       "L 163.212431 22.276554 \n",
       "L 164.517779 19.044317 \n",
       "L 165.659959 16.789011 \n",
       "L 166.63897 15.307609 \n",
       "L 167.454812 14.403942 \n",
       "L 168.270655 13.808322 \n",
       "L 168.923329 13.556687 \n",
       "L 169.576003 13.5063 \n",
       "L 170.228677 13.657402 \n",
       "L 170.881351 14.009268 \n",
       "L 171.697193 14.728769 \n",
       "L 172.513036 15.753897 \n",
       "L 173.492047 17.376612 \n",
       "L 174.634226 19.788832 \n",
       "L 175.776406 22.726997 \n",
       "L 177.081754 26.675681 \n",
       "L 178.713439 32.392617 \n",
       "L 180.671461 40.191426 \n",
       "L 183.118988 50.957567 \n",
       "L 192.256424 92.210802 \n",
       "L 194.540783 101.006788 \n",
       "L 196.498805 107.731288 \n",
       "L 198.456827 113.655911 \n",
       "L 200.25168 118.379758 \n",
       "L 201.883365 122.104146 \n",
       "L 203.51505 125.314336 \n",
       "L 205.146735 128.047227 \n",
       "L 206.77842 130.345625 \n",
       "L 208.410105 132.255577 \n",
       "L 210.04179 133.824084 \n",
       "L 211.673475 135.097239 \n",
       "L 213.468328 136.208702 \n",
       "L 215.42635 137.136646 \n",
       "L 217.547541 137.875773 \n",
       "L 219.8319 138.435791 \n",
       "L 222.605764 138.879679 \n",
       "L 226.032303 139.193999 \n",
       "L 230.927358 139.396705 \n",
       "L 239.412119 139.487295 \n",
       "L 277.104042 139.5 \n",
       "L 283.467614 139.5 \n",
       "L 283.467614 139.5 \n",
       "\" clip-path=\"url(#pced6fe9c1b)\" style=\"fill: none; stroke: #1f77b4; stroke-width: 1.5; stroke-linecap: square\"/>\n",
       "   </g>\n",
       "   <g id=\"line2d_26\">\n",
       "    <path d=\"M 55.194886 139.362188 \n",
       "L 65.63767 139.098708 \n",
       "L 72.980253 138.699787 \n",
       "L 78.69115 138.178279 \n",
       "L 83.586205 137.516853 \n",
       "L 87.991754 136.697191 \n",
       "L 91.907798 135.745999 \n",
       "L 95.497505 134.654637 \n",
       "L 98.924044 133.387507 \n",
       "L 102.187413 131.951607 \n",
       "L 105.450783 130.271147 \n",
       "L 108.714153 128.328848 \n",
       "L 111.977523 126.112322 \n",
       "L 115.240893 123.615644 \n",
       "L 118.504263 120.840886 \n",
       "L 121.930802 117.640793 \n",
       "L 125.683677 113.829699 \n",
       "L 130.089226 109.01843 \n",
       "L 136.126461 102.052696 \n",
       "L 144.448054 92.482389 \n",
       "L 148.364098 88.331596 \n",
       "L 151.627468 85.194678 \n",
       "L 154.401333 82.824913 \n",
       "L 157.012028 80.888277 \n",
       "L 159.296387 79.455574 \n",
       "L 161.580746 78.288522 \n",
       "L 163.701937 77.457339 \n",
       "L 165.659959 76.915213 \n",
       "L 167.617981 76.595215 \n",
       "L 169.576003 76.500787 \n",
       "L 171.534025 76.632947 \n",
       "L 173.492047 76.99027 \n",
       "L 175.450069 77.568916 \n",
       "L 177.571259 78.438306 \n",
       "L 179.69245 79.54932 \n",
       "L 181.976809 81.000265 \n",
       "L 184.424336 82.824913 \n",
       "L 187.035032 85.047175 \n",
       "L 189.972065 87.839952 \n",
       "L 193.398603 91.412502 \n",
       "L 197.804153 96.3499 \n",
       "L 212.978823 113.657453 \n",
       "L 216.894867 117.640793 \n",
       "L 220.484574 120.986092 \n",
       "L 223.911112 123.877929 \n",
       "L 227.174482 126.346542 \n",
       "L 230.437852 128.535259 \n",
       "L 233.701222 130.450724 \n",
       "L 236.964592 132.105883 \n",
       "L 240.227962 133.51842 \n",
       "L 243.6545 134.763387 \n",
       "L 247.244207 135.834289 \n",
       "L 251.160251 136.766392 \n",
       "L 255.402632 137.542786 \n",
       "L 260.134519 138.178279 \n",
       "L 265.682247 138.687887 \n",
       "L 272.372156 139.065638 \n",
       "L 281.020086 139.318239 \n",
       "L 283.467614 139.359757 \n",
       "L 283.467614 139.359757 \n",
       "\" clip-path=\"url(#pced6fe9c1b)\" style=\"fill: none; stroke-dasharray: 5.55,2.4; stroke-dashoffset: 0; stroke: #bf00bf; stroke-width: 1.5\"/>\n",
       "   </g>\n",
       "   <g id=\"line2d_27\">\n",
       "    <path d=\"M 55.194886 139.5 \n",
       "L 157.012028 139.392742 \n",
       "L 162.396589 139.148719 \n",
       "L 165.986296 138.770771 \n",
       "L 168.76016 138.25954 \n",
       "L 171.044519 137.619981 \n",
       "L 173.002541 136.856558 \n",
       "L 174.797395 135.932618 \n",
       "L 176.42908 134.864093 \n",
       "L 178.060765 133.53546 \n",
       "L 179.69245 131.902404 \n",
       "L 181.324135 129.918522 \n",
       "L 182.792651 127.79423 \n",
       "L 184.424336 125.01546 \n",
       "L 186.056021 121.755388 \n",
       "L 187.687706 117.977866 \n",
       "L 189.319391 113.655911 \n",
       "L 191.114244 108.255858 \n",
       "L 193.072266 101.596938 \n",
       "L 195.193457 93.525729 \n",
       "L 197.640984 83.248545 \n",
       "L 200.741186 69.178196 \n",
       "L 206.77842 41.57206 \n",
       "L 208.899611 33.006718 \n",
       "L 210.694464 26.675681 \n",
       "L 212.16298 22.276554 \n",
       "L 213.468328 19.044317 \n",
       "L 214.610508 16.789011 \n",
       "L 215.589519 15.307609 \n",
       "L 216.405361 14.403942 \n",
       "L 217.221204 13.808322 \n",
       "L 217.873878 13.556687 \n",
       "L 218.526552 13.5063 \n",
       "L 219.179226 13.657402 \n",
       "L 219.8319 14.009268 \n",
       "L 220.647742 14.728769 \n",
       "L 221.463585 15.753897 \n",
       "L 222.442596 17.376612 \n",
       "L 223.584775 19.788832 \n",
       "L 224.726955 22.726997 \n",
       "L 226.032303 26.675681 \n",
       "L 227.663988 32.392617 \n",
       "L 229.62201 40.191426 \n",
       "L 232.069537 50.957567 \n",
       "L 241.206973 92.210802 \n",
       "L 243.491332 101.006788 \n",
       "L 245.449354 107.731288 \n",
       "L 247.407376 113.655911 \n",
       "L 249.202229 118.379758 \n",
       "L 250.833914 122.104146 \n",
       "L 252.465599 125.314336 \n",
       "L 254.097284 128.047227 \n",
       "L 255.728969 130.345625 \n",
       "L 257.360654 132.255577 \n",
       "L 258.992339 133.824084 \n",
       "L 260.624024 135.097239 \n",
       "L 262.418878 136.208702 \n",
       "L 264.376899 137.136646 \n",
       "L 266.49809 137.875773 \n",
       "L 268.782449 138.435791 \n",
       "L 271.556313 138.879679 \n",
       "L 274.982852 139.193999 \n",
       "L 279.877907 139.396705 \n",
       "L 283.467614 139.456009 \n",
       "L 283.467614 139.456009 \n",
       "\" clip-path=\"url(#pced6fe9c1b)\" style=\"fill: none; stroke-dasharray: 9.6,2.4,1.5,2.4; stroke-dashoffset: 0; stroke: #008000; stroke-width: 1.5\"/>\n",
       "   </g>\n",
       "   <g id=\"patch_3\">\n",
       "    <path d=\"M 43.78125 145.8 \n",
       "L 43.78125 7.2 \n",
       "\" style=\"fill: none; stroke: #000000; stroke-width: 0.8; stroke-linejoin: miter; stroke-linecap: square\"/>\n",
       "   </g>\n",
       "   <g id=\"patch_4\">\n",
       "    <path d=\"M 294.88125 145.8 \n",
       "L 294.88125 7.2 \n",
       "\" style=\"fill: none; stroke: #000000; stroke-width: 0.8; stroke-linejoin: miter; stroke-linecap: square\"/>\n",
       "   </g>\n",
       "   <g id=\"patch_5\">\n",
       "    <path d=\"M 43.78125 145.8 \n",
       "L 294.88125 145.8 \n",
       "\" style=\"fill: none; stroke: #000000; stroke-width: 0.8; stroke-linejoin: miter; stroke-linecap: square\"/>\n",
       "   </g>\n",
       "   <g id=\"patch_6\">\n",
       "    <path d=\"M 43.78125 7.2 \n",
       "L 294.88125 7.2 \n",
       "\" style=\"fill: none; stroke: #000000; stroke-width: 0.8; stroke-linejoin: miter; stroke-linecap: square\"/>\n",
       "   </g>\n",
       "   <g id=\"legend_1\">\n",
       "    <g id=\"patch_7\">\n",
       "     <path d=\"M 50.78125 59.234375 \n",
       "L 152.05625 59.234375 \n",
       "Q 154.05625 59.234375 154.05625 57.234375 \n",
       "L 154.05625 14.2 \n",
       "Q 154.05625 12.2 152.05625 12.2 \n",
       "L 50.78125 12.2 \n",
       "Q 48.78125 12.2 48.78125 14.2 \n",
       "L 48.78125 57.234375 \n",
       "Q 48.78125 59.234375 50.78125 59.234375 \n",
       "z\n",
       "\" style=\"fill: #ffffff; opacity: 0.8; stroke: #cccccc; stroke-linejoin: miter\"/>\n",
       "    </g>\n",
       "    <g id=\"line2d_28\">\n",
       "     <path d=\"M 52.78125 20.298438 \n",
       "L 62.78125 20.298438 \n",
       "L 72.78125 20.298438 \n",
       "\" style=\"fill: none; stroke: #1f77b4; stroke-width: 1.5; stroke-linecap: square\"/>\n",
       "    </g>\n",
       "    <g id=\"text_15\">\n",
       "     <!-- mean 0, std 1 -->\n",
       "     <g transform=\"translate(80.78125 23.798438) scale(0.1 -0.1)\">\n",
       "      <defs>\n",
       "       <path id=\"DejaVuSans-6d\" d=\"M 3328 2828 \n",
       "Q 3544 3216 3844 3400 \n",
       "Q 4144 3584 4550 3584 \n",
       "Q 5097 3584 5394 3201 \n",
       "Q 5691 2819 5691 2113 \n",
       "L 5691 0 \n",
       "L 5113 0 \n",
       "L 5113 2094 \n",
       "Q 5113 2597 4934 2840 \n",
       "Q 4756 3084 4391 3084 \n",
       "Q 3944 3084 3684 2787 \n",
       "Q 3425 2491 3425 1978 \n",
       "L 3425 0 \n",
       "L 2847 0 \n",
       "L 2847 2094 \n",
       "Q 2847 2600 2669 2842 \n",
       "Q 2491 3084 2119 3084 \n",
       "Q 1678 3084 1418 2786 \n",
       "Q 1159 2488 1159 1978 \n",
       "L 1159 0 \n",
       "L 581 0 \n",
       "L 581 3500 \n",
       "L 1159 3500 \n",
       "L 1159 2956 \n",
       "Q 1356 3278 1631 3431 \n",
       "Q 1906 3584 2284 3584 \n",
       "Q 2666 3584 2933 3390 \n",
       "Q 3200 3197 3328 2828 \n",
       "z\n",
       "\" transform=\"scale(0.015625)\"/>\n",
       "       <path id=\"DejaVuSans-65\" d=\"M 3597 1894 \n",
       "L 3597 1613 \n",
       "L 953 1613 \n",
       "Q 991 1019 1311 708 \n",
       "Q 1631 397 2203 397 \n",
       "Q 2534 397 2845 478 \n",
       "Q 3156 559 3463 722 \n",
       "L 3463 178 \n",
       "Q 3153 47 2828 -22 \n",
       "Q 2503 -91 2169 -91 \n",
       "Q 1331 -91 842 396 \n",
       "Q 353 884 353 1716 \n",
       "Q 353 2575 817 3079 \n",
       "Q 1281 3584 2069 3584 \n",
       "Q 2775 3584 3186 3129 \n",
       "Q 3597 2675 3597 1894 \n",
       "z\n",
       "M 3022 2063 \n",
       "Q 3016 2534 2758 2815 \n",
       "Q 2500 3097 2075 3097 \n",
       "Q 1594 3097 1305 2825 \n",
       "Q 1016 2553 972 2059 \n",
       "L 3022 2063 \n",
       "z\n",
       "\" transform=\"scale(0.015625)\"/>\n",
       "       <path id=\"DejaVuSans-61\" d=\"M 2194 1759 \n",
       "Q 1497 1759 1228 1600 \n",
       "Q 959 1441 959 1056 \n",
       "Q 959 750 1161 570 \n",
       "Q 1363 391 1709 391 \n",
       "Q 2188 391 2477 730 \n",
       "Q 2766 1069 2766 1631 \n",
       "L 2766 1759 \n",
       "L 2194 1759 \n",
       "z\n",
       "M 3341 1997 \n",
       "L 3341 0 \n",
       "L 2766 0 \n",
       "L 2766 531 \n",
       "Q 2569 213 2275 61 \n",
       "Q 1981 -91 1556 -91 \n",
       "Q 1019 -91 701 211 \n",
       "Q 384 513 384 1019 \n",
       "Q 384 1609 779 1909 \n",
       "Q 1175 2209 1959 2209 \n",
       "L 2766 2209 \n",
       "L 2766 2266 \n",
       "Q 2766 2663 2505 2880 \n",
       "Q 2244 3097 1772 3097 \n",
       "Q 1472 3097 1187 3025 \n",
       "Q 903 2953 641 2809 \n",
       "L 641 3341 \n",
       "Q 956 3463 1253 3523 \n",
       "Q 1550 3584 1831 3584 \n",
       "Q 2591 3584 2966 3190 \n",
       "Q 3341 2797 3341 1997 \n",
       "z\n",
       "\" transform=\"scale(0.015625)\"/>\n",
       "       <path id=\"DejaVuSans-6e\" d=\"M 3513 2113 \n",
       "L 3513 0 \n",
       "L 2938 0 \n",
       "L 2938 2094 \n",
       "Q 2938 2591 2744 2837 \n",
       "Q 2550 3084 2163 3084 \n",
       "Q 1697 3084 1428 2787 \n",
       "Q 1159 2491 1159 1978 \n",
       "L 1159 0 \n",
       "L 581 0 \n",
       "L 581 3500 \n",
       "L 1159 3500 \n",
       "L 1159 2956 \n",
       "Q 1366 3272 1645 3428 \n",
       "Q 1925 3584 2291 3584 \n",
       "Q 2894 3584 3203 3211 \n",
       "Q 3513 2838 3513 2113 \n",
       "z\n",
       "\" transform=\"scale(0.015625)\"/>\n",
       "       <path id=\"DejaVuSans-20\" transform=\"scale(0.015625)\"/>\n",
       "       <path id=\"DejaVuSans-2c\" d=\"M 750 794 \n",
       "L 1409 794 \n",
       "L 1409 256 \n",
       "L 897 -744 \n",
       "L 494 -744 \n",
       "L 750 256 \n",
       "L 750 794 \n",
       "z\n",
       "\" transform=\"scale(0.015625)\"/>\n",
       "       <path id=\"DejaVuSans-73\" d=\"M 2834 3397 \n",
       "L 2834 2853 \n",
       "Q 2591 2978 2328 3040 \n",
       "Q 2066 3103 1784 3103 \n",
       "Q 1356 3103 1142 2972 \n",
       "Q 928 2841 928 2578 \n",
       "Q 928 2378 1081 2264 \n",
       "Q 1234 2150 1697 2047 \n",
       "L 1894 2003 \n",
       "Q 2506 1872 2764 1633 \n",
       "Q 3022 1394 3022 966 \n",
       "Q 3022 478 2636 193 \n",
       "Q 2250 -91 1575 -91 \n",
       "Q 1294 -91 989 -36 \n",
       "Q 684 19 347 128 \n",
       "L 347 722 \n",
       "Q 666 556 975 473 \n",
       "Q 1284 391 1588 391 \n",
       "Q 1994 391 2212 530 \n",
       "Q 2431 669 2431 922 \n",
       "Q 2431 1156 2273 1281 \n",
       "Q 2116 1406 1581 1522 \n",
       "L 1381 1569 \n",
       "Q 847 1681 609 1914 \n",
       "Q 372 2147 372 2553 \n",
       "Q 372 3047 722 3315 \n",
       "Q 1072 3584 1716 3584 \n",
       "Q 2034 3584 2315 3537 \n",
       "Q 2597 3491 2834 3397 \n",
       "z\n",
       "\" transform=\"scale(0.015625)\"/>\n",
       "       <path id=\"DejaVuSans-74\" d=\"M 1172 4494 \n",
       "L 1172 3500 \n",
       "L 2356 3500 \n",
       "L 2356 3053 \n",
       "L 1172 3053 \n",
       "L 1172 1153 \n",
       "Q 1172 725 1289 603 \n",
       "Q 1406 481 1766 481 \n",
       "L 2356 481 \n",
       "L 2356 0 \n",
       "L 1766 0 \n",
       "Q 1100 0 847 248 \n",
       "Q 594 497 594 1153 \n",
       "L 594 3053 \n",
       "L 172 3053 \n",
       "L 172 3500 \n",
       "L 594 3500 \n",
       "L 594 4494 \n",
       "L 1172 4494 \n",
       "z\n",
       "\" transform=\"scale(0.015625)\"/>\n",
       "       <path id=\"DejaVuSans-64\" d=\"M 2906 2969 \n",
       "L 2906 4863 \n",
       "L 3481 4863 \n",
       "L 3481 0 \n",
       "L 2906 0 \n",
       "L 2906 525 \n",
       "Q 2725 213 2448 61 \n",
       "Q 2172 -91 1784 -91 \n",
       "Q 1150 -91 751 415 \n",
       "Q 353 922 353 1747 \n",
       "Q 353 2572 751 3078 \n",
       "Q 1150 3584 1784 3584 \n",
       "Q 2172 3584 2448 3432 \n",
       "Q 2725 3281 2906 2969 \n",
       "z\n",
       "M 947 1747 \n",
       "Q 947 1113 1208 752 \n",
       "Q 1469 391 1925 391 \n",
       "Q 2381 391 2643 752 \n",
       "Q 2906 1113 2906 1747 \n",
       "Q 2906 2381 2643 2742 \n",
       "Q 2381 3103 1925 3103 \n",
       "Q 1469 3103 1208 2742 \n",
       "Q 947 2381 947 1747 \n",
       "z\n",
       "\" transform=\"scale(0.015625)\"/>\n",
       "      </defs>\n",
       "      <use xlink:href=\"#DejaVuSans-6d\"/>\n",
       "      <use xlink:href=\"#DejaVuSans-65\" x=\"97.412109\"/>\n",
       "      <use xlink:href=\"#DejaVuSans-61\" x=\"158.935547\"/>\n",
       "      <use xlink:href=\"#DejaVuSans-6e\" x=\"220.214844\"/>\n",
       "      <use xlink:href=\"#DejaVuSans-20\" x=\"283.59375\"/>\n",
       "      <use xlink:href=\"#DejaVuSans-30\" x=\"315.380859\"/>\n",
       "      <use xlink:href=\"#DejaVuSans-2c\" x=\"379.003906\"/>\n",
       "      <use xlink:href=\"#DejaVuSans-20\" x=\"410.791016\"/>\n",
       "      <use xlink:href=\"#DejaVuSans-73\" x=\"442.578125\"/>\n",
       "      <use xlink:href=\"#DejaVuSans-74\" x=\"494.677734\"/>\n",
       "      <use xlink:href=\"#DejaVuSans-64\" x=\"533.886719\"/>\n",
       "      <use xlink:href=\"#DejaVuSans-20\" x=\"597.363281\"/>\n",
       "      <use xlink:href=\"#DejaVuSans-31\" x=\"629.150391\"/>\n",
       "     </g>\n",
       "    </g>\n",
       "    <g id=\"line2d_29\">\n",
       "     <path d=\"M 52.78125 34.976563 \n",
       "L 62.78125 34.976563 \n",
       "L 72.78125 34.976563 \n",
       "\" style=\"fill: none; stroke-dasharray: 5.55,2.4; stroke-dashoffset: 0; stroke: #bf00bf; stroke-width: 1.5\"/>\n",
       "    </g>\n",
       "    <g id=\"text_16\">\n",
       "     <!-- mean 0, std 2 -->\n",
       "     <g transform=\"translate(80.78125 38.476563) scale(0.1 -0.1)\">\n",
       "      <use xlink:href=\"#DejaVuSans-6d\"/>\n",
       "      <use xlink:href=\"#DejaVuSans-65\" x=\"97.412109\"/>\n",
       "      <use xlink:href=\"#DejaVuSans-61\" x=\"158.935547\"/>\n",
       "      <use xlink:href=\"#DejaVuSans-6e\" x=\"220.214844\"/>\n",
       "      <use xlink:href=\"#DejaVuSans-20\" x=\"283.59375\"/>\n",
       "      <use xlink:href=\"#DejaVuSans-30\" x=\"315.380859\"/>\n",
       "      <use xlink:href=\"#DejaVuSans-2c\" x=\"379.003906\"/>\n",
       "      <use xlink:href=\"#DejaVuSans-20\" x=\"410.791016\"/>\n",
       "      <use xlink:href=\"#DejaVuSans-73\" x=\"442.578125\"/>\n",
       "      <use xlink:href=\"#DejaVuSans-74\" x=\"494.677734\"/>\n",
       "      <use xlink:href=\"#DejaVuSans-64\" x=\"533.886719\"/>\n",
       "      <use xlink:href=\"#DejaVuSans-20\" x=\"597.363281\"/>\n",
       "      <use xlink:href=\"#DejaVuSans-32\" x=\"629.150391\"/>\n",
       "     </g>\n",
       "    </g>\n",
       "    <g id=\"line2d_30\">\n",
       "     <path d=\"M 52.78125 49.654688 \n",
       "L 62.78125 49.654688 \n",
       "L 72.78125 49.654688 \n",
       "\" style=\"fill: none; stroke-dasharray: 9.6,2.4,1.5,2.4; stroke-dashoffset: 0; stroke: #008000; stroke-width: 1.5\"/>\n",
       "    </g>\n",
       "    <g id=\"text_17\">\n",
       "     <!-- mean 3, std 1 -->\n",
       "     <g transform=\"translate(80.78125 53.154688) scale(0.1 -0.1)\">\n",
       "      <use xlink:href=\"#DejaVuSans-6d\"/>\n",
       "      <use xlink:href=\"#DejaVuSans-65\" x=\"97.412109\"/>\n",
       "      <use xlink:href=\"#DejaVuSans-61\" x=\"158.935547\"/>\n",
       "      <use xlink:href=\"#DejaVuSans-6e\" x=\"220.214844\"/>\n",
       "      <use xlink:href=\"#DejaVuSans-20\" x=\"283.59375\"/>\n",
       "      <use xlink:href=\"#DejaVuSans-33\" x=\"315.380859\"/>\n",
       "      <use xlink:href=\"#DejaVuSans-2c\" x=\"379.003906\"/>\n",
       "      <use xlink:href=\"#DejaVuSans-20\" x=\"410.791016\"/>\n",
       "      <use xlink:href=\"#DejaVuSans-73\" x=\"442.578125\"/>\n",
       "      <use xlink:href=\"#DejaVuSans-74\" x=\"494.677734\"/>\n",
       "      <use xlink:href=\"#DejaVuSans-64\" x=\"533.886719\"/>\n",
       "      <use xlink:href=\"#DejaVuSans-20\" x=\"597.363281\"/>\n",
       "      <use xlink:href=\"#DejaVuSans-31\" x=\"629.150391\"/>\n",
       "     </g>\n",
       "    </g>\n",
       "   </g>\n",
       "  </g>\n",
       " </g>\n",
       " <defs>\n",
       "  <clipPath id=\"pced6fe9c1b\">\n",
       "   <rect x=\"43.78125\" y=\"7.2\" width=\"251.1\" height=\"138.6\"/>\n",
       "  </clipPath>\n",
       " </defs>\n",
       "</svg>\n"
      ],
      "text/plain": [
       "<Figure size 450x250 with 1 Axes>"
      ]
     },
     "metadata": {},
     "output_type": "display_data"
    }
   ],
   "source": [
    "x = np.arange(-7, 7, 0.01)\n",
    "\n",
    "params = [(0, 1), (0, 2), (3, 1)]\n",
    "fc.plot(x, [normal(x, mu, sigma) for mu, sigma in params], xlabel='x', ylabel='p(x)', figsize=(4.5, 2.5), legend=[f'mean {mu}, std {sigma}' for mu, sigma in params])"
   ]
  },
  {
   "cell_type": "markdown",
   "metadata": {},
   "source": [
    "#### 改变均值会产生沿轴的偏移，增加方差将会分散分布、降低其峰值\n",
    "#### 均方损失可以用于线性回归的一个原因是\n",
    "#### 噪声正态分布：$$ y = \\mathbf{w}^\\top \\mathbf{x} + b + \\epsilon,$$\n",
    "#### 其中，$\\epsilon \\sim \\mathcal{N}(0, \\sigma^2)$"
   ]
  },
  {
   "cell_type": "markdown",
   "metadata": {},
   "source": [
    "#### 因为$\\epsilon$满足正态分布，所以可以移项后得\n",
    "#### 给定的$\\chi $观测到特定的$y$似然（likelihood）：\n",
    "#### $$ P(y \\mid \\mathbf{x}) = \\frac{1}{\\sqrt{2 \\pi \\sigma^2}} \\exp\\left(-\\frac{1}{2 \\sigma^2} (y - \\mathbf{w}^\\top \\mathbf{x} - b)^2\\right).$$"
   ]
  },
  {
   "cell_type": "markdown",
   "metadata": {},
   "source": [
    "#### 根据极大似然估计法，参数$\\omega$和$b$的最优值是使整个数据集的极大似然值\n",
    "#### $$ P(\\mathbf y \\mid \\mathbf X) = \\prod_{i=1}^{n} p(y^{(i)}|\\mathbf{x}^{(i)}).$$"
   ]
  },
  {
   "cell_type": "markdown",
   "metadata": {},
   "source": [
    "#### 虽然许多指数函数的乘积最大化看似很难，但其实在不改变目标的前提下，用极大似然对数去简化\n",
    "#### 由于历史原因，优化被说成最小化而不是最大化\n",
    "#### 我们可以改为最小化负对数似然$-\\log P(\\mathbf y \\mid \\mathbf X)$\n",
    "#### $$ -\\log P(\\mathbf y \\mid \\mathbf X) = \\sum_{i=1}^n \\frac{1}{2} \\log(2 \\pi \\sigma^2) + \\frac{1}{2 \\sigma^2} \\left(y^{(i)} - \\mathbf{w}^\\top \\mathbf{x}^{(i)} - b\\right)^2.$$"
   ]
  },
  {
   "cell_type": "markdown",
   "metadata": {},
   "source": [
    "#### 我们只需假设$\\sigma$是某个固定常数就可以忽略第一项，因为第一项不依赖$w$和$b$\n",
    "#### 现在第二项除了$\\frac{1}{\\sigma^2}$之外，其余的和均方误差是一样的\n",
    "#### 上式不依赖$\\sigma$，最小化均方误差等价于对线性模型的极大似然估计"
   ]
  },
  {
   "cell_type": "markdown",
   "metadata": {},
   "source": [
    "### 3.1.4. 从线性回归到深度网络"
   ]
  },
  {
   "cell_type": "markdown",
   "metadata": {},
   "source": [
    "#### 尽管我们只讨论了线性模型，但我们依然可以用神经网络的方式来描述它\n",
    "#### 第一步就是用“层”符号来重写这个模型"
   ]
  },
  {
   "cell_type": "markdown",
   "metadata": {},
   "source": [
    "### 3.1.4.1. 神经网络图"
   ]
  },
  {
   "attachments": {
    "image.png": {
     "image/png": "[encoded data removed]"
    }
   },
   "cell_type": "markdown",
   "metadata": {},
   "source": [
    "![image.png](attachment:image.png)"
   ]
  },
  {
   "cell_type": "markdown",
   "metadata": {},
   "source": [
    "#### 如图，我们将线性回归模型描述为一个神经网络。\n",
    "#### 该图只显示连接模式，即每个输出如何连接到输入，隐去了权重和偏置的值。\n",
    "#### 输入为$x_1...x_d$，因此输入层中的输入数为d或称为特征维度（feature dimensionality）\n",
    "#### 由于模型重点在计算上，所以我们计算层数时不考虑输入层，也就是说层数为1，是单层神经网络\n",
    "#### 每个输入都与每个输出相连，我们将这种变换称为全连接层（fully‐connected layer）或称为稠密层（dense layer）"
   ]
  },
  {
   "cell_type": "markdown",
   "metadata": {},
   "source": [
    "### 生物学"
   ]
  },
  {
   "cell_type": "markdown",
   "metadata": {},
   "source": [
    "#### 线性回归发明的时间（1795年）早于计算神经科学，所以将线性回归描述为神经网络似乎不合适。但是线性回归说是神经网络也合理。\n",
    "#### 控制学家们开始开发人工神经元模型时，以线性模型为一个起点\n",
    "#### 如图，轴突（axon，输出线）和轴突端子（axon terminal，输出端子）通过突触（synapse）与其他神经元连接"
   ]
  },
  {
   "attachments": {
    "image.png": {
     "image/png": "[encoded data removed]"
    }
   },
   "cell_type": "markdown",
   "metadata": {},
   "source": [
    "![image.png](attachment:image.png)"
   ]
  },
  {
   "cell_type": "markdown",
   "metadata": {},
   "source": [
    "#### 树突中接收到来自其他神经元的信息$x_i$。该信息通过突触权重$w_i$来加权\n",
    "#### 来自多个源的加权输入以加权和$ y = \\sum_i x_i w_i + b $的形式聚集在细胞核中\n",
    "#### 然后将这些信息发送到轴突$y$中处理"
   ]
  },
  {
   "cell_type": "markdown",
   "metadata": {},
   "source": [
    "#### 当今大多数深度学习的研究几乎没有直接从神经科学中获得灵感\n",
    "#### 援引斯图尔特·罗素和彼得·诺维格在《Artificial Intelligence:A Modern Approach》中说的：虽然飞机可能受到鸟类的启发，但几个世纪以来，鸟类学并不是航空创新的主要驱动力。 \n",
    "#### 同样地，如今在深度学习中的灵感同样或更多地来自数学、统计学和计算机科学。"
   ]
  },
  {
   "cell_type": "markdown",
   "metadata": {},
   "source": [
    "### 3.1.5. 小结"
   ]
  },
  {
   "cell_type": "markdown",
   "metadata": {},
   "source": [
    "#### 机器学习模型中的关键要素是训练数据、损失算法、优化算法及模型本身\n",
    "#### 矢量化简洁了表示，同时加快了速度\n",
    "#### 最小化目标函数和极大似然估计等价\n",
    "#### 线性回归模型也是一个神经网络模型哦😊\n",
    "##### ps：如果损失函数是似然函数的对数函数，那么最小化目标函数和执行极大似然估计就等价"
   ]
  },
  {
   "cell_type": "markdown",
   "metadata": {},
   "source": [
    "### 3.1.6 测试"
   ]
  },
  {
   "cell_type": "markdown",
   "metadata": {},
   "source": [
    "#### test 1\n",
    "##### 解析解是所有x的平均值\n",
    "##### 满足正态分布时，结果还是平均值"
   ]
  },
  {
   "cell_type": "markdown",
   "metadata": {},
   "source": [
    "#### test 2\n",
    "##### 推导出使用平方误差的线性回归优化问题的解析解。为了简化问题，可以忽略偏置b（我们可以通过向X添加所有值为1的一列来做到这一点）。\n",
    "1. 用矩阵和向量表示法写出优化问题（将所有数据视为单个矩阵，将所有目标值视为单个向量）。\n",
    "2. 计算损失对w的梯度。\n",
    "3. 通过将梯度设为0、求解矩阵方程来找到解析解。\n",
    "4. 什么时候可能比使用随机梯度下降更好？这种方法何时会失效？"
   ]
  },
  {
   "cell_type": "markdown",
   "metadata": {},
   "source": [
    "#### test 3\n",
    "##### 3假定控制附加噪声ϵ的噪声模型是指数分布。也就是说，$p(ϵ) = \\frac{1}{2} exp(−|\\epsilon|)$\n",
    "1. 写出模型$− log P(y | X)$下数据的负对数似然。\n",
    "2. 请试着写出解析解。\n",
    "3. 提出一种随机梯度下降算法来解决这个问题。哪里可能出错？（提示：当我们不断更新参数时，在驻点附近会发生什么情况）请尝试解决这个问题。"
   ]
  },
  {
   "cell_type": "markdown",
   "metadata": {},
   "source": [
    "## 3.2 线性回归的从零开始实现"
   ]
  },
  {
   "cell_type": "markdown",
   "metadata": {},
   "source": [
    "#### 可以写代码来实现线性回归了，我们将从零开始，包括数据pipeline、模型、损失函数即mini-batch随机梯度下降器\n"
   ]
  },
  {
   "cell_type": "code",
   "execution_count": 9,
   "metadata": {},
   "outputs": [],
   "source": [
    "import random\n",
    "import torch"
   ]
  },
  {
   "cell_type": "markdown",
   "metadata": {},
   "source": [
    "### 3.2.1 生成数据集"
   ]
  },
  {
   "cell_type": "markdown",
   "metadata": {},
   "source": [
    "#### 简单起见，将根据带有噪声的线性模型构造一个人造数据集。\n",
    "#### 我们的任务是使用这个有限样本的数据集来恢复这个模型的参数\n",
    "#### 使用低维数据集，更容易可视化\n",
    "#### 生成一个包含1000个样本的数据集，每个样本包含从标准正态分布中采样的2个特征 一个矩阵$X ∈ R ^{1000×2}$"
   ]
  },
  {
   "cell_type": "markdown",
   "metadata": {},
   "source": [
    "#### 使用线性模型参数$ w = [2, −3.4]^⊤、b = 4.2 $和**噪声项**$\\epsilon$生成数据集及其标签：\n",
    "#### $y = Xw + b + ϵ.$\n"
   ]
  },
  {
   "cell_type": "markdown",
   "metadata": {},
   "source": [
    "#### ϵ可以视为模型预测和标签时的潜在观测误差\n",
    "#### 即ϵ服从均值为0的正态分布,我们将标准差设为0.01。"
   ]
  },
  {
   "cell_type": "code",
   "execution_count": 10,
   "metadata": {},
   "outputs": [],
   "source": [
    "def synthetic_data(w, b, num_samples): #@save\n",
    "    \"\"\"生成y=Xw+b噪声\"\"\"\n",
    "    X = torch.normal(0, 1, (num_samples, len(w)))\n",
    "    y = torch.matmul(X, w) + b\n",
    "    y += torch.normal(0, 0.01, y.shape)\n",
    "    return X, y.reshape((-1, 1))\n",
    "\n",
    "true_w = torch.tensor([2, -3.4])\n",
    "true_b = 4.2\n",
    "features, labels = synthetic_data(true_w, true_b, 1000)"
   ]
  },
  {
   "cell_type": "markdown",
   "metadata": {},
   "source": [
    "#### features中每一行都包含一个二维数据样本，labels中每一行包含一个label"
   ]
  },
  {
   "cell_type": "code",
   "execution_count": 11,
   "metadata": {},
   "outputs": [
    {
     "name": "stdout",
     "output_type": "stream",
     "text": [
      "features: tensor([-0.7382,  0.3339]) \n",
      "label: tensor([1.6118])\n"
     ]
    }
   ],
   "source": [
    "print('features:', features[0],'\\nlabel:', labels[0])"
   ]
  },
  {
   "cell_type": "markdown",
   "metadata": {},
   "source": [
    "#### 通过生成第二个特征features[:, 1]和labels散点图，可以看到直观的线性关系"
   ]
  },
  {
   "cell_type": "code",
   "execution_count": 12,
   "metadata": {},
   "outputs": [
    {
     "data": {
      "text/plain": [
       "<matplotlib.collections.PathCollection at 0x29f3b754590>"
      ]
     },
     "execution_count": 12,
     "metadata": {},
     "output_type": "execute_result"
    },
    {
     "data": {
      "image/svg+xml": [
       "<?xml version=\"1.0\" encoding=\"utf-8\" standalone=\"no\"?>\n",
       "<!DOCTYPE svg PUBLIC \"-//W3C//DTD SVG 1.1//EN\"\n",
       "  \"http://www.w3.org/Graphics/SVG/1.1/DTD/svg11.dtd\">\n",
       "<svg xmlns:xlink=\"http://www.w3.org/1999/xlink\" width=\"229.425pt\" height=\"170.674143pt\" viewBox=\"0 0 229.425 170.674143\" xmlns=\"http://www.w3.org/2000/svg\" version=\"1.1\">\n",
       " <metadata>\n",
       "  <rdf:RDF xmlns:dc=\"http://purl.org/dc/elements/1.1/\" xmlns:cc=\"http://creativecommons.org/ns#\" xmlns:rdf=\"http://www.w3.org/1999/02/22-rdf-syntax-ns#\">\n",
       "   <cc:Work>\n",
       "    <dc:type rdf:resource=\"http://purl.org/dc/dcmitype/StillImage\"/>\n",
       "    <dc:date>2023-12-21T23:29:26.283441</dc:date>\n",
       "    <dc:format>image/svg+xml</dc:format>\n",
       "    <dc:creator>\n",
       "     <cc:Agent>\n",
       "      <dc:title>Matplotlib v3.8.2, https://matplotlib.org/</dc:title>\n",
       "     </cc:Agent>\n",
       "    </dc:creator>\n",
       "   </cc:Work>\n",
       "  </rdf:RDF>\n",
       " </metadata>\n",
       " <defs>\n",
       "  <style type=\"text/css\">*{stroke-linejoin: round; stroke-linecap: butt}</style>\n",
       " </defs>\n",
       " <g id=\"figure_1\">\n",
       "  <g id=\"patch_1\">\n",
       "   <path d=\"M 0 170.674143 \n",
       "L 229.425 170.674143 \n",
       "L 229.425 0 \n",
       "L 0 0 \n",
       "z\n",
       "\" style=\"fill: #ffffff\"/>\n",
       "  </g>\n",
       "  <g id=\"axes_1\">\n",
       "   <g id=\"patch_2\">\n",
       "    <path d=\"M 26.925 146.796018 \n",
       "L 222.225 146.796018 \n",
       "L 222.225 8.196018 \n",
       "L 26.925 8.196018 \n",
       "z\n",
       "\" style=\"fill: #ffffff\"/>\n",
       "   </g>\n",
       "   <g id=\"PathCollection_1\">\n",
       "    <defs>\n",
       "     <path id=\"md88cf1252a\" d=\"M 0 3 \n",
       "C 0.795609 3 1.55874 2.683901 2.12132 2.12132 \n",
       "C 2.683901 1.55874 3 0.795609 3 0 \n",
       "C 3 -0.795609 2.683901 -1.55874 2.12132 -2.12132 \n",
       "C 1.55874 -2.683901 0.795609 -3 0 -3 \n",
       "C -0.795609 -3 -1.55874 -2.683901 -2.12132 -2.12132 \n",
       "C -2.683901 -1.55874 -3 -0.795609 -3 0 \n",
       "C -3 0.795609 -2.683901 1.55874 -2.12132 2.12132 \n",
       "C -1.55874 2.683901 -0.795609 3 0 3 \n",
       "z\n",
       "\" style=\"stroke: #1f77b4\"/>\n",
       "    </defs>\n",
       "    <g clip-path=\"url(#pc59ca81714)\">\n",
       "     <use xlink:href=\"#md88cf1252a\" x=\"140.274454\" y=\"95.569761\" style=\"fill: #1f77b4; stroke: #1f77b4\"/>\n",
       "     <use xlink:href=\"#md88cf1252a\" x=\"115.474929\" y=\"80.510941\" style=\"fill: #1f77b4; stroke: #1f77b4\"/>\n",
       "     <use xlink:href=\"#md88cf1252a\" x=\"91.296226\" y=\"50.560574\" style=\"fill: #1f77b4; stroke: #1f77b4\"/>\n",
       "     <use xlink:href=\"#md88cf1252a\" x=\"170.934047\" y=\"112.292107\" style=\"fill: #1f77b4; stroke: #1f77b4\"/>\n",
       "     <use xlink:href=\"#md88cf1252a\" x=\"146.767474\" y=\"92.338436\" style=\"fill: #1f77b4; stroke: #1f77b4\"/>\n",
       "     <use xlink:href=\"#md88cf1252a\" x=\"171.508055\" y=\"111.75557\" style=\"fill: #1f77b4; stroke: #1f77b4\"/>\n",
       "     <use xlink:href=\"#md88cf1252a\" x=\"150.407728\" y=\"85.848681\" style=\"fill: #1f77b4; stroke: #1f77b4\"/>\n",
       "     <use xlink:href=\"#md88cf1252a\" x=\"138.980279\" y=\"78.081605\" style=\"fill: #1f77b4; stroke: #1f77b4\"/>\n",
       "     <use xlink:href=\"#md88cf1252a\" x=\"118.044669\" y=\"64.55585\" style=\"fill: #1f77b4; stroke: #1f77b4\"/>\n",
       "     <use xlink:href=\"#md88cf1252a\" x=\"148.981656\" y=\"90.084688\" style=\"fill: #1f77b4; stroke: #1f77b4\"/>\n",
       "     <use xlink:href=\"#md88cf1252a\" x=\"129.238214\" y=\"78.596457\" style=\"fill: #1f77b4; stroke: #1f77b4\"/>\n",
       "     <use xlink:href=\"#md88cf1252a\" x=\"123.893714\" y=\"86.90985\" style=\"fill: #1f77b4; stroke: #1f77b4\"/>\n",
       "     <use xlink:href=\"#md88cf1252a\" x=\"161.820617\" y=\"96.710908\" style=\"fill: #1f77b4; stroke: #1f77b4\"/>\n",
       "     <use xlink:href=\"#md88cf1252a\" x=\"108.944828\" y=\"83.625085\" style=\"fill: #1f77b4; stroke: #1f77b4\"/>\n",
       "     <use xlink:href=\"#md88cf1252a\" x=\"94.009875\" y=\"44.618362\" style=\"fill: #1f77b4; stroke: #1f77b4\"/>\n",
       "     <use xlink:href=\"#md88cf1252a\" x=\"138.47069\" y=\"81.018272\" style=\"fill: #1f77b4; stroke: #1f77b4\"/>\n",
       "     <use xlink:href=\"#md88cf1252a\" x=\"140.394174\" y=\"99.146084\" style=\"fill: #1f77b4; stroke: #1f77b4\"/>\n",
       "     <use xlink:href=\"#md88cf1252a\" x=\"128.4505\" y=\"83.674642\" style=\"fill: #1f77b4; stroke: #1f77b4\"/>\n",
       "     <use xlink:href=\"#md88cf1252a\" x=\"167.857284\" y=\"123.737128\" style=\"fill: #1f77b4; stroke: #1f77b4\"/>\n",
       "     <use xlink:href=\"#md88cf1252a\" x=\"88.280859\" y=\"55.926729\" style=\"fill: #1f77b4; stroke: #1f77b4\"/>\n",
       "     <use xlink:href=\"#md88cf1252a\" x=\"116.528934\" y=\"63.031115\" style=\"fill: #1f77b4; stroke: #1f77b4\"/>\n",
       "     <use xlink:href=\"#md88cf1252a\" x=\"172.246302\" y=\"112.607276\" style=\"fill: #1f77b4; stroke: #1f77b4\"/>\n",
       "     <use xlink:href=\"#md88cf1252a\" x=\"125.154381\" y=\"69.004932\" style=\"fill: #1f77b4; stroke: #1f77b4\"/>\n",
       "     <use xlink:href=\"#md88cf1252a\" x=\"162.262409\" y=\"114.356489\" style=\"fill: #1f77b4; stroke: #1f77b4\"/>\n",
       "     <use xlink:href=\"#md88cf1252a\" x=\"144.173122\" y=\"82.121075\" style=\"fill: #1f77b4; stroke: #1f77b4\"/>\n",
       "     <use xlink:href=\"#md88cf1252a\" x=\"124.38631\" y=\"80.882125\" style=\"fill: #1f77b4; stroke: #1f77b4\"/>\n",
       "     <use xlink:href=\"#md88cf1252a\" x=\"136.836552\" y=\"69.228428\" style=\"fill: #1f77b4; stroke: #1f77b4\"/>\n",
       "     <use xlink:href=\"#md88cf1252a\" x=\"111.135426\" y=\"84.344223\" style=\"fill: #1f77b4; stroke: #1f77b4\"/>\n",
       "     <use xlink:href=\"#md88cf1252a\" x=\"113.16303\" y=\"65.080762\" style=\"fill: #1f77b4; stroke: #1f77b4\"/>\n",
       "     <use xlink:href=\"#md88cf1252a\" x=\"97.471423\" y=\"71.996857\" style=\"fill: #1f77b4; stroke: #1f77b4\"/>\n",
       "     <use xlink:href=\"#md88cf1252a\" x=\"141.789049\" y=\"98.092981\" style=\"fill: #1f77b4; stroke: #1f77b4\"/>\n",
       "     <use xlink:href=\"#md88cf1252a\" x=\"132.869225\" y=\"78.794435\" style=\"fill: #1f77b4; stroke: #1f77b4\"/>\n",
       "     <use xlink:href=\"#md88cf1252a\" x=\"153.627723\" y=\"87.482399\" style=\"fill: #1f77b4; stroke: #1f77b4\"/>\n",
       "     <use xlink:href=\"#md88cf1252a\" x=\"93.993263\" y=\"68.965637\" style=\"fill: #1f77b4; stroke: #1f77b4\"/>\n",
       "     <use xlink:href=\"#md88cf1252a\" x=\"152.476036\" y=\"88.604131\" style=\"fill: #1f77b4; stroke: #1f77b4\"/>\n",
       "     <use xlink:href=\"#md88cf1252a\" x=\"147.169096\" y=\"99.071799\" style=\"fill: #1f77b4; stroke: #1f77b4\"/>\n",
       "     <use xlink:href=\"#md88cf1252a\" x=\"78.718678\" y=\"54.893401\" style=\"fill: #1f77b4; stroke: #1f77b4\"/>\n",
       "     <use xlink:href=\"#md88cf1252a\" x=\"127.078456\" y=\"90.75595\" style=\"fill: #1f77b4; stroke: #1f77b4\"/>\n",
       "     <use xlink:href=\"#md88cf1252a\" x=\"166.327577\" y=\"92.198685\" style=\"fill: #1f77b4; stroke: #1f77b4\"/>\n",
       "     <use xlink:href=\"#md88cf1252a\" x=\"102.798294\" y=\"60.738255\" style=\"fill: #1f77b4; stroke: #1f77b4\"/>\n",
       "     <use xlink:href=\"#md88cf1252a\" x=\"114.560716\" y=\"70.396252\" style=\"fill: #1f77b4; stroke: #1f77b4\"/>\n",
       "     <use xlink:href=\"#md88cf1252a\" x=\"83.101952\" y=\"57.874959\" style=\"fill: #1f77b4; stroke: #1f77b4\"/>\n",
       "     <use xlink:href=\"#md88cf1252a\" x=\"152.32891\" y=\"112.780793\" style=\"fill: #1f77b4; stroke: #1f77b4\"/>\n",
       "     <use xlink:href=\"#md88cf1252a\" x=\"119.762413\" y=\"86.061995\" style=\"fill: #1f77b4; stroke: #1f77b4\"/>\n",
       "     <use xlink:href=\"#md88cf1252a\" x=\"112.582533\" y=\"73.986799\" style=\"fill: #1f77b4; stroke: #1f77b4\"/>\n",
       "     <use xlink:href=\"#md88cf1252a\" x=\"110.142607\" y=\"76.263868\" style=\"fill: #1f77b4; stroke: #1f77b4\"/>\n",
       "     <use xlink:href=\"#md88cf1252a\" x=\"129.313089\" y=\"79.545026\" style=\"fill: #1f77b4; stroke: #1f77b4\"/>\n",
       "     <use xlink:href=\"#md88cf1252a\" x=\"177.461056\" y=\"116.144433\" style=\"fill: #1f77b4; stroke: #1f77b4\"/>\n",
       "     <use xlink:href=\"#md88cf1252a\" x=\"144.655428\" y=\"89.781455\" style=\"fill: #1f77b4; stroke: #1f77b4\"/>\n",
       "     <use xlink:href=\"#md88cf1252a\" x=\"90.23932\" y=\"58.913081\" style=\"fill: #1f77b4; stroke: #1f77b4\"/>\n",
       "     <use xlink:href=\"#md88cf1252a\" x=\"122.574781\" y=\"74.929045\" style=\"fill: #1f77b4; stroke: #1f77b4\"/>\n",
       "     <use xlink:href=\"#md88cf1252a\" x=\"100.902452\" y=\"69.748742\" style=\"fill: #1f77b4; stroke: #1f77b4\"/>\n",
       "     <use xlink:href=\"#md88cf1252a\" x=\"117.311917\" y=\"86.162173\" style=\"fill: #1f77b4; stroke: #1f77b4\"/>\n",
       "     <use xlink:href=\"#md88cf1252a\" x=\"136.888445\" y=\"92.758051\" style=\"fill: #1f77b4; stroke: #1f77b4\"/>\n",
       "     <use xlink:href=\"#md88cf1252a\" x=\"123.393687\" y=\"95.947509\" style=\"fill: #1f77b4; stroke: #1f77b4\"/>\n",
       "     <use xlink:href=\"#md88cf1252a\" x=\"113.765608\" y=\"66.939005\" style=\"fill: #1f77b4; stroke: #1f77b4\"/>\n",
       "     <use xlink:href=\"#md88cf1252a\" x=\"101.448004\" y=\"65.816641\" style=\"fill: #1f77b4; stroke: #1f77b4\"/>\n",
       "     <use xlink:href=\"#md88cf1252a\" x=\"134.432456\" y=\"83.243112\" style=\"fill: #1f77b4; stroke: #1f77b4\"/>\n",
       "     <use xlink:href=\"#md88cf1252a\" x=\"92.534747\" y=\"46.765608\" style=\"fill: #1f77b4; stroke: #1f77b4\"/>\n",
       "     <use xlink:href=\"#md88cf1252a\" x=\"126.635427\" y=\"67.975925\" style=\"fill: #1f77b4; stroke: #1f77b4\"/>\n",
       "     <use xlink:href=\"#md88cf1252a\" x=\"61.824002\" y=\"51.863595\" style=\"fill: #1f77b4; stroke: #1f77b4\"/>\n",
       "     <use xlink:href=\"#md88cf1252a\" x=\"106.581562\" y=\"67.016509\" style=\"fill: #1f77b4; stroke: #1f77b4\"/>\n",
       "     <use xlink:href=\"#md88cf1252a\" x=\"104.229825\" y=\"64.92534\" style=\"fill: #1f77b4; stroke: #1f77b4\"/>\n",
       "     <use xlink:href=\"#md88cf1252a\" x=\"118.106085\" y=\"58.482541\" style=\"fill: #1f77b4; stroke: #1f77b4\"/>\n",
       "     <use xlink:href=\"#md88cf1252a\" x=\"98.950793\" y=\"64.372804\" style=\"fill: #1f77b4; stroke: #1f77b4\"/>\n",
       "     <use xlink:href=\"#md88cf1252a\" x=\"131.206634\" y=\"92.844638\" style=\"fill: #1f77b4; stroke: #1f77b4\"/>\n",
       "     <use xlink:href=\"#md88cf1252a\" x=\"85.853651\" y=\"61.634311\" style=\"fill: #1f77b4; stroke: #1f77b4\"/>\n",
       "     <use xlink:href=\"#md88cf1252a\" x=\"139.513421\" y=\"99.70707\" style=\"fill: #1f77b4; stroke: #1f77b4\"/>\n",
       "     <use xlink:href=\"#md88cf1252a\" x=\"83.890159\" y=\"61.495675\" style=\"fill: #1f77b4; stroke: #1f77b4\"/>\n",
       "     <use xlink:href=\"#md88cf1252a\" x=\"109.65209\" y=\"66.455829\" style=\"fill: #1f77b4; stroke: #1f77b4\"/>\n",
       "     <use xlink:href=\"#md88cf1252a\" x=\"129.979304\" y=\"90.753412\" style=\"fill: #1f77b4; stroke: #1f77b4\"/>\n",
       "     <use xlink:href=\"#md88cf1252a\" x=\"122.478788\" y=\"85.072683\" style=\"fill: #1f77b4; stroke: #1f77b4\"/>\n",
       "     <use xlink:href=\"#md88cf1252a\" x=\"143.212573\" y=\"84.91592\" style=\"fill: #1f77b4; stroke: #1f77b4\"/>\n",
       "     <use xlink:href=\"#md88cf1252a\" x=\"94.222415\" y=\"62.725408\" style=\"fill: #1f77b4; stroke: #1f77b4\"/>\n",
       "     <use xlink:href=\"#md88cf1252a\" x=\"125.464098\" y=\"82.467253\" style=\"fill: #1f77b4; stroke: #1f77b4\"/>\n",
       "     <use xlink:href=\"#md88cf1252a\" x=\"98.344503\" y=\"72.10101\" style=\"fill: #1f77b4; stroke: #1f77b4\"/>\n",
       "     <use xlink:href=\"#md88cf1252a\" x=\"118.86677\" y=\"89.065951\" style=\"fill: #1f77b4; stroke: #1f77b4\"/>\n",
       "     <use xlink:href=\"#md88cf1252a\" x=\"111.109574\" y=\"67.363977\" style=\"fill: #1f77b4; stroke: #1f77b4\"/>\n",
       "     <use xlink:href=\"#md88cf1252a\" x=\"147.421977\" y=\"98.147326\" style=\"fill: #1f77b4; stroke: #1f77b4\"/>\n",
       "     <use xlink:href=\"#md88cf1252a\" x=\"138.021927\" y=\"85.883266\" style=\"fill: #1f77b4; stroke: #1f77b4\"/>\n",
       "     <use xlink:href=\"#md88cf1252a\" x=\"130.995137\" y=\"96.040281\" style=\"fill: #1f77b4; stroke: #1f77b4\"/>\n",
       "     <use xlink:href=\"#md88cf1252a\" x=\"141.746613\" y=\"98.282902\" style=\"fill: #1f77b4; stroke: #1f77b4\"/>\n",
       "     <use xlink:href=\"#md88cf1252a\" x=\"128.730612\" y=\"68.591236\" style=\"fill: #1f77b4; stroke: #1f77b4\"/>\n",
       "     <use xlink:href=\"#md88cf1252a\" x=\"113.1899\" y=\"75.681522\" style=\"fill: #1f77b4; stroke: #1f77b4\"/>\n",
       "     <use xlink:href=\"#md88cf1252a\" x=\"112.266682\" y=\"70.494571\" style=\"fill: #1f77b4; stroke: #1f77b4\"/>\n",
       "     <use xlink:href=\"#md88cf1252a\" x=\"135.094039\" y=\"87.817264\" style=\"fill: #1f77b4; stroke: #1f77b4\"/>\n",
       "     <use xlink:href=\"#md88cf1252a\" x=\"162.457194\" y=\"100.614106\" style=\"fill: #1f77b4; stroke: #1f77b4\"/>\n",
       "     <use xlink:href=\"#md88cf1252a\" x=\"124.403544\" y=\"65.048186\" style=\"fill: #1f77b4; stroke: #1f77b4\"/>\n",
       "     <use xlink:href=\"#md88cf1252a\" x=\"121.801669\" y=\"69.532634\" style=\"fill: #1f77b4; stroke: #1f77b4\"/>\n",
       "     <use xlink:href=\"#md88cf1252a\" x=\"150.358947\" y=\"99.290888\" style=\"fill: #1f77b4; stroke: #1f77b4\"/>\n",
       "     <use xlink:href=\"#md88cf1252a\" x=\"112.454735\" y=\"62.058088\" style=\"fill: #1f77b4; stroke: #1f77b4\"/>\n",
       "     <use xlink:href=\"#md88cf1252a\" x=\"124.412575\" y=\"84.862074\" style=\"fill: #1f77b4; stroke: #1f77b4\"/>\n",
       "     <use xlink:href=\"#md88cf1252a\" x=\"108.196379\" y=\"72.586975\" style=\"fill: #1f77b4; stroke: #1f77b4\"/>\n",
       "     <use xlink:href=\"#md88cf1252a\" x=\"146.625421\" y=\"84.778013\" style=\"fill: #1f77b4; stroke: #1f77b4\"/>\n",
       "     <use xlink:href=\"#md88cf1252a\" x=\"135.023767\" y=\"88.630433\" style=\"fill: #1f77b4; stroke: #1f77b4\"/>\n",
       "     <use xlink:href=\"#md88cf1252a\" x=\"149.588866\" y=\"86.449732\" style=\"fill: #1f77b4; stroke: #1f77b4\"/>\n",
       "     <use xlink:href=\"#md88cf1252a\" x=\"124.785069\" y=\"73.194953\" style=\"fill: #1f77b4; stroke: #1f77b4\"/>\n",
       "     <use xlink:href=\"#md88cf1252a\" x=\"131.363785\" y=\"73.711472\" style=\"fill: #1f77b4; stroke: #1f77b4\"/>\n",
       "     <use xlink:href=\"#md88cf1252a\" x=\"188.814599\" y=\"120.423104\" style=\"fill: #1f77b4; stroke: #1f77b4\"/>\n",
       "     <use xlink:href=\"#md88cf1252a\" x=\"128.182327\" y=\"82.59197\" style=\"fill: #1f77b4; stroke: #1f77b4\"/>\n",
       "     <use xlink:href=\"#md88cf1252a\" x=\"100.704108\" y=\"62.393752\" style=\"fill: #1f77b4; stroke: #1f77b4\"/>\n",
       "     <use xlink:href=\"#md88cf1252a\" x=\"102.73411\" y=\"75.548195\" style=\"fill: #1f77b4; stroke: #1f77b4\"/>\n",
       "     <use xlink:href=\"#md88cf1252a\" x=\"125.38261\" y=\"80.328385\" style=\"fill: #1f77b4; stroke: #1f77b4\"/>\n",
       "     <use xlink:href=\"#md88cf1252a\" x=\"117.516212\" y=\"62.85861\" style=\"fill: #1f77b4; stroke: #1f77b4\"/>\n",
       "     <use xlink:href=\"#md88cf1252a\" x=\"136.453175\" y=\"92.448302\" style=\"fill: #1f77b4; stroke: #1f77b4\"/>\n",
       "     <use xlink:href=\"#md88cf1252a\" x=\"126.493252\" y=\"68.771521\" style=\"fill: #1f77b4; stroke: #1f77b4\"/>\n",
       "     <use xlink:href=\"#md88cf1252a\" x=\"126.06946\" y=\"82.792139\" style=\"fill: #1f77b4; stroke: #1f77b4\"/>\n",
       "     <use xlink:href=\"#md88cf1252a\" x=\"134.565427\" y=\"108.994392\" style=\"fill: #1f77b4; stroke: #1f77b4\"/>\n",
       "     <use xlink:href=\"#md88cf1252a\" x=\"122.39095\" y=\"78.277225\" style=\"fill: #1f77b4; stroke: #1f77b4\"/>\n",
       "     <use xlink:href=\"#md88cf1252a\" x=\"102.741672\" y=\"68.209643\" style=\"fill: #1f77b4; stroke: #1f77b4\"/>\n",
       "     <use xlink:href=\"#md88cf1252a\" x=\"116.652799\" y=\"75.597543\" style=\"fill: #1f77b4; stroke: #1f77b4\"/>\n",
       "     <use xlink:href=\"#md88cf1252a\" x=\"109.893085\" y=\"74.984556\" style=\"fill: #1f77b4; stroke: #1f77b4\"/>\n",
       "     <use xlink:href=\"#md88cf1252a\" x=\"145.520018\" y=\"84.699465\" style=\"fill: #1f77b4; stroke: #1f77b4\"/>\n",
       "     <use xlink:href=\"#md88cf1252a\" x=\"143.464337\" y=\"96.150904\" style=\"fill: #1f77b4; stroke: #1f77b4\"/>\n",
       "     <use xlink:href=\"#md88cf1252a\" x=\"90.147831\" y=\"55.74313\" style=\"fill: #1f77b4; stroke: #1f77b4\"/>\n",
       "     <use xlink:href=\"#md88cf1252a\" x=\"95.157942\" y=\"78.476956\" style=\"fill: #1f77b4; stroke: #1f77b4\"/>\n",
       "     <use xlink:href=\"#md88cf1252a\" x=\"144.437651\" y=\"89.892916\" style=\"fill: #1f77b4; stroke: #1f77b4\"/>\n",
       "     <use xlink:href=\"#md88cf1252a\" x=\"162.706949\" y=\"105.36304\" style=\"fill: #1f77b4; stroke: #1f77b4\"/>\n",
       "     <use xlink:href=\"#md88cf1252a\" x=\"177.147902\" y=\"110.025271\" style=\"fill: #1f77b4; stroke: #1f77b4\"/>\n",
       "     <use xlink:href=\"#md88cf1252a\" x=\"110.381126\" y=\"85.543456\" style=\"fill: #1f77b4; stroke: #1f77b4\"/>\n",
       "     <use xlink:href=\"#md88cf1252a\" x=\"84.337821\" y=\"70.998184\" style=\"fill: #1f77b4; stroke: #1f77b4\"/>\n",
       "     <use xlink:href=\"#md88cf1252a\" x=\"141.684309\" y=\"86.061761\" style=\"fill: #1f77b4; stroke: #1f77b4\"/>\n",
       "     <use xlink:href=\"#md88cf1252a\" x=\"164.736638\" y=\"104.223542\" style=\"fill: #1f77b4; stroke: #1f77b4\"/>\n",
       "     <use xlink:href=\"#md88cf1252a\" x=\"114.63711\" y=\"78.78908\" style=\"fill: #1f77b4; stroke: #1f77b4\"/>\n",
       "     <use xlink:href=\"#md88cf1252a\" x=\"88.968706\" y=\"58.508559\" style=\"fill: #1f77b4; stroke: #1f77b4\"/>\n",
       "     <use xlink:href=\"#md88cf1252a\" x=\"109.458072\" y=\"75.231623\" style=\"fill: #1f77b4; stroke: #1f77b4\"/>\n",
       "     <use xlink:href=\"#md88cf1252a\" x=\"170.638375\" y=\"110.206925\" style=\"fill: #1f77b4; stroke: #1f77b4\"/>\n",
       "     <use xlink:href=\"#md88cf1252a\" x=\"95.664576\" y=\"75.322442\" style=\"fill: #1f77b4; stroke: #1f77b4\"/>\n",
       "     <use xlink:href=\"#md88cf1252a\" x=\"132.300286\" y=\"87.31993\" style=\"fill: #1f77b4; stroke: #1f77b4\"/>\n",
       "     <use xlink:href=\"#md88cf1252a\" x=\"89.61233\" y=\"41.014362\" style=\"fill: #1f77b4; stroke: #1f77b4\"/>\n",
       "     <use xlink:href=\"#md88cf1252a\" x=\"117.700615\" y=\"67.326998\" style=\"fill: #1f77b4; stroke: #1f77b4\"/>\n",
       "     <use xlink:href=\"#md88cf1252a\" x=\"122.15752\" y=\"75.829888\" style=\"fill: #1f77b4; stroke: #1f77b4\"/>\n",
       "     <use xlink:href=\"#md88cf1252a\" x=\"137.112357\" y=\"81.616024\" style=\"fill: #1f77b4; stroke: #1f77b4\"/>\n",
       "     <use xlink:href=\"#md88cf1252a\" x=\"127.660571\" y=\"63.350753\" style=\"fill: #1f77b4; stroke: #1f77b4\"/>\n",
       "     <use xlink:href=\"#md88cf1252a\" x=\"139.493709\" y=\"71.942699\" style=\"fill: #1f77b4; stroke: #1f77b4\"/>\n",
       "     <use xlink:href=\"#md88cf1252a\" x=\"189.982712\" y=\"113.496016\" style=\"fill: #1f77b4; stroke: #1f77b4\"/>\n",
       "     <use xlink:href=\"#md88cf1252a\" x=\"139.111655\" y=\"99.578654\" style=\"fill: #1f77b4; stroke: #1f77b4\"/>\n",
       "     <use xlink:href=\"#md88cf1252a\" x=\"149.461583\" y=\"88.512248\" style=\"fill: #1f77b4; stroke: #1f77b4\"/>\n",
       "     <use xlink:href=\"#md88cf1252a\" x=\"131.068067\" y=\"76.336374\" style=\"fill: #1f77b4; stroke: #1f77b4\"/>\n",
       "     <use xlink:href=\"#md88cf1252a\" x=\"116.502002\" y=\"61.45845\" style=\"fill: #1f77b4; stroke: #1f77b4\"/>\n",
       "     <use xlink:href=\"#md88cf1252a\" x=\"149.411478\" y=\"80.921003\" style=\"fill: #1f77b4; stroke: #1f77b4\"/>\n",
       "     <use xlink:href=\"#md88cf1252a\" x=\"155.843583\" y=\"95.414278\" style=\"fill: #1f77b4; stroke: #1f77b4\"/>\n",
       "     <use xlink:href=\"#md88cf1252a\" x=\"146.087201\" y=\"98.01447\" style=\"fill: #1f77b4; stroke: #1f77b4\"/>\n",
       "     <use xlink:href=\"#md88cf1252a\" x=\"133.267854\" y=\"90.08924\" style=\"fill: #1f77b4; stroke: #1f77b4\"/>\n",
       "     <use xlink:href=\"#md88cf1252a\" x=\"116.084202\" y=\"72.533872\" style=\"fill: #1f77b4; stroke: #1f77b4\"/>\n",
       "     <use xlink:href=\"#md88cf1252a\" x=\"142.667187\" y=\"79.150394\" style=\"fill: #1f77b4; stroke: #1f77b4\"/>\n",
       "     <use xlink:href=\"#md88cf1252a\" x=\"135.084118\" y=\"91.752274\" style=\"fill: #1f77b4; stroke: #1f77b4\"/>\n",
       "     <use xlink:href=\"#md88cf1252a\" x=\"168.532701\" y=\"84.128803\" style=\"fill: #1f77b4; stroke: #1f77b4\"/>\n",
       "     <use xlink:href=\"#md88cf1252a\" x=\"136.22767\" y=\"81.072201\" style=\"fill: #1f77b4; stroke: #1f77b4\"/>\n",
       "     <use xlink:href=\"#md88cf1252a\" x=\"140.140354\" y=\"88.564572\" style=\"fill: #1f77b4; stroke: #1f77b4\"/>\n",
       "     <use xlink:href=\"#md88cf1252a\" x=\"200.716862\" y=\"126.237157\" style=\"fill: #1f77b4; stroke: #1f77b4\"/>\n",
       "     <use xlink:href=\"#md88cf1252a\" x=\"103.987889\" y=\"49.293581\" style=\"fill: #1f77b4; stroke: #1f77b4\"/>\n",
       "     <use xlink:href=\"#md88cf1252a\" x=\"152.806113\" y=\"85.692705\" style=\"fill: #1f77b4; stroke: #1f77b4\"/>\n",
       "     <use xlink:href=\"#md88cf1252a\" x=\"171.585957\" y=\"111.404681\" style=\"fill: #1f77b4; stroke: #1f77b4\"/>\n",
       "     <use xlink:href=\"#md88cf1252a\" x=\"126.082585\" y=\"92.19647\" style=\"fill: #1f77b4; stroke: #1f77b4\"/>\n",
       "     <use xlink:href=\"#md88cf1252a\" x=\"100.874453\" y=\"79.055738\" style=\"fill: #1f77b4; stroke: #1f77b4\"/>\n",
       "     <use xlink:href=\"#md88cf1252a\" x=\"175.731699\" y=\"100.9595\" style=\"fill: #1f77b4; stroke: #1f77b4\"/>\n",
       "     <use xlink:href=\"#md88cf1252a\" x=\"132.501923\" y=\"76.8815\" style=\"fill: #1f77b4; stroke: #1f77b4\"/>\n",
       "     <use xlink:href=\"#md88cf1252a\" x=\"138.89022\" y=\"79.874238\" style=\"fill: #1f77b4; stroke: #1f77b4\"/>\n",
       "     <use xlink:href=\"#md88cf1252a\" x=\"114.671147\" y=\"65.008285\" style=\"fill: #1f77b4; stroke: #1f77b4\"/>\n",
       "     <use xlink:href=\"#md88cf1252a\" x=\"170.423005\" y=\"111.059575\" style=\"fill: #1f77b4; stroke: #1f77b4\"/>\n",
       "     <use xlink:href=\"#md88cf1252a\" x=\"105.241469\" y=\"77.269539\" style=\"fill: #1f77b4; stroke: #1f77b4\"/>\n",
       "     <use xlink:href=\"#md88cf1252a\" x=\"108.149731\" y=\"70.20823\" style=\"fill: #1f77b4; stroke: #1f77b4\"/>\n",
       "     <use xlink:href=\"#md88cf1252a\" x=\"102.063118\" y=\"62.547981\" style=\"fill: #1f77b4; stroke: #1f77b4\"/>\n",
       "     <use xlink:href=\"#md88cf1252a\" x=\"180.945163\" y=\"113.813177\" style=\"fill: #1f77b4; stroke: #1f77b4\"/>\n",
       "     <use xlink:href=\"#md88cf1252a\" x=\"112.819169\" y=\"77.691572\" style=\"fill: #1f77b4; stroke: #1f77b4\"/>\n",
       "     <use xlink:href=\"#md88cf1252a\" x=\"155.329078\" y=\"108.571069\" style=\"fill: #1f77b4; stroke: #1f77b4\"/>\n",
       "     <use xlink:href=\"#md88cf1252a\" x=\"100.376815\" y=\"66.31853\" style=\"fill: #1f77b4; stroke: #1f77b4\"/>\n",
       "     <use xlink:href=\"#md88cf1252a\" x=\"144.170216\" y=\"87.303251\" style=\"fill: #1f77b4; stroke: #1f77b4\"/>\n",
       "     <use xlink:href=\"#md88cf1252a\" x=\"131.50548\" y=\"87.639552\" style=\"fill: #1f77b4; stroke: #1f77b4\"/>\n",
       "     <use xlink:href=\"#md88cf1252a\" x=\"132.423468\" y=\"82.850707\" style=\"fill: #1f77b4; stroke: #1f77b4\"/>\n",
       "     <use xlink:href=\"#md88cf1252a\" x=\"142.117354\" y=\"78.10845\" style=\"fill: #1f77b4; stroke: #1f77b4\"/>\n",
       "     <use xlink:href=\"#md88cf1252a\" x=\"136.503715\" y=\"88.360858\" style=\"fill: #1f77b4; stroke: #1f77b4\"/>\n",
       "     <use xlink:href=\"#md88cf1252a\" x=\"197.090139\" y=\"107.243398\" style=\"fill: #1f77b4; stroke: #1f77b4\"/>\n",
       "     <use xlink:href=\"#md88cf1252a\" x=\"133.691923\" y=\"79.3349\" style=\"fill: #1f77b4; stroke: #1f77b4\"/>\n",
       "     <use xlink:href=\"#md88cf1252a\" x=\"161.043975\" y=\"104.821301\" style=\"fill: #1f77b4; stroke: #1f77b4\"/>\n",
       "     <use xlink:href=\"#md88cf1252a\" x=\"184.479332\" y=\"119.370328\" style=\"fill: #1f77b4; stroke: #1f77b4\"/>\n",
       "     <use xlink:href=\"#md88cf1252a\" x=\"141.258787\" y=\"77.927313\" style=\"fill: #1f77b4; stroke: #1f77b4\"/>\n",
       "     <use xlink:href=\"#md88cf1252a\" x=\"140.340407\" y=\"102.611204\" style=\"fill: #1f77b4; stroke: #1f77b4\"/>\n",
       "     <use xlink:href=\"#md88cf1252a\" x=\"106.415125\" y=\"48.907016\" style=\"fill: #1f77b4; stroke: #1f77b4\"/>\n",
       "     <use xlink:href=\"#md88cf1252a\" x=\"141.217083\" y=\"85.192487\" style=\"fill: #1f77b4; stroke: #1f77b4\"/>\n",
       "     <use xlink:href=\"#md88cf1252a\" x=\"146.377754\" y=\"91.662693\" style=\"fill: #1f77b4; stroke: #1f77b4\"/>\n",
       "     <use xlink:href=\"#md88cf1252a\" x=\"143.010401\" y=\"94.57285\" style=\"fill: #1f77b4; stroke: #1f77b4\"/>\n",
       "     <use xlink:href=\"#md88cf1252a\" x=\"117.618972\" y=\"78.700818\" style=\"fill: #1f77b4; stroke: #1f77b4\"/>\n",
       "     <use xlink:href=\"#md88cf1252a\" x=\"108.90935\" y=\"70.017711\" style=\"fill: #1f77b4; stroke: #1f77b4\"/>\n",
       "     <use xlink:href=\"#md88cf1252a\" x=\"138.884786\" y=\"82.997611\" style=\"fill: #1f77b4; stroke: #1f77b4\"/>\n",
       "     <use xlink:href=\"#md88cf1252a\" x=\"107.128675\" y=\"77.677614\" style=\"fill: #1f77b4; stroke: #1f77b4\"/>\n",
       "     <use xlink:href=\"#md88cf1252a\" x=\"130.865169\" y=\"91.416947\" style=\"fill: #1f77b4; stroke: #1f77b4\"/>\n",
       "     <use xlink:href=\"#md88cf1252a\" x=\"105.210818\" y=\"61.929899\" style=\"fill: #1f77b4; stroke: #1f77b4\"/>\n",
       "     <use xlink:href=\"#md88cf1252a\" x=\"131.478903\" y=\"79.299829\" style=\"fill: #1f77b4; stroke: #1f77b4\"/>\n",
       "     <use xlink:href=\"#md88cf1252a\" x=\"97.966895\" y=\"66.354428\" style=\"fill: #1f77b4; stroke: #1f77b4\"/>\n",
       "     <use xlink:href=\"#md88cf1252a\" x=\"182.240218\" y=\"122.99418\" style=\"fill: #1f77b4; stroke: #1f77b4\"/>\n",
       "     <use xlink:href=\"#md88cf1252a\" x=\"140.100052\" y=\"65.494047\" style=\"fill: #1f77b4; stroke: #1f77b4\"/>\n",
       "     <use xlink:href=\"#md88cf1252a\" x=\"132.137403\" y=\"91.053389\" style=\"fill: #1f77b4; stroke: #1f77b4\"/>\n",
       "     <use xlink:href=\"#md88cf1252a\" x=\"132.68358\" y=\"100.932601\" style=\"fill: #1f77b4; stroke: #1f77b4\"/>\n",
       "     <use xlink:href=\"#md88cf1252a\" x=\"162.759195\" y=\"93.578807\" style=\"fill: #1f77b4; stroke: #1f77b4\"/>\n",
       "     <use xlink:href=\"#md88cf1252a\" x=\"112.064196\" y=\"64.052\" style=\"fill: #1f77b4; stroke: #1f77b4\"/>\n",
       "     <use xlink:href=\"#md88cf1252a\" x=\"136.385214\" y=\"97.908445\" style=\"fill: #1f77b4; stroke: #1f77b4\"/>\n",
       "     <use xlink:href=\"#md88cf1252a\" x=\"157.890334\" y=\"101.350665\" style=\"fill: #1f77b4; stroke: #1f77b4\"/>\n",
       "     <use xlink:href=\"#md88cf1252a\" x=\"139.916999\" y=\"88.210328\" style=\"fill: #1f77b4; stroke: #1f77b4\"/>\n",
       "     <use xlink:href=\"#md88cf1252a\" x=\"134.829346\" y=\"70.891538\" style=\"fill: #1f77b4; stroke: #1f77b4\"/>\n",
       "     <use xlink:href=\"#md88cf1252a\" x=\"132.495557\" y=\"73.557443\" style=\"fill: #1f77b4; stroke: #1f77b4\"/>\n",
       "     <use xlink:href=\"#md88cf1252a\" x=\"194.462211\" y=\"115.366969\" style=\"fill: #1f77b4; stroke: #1f77b4\"/>\n",
       "     <use xlink:href=\"#md88cf1252a\" x=\"120.811436\" y=\"63.567817\" style=\"fill: #1f77b4; stroke: #1f77b4\"/>\n",
       "     <use xlink:href=\"#md88cf1252a\" x=\"145.108763\" y=\"89.430861\" style=\"fill: #1f77b4; stroke: #1f77b4\"/>\n",
       "     <use xlink:href=\"#md88cf1252a\" x=\"99.231117\" y=\"57.323415\" style=\"fill: #1f77b4; stroke: #1f77b4\"/>\n",
       "     <use xlink:href=\"#md88cf1252a\" x=\"135.094419\" y=\"104.675184\" style=\"fill: #1f77b4; stroke: #1f77b4\"/>\n",
       "     <use xlink:href=\"#md88cf1252a\" x=\"170.929067\" y=\"115.675469\" style=\"fill: #1f77b4; stroke: #1f77b4\"/>\n",
       "     <use xlink:href=\"#md88cf1252a\" x=\"145.443103\" y=\"95.721567\" style=\"fill: #1f77b4; stroke: #1f77b4\"/>\n",
       "     <use xlink:href=\"#md88cf1252a\" x=\"106.838869\" y=\"83.070514\" style=\"fill: #1f77b4; stroke: #1f77b4\"/>\n",
       "     <use xlink:href=\"#md88cf1252a\" x=\"156.982192\" y=\"95.424883\" style=\"fill: #1f77b4; stroke: #1f77b4\"/>\n",
       "     <use xlink:href=\"#md88cf1252a\" x=\"119.922052\" y=\"90.069871\" style=\"fill: #1f77b4; stroke: #1f77b4\"/>\n",
       "     <use xlink:href=\"#md88cf1252a\" x=\"178.540005\" y=\"125.4298\" style=\"fill: #1f77b4; stroke: #1f77b4\"/>\n",
       "     <use xlink:href=\"#md88cf1252a\" x=\"162.393101\" y=\"115.882692\" style=\"fill: #1f77b4; stroke: #1f77b4\"/>\n",
       "     <use xlink:href=\"#md88cf1252a\" x=\"154.082028\" y=\"105.37182\" style=\"fill: #1f77b4; stroke: #1f77b4\"/>\n",
       "     <use xlink:href=\"#md88cf1252a\" x=\"124.962103\" y=\"90.077294\" style=\"fill: #1f77b4; stroke: #1f77b4\"/>\n",
       "     <use xlink:href=\"#md88cf1252a\" x=\"97.60107\" y=\"55.461718\" style=\"fill: #1f77b4; stroke: #1f77b4\"/>\n",
       "     <use xlink:href=\"#md88cf1252a\" x=\"97.008577\" y=\"57.056573\" style=\"fill: #1f77b4; stroke: #1f77b4\"/>\n",
       "     <use xlink:href=\"#md88cf1252a\" x=\"130.448161\" y=\"85.75855\" style=\"fill: #1f77b4; stroke: #1f77b4\"/>\n",
       "     <use xlink:href=\"#md88cf1252a\" x=\"167.561834\" y=\"80.671025\" style=\"fill: #1f77b4; stroke: #1f77b4\"/>\n",
       "     <use xlink:href=\"#md88cf1252a\" x=\"94.184668\" y=\"75.502457\" style=\"fill: #1f77b4; stroke: #1f77b4\"/>\n",
       "     <use xlink:href=\"#md88cf1252a\" x=\"156.415946\" y=\"106.643635\" style=\"fill: #1f77b4; stroke: #1f77b4\"/>\n",
       "     <use xlink:href=\"#md88cf1252a\" x=\"129.543377\" y=\"89.782413\" style=\"fill: #1f77b4; stroke: #1f77b4\"/>\n",
       "     <use xlink:href=\"#md88cf1252a\" x=\"134.122056\" y=\"93.922845\" style=\"fill: #1f77b4; stroke: #1f77b4\"/>\n",
       "     <use xlink:href=\"#md88cf1252a\" x=\"184.653828\" y=\"133.906885\" style=\"fill: #1f77b4; stroke: #1f77b4\"/>\n",
       "     <use xlink:href=\"#md88cf1252a\" x=\"142.881667\" y=\"79.568794\" style=\"fill: #1f77b4; stroke: #1f77b4\"/>\n",
       "     <use xlink:href=\"#md88cf1252a\" x=\"106.715258\" y=\"69.280395\" style=\"fill: #1f77b4; stroke: #1f77b4\"/>\n",
       "     <use xlink:href=\"#md88cf1252a\" x=\"139.618741\" y=\"94.781754\" style=\"fill: #1f77b4; stroke: #1f77b4\"/>\n",
       "     <use xlink:href=\"#md88cf1252a\" x=\"128.114828\" y=\"85.901012\" style=\"fill: #1f77b4; stroke: #1f77b4\"/>\n",
       "     <use xlink:href=\"#md88cf1252a\" x=\"137.852931\" y=\"87.091823\" style=\"fill: #1f77b4; stroke: #1f77b4\"/>\n",
       "     <use xlink:href=\"#md88cf1252a\" x=\"123.78762\" y=\"83.078433\" style=\"fill: #1f77b4; stroke: #1f77b4\"/>\n",
       "     <use xlink:href=\"#md88cf1252a\" x=\"196.417148\" y=\"112.930963\" style=\"fill: #1f77b4; stroke: #1f77b4\"/>\n",
       "     <use xlink:href=\"#md88cf1252a\" x=\"140.672867\" y=\"97.396488\" style=\"fill: #1f77b4; stroke: #1f77b4\"/>\n",
       "     <use xlink:href=\"#md88cf1252a\" x=\"158.443837\" y=\"104.682725\" style=\"fill: #1f77b4; stroke: #1f77b4\"/>\n",
       "     <use xlink:href=\"#md88cf1252a\" x=\"161.964649\" y=\"105.260905\" style=\"fill: #1f77b4; stroke: #1f77b4\"/>\n",
       "     <use xlink:href=\"#md88cf1252a\" x=\"175.808029\" y=\"100.704154\" style=\"fill: #1f77b4; stroke: #1f77b4\"/>\n",
       "     <use xlink:href=\"#md88cf1252a\" x=\"104.451699\" y=\"66.65687\" style=\"fill: #1f77b4; stroke: #1f77b4\"/>\n",
       "     <use xlink:href=\"#md88cf1252a\" x=\"169.888898\" y=\"115.214597\" style=\"fill: #1f77b4; stroke: #1f77b4\"/>\n",
       "     <use xlink:href=\"#md88cf1252a\" x=\"145.810812\" y=\"99.868043\" style=\"fill: #1f77b4; stroke: #1f77b4\"/>\n",
       "     <use xlink:href=\"#md88cf1252a\" x=\"86.234289\" y=\"57.846678\" style=\"fill: #1f77b4; stroke: #1f77b4\"/>\n",
       "     <use xlink:href=\"#md88cf1252a\" x=\"122.873807\" y=\"79.874497\" style=\"fill: #1f77b4; stroke: #1f77b4\"/>\n",
       "     <use xlink:href=\"#md88cf1252a\" x=\"123.363734\" y=\"86.384553\" style=\"fill: #1f77b4; stroke: #1f77b4\"/>\n",
       "     <use xlink:href=\"#md88cf1252a\" x=\"115.078254\" y=\"70.202338\" style=\"fill: #1f77b4; stroke: #1f77b4\"/>\n",
       "     <use xlink:href=\"#md88cf1252a\" x=\"88.292819\" y=\"63.227595\" style=\"fill: #1f77b4; stroke: #1f77b4\"/>\n",
       "     <use xlink:href=\"#md88cf1252a\" x=\"155.409276\" y=\"104.772414\" style=\"fill: #1f77b4; stroke: #1f77b4\"/>\n",
       "     <use xlink:href=\"#md88cf1252a\" x=\"162.072084\" y=\"101.159878\" style=\"fill: #1f77b4; stroke: #1f77b4\"/>\n",
       "     <use xlink:href=\"#md88cf1252a\" x=\"129.912822\" y=\"77.553546\" style=\"fill: #1f77b4; stroke: #1f77b4\"/>\n",
       "     <use xlink:href=\"#md88cf1252a\" x=\"131.301175\" y=\"101.842732\" style=\"fill: #1f77b4; stroke: #1f77b4\"/>\n",
       "     <use xlink:href=\"#md88cf1252a\" x=\"114.609608\" y=\"82.585987\" style=\"fill: #1f77b4; stroke: #1f77b4\"/>\n",
       "     <use xlink:href=\"#md88cf1252a\" x=\"113.355983\" y=\"79.952408\" style=\"fill: #1f77b4; stroke: #1f77b4\"/>\n",
       "     <use xlink:href=\"#md88cf1252a\" x=\"144.707826\" y=\"90.841552\" style=\"fill: #1f77b4; stroke: #1f77b4\"/>\n",
       "     <use xlink:href=\"#md88cf1252a\" x=\"121.261303\" y=\"76.174823\" style=\"fill: #1f77b4; stroke: #1f77b4\"/>\n",
       "     <use xlink:href=\"#md88cf1252a\" x=\"159.761736\" y=\"117.895887\" style=\"fill: #1f77b4; stroke: #1f77b4\"/>\n",
       "     <use xlink:href=\"#md88cf1252a\" x=\"143.165021\" y=\"87.542652\" style=\"fill: #1f77b4; stroke: #1f77b4\"/>\n",
       "     <use xlink:href=\"#md88cf1252a\" x=\"149.087669\" y=\"83.471554\" style=\"fill: #1f77b4; stroke: #1f77b4\"/>\n",
       "     <use xlink:href=\"#md88cf1252a\" x=\"113.009463\" y=\"67.918192\" style=\"fill: #1f77b4; stroke: #1f77b4\"/>\n",
       "     <use xlink:href=\"#md88cf1252a\" x=\"122.945516\" y=\"71.597456\" style=\"fill: #1f77b4; stroke: #1f77b4\"/>\n",
       "     <use xlink:href=\"#md88cf1252a\" x=\"172.162695\" y=\"115.925872\" style=\"fill: #1f77b4; stroke: #1f77b4\"/>\n",
       "     <use xlink:href=\"#md88cf1252a\" x=\"156.282085\" y=\"91.378084\" style=\"fill: #1f77b4; stroke: #1f77b4\"/>\n",
       "     <use xlink:href=\"#md88cf1252a\" x=\"189.80657\" y=\"124.204632\" style=\"fill: #1f77b4; stroke: #1f77b4\"/>\n",
       "     <use xlink:href=\"#md88cf1252a\" x=\"126.212533\" y=\"94.488835\" style=\"fill: #1f77b4; stroke: #1f77b4\"/>\n",
       "     <use xlink:href=\"#md88cf1252a\" x=\"163.582962\" y=\"117.985483\" style=\"fill: #1f77b4; stroke: #1f77b4\"/>\n",
       "     <use xlink:href=\"#md88cf1252a\" x=\"152.676085\" y=\"101.871765\" style=\"fill: #1f77b4; stroke: #1f77b4\"/>\n",
       "     <use xlink:href=\"#md88cf1252a\" x=\"101.157788\" y=\"57.210389\" style=\"fill: #1f77b4; stroke: #1f77b4\"/>\n",
       "     <use xlink:href=\"#md88cf1252a\" x=\"160.833692\" y=\"98.934644\" style=\"fill: #1f77b4; stroke: #1f77b4\"/>\n",
       "     <use xlink:href=\"#md88cf1252a\" x=\"134.207088\" y=\"75.735969\" style=\"fill: #1f77b4; stroke: #1f77b4\"/>\n",
       "     <use xlink:href=\"#md88cf1252a\" x=\"138.660774\" y=\"89.632934\" style=\"fill: #1f77b4; stroke: #1f77b4\"/>\n",
       "     <use xlink:href=\"#md88cf1252a\" x=\"121.918224\" y=\"63.099087\" style=\"fill: #1f77b4; stroke: #1f77b4\"/>\n",
       "     <use xlink:href=\"#md88cf1252a\" x=\"149.977001\" y=\"74.893551\" style=\"fill: #1f77b4; stroke: #1f77b4\"/>\n",
       "     <use xlink:href=\"#md88cf1252a\" x=\"125.836919\" y=\"77.723948\" style=\"fill: #1f77b4; stroke: #1f77b4\"/>\n",
       "     <use xlink:href=\"#md88cf1252a\" x=\"87.494645\" y=\"80.988282\" style=\"fill: #1f77b4; stroke: #1f77b4\"/>\n",
       "     <use xlink:href=\"#md88cf1252a\" x=\"123.552249\" y=\"92.810343\" style=\"fill: #1f77b4; stroke: #1f77b4\"/>\n",
       "     <use xlink:href=\"#md88cf1252a\" x=\"140.774806\" y=\"92.414845\" style=\"fill: #1f77b4; stroke: #1f77b4\"/>\n",
       "     <use xlink:href=\"#md88cf1252a\" x=\"160.508168\" y=\"97.814225\" style=\"fill: #1f77b4; stroke: #1f77b4\"/>\n",
       "     <use xlink:href=\"#md88cf1252a\" x=\"122.704344\" y=\"90.90732\" style=\"fill: #1f77b4; stroke: #1f77b4\"/>\n",
       "     <use xlink:href=\"#md88cf1252a\" x=\"69.991006\" y=\"52.581395\" style=\"fill: #1f77b4; stroke: #1f77b4\"/>\n",
       "     <use xlink:href=\"#md88cf1252a\" x=\"130.985688\" y=\"78.37638\" style=\"fill: #1f77b4; stroke: #1f77b4\"/>\n",
       "     <use xlink:href=\"#md88cf1252a\" x=\"129.629016\" y=\"92.68454\" style=\"fill: #1f77b4; stroke: #1f77b4\"/>\n",
       "     <use xlink:href=\"#md88cf1252a\" x=\"104.140114\" y=\"59.973668\" style=\"fill: #1f77b4; stroke: #1f77b4\"/>\n",
       "     <use xlink:href=\"#md88cf1252a\" x=\"116.643568\" y=\"76.865324\" style=\"fill: #1f77b4; stroke: #1f77b4\"/>\n",
       "     <use xlink:href=\"#md88cf1252a\" x=\"125.408328\" y=\"92.217332\" style=\"fill: #1f77b4; stroke: #1f77b4\"/>\n",
       "     <use xlink:href=\"#md88cf1252a\" x=\"149.002187\" y=\"99.764216\" style=\"fill: #1f77b4; stroke: #1f77b4\"/>\n",
       "     <use xlink:href=\"#md88cf1252a\" x=\"135.781974\" y=\"93.867739\" style=\"fill: #1f77b4; stroke: #1f77b4\"/>\n",
       "     <use xlink:href=\"#md88cf1252a\" x=\"92.635301\" y=\"61.010058\" style=\"fill: #1f77b4; stroke: #1f77b4\"/>\n",
       "     <use xlink:href=\"#md88cf1252a\" x=\"141.448924\" y=\"86.38692\" style=\"fill: #1f77b4; stroke: #1f77b4\"/>\n",
       "     <use xlink:href=\"#md88cf1252a\" x=\"157.532369\" y=\"87.521133\" style=\"fill: #1f77b4; stroke: #1f77b4\"/>\n",
       "     <use xlink:href=\"#md88cf1252a\" x=\"127.149797\" y=\"73.148522\" style=\"fill: #1f77b4; stroke: #1f77b4\"/>\n",
       "     <use xlink:href=\"#md88cf1252a\" x=\"153.838611\" y=\"83.292633\" style=\"fill: #1f77b4; stroke: #1f77b4\"/>\n",
       "     <use xlink:href=\"#md88cf1252a\" x=\"122.189789\" y=\"56.886734\" style=\"fill: #1f77b4; stroke: #1f77b4\"/>\n",
       "     <use xlink:href=\"#md88cf1252a\" x=\"101.111925\" y=\"56.026166\" style=\"fill: #1f77b4; stroke: #1f77b4\"/>\n",
       "     <use xlink:href=\"#md88cf1252a\" x=\"98.42057\" y=\"69.172938\" style=\"fill: #1f77b4; stroke: #1f77b4\"/>\n",
       "     <use xlink:href=\"#md88cf1252a\" x=\"86.823037\" y=\"71.399307\" style=\"fill: #1f77b4; stroke: #1f77b4\"/>\n",
       "     <use xlink:href=\"#md88cf1252a\" x=\"151.734321\" y=\"91.939549\" style=\"fill: #1f77b4; stroke: #1f77b4\"/>\n",
       "     <use xlink:href=\"#md88cf1252a\" x=\"158.770823\" y=\"110.4258\" style=\"fill: #1f77b4; stroke: #1f77b4\"/>\n",
       "     <use xlink:href=\"#md88cf1252a\" x=\"125.614126\" y=\"89.34045\" style=\"fill: #1f77b4; stroke: #1f77b4\"/>\n",
       "     <use xlink:href=\"#md88cf1252a\" x=\"107.191321\" y=\"49.965568\" style=\"fill: #1f77b4; stroke: #1f77b4\"/>\n",
       "     <use xlink:href=\"#md88cf1252a\" x=\"99.29055\" y=\"67.08025\" style=\"fill: #1f77b4; stroke: #1f77b4\"/>\n",
       "     <use xlink:href=\"#md88cf1252a\" x=\"171.122963\" y=\"106.804157\" style=\"fill: #1f77b4; stroke: #1f77b4\"/>\n",
       "     <use xlink:href=\"#md88cf1252a\" x=\"109.16324\" y=\"64.251822\" style=\"fill: #1f77b4; stroke: #1f77b4\"/>\n",
       "     <use xlink:href=\"#md88cf1252a\" x=\"94.203765\" y=\"61.674851\" style=\"fill: #1f77b4; stroke: #1f77b4\"/>\n",
       "     <use xlink:href=\"#md88cf1252a\" x=\"113.091115\" y=\"74.830603\" style=\"fill: #1f77b4; stroke: #1f77b4\"/>\n",
       "     <use xlink:href=\"#md88cf1252a\" x=\"122.947026\" y=\"56.078234\" style=\"fill: #1f77b4; stroke: #1f77b4\"/>\n",
       "     <use xlink:href=\"#md88cf1252a\" x=\"121.205464\" y=\"73.469579\" style=\"fill: #1f77b4; stroke: #1f77b4\"/>\n",
       "     <use xlink:href=\"#md88cf1252a\" x=\"155.529372\" y=\"98.79741\" style=\"fill: #1f77b4; stroke: #1f77b4\"/>\n",
       "     <use xlink:href=\"#md88cf1252a\" x=\"157.465082\" y=\"102.998947\" style=\"fill: #1f77b4; stroke: #1f77b4\"/>\n",
       "     <use xlink:href=\"#md88cf1252a\" x=\"180.640627\" y=\"119.626823\" style=\"fill: #1f77b4; stroke: #1f77b4\"/>\n",
       "     <use xlink:href=\"#md88cf1252a\" x=\"116.877071\" y=\"80.456137\" style=\"fill: #1f77b4; stroke: #1f77b4\"/>\n",
       "     <use xlink:href=\"#md88cf1252a\" x=\"126.976424\" y=\"68.502036\" style=\"fill: #1f77b4; stroke: #1f77b4\"/>\n",
       "     <use xlink:href=\"#md88cf1252a\" x=\"105.103953\" y=\"74.644236\" style=\"fill: #1f77b4; stroke: #1f77b4\"/>\n",
       "     <use xlink:href=\"#md88cf1252a\" x=\"116.185317\" y=\"95.070564\" style=\"fill: #1f77b4; stroke: #1f77b4\"/>\n",
       "     <use xlink:href=\"#md88cf1252a\" x=\"75.059526\" y=\"51.15005\" style=\"fill: #1f77b4; stroke: #1f77b4\"/>\n",
       "     <use xlink:href=\"#md88cf1252a\" x=\"171.787447\" y=\"118.136077\" style=\"fill: #1f77b4; stroke: #1f77b4\"/>\n",
       "     <use xlink:href=\"#md88cf1252a\" x=\"152.488707\" y=\"98.924156\" style=\"fill: #1f77b4; stroke: #1f77b4\"/>\n",
       "     <use xlink:href=\"#md88cf1252a\" x=\"174.057873\" y=\"121.382897\" style=\"fill: #1f77b4; stroke: #1f77b4\"/>\n",
       "     <use xlink:href=\"#md88cf1252a\" x=\"105.070263\" y=\"66.42942\" style=\"fill: #1f77b4; stroke: #1f77b4\"/>\n",
       "     <use xlink:href=\"#md88cf1252a\" x=\"134.7734\" y=\"82.294693\" style=\"fill: #1f77b4; stroke: #1f77b4\"/>\n",
       "     <use xlink:href=\"#md88cf1252a\" x=\"87.855152\" y=\"57.866314\" style=\"fill: #1f77b4; stroke: #1f77b4\"/>\n",
       "     <use xlink:href=\"#md88cf1252a\" x=\"131.261941\" y=\"84.409488\" style=\"fill: #1f77b4; stroke: #1f77b4\"/>\n",
       "     <use xlink:href=\"#md88cf1252a\" x=\"148.472335\" y=\"106.954269\" style=\"fill: #1f77b4; stroke: #1f77b4\"/>\n",
       "     <use xlink:href=\"#md88cf1252a\" x=\"103.973625\" y=\"65.491442\" style=\"fill: #1f77b4; stroke: #1f77b4\"/>\n",
       "     <use xlink:href=\"#md88cf1252a\" x=\"136.725432\" y=\"84.232395\" style=\"fill: #1f77b4; stroke: #1f77b4\"/>\n",
       "     <use xlink:href=\"#md88cf1252a\" x=\"141.182898\" y=\"84.778567\" style=\"fill: #1f77b4; stroke: #1f77b4\"/>\n",
       "     <use xlink:href=\"#md88cf1252a\" x=\"127.626342\" y=\"94.383988\" style=\"fill: #1f77b4; stroke: #1f77b4\"/>\n",
       "     <use xlink:href=\"#md88cf1252a\" x=\"144.053952\" y=\"91.692427\" style=\"fill: #1f77b4; stroke: #1f77b4\"/>\n",
       "     <use xlink:href=\"#md88cf1252a\" x=\"103.518439\" y=\"59.861138\" style=\"fill: #1f77b4; stroke: #1f77b4\"/>\n",
       "     <use xlink:href=\"#md88cf1252a\" x=\"157.523355\" y=\"98.750757\" style=\"fill: #1f77b4; stroke: #1f77b4\"/>\n",
       "     <use xlink:href=\"#md88cf1252a\" x=\"121.962087\" y=\"67.823084\" style=\"fill: #1f77b4; stroke: #1f77b4\"/>\n",
       "     <use xlink:href=\"#md88cf1252a\" x=\"192.187425\" y=\"112.343598\" style=\"fill: #1f77b4; stroke: #1f77b4\"/>\n",
       "     <use xlink:href=\"#md88cf1252a\" x=\"149.078645\" y=\"87.105681\" style=\"fill: #1f77b4; stroke: #1f77b4\"/>\n",
       "     <use xlink:href=\"#md88cf1252a\" x=\"116.610228\" y=\"74.933076\" style=\"fill: #1f77b4; stroke: #1f77b4\"/>\n",
       "     <use xlink:href=\"#md88cf1252a\" x=\"153.487045\" y=\"111.907465\" style=\"fill: #1f77b4; stroke: #1f77b4\"/>\n",
       "     <use xlink:href=\"#md88cf1252a\" x=\"127.04575\" y=\"81.15369\" style=\"fill: #1f77b4; stroke: #1f77b4\"/>\n",
       "     <use xlink:href=\"#md88cf1252a\" x=\"123.987174\" y=\"83.676775\" style=\"fill: #1f77b4; stroke: #1f77b4\"/>\n",
       "     <use xlink:href=\"#md88cf1252a\" x=\"128.311296\" y=\"79.701318\" style=\"fill: #1f77b4; stroke: #1f77b4\"/>\n",
       "     <use xlink:href=\"#md88cf1252a\" x=\"186.599487\" y=\"112.705539\" style=\"fill: #1f77b4; stroke: #1f77b4\"/>\n",
       "     <use xlink:href=\"#md88cf1252a\" x=\"89.879833\" y=\"48.919762\" style=\"fill: #1f77b4; stroke: #1f77b4\"/>\n",
       "     <use xlink:href=\"#md88cf1252a\" x=\"132.874895\" y=\"85.927349\" style=\"fill: #1f77b4; stroke: #1f77b4\"/>\n",
       "     <use xlink:href=\"#md88cf1252a\" x=\"106.232976\" y=\"64.531893\" style=\"fill: #1f77b4; stroke: #1f77b4\"/>\n",
       "     <use xlink:href=\"#md88cf1252a\" x=\"185.689271\" y=\"122.695401\" style=\"fill: #1f77b4; stroke: #1f77b4\"/>\n",
       "     <use xlink:href=\"#md88cf1252a\" x=\"105.353977\" y=\"59.004838\" style=\"fill: #1f77b4; stroke: #1f77b4\"/>\n",
       "     <use xlink:href=\"#md88cf1252a\" x=\"145.781984\" y=\"96.196628\" style=\"fill: #1f77b4; stroke: #1f77b4\"/>\n",
       "     <use xlink:href=\"#md88cf1252a\" x=\"135.877621\" y=\"92.006262\" style=\"fill: #1f77b4; stroke: #1f77b4\"/>\n",
       "     <use xlink:href=\"#md88cf1252a\" x=\"136.688401\" y=\"84.296631\" style=\"fill: #1f77b4; stroke: #1f77b4\"/>\n",
       "     <use xlink:href=\"#md88cf1252a\" x=\"114.861789\" y=\"81.880423\" style=\"fill: #1f77b4; stroke: #1f77b4\"/>\n",
       "     <use xlink:href=\"#md88cf1252a\" x=\"130.896236\" y=\"71.425413\" style=\"fill: #1f77b4; stroke: #1f77b4\"/>\n",
       "     <use xlink:href=\"#md88cf1252a\" x=\"184.588507\" y=\"102.68886\" style=\"fill: #1f77b4; stroke: #1f77b4\"/>\n",
       "     <use xlink:href=\"#md88cf1252a\" x=\"159.848411\" y=\"94.809788\" style=\"fill: #1f77b4; stroke: #1f77b4\"/>\n",
       "     <use xlink:href=\"#md88cf1252a\" x=\"129.806978\" y=\"92.010297\" style=\"fill: #1f77b4; stroke: #1f77b4\"/>\n",
       "     <use xlink:href=\"#md88cf1252a\" x=\"106.406131\" y=\"74.084399\" style=\"fill: #1f77b4; stroke: #1f77b4\"/>\n",
       "     <use xlink:href=\"#md88cf1252a\" x=\"113.8645\" y=\"81.45863\" style=\"fill: #1f77b4; stroke: #1f77b4\"/>\n",
       "     <use xlink:href=\"#md88cf1252a\" x=\"91.748517\" y=\"61.109394\" style=\"fill: #1f77b4; stroke: #1f77b4\"/>\n",
       "     <use xlink:href=\"#md88cf1252a\" x=\"170.13715\" y=\"103.438841\" style=\"fill: #1f77b4; stroke: #1f77b4\"/>\n",
       "     <use xlink:href=\"#md88cf1252a\" x=\"190.520291\" y=\"108.863113\" style=\"fill: #1f77b4; stroke: #1f77b4\"/>\n",
       "     <use xlink:href=\"#md88cf1252a\" x=\"146.935747\" y=\"104.160521\" style=\"fill: #1f77b4; stroke: #1f77b4\"/>\n",
       "     <use xlink:href=\"#md88cf1252a\" x=\"173.445131\" y=\"113.859399\" style=\"fill: #1f77b4; stroke: #1f77b4\"/>\n",
       "     <use xlink:href=\"#md88cf1252a\" x=\"120.107419\" y=\"59.290984\" style=\"fill: #1f77b4; stroke: #1f77b4\"/>\n",
       "     <use xlink:href=\"#md88cf1252a\" x=\"163.101692\" y=\"111.752845\" style=\"fill: #1f77b4; stroke: #1f77b4\"/>\n",
       "     <use xlink:href=\"#md88cf1252a\" x=\"145.576061\" y=\"90.160872\" style=\"fill: #1f77b4; stroke: #1f77b4\"/>\n",
       "     <use xlink:href=\"#md88cf1252a\" x=\"125.44594\" y=\"89.425371\" style=\"fill: #1f77b4; stroke: #1f77b4\"/>\n",
       "     <use xlink:href=\"#md88cf1252a\" x=\"148.425767\" y=\"97.820815\" style=\"fill: #1f77b4; stroke: #1f77b4\"/>\n",
       "     <use xlink:href=\"#md88cf1252a\" x=\"143.460456\" y=\"76.221399\" style=\"fill: #1f77b4; stroke: #1f77b4\"/>\n",
       "     <use xlink:href=\"#md88cf1252a\" x=\"139.88134\" y=\"89.046137\" style=\"fill: #1f77b4; stroke: #1f77b4\"/>\n",
       "     <use xlink:href=\"#md88cf1252a\" x=\"81.899883\" y=\"40.009684\" style=\"fill: #1f77b4; stroke: #1f77b4\"/>\n",
       "     <use xlink:href=\"#md88cf1252a\" x=\"144.290701\" y=\"104.49574\" style=\"fill: #1f77b4; stroke: #1f77b4\"/>\n",
       "     <use xlink:href=\"#md88cf1252a\" x=\"166.70814\" y=\"92.733244\" style=\"fill: #1f77b4; stroke: #1f77b4\"/>\n",
       "     <use xlink:href=\"#md88cf1252a\" x=\"128.154126\" y=\"80.378318\" style=\"fill: #1f77b4; stroke: #1f77b4\"/>\n",
       "     <use xlink:href=\"#md88cf1252a\" x=\"126.921356\" y=\"69.315074\" style=\"fill: #1f77b4; stroke: #1f77b4\"/>\n",
       "     <use xlink:href=\"#md88cf1252a\" x=\"109.524181\" y=\"87.72358\" style=\"fill: #1f77b4; stroke: #1f77b4\"/>\n",
       "     <use xlink:href=\"#md88cf1252a\" x=\"138.041856\" y=\"91.42833\" style=\"fill: #1f77b4; stroke: #1f77b4\"/>\n",
       "     <use xlink:href=\"#md88cf1252a\" x=\"100.043136\" y=\"58.718702\" style=\"fill: #1f77b4; stroke: #1f77b4\"/>\n",
       "     <use xlink:href=\"#md88cf1252a\" x=\"153.782111\" y=\"101.263082\" style=\"fill: #1f77b4; stroke: #1f77b4\"/>\n",
       "     <use xlink:href=\"#md88cf1252a\" x=\"108.792179\" y=\"65.262061\" style=\"fill: #1f77b4; stroke: #1f77b4\"/>\n",
       "     <use xlink:href=\"#md88cf1252a\" x=\"119.280987\" y=\"92.100484\" style=\"fill: #1f77b4; stroke: #1f77b4\"/>\n",
       "     <use xlink:href=\"#md88cf1252a\" x=\"166.297571\" y=\"119.361981\" style=\"fill: #1f77b4; stroke: #1f77b4\"/>\n",
       "     <use xlink:href=\"#md88cf1252a\" x=\"93.80002\" y=\"52.490989\" style=\"fill: #1f77b4; stroke: #1f77b4\"/>\n",
       "     <use xlink:href=\"#md88cf1252a\" x=\"122.642303\" y=\"84.348576\" style=\"fill: #1f77b4; stroke: #1f77b4\"/>\n",
       "     <use xlink:href=\"#md88cf1252a\" x=\"130.113027\" y=\"74.338614\" style=\"fill: #1f77b4; stroke: #1f77b4\"/>\n",
       "     <use xlink:href=\"#md88cf1252a\" x=\"121.327079\" y=\"81.003238\" style=\"fill: #1f77b4; stroke: #1f77b4\"/>\n",
       "     <use xlink:href=\"#md88cf1252a\" x=\"134.551125\" y=\"67.259101\" style=\"fill: #1f77b4; stroke: #1f77b4\"/>\n",
       "     <use xlink:href=\"#md88cf1252a\" x=\"143.910397\" y=\"106.04913\" style=\"fill: #1f77b4; stroke: #1f77b4\"/>\n",
       "     <use xlink:href=\"#md88cf1252a\" x=\"120.58315\" y=\"68.794177\" style=\"fill: #1f77b4; stroke: #1f77b4\"/>\n",
       "     <use xlink:href=\"#md88cf1252a\" x=\"87.779095\" y=\"47.591604\" style=\"fill: #1f77b4; stroke: #1f77b4\"/>\n",
       "     <use xlink:href=\"#md88cf1252a\" x=\"160.562458\" y=\"96.628178\" style=\"fill: #1f77b4; stroke: #1f77b4\"/>\n",
       "     <use xlink:href=\"#md88cf1252a\" x=\"149.064625\" y=\"97.75146\" style=\"fill: #1f77b4; stroke: #1f77b4\"/>\n",
       "     <use xlink:href=\"#md88cf1252a\" x=\"143.62078\" y=\"92.180445\" style=\"fill: #1f77b4; stroke: #1f77b4\"/>\n",
       "     <use xlink:href=\"#md88cf1252a\" x=\"83.588487\" y=\"39.184854\" style=\"fill: #1f77b4; stroke: #1f77b4\"/>\n",
       "     <use xlink:href=\"#md88cf1252a\" x=\"124.136261\" y=\"79.83293\" style=\"fill: #1f77b4; stroke: #1f77b4\"/>\n",
       "     <use xlink:href=\"#md88cf1252a\" x=\"176.866864\" y=\"116.241094\" style=\"fill: #1f77b4; stroke: #1f77b4\"/>\n",
       "     <use xlink:href=\"#md88cf1252a\" x=\"148.803906\" y=\"95.879411\" style=\"fill: #1f77b4; stroke: #1f77b4\"/>\n",
       "     <use xlink:href=\"#md88cf1252a\" x=\"119.581707\" y=\"71.815904\" style=\"fill: #1f77b4; stroke: #1f77b4\"/>\n",
       "     <use xlink:href=\"#md88cf1252a\" x=\"139.570439\" y=\"94.319033\" style=\"fill: #1f77b4; stroke: #1f77b4\"/>\n",
       "     <use xlink:href=\"#md88cf1252a\" x=\"140.592038\" y=\"80.912922\" style=\"fill: #1f77b4; stroke: #1f77b4\"/>\n",
       "     <use xlink:href=\"#md88cf1252a\" x=\"113.86792\" y=\"81.001082\" style=\"fill: #1f77b4; stroke: #1f77b4\"/>\n",
       "     <use xlink:href=\"#md88cf1252a\" x=\"165.758643\" y=\"103.498633\" style=\"fill: #1f77b4; stroke: #1f77b4\"/>\n",
       "     <use xlink:href=\"#md88cf1252a\" x=\"153.51384\" y=\"108.423371\" style=\"fill: #1f77b4; stroke: #1f77b4\"/>\n",
       "     <use xlink:href=\"#md88cf1252a\" x=\"144.145048\" y=\"93.010495\" style=\"fill: #1f77b4; stroke: #1f77b4\"/>\n",
       "     <use xlink:href=\"#md88cf1252a\" x=\"105.160716\" y=\"54.502256\" style=\"fill: #1f77b4; stroke: #1f77b4\"/>\n",
       "     <use xlink:href=\"#md88cf1252a\" x=\"183.615837\" y=\"130.224624\" style=\"fill: #1f77b4; stroke: #1f77b4\"/>\n",
       "     <use xlink:href=\"#md88cf1252a\" x=\"157.518314\" y=\"95.036952\" style=\"fill: #1f77b4; stroke: #1f77b4\"/>\n",
       "     <use xlink:href=\"#md88cf1252a\" x=\"162.387735\" y=\"96.032619\" style=\"fill: #1f77b4; stroke: #1f77b4\"/>\n",
       "     <use xlink:href=\"#md88cf1252a\" x=\"81.549715\" y=\"47.275335\" style=\"fill: #1f77b4; stroke: #1f77b4\"/>\n",
       "     <use xlink:href=\"#md88cf1252a\" x=\"118.607226\" y=\"77.840261\" style=\"fill: #1f77b4; stroke: #1f77b4\"/>\n",
       "     <use xlink:href=\"#md88cf1252a\" x=\"145.760611\" y=\"103.023863\" style=\"fill: #1f77b4; stroke: #1f77b4\"/>\n",
       "     <use xlink:href=\"#md88cf1252a\" x=\"139.945201\" y=\"89.726231\" style=\"fill: #1f77b4; stroke: #1f77b4\"/>\n",
       "     <use xlink:href=\"#md88cf1252a\" x=\"144.701556\" y=\"101.442919\" style=\"fill: #1f77b4; stroke: #1f77b4\"/>\n",
       "     <use xlink:href=\"#md88cf1252a\" x=\"113.6405\" y=\"81.803865\" style=\"fill: #1f77b4; stroke: #1f77b4\"/>\n",
       "     <use xlink:href=\"#md88cf1252a\" x=\"100.649026\" y=\"59.344775\" style=\"fill: #1f77b4; stroke: #1f77b4\"/>\n",
       "     <use xlink:href=\"#md88cf1252a\" x=\"134.831185\" y=\"75.644341\" style=\"fill: #1f77b4; stroke: #1f77b4\"/>\n",
       "     <use xlink:href=\"#md88cf1252a\" x=\"80.363794\" y=\"48.585229\" style=\"fill: #1f77b4; stroke: #1f77b4\"/>\n",
       "     <use xlink:href=\"#md88cf1252a\" x=\"150.916459\" y=\"94.901067\" style=\"fill: #1f77b4; stroke: #1f77b4\"/>\n",
       "     <use xlink:href=\"#md88cf1252a\" x=\"96.1614\" y=\"67.896407\" style=\"fill: #1f77b4; stroke: #1f77b4\"/>\n",
       "     <use xlink:href=\"#md88cf1252a\" x=\"126.235771\" y=\"78.214559\" style=\"fill: #1f77b4; stroke: #1f77b4\"/>\n",
       "     <use xlink:href=\"#md88cf1252a\" x=\"149.911505\" y=\"93.312574\" style=\"fill: #1f77b4; stroke: #1f77b4\"/>\n",
       "     <use xlink:href=\"#md88cf1252a\" x=\"118.728699\" y=\"61.007812\" style=\"fill: #1f77b4; stroke: #1f77b4\"/>\n",
       "     <use xlink:href=\"#md88cf1252a\" x=\"178.696862\" y=\"117.365369\" style=\"fill: #1f77b4; stroke: #1f77b4\"/>\n",
       "     <use xlink:href=\"#md88cf1252a\" x=\"156.405571\" y=\"85.917212\" style=\"fill: #1f77b4; stroke: #1f77b4\"/>\n",
       "     <use xlink:href=\"#md88cf1252a\" x=\"137.062645\" y=\"79.141627\" style=\"fill: #1f77b4; stroke: #1f77b4\"/>\n",
       "     <use xlink:href=\"#md88cf1252a\" x=\"124.711145\" y=\"77.691386\" style=\"fill: #1f77b4; stroke: #1f77b4\"/>\n",
       "     <use xlink:href=\"#md88cf1252a\" x=\"163.429658\" y=\"99.120001\" style=\"fill: #1f77b4; stroke: #1f77b4\"/>\n",
       "     <use xlink:href=\"#md88cf1252a\" x=\"119.957306\" y=\"62.86136\" style=\"fill: #1f77b4; stroke: #1f77b4\"/>\n",
       "     <use xlink:href=\"#md88cf1252a\" x=\"92.746091\" y=\"60.99036\" style=\"fill: #1f77b4; stroke: #1f77b4\"/>\n",
       "     <use xlink:href=\"#md88cf1252a\" x=\"87.533353\" y=\"56.530016\" style=\"fill: #1f77b4; stroke: #1f77b4\"/>\n",
       "     <use xlink:href=\"#md88cf1252a\" x=\"153.558825\" y=\"104.646414\" style=\"fill: #1f77b4; stroke: #1f77b4\"/>\n",
       "     <use xlink:href=\"#md88cf1252a\" x=\"153.264177\" y=\"98.715108\" style=\"fill: #1f77b4; stroke: #1f77b4\"/>\n",
       "     <use xlink:href=\"#md88cf1252a\" x=\"93.823077\" y=\"68.038499\" style=\"fill: #1f77b4; stroke: #1f77b4\"/>\n",
       "     <use xlink:href=\"#md88cf1252a\" x=\"187.132671\" y=\"121.906675\" style=\"fill: #1f77b4; stroke: #1f77b4\"/>\n",
       "     <use xlink:href=\"#md88cf1252a\" x=\"169.146594\" y=\"94.714392\" style=\"fill: #1f77b4; stroke: #1f77b4\"/>\n",
       "     <use xlink:href=\"#md88cf1252a\" x=\"189.002373\" y=\"112.412063\" style=\"fill: #1f77b4; stroke: #1f77b4\"/>\n",
       "     <use xlink:href=\"#md88cf1252a\" x=\"132.209695\" y=\"76.892441\" style=\"fill: #1f77b4; stroke: #1f77b4\"/>\n",
       "     <use xlink:href=\"#md88cf1252a\" x=\"131.704026\" y=\"81.617054\" style=\"fill: #1f77b4; stroke: #1f77b4\"/>\n",
       "     <use xlink:href=\"#md88cf1252a\" x=\"158.470337\" y=\"95.08716\" style=\"fill: #1f77b4; stroke: #1f77b4\"/>\n",
       "     <use xlink:href=\"#md88cf1252a\" x=\"74.319968\" y=\"40.632845\" style=\"fill: #1f77b4; stroke: #1f77b4\"/>\n",
       "     <use xlink:href=\"#md88cf1252a\" x=\"161.978125\" y=\"113.271283\" style=\"fill: #1f77b4; stroke: #1f77b4\"/>\n",
       "     <use xlink:href=\"#md88cf1252a\" x=\"147.948292\" y=\"101.499944\" style=\"fill: #1f77b4; stroke: #1f77b4\"/>\n",
       "     <use xlink:href=\"#md88cf1252a\" x=\"129.74146\" y=\"83.98765\" style=\"fill: #1f77b4; stroke: #1f77b4\"/>\n",
       "     <use xlink:href=\"#md88cf1252a\" x=\"107.239867\" y=\"84.367974\" style=\"fill: #1f77b4; stroke: #1f77b4\"/>\n",
       "     <use xlink:href=\"#md88cf1252a\" x=\"174.758159\" y=\"99.257817\" style=\"fill: #1f77b4; stroke: #1f77b4\"/>\n",
       "     <use xlink:href=\"#md88cf1252a\" x=\"154.604183\" y=\"110.692846\" style=\"fill: #1f77b4; stroke: #1f77b4\"/>\n",
       "     <use xlink:href=\"#md88cf1252a\" x=\"158.045958\" y=\"106.650255\" style=\"fill: #1f77b4; stroke: #1f77b4\"/>\n",
       "     <use xlink:href=\"#md88cf1252a\" x=\"139.198862\" y=\"93.227497\" style=\"fill: #1f77b4; stroke: #1f77b4\"/>\n",
       "     <use xlink:href=\"#md88cf1252a\" x=\"96.573477\" y=\"81.773364\" style=\"fill: #1f77b4; stroke: #1f77b4\"/>\n",
       "     <use xlink:href=\"#md88cf1252a\" x=\"119.418604\" y=\"87.415182\" style=\"fill: #1f77b4; stroke: #1f77b4\"/>\n",
       "     <use xlink:href=\"#md88cf1252a\" x=\"151.565167\" y=\"103.933392\" style=\"fill: #1f77b4; stroke: #1f77b4\"/>\n",
       "     <use xlink:href=\"#md88cf1252a\" x=\"118.297405\" y=\"75.267291\" style=\"fill: #1f77b4; stroke: #1f77b4\"/>\n",
       "     <use xlink:href=\"#md88cf1252a\" x=\"95.858329\" y=\"76.385014\" style=\"fill: #1f77b4; stroke: #1f77b4\"/>\n",
       "     <use xlink:href=\"#md88cf1252a\" x=\"137.172505\" y=\"79.817283\" style=\"fill: #1f77b4; stroke: #1f77b4\"/>\n",
       "     <use xlink:href=\"#md88cf1252a\" x=\"89.600961\" y=\"61.868165\" style=\"fill: #1f77b4; stroke: #1f77b4\"/>\n",
       "     <use xlink:href=\"#md88cf1252a\" x=\"152.58702\" y=\"101.414992\" style=\"fill: #1f77b4; stroke: #1f77b4\"/>\n",
       "     <use xlink:href=\"#md88cf1252a\" x=\"82.709501\" y=\"66.474171\" style=\"fill: #1f77b4; stroke: #1f77b4\"/>\n",
       "     <use xlink:href=\"#md88cf1252a\" x=\"139.272808\" y=\"80.827147\" style=\"fill: #1f77b4; stroke: #1f77b4\"/>\n",
       "     <use xlink:href=\"#md88cf1252a\" x=\"157.050795\" y=\"105.071095\" style=\"fill: #1f77b4; stroke: #1f77b4\"/>\n",
       "     <use xlink:href=\"#md88cf1252a\" x=\"128.801582\" y=\"97.524911\" style=\"fill: #1f77b4; stroke: #1f77b4\"/>\n",
       "     <use xlink:href=\"#md88cf1252a\" x=\"213.347727\" y=\"139.946013\" style=\"fill: #1f77b4; stroke: #1f77b4\"/>\n",
       "     <use xlink:href=\"#md88cf1252a\" x=\"164.241169\" y=\"113.678179\" style=\"fill: #1f77b4; stroke: #1f77b4\"/>\n",
       "     <use xlink:href=\"#md88cf1252a\" x=\"66.218974\" y=\"30.295637\" style=\"fill: #1f77b4; stroke: #1f77b4\"/>\n",
       "     <use xlink:href=\"#md88cf1252a\" x=\"160.746065\" y=\"109.792923\" style=\"fill: #1f77b4; stroke: #1f77b4\"/>\n",
       "     <use xlink:href=\"#md88cf1252a\" x=\"148.023745\" y=\"91.326294\" style=\"fill: #1f77b4; stroke: #1f77b4\"/>\n",
       "     <use xlink:href=\"#md88cf1252a\" x=\"99.066194\" y=\"74.528056\" style=\"fill: #1f77b4; stroke: #1f77b4\"/>\n",
       "     <use xlink:href=\"#md88cf1252a\" x=\"60.373746\" y=\"24.210486\" style=\"fill: #1f77b4; stroke: #1f77b4\"/>\n",
       "     <use xlink:href=\"#md88cf1252a\" x=\"152.923547\" y=\"89.228451\" style=\"fill: #1f77b4; stroke: #1f77b4\"/>\n",
       "     <use xlink:href=\"#md88cf1252a\" x=\"123.460453\" y=\"82.131073\" style=\"fill: #1f77b4; stroke: #1f77b4\"/>\n",
       "     <use xlink:href=\"#md88cf1252a\" x=\"129.897108\" y=\"100.178835\" style=\"fill: #1f77b4; stroke: #1f77b4\"/>\n",
       "     <use xlink:href=\"#md88cf1252a\" x=\"146.633789\" y=\"101.924429\" style=\"fill: #1f77b4; stroke: #1f77b4\"/>\n",
       "     <use xlink:href=\"#md88cf1252a\" x=\"99.034281\" y=\"63.829427\" style=\"fill: #1f77b4; stroke: #1f77b4\"/>\n",
       "     <use xlink:href=\"#md88cf1252a\" x=\"188.352839\" y=\"136.258407\" style=\"fill: #1f77b4; stroke: #1f77b4\"/>\n",
       "     <use xlink:href=\"#md88cf1252a\" x=\"142.670898\" y=\"100.654\" style=\"fill: #1f77b4; stroke: #1f77b4\"/>\n",
       "     <use xlink:href=\"#md88cf1252a\" x=\"116.872\" y=\"76.480789\" style=\"fill: #1f77b4; stroke: #1f77b4\"/>\n",
       "     <use xlink:href=\"#md88cf1252a\" x=\"110.068824\" y=\"76.233369\" style=\"fill: #1f77b4; stroke: #1f77b4\"/>\n",
       "     <use xlink:href=\"#md88cf1252a\" x=\"106.134267\" y=\"73.438075\" style=\"fill: #1f77b4; stroke: #1f77b4\"/>\n",
       "     <use xlink:href=\"#md88cf1252a\" x=\"137.715501\" y=\"98.671561\" style=\"fill: #1f77b4; stroke: #1f77b4\"/>\n",
       "     <use xlink:href=\"#md88cf1252a\" x=\"151.322347\" y=\"95.187122\" style=\"fill: #1f77b4; stroke: #1f77b4\"/>\n",
       "     <use xlink:href=\"#md88cf1252a\" x=\"128.769059\" y=\"80.659387\" style=\"fill: #1f77b4; stroke: #1f77b4\"/>\n",
       "     <use xlink:href=\"#md88cf1252a\" x=\"115.422276\" y=\"61.622508\" style=\"fill: #1f77b4; stroke: #1f77b4\"/>\n",
       "     <use xlink:href=\"#md88cf1252a\" x=\"102.832122\" y=\"65.959413\" style=\"fill: #1f77b4; stroke: #1f77b4\"/>\n",
       "     <use xlink:href=\"#md88cf1252a\" x=\"105.739458\" y=\"74.796425\" style=\"fill: #1f77b4; stroke: #1f77b4\"/>\n",
       "     <use xlink:href=\"#md88cf1252a\" x=\"112.675642\" y=\"100.614394\" style=\"fill: #1f77b4; stroke: #1f77b4\"/>\n",
       "     <use xlink:href=\"#md88cf1252a\" x=\"106.252678\" y=\"68.372692\" style=\"fill: #1f77b4; stroke: #1f77b4\"/>\n",
       "     <use xlink:href=\"#md88cf1252a\" x=\"134.271738\" y=\"79.835123\" style=\"fill: #1f77b4; stroke: #1f77b4\"/>\n",
       "     <use xlink:href=\"#md88cf1252a\" x=\"143.746618\" y=\"96.466537\" style=\"fill: #1f77b4; stroke: #1f77b4\"/>\n",
       "     <use xlink:href=\"#md88cf1252a\" x=\"81.121711\" y=\"43.972784\" style=\"fill: #1f77b4; stroke: #1f77b4\"/>\n",
       "     <use xlink:href=\"#md88cf1252a\" x=\"170.874132\" y=\"98.829202\" style=\"fill: #1f77b4; stroke: #1f77b4\"/>\n",
       "     <use xlink:href=\"#md88cf1252a\" x=\"95.75461\" y=\"49.104724\" style=\"fill: #1f77b4; stroke: #1f77b4\"/>\n",
       "     <use xlink:href=\"#md88cf1252a\" x=\"136.866053\" y=\"94.93505\" style=\"fill: #1f77b4; stroke: #1f77b4\"/>\n",
       "     <use xlink:href=\"#md88cf1252a\" x=\"145.618551\" y=\"84.718516\" style=\"fill: #1f77b4; stroke: #1f77b4\"/>\n",
       "     <use xlink:href=\"#md88cf1252a\" x=\"149.270839\" y=\"98.255128\" style=\"fill: #1f77b4; stroke: #1f77b4\"/>\n",
       "     <use xlink:href=\"#md88cf1252a\" x=\"120.647684\" y=\"90.651022\" style=\"fill: #1f77b4; stroke: #1f77b4\"/>\n",
       "     <use xlink:href=\"#md88cf1252a\" x=\"160.869896\" y=\"112.750602\" style=\"fill: #1f77b4; stroke: #1f77b4\"/>\n",
       "     <use xlink:href=\"#md88cf1252a\" x=\"135.325851\" y=\"85.669948\" style=\"fill: #1f77b4; stroke: #1f77b4\"/>\n",
       "     <use xlink:href=\"#md88cf1252a\" x=\"140.517508\" y=\"106.563377\" style=\"fill: #1f77b4; stroke: #1f77b4\"/>\n",
       "     <use xlink:href=\"#md88cf1252a\" x=\"162.515582\" y=\"85.033385\" style=\"fill: #1f77b4; stroke: #1f77b4\"/>\n",
       "     <use xlink:href=\"#md88cf1252a\" x=\"155.768549\" y=\"99.929523\" style=\"fill: #1f77b4; stroke: #1f77b4\"/>\n",
       "     <use xlink:href=\"#md88cf1252a\" x=\"120.823499\" y=\"73.543239\" style=\"fill: #1f77b4; stroke: #1f77b4\"/>\n",
       "     <use xlink:href=\"#md88cf1252a\" x=\"150.813387\" y=\"106.212976\" style=\"fill: #1f77b4; stroke: #1f77b4\"/>\n",
       "     <use xlink:href=\"#md88cf1252a\" x=\"132.085676\" y=\"84.491449\" style=\"fill: #1f77b4; stroke: #1f77b4\"/>\n",
       "     <use xlink:href=\"#md88cf1252a\" x=\"111.882878\" y=\"78.752399\" style=\"fill: #1f77b4; stroke: #1f77b4\"/>\n",
       "     <use xlink:href=\"#md88cf1252a\" x=\"153.122547\" y=\"97.409025\" style=\"fill: #1f77b4; stroke: #1f77b4\"/>\n",
       "     <use xlink:href=\"#md88cf1252a\" x=\"166.983794\" y=\"112.187587\" style=\"fill: #1f77b4; stroke: #1f77b4\"/>\n",
       "     <use xlink:href=\"#md88cf1252a\" x=\"189.838929\" y=\"115.174804\" style=\"fill: #1f77b4; stroke: #1f77b4\"/>\n",
       "     <use xlink:href=\"#md88cf1252a\" x=\"97.642542\" y=\"68.938671\" style=\"fill: #1f77b4; stroke: #1f77b4\"/>\n",
       "     <use xlink:href=\"#md88cf1252a\" x=\"127.704082\" y=\"83.430954\" style=\"fill: #1f77b4; stroke: #1f77b4\"/>\n",
       "     <use xlink:href=\"#md88cf1252a\" x=\"159.314152\" y=\"125.468191\" style=\"fill: #1f77b4; stroke: #1f77b4\"/>\n",
       "     <use xlink:href=\"#md88cf1252a\" x=\"150.386422\" y=\"92.162025\" style=\"fill: #1f77b4; stroke: #1f77b4\"/>\n",
       "     <use xlink:href=\"#md88cf1252a\" x=\"116.25842\" y=\"64.77951\" style=\"fill: #1f77b4; stroke: #1f77b4\"/>\n",
       "     <use xlink:href=\"#md88cf1252a\" x=\"122.427376\" y=\"63.004378\" style=\"fill: #1f77b4; stroke: #1f77b4\"/>\n",
       "     <use xlink:href=\"#md88cf1252a\" x=\"185.598865\" y=\"119.503012\" style=\"fill: #1f77b4; stroke: #1f77b4\"/>\n",
       "     <use xlink:href=\"#md88cf1252a\" x=\"125.779565\" y=\"85.776321\" style=\"fill: #1f77b4; stroke: #1f77b4\"/>\n",
       "     <use xlink:href=\"#md88cf1252a\" x=\"115.795802\" y=\"64.726965\" style=\"fill: #1f77b4; stroke: #1f77b4\"/>\n",
       "     <use xlink:href=\"#md88cf1252a\" x=\"141.644928\" y=\"93.900591\" style=\"fill: #1f77b4; stroke: #1f77b4\"/>\n",
       "     <use xlink:href=\"#md88cf1252a\" x=\"128.992009\" y=\"81.527738\" style=\"fill: #1f77b4; stroke: #1f77b4\"/>\n",
       "     <use xlink:href=\"#md88cf1252a\" x=\"126.501992\" y=\"66.544213\" style=\"fill: #1f77b4; stroke: #1f77b4\"/>\n",
       "     <use xlink:href=\"#md88cf1252a\" x=\"155.380743\" y=\"102.015347\" style=\"fill: #1f77b4; stroke: #1f77b4\"/>\n",
       "     <use xlink:href=\"#md88cf1252a\" x=\"147.419907\" y=\"107.660204\" style=\"fill: #1f77b4; stroke: #1f77b4\"/>\n",
       "     <use xlink:href=\"#md88cf1252a\" x=\"118.893952\" y=\"72.938256\" style=\"fill: #1f77b4; stroke: #1f77b4\"/>\n",
       "     <use xlink:href=\"#md88cf1252a\" x=\"144.55139\" y=\"99.4059\" style=\"fill: #1f77b4; stroke: #1f77b4\"/>\n",
       "     <use xlink:href=\"#md88cf1252a\" x=\"134.034744\" y=\"88.756383\" style=\"fill: #1f77b4; stroke: #1f77b4\"/>\n",
       "     <use xlink:href=\"#md88cf1252a\" x=\"110.46866\" y=\"80.237623\" style=\"fill: #1f77b4; stroke: #1f77b4\"/>\n",
       "     <use xlink:href=\"#md88cf1252a\" x=\"177.923955\" y=\"111.846461\" style=\"fill: #1f77b4; stroke: #1f77b4\"/>\n",
       "     <use xlink:href=\"#md88cf1252a\" x=\"138.859203\" y=\"98.296059\" style=\"fill: #1f77b4; stroke: #1f77b4\"/>\n",
       "     <use xlink:href=\"#md88cf1252a\" x=\"139.980578\" y=\"82.246979\" style=\"fill: #1f77b4; stroke: #1f77b4\"/>\n",
       "     <use xlink:href=\"#md88cf1252a\" x=\"135.679323\" y=\"79.156333\" style=\"fill: #1f77b4; stroke: #1f77b4\"/>\n",
       "     <use xlink:href=\"#md88cf1252a\" x=\"119.060832\" y=\"80.518784\" style=\"fill: #1f77b4; stroke: #1f77b4\"/>\n",
       "     <use xlink:href=\"#md88cf1252a\" x=\"94.711495\" y=\"61.226999\" style=\"fill: #1f77b4; stroke: #1f77b4\"/>\n",
       "     <use xlink:href=\"#md88cf1252a\" x=\"87.060616\" y=\"54.403986\" style=\"fill: #1f77b4; stroke: #1f77b4\"/>\n",
       "     <use xlink:href=\"#md88cf1252a\" x=\"123.197931\" y=\"80.297202\" style=\"fill: #1f77b4; stroke: #1f77b4\"/>\n",
       "     <use xlink:href=\"#md88cf1252a\" x=\"185.746021\" y=\"122.921737\" style=\"fill: #1f77b4; stroke: #1f77b4\"/>\n",
       "     <use xlink:href=\"#md88cf1252a\" x=\"130.874207\" y=\"88.797692\" style=\"fill: #1f77b4; stroke: #1f77b4\"/>\n",
       "     <use xlink:href=\"#md88cf1252a\" x=\"131.931766\" y=\"84.083767\" style=\"fill: #1f77b4; stroke: #1f77b4\"/>\n",
       "     <use xlink:href=\"#md88cf1252a\" x=\"141.003824\" y=\"93.385602\" style=\"fill: #1f77b4; stroke: #1f77b4\"/>\n",
       "     <use xlink:href=\"#md88cf1252a\" x=\"124.47477\" y=\"84.223563\" style=\"fill: #1f77b4; stroke: #1f77b4\"/>\n",
       "     <use xlink:href=\"#md88cf1252a\" x=\"160.040457\" y=\"95.758901\" style=\"fill: #1f77b4; stroke: #1f77b4\"/>\n",
       "     <use xlink:href=\"#md88cf1252a\" x=\"151.986951\" y=\"92.425609\" style=\"fill: #1f77b4; stroke: #1f77b4\"/>\n",
       "     <use xlink:href=\"#md88cf1252a\" x=\"138.42622\" y=\"92.72658\" style=\"fill: #1f77b4; stroke: #1f77b4\"/>\n",
       "     <use xlink:href=\"#md88cf1252a\" x=\"111.986688\" y=\"84.881953\" style=\"fill: #1f77b4; stroke: #1f77b4\"/>\n",
       "     <use xlink:href=\"#md88cf1252a\" x=\"152.40161\" y=\"93.498179\" style=\"fill: #1f77b4; stroke: #1f77b4\"/>\n",
       "     <use xlink:href=\"#md88cf1252a\" x=\"126.516025\" y=\"75.608245\" style=\"fill: #1f77b4; stroke: #1f77b4\"/>\n",
       "     <use xlink:href=\"#md88cf1252a\" x=\"131.964375\" y=\"84.137464\" style=\"fill: #1f77b4; stroke: #1f77b4\"/>\n",
       "     <use xlink:href=\"#md88cf1252a\" x=\"112.453192\" y=\"73.181806\" style=\"fill: #1f77b4; stroke: #1f77b4\"/>\n",
       "     <use xlink:href=\"#md88cf1252a\" x=\"132.126462\" y=\"83.037726\" style=\"fill: #1f77b4; stroke: #1f77b4\"/>\n",
       "     <use xlink:href=\"#md88cf1252a\" x=\"132.260662\" y=\"85.519394\" style=\"fill: #1f77b4; stroke: #1f77b4\"/>\n",
       "     <use xlink:href=\"#md88cf1252a\" x=\"118.332091\" y=\"77.69734\" style=\"fill: #1f77b4; stroke: #1f77b4\"/>\n",
       "     <use xlink:href=\"#md88cf1252a\" x=\"115.965266\" y=\"83.858446\" style=\"fill: #1f77b4; stroke: #1f77b4\"/>\n",
       "     <use xlink:href=\"#md88cf1252a\" x=\"79.791795\" y=\"55.814413\" style=\"fill: #1f77b4; stroke: #1f77b4\"/>\n",
       "     <use xlink:href=\"#md88cf1252a\" x=\"138.99365\" y=\"67.728307\" style=\"fill: #1f77b4; stroke: #1f77b4\"/>\n",
       "     <use xlink:href=\"#md88cf1252a\" x=\"169.274056\" y=\"113.930186\" style=\"fill: #1f77b4; stroke: #1f77b4\"/>\n",
       "     <use xlink:href=\"#md88cf1252a\" x=\"119.769292\" y=\"65.281154\" style=\"fill: #1f77b4; stroke: #1f77b4\"/>\n",
       "     <use xlink:href=\"#md88cf1252a\" x=\"137.559022\" y=\"92.487619\" style=\"fill: #1f77b4; stroke: #1f77b4\"/>\n",
       "     <use xlink:href=\"#md88cf1252a\" x=\"101.471374\" y=\"47.694665\" style=\"fill: #1f77b4; stroke: #1f77b4\"/>\n",
       "     <use xlink:href=\"#md88cf1252a\" x=\"145.176491\" y=\"94.483255\" style=\"fill: #1f77b4; stroke: #1f77b4\"/>\n",
       "     <use xlink:href=\"#md88cf1252a\" x=\"155.398134\" y=\"94.509353\" style=\"fill: #1f77b4; stroke: #1f77b4\"/>\n",
       "     <use xlink:href=\"#md88cf1252a\" x=\"109.365784\" y=\"69.002544\" style=\"fill: #1f77b4; stroke: #1f77b4\"/>\n",
       "     <use xlink:href=\"#md88cf1252a\" x=\"142.253439\" y=\"104.670193\" style=\"fill: #1f77b4; stroke: #1f77b4\"/>\n",
       "     <use xlink:href=\"#md88cf1252a\" x=\"146.787826\" y=\"83.079815\" style=\"fill: #1f77b4; stroke: #1f77b4\"/>\n",
       "     <use xlink:href=\"#md88cf1252a\" x=\"97.445837\" y=\"57.676532\" style=\"fill: #1f77b4; stroke: #1f77b4\"/>\n",
       "     <use xlink:href=\"#md88cf1252a\" x=\"114.893019\" y=\"75.996238\" style=\"fill: #1f77b4; stroke: #1f77b4\"/>\n",
       "     <use xlink:href=\"#md88cf1252a\" x=\"189.644657\" y=\"114.932912\" style=\"fill: #1f77b4; stroke: #1f77b4\"/>\n",
       "     <use xlink:href=\"#md88cf1252a\" x=\"117.70142\" y=\"77.590766\" style=\"fill: #1f77b4; stroke: #1f77b4\"/>\n",
       "     <use xlink:href=\"#md88cf1252a\" x=\"161.774521\" y=\"107.521751\" style=\"fill: #1f77b4; stroke: #1f77b4\"/>\n",
       "     <use xlink:href=\"#md88cf1252a\" x=\"112.094243\" y=\"79.500605\" style=\"fill: #1f77b4; stroke: #1f77b4\"/>\n",
       "     <use xlink:href=\"#md88cf1252a\" x=\"158.772532\" y=\"105.19147\" style=\"fill: #1f77b4; stroke: #1f77b4\"/>\n",
       "     <use xlink:href=\"#md88cf1252a\" x=\"161.149891\" y=\"85.724933\" style=\"fill: #1f77b4; stroke: #1f77b4\"/>\n",
       "     <use xlink:href=\"#md88cf1252a\" x=\"179.223395\" y=\"107.412515\" style=\"fill: #1f77b4; stroke: #1f77b4\"/>\n",
       "     <use xlink:href=\"#md88cf1252a\" x=\"125.76224\" y=\"80.748221\" style=\"fill: #1f77b4; stroke: #1f77b4\"/>\n",
       "     <use xlink:href=\"#md88cf1252a\" x=\"112.588006\" y=\"74.619243\" style=\"fill: #1f77b4; stroke: #1f77b4\"/>\n",
       "     <use xlink:href=\"#md88cf1252a\" x=\"149.753615\" y=\"82.677085\" style=\"fill: #1f77b4; stroke: #1f77b4\"/>\n",
       "     <use xlink:href=\"#md88cf1252a\" x=\"118.817283\" y=\"90.063913\" style=\"fill: #1f77b4; stroke: #1f77b4\"/>\n",
       "     <use xlink:href=\"#md88cf1252a\" x=\"127.323321\" y=\"94.37961\" style=\"fill: #1f77b4; stroke: #1f77b4\"/>\n",
       "     <use xlink:href=\"#md88cf1252a\" x=\"114.591949\" y=\"93.579635\" style=\"fill: #1f77b4; stroke: #1f77b4\"/>\n",
       "     <use xlink:href=\"#md88cf1252a\" x=\"145.098115\" y=\"88.967012\" style=\"fill: #1f77b4; stroke: #1f77b4\"/>\n",
       "     <use xlink:href=\"#md88cf1252a\" x=\"125.056955\" y=\"95.333295\" style=\"fill: #1f77b4; stroke: #1f77b4\"/>\n",
       "     <use xlink:href=\"#md88cf1252a\" x=\"150.601709\" y=\"96.072476\" style=\"fill: #1f77b4; stroke: #1f77b4\"/>\n",
       "     <use xlink:href=\"#md88cf1252a\" x=\"138.175177\" y=\"92.281362\" style=\"fill: #1f77b4; stroke: #1f77b4\"/>\n",
       "     <use xlink:href=\"#md88cf1252a\" x=\"149.221102\" y=\"95.31724\" style=\"fill: #1f77b4; stroke: #1f77b4\"/>\n",
       "     <use xlink:href=\"#md88cf1252a\" x=\"117.226693\" y=\"75.867102\" style=\"fill: #1f77b4; stroke: #1f77b4\"/>\n",
       "     <use xlink:href=\"#md88cf1252a\" x=\"149.585273\" y=\"95.021986\" style=\"fill: #1f77b4; stroke: #1f77b4\"/>\n",
       "     <use xlink:href=\"#md88cf1252a\" x=\"124.603283\" y=\"66.857158\" style=\"fill: #1f77b4; stroke: #1f77b4\"/>\n",
       "     <use xlink:href=\"#md88cf1252a\" x=\"147.076702\" y=\"102.312149\" style=\"fill: #1f77b4; stroke: #1f77b4\"/>\n",
       "     <use xlink:href=\"#md88cf1252a\" x=\"155.349272\" y=\"78.280967\" style=\"fill: #1f77b4; stroke: #1f77b4\"/>\n",
       "     <use xlink:href=\"#md88cf1252a\" x=\"164.357481\" y=\"108.729632\" style=\"fill: #1f77b4; stroke: #1f77b4\"/>\n",
       "     <use xlink:href=\"#md88cf1252a\" x=\"150.308218\" y=\"75.965579\" style=\"fill: #1f77b4; stroke: #1f77b4\"/>\n",
       "     <use xlink:href=\"#md88cf1252a\" x=\"121.635064\" y=\"75.618737\" style=\"fill: #1f77b4; stroke: #1f77b4\"/>\n",
       "     <use xlink:href=\"#md88cf1252a\" x=\"132.813885\" y=\"105.799427\" style=\"fill: #1f77b4; stroke: #1f77b4\"/>\n",
       "     <use xlink:href=\"#md88cf1252a\" x=\"76.534254\" y=\"75.877458\" style=\"fill: #1f77b4; stroke: #1f77b4\"/>\n",
       "     <use xlink:href=\"#md88cf1252a\" x=\"143.002748\" y=\"95.155646\" style=\"fill: #1f77b4; stroke: #1f77b4\"/>\n",
       "     <use xlink:href=\"#md88cf1252a\" x=\"142.283434\" y=\"100.198852\" style=\"fill: #1f77b4; stroke: #1f77b4\"/>\n",
       "     <use xlink:href=\"#md88cf1252a\" x=\"124.74327\" y=\"67.513214\" style=\"fill: #1f77b4; stroke: #1f77b4\"/>\n",
       "     <use xlink:href=\"#md88cf1252a\" x=\"136.972428\" y=\"82.324389\" style=\"fill: #1f77b4; stroke: #1f77b4\"/>\n",
       "     <use xlink:href=\"#md88cf1252a\" x=\"123.390196\" y=\"75.159187\" style=\"fill: #1f77b4; stroke: #1f77b4\"/>\n",
       "     <use xlink:href=\"#md88cf1252a\" x=\"158.40583\" y=\"94.275383\" style=\"fill: #1f77b4; stroke: #1f77b4\"/>\n",
       "     <use xlink:href=\"#md88cf1252a\" x=\"147.342344\" y=\"94.897901\" style=\"fill: #1f77b4; stroke: #1f77b4\"/>\n",
       "     <use xlink:href=\"#md88cf1252a\" x=\"115.298364\" y=\"81.486107\" style=\"fill: #1f77b4; stroke: #1f77b4\"/>\n",
       "     <use xlink:href=\"#md88cf1252a\" x=\"117.382444\" y=\"69.456984\" style=\"fill: #1f77b4; stroke: #1f77b4\"/>\n",
       "     <use xlink:href=\"#md88cf1252a\" x=\"107.798921\" y=\"58.502032\" style=\"fill: #1f77b4; stroke: #1f77b4\"/>\n",
       "     <use xlink:href=\"#md88cf1252a\" x=\"110.329671\" y=\"56.790805\" style=\"fill: #1f77b4; stroke: #1f77b4\"/>\n",
       "     <use xlink:href=\"#md88cf1252a\" x=\"197.251582\" y=\"124.705214\" style=\"fill: #1f77b4; stroke: #1f77b4\"/>\n",
       "     <use xlink:href=\"#md88cf1252a\" x=\"124.409044\" y=\"89.610297\" style=\"fill: #1f77b4; stroke: #1f77b4\"/>\n",
       "     <use xlink:href=\"#md88cf1252a\" x=\"131.921666\" y=\"79.783259\" style=\"fill: #1f77b4; stroke: #1f77b4\"/>\n",
       "     <use xlink:href=\"#md88cf1252a\" x=\"63.963476\" y=\"37.383488\" style=\"fill: #1f77b4; stroke: #1f77b4\"/>\n",
       "     <use xlink:href=\"#md88cf1252a\" x=\"98.587825\" y=\"61.739783\" style=\"fill: #1f77b4; stroke: #1f77b4\"/>\n",
       "     <use xlink:href=\"#md88cf1252a\" x=\"146.660963\" y=\"96.490902\" style=\"fill: #1f77b4; stroke: #1f77b4\"/>\n",
       "     <use xlink:href=\"#md88cf1252a\" x=\"93.546109\" y=\"68.699742\" style=\"fill: #1f77b4; stroke: #1f77b4\"/>\n",
       "     <use xlink:href=\"#md88cf1252a\" x=\"168.678462\" y=\"94.486508\" style=\"fill: #1f77b4; stroke: #1f77b4\"/>\n",
       "     <use xlink:href=\"#md88cf1252a\" x=\"141.667375\" y=\"93.257638\" style=\"fill: #1f77b4; stroke: #1f77b4\"/>\n",
       "     <use xlink:href=\"#md88cf1252a\" x=\"161.37293\" y=\"102.882073\" style=\"fill: #1f77b4; stroke: #1f77b4\"/>\n",
       "     <use xlink:href=\"#md88cf1252a\" x=\"187.867916\" y=\"118.953568\" style=\"fill: #1f77b4; stroke: #1f77b4\"/>\n",
       "     <use xlink:href=\"#md88cf1252a\" x=\"135.0286\" y=\"104.136599\" style=\"fill: #1f77b4; stroke: #1f77b4\"/>\n",
       "     <use xlink:href=\"#md88cf1252a\" x=\"156.876997\" y=\"91.550078\" style=\"fill: #1f77b4; stroke: #1f77b4\"/>\n",
       "     <use xlink:href=\"#md88cf1252a\" x=\"112.019593\" y=\"89.463594\" style=\"fill: #1f77b4; stroke: #1f77b4\"/>\n",
       "     <use xlink:href=\"#md88cf1252a\" x=\"123.227595\" y=\"77.61989\" style=\"fill: #1f77b4; stroke: #1f77b4\"/>\n",
       "     <use xlink:href=\"#md88cf1252a\" x=\"133.464627\" y=\"74.565288\" style=\"fill: #1f77b4; stroke: #1f77b4\"/>\n",
       "     <use xlink:href=\"#md88cf1252a\" x=\"157.216615\" y=\"104.354347\" style=\"fill: #1f77b4; stroke: #1f77b4\"/>\n",
       "     <use xlink:href=\"#md88cf1252a\" x=\"139.388887\" y=\"82.44627\" style=\"fill: #1f77b4; stroke: #1f77b4\"/>\n",
       "     <use xlink:href=\"#md88cf1252a\" x=\"74.000538\" y=\"36.807338\" style=\"fill: #1f77b4; stroke: #1f77b4\"/>\n",
       "     <use xlink:href=\"#md88cf1252a\" x=\"101.186023\" y=\"62.995329\" style=\"fill: #1f77b4; stroke: #1f77b4\"/>\n",
       "     <use xlink:href=\"#md88cf1252a\" x=\"125.387267\" y=\"77.231505\" style=\"fill: #1f77b4; stroke: #1f77b4\"/>\n",
       "     <use xlink:href=\"#md88cf1252a\" x=\"128.856323\" y=\"100.452104\" style=\"fill: #1f77b4; stroke: #1f77b4\"/>\n",
       "     <use xlink:href=\"#md88cf1252a\" x=\"85.748855\" y=\"55.410159\" style=\"fill: #1f77b4; stroke: #1f77b4\"/>\n",
       "     <use xlink:href=\"#md88cf1252a\" x=\"118.609325\" y=\"68.926754\" style=\"fill: #1f77b4; stroke: #1f77b4\"/>\n",
       "     <use xlink:href=\"#md88cf1252a\" x=\"91.022022\" y=\"61.498692\" style=\"fill: #1f77b4; stroke: #1f77b4\"/>\n",
       "     <use xlink:href=\"#md88cf1252a\" x=\"126.671736\" y=\"90.155485\" style=\"fill: #1f77b4; stroke: #1f77b4\"/>\n",
       "     <use xlink:href=\"#md88cf1252a\" x=\"130.588432\" y=\"71.185067\" style=\"fill: #1f77b4; stroke: #1f77b4\"/>\n",
       "     <use xlink:href=\"#md88cf1252a\" x=\"148.847488\" y=\"111.019522\" style=\"fill: #1f77b4; stroke: #1f77b4\"/>\n",
       "     <use xlink:href=\"#md88cf1252a\" x=\"127.757993\" y=\"83.054654\" style=\"fill: #1f77b4; stroke: #1f77b4\"/>\n",
       "     <use xlink:href=\"#md88cf1252a\" x=\"138.354076\" y=\"81.793768\" style=\"fill: #1f77b4; stroke: #1f77b4\"/>\n",
       "     <use xlink:href=\"#md88cf1252a\" x=\"156.415172\" y=\"115.960466\" style=\"fill: #1f77b4; stroke: #1f77b4\"/>\n",
       "     <use xlink:href=\"#md88cf1252a\" x=\"135.675231\" y=\"93.315846\" style=\"fill: #1f77b4; stroke: #1f77b4\"/>\n",
       "     <use xlink:href=\"#md88cf1252a\" x=\"112.104051\" y=\"72.141\" style=\"fill: #1f77b4; stroke: #1f77b4\"/>\n",
       "     <use xlink:href=\"#md88cf1252a\" x=\"158.724308\" y=\"94.210665\" style=\"fill: #1f77b4; stroke: #1f77b4\"/>\n",
       "     <use xlink:href=\"#md88cf1252a\" x=\"147.740663\" y=\"86.329428\" style=\"fill: #1f77b4; stroke: #1f77b4\"/>\n",
       "     <use xlink:href=\"#md88cf1252a\" x=\"163.405605\" y=\"91.954939\" style=\"fill: #1f77b4; stroke: #1f77b4\"/>\n",
       "     <use xlink:href=\"#md88cf1252a\" x=\"155.714598\" y=\"80.452667\" style=\"fill: #1f77b4; stroke: #1f77b4\"/>\n",
       "     <use xlink:href=\"#md88cf1252a\" x=\"105.883985\" y=\"66.752356\" style=\"fill: #1f77b4; stroke: #1f77b4\"/>\n",
       "     <use xlink:href=\"#md88cf1252a\" x=\"147.600939\" y=\"103.922887\" style=\"fill: #1f77b4; stroke: #1f77b4\"/>\n",
       "     <use xlink:href=\"#md88cf1252a\" x=\"112.390924\" y=\"82.82493\" style=\"fill: #1f77b4; stroke: #1f77b4\"/>\n",
       "     <use xlink:href=\"#md88cf1252a\" x=\"107.338393\" y=\"77.266201\" style=\"fill: #1f77b4; stroke: #1f77b4\"/>\n",
       "     <use xlink:href=\"#md88cf1252a\" x=\"107.584728\" y=\"62.830517\" style=\"fill: #1f77b4; stroke: #1f77b4\"/>\n",
       "     <use xlink:href=\"#md88cf1252a\" x=\"122.244518\" y=\"83.472159\" style=\"fill: #1f77b4; stroke: #1f77b4\"/>\n",
       "     <use xlink:href=\"#md88cf1252a\" x=\"121.578899\" y=\"69.827498\" style=\"fill: #1f77b4; stroke: #1f77b4\"/>\n",
       "     <use xlink:href=\"#md88cf1252a\" x=\"143.515795\" y=\"90.394438\" style=\"fill: #1f77b4; stroke: #1f77b4\"/>\n",
       "     <use xlink:href=\"#md88cf1252a\" x=\"130.859401\" y=\"81.451029\" style=\"fill: #1f77b4; stroke: #1f77b4\"/>\n",
       "     <use xlink:href=\"#md88cf1252a\" x=\"157.964742\" y=\"103.363657\" style=\"fill: #1f77b4; stroke: #1f77b4\"/>\n",
       "     <use xlink:href=\"#md88cf1252a\" x=\"142.087057\" y=\"88.211418\" style=\"fill: #1f77b4; stroke: #1f77b4\"/>\n",
       "     <use xlink:href=\"#md88cf1252a\" x=\"100.95273\" y=\"48.397797\" style=\"fill: #1f77b4; stroke: #1f77b4\"/>\n",
       "     <use xlink:href=\"#md88cf1252a\" x=\"127.45697\" y=\"80.061749\" style=\"fill: #1f77b4; stroke: #1f77b4\"/>\n",
       "     <use xlink:href=\"#md88cf1252a\" x=\"114.692212\" y=\"59.56851\" style=\"fill: #1f77b4; stroke: #1f77b4\"/>\n",
       "     <use xlink:href=\"#md88cf1252a\" x=\"146.634444\" y=\"87.131447\" style=\"fill: #1f77b4; stroke: #1f77b4\"/>\n",
       "     <use xlink:href=\"#md88cf1252a\" x=\"150.232046\" y=\"90.984022\" style=\"fill: #1f77b4; stroke: #1f77b4\"/>\n",
       "     <use xlink:href=\"#md88cf1252a\" x=\"159.953338\" y=\"115.703477\" style=\"fill: #1f77b4; stroke: #1f77b4\"/>\n",
       "     <use xlink:href=\"#md88cf1252a\" x=\"125.28791\" y=\"78.572347\" style=\"fill: #1f77b4; stroke: #1f77b4\"/>\n",
       "     <use xlink:href=\"#md88cf1252a\" x=\"138.46683\" y=\"98.369241\" style=\"fill: #1f77b4; stroke: #1f77b4\"/>\n",
       "     <use xlink:href=\"#md88cf1252a\" x=\"117.09399\" y=\"65.351301\" style=\"fill: #1f77b4; stroke: #1f77b4\"/>\n",
       "     <use xlink:href=\"#md88cf1252a\" x=\"90.216391\" y=\"53.254873\" style=\"fill: #1f77b4; stroke: #1f77b4\"/>\n",
       "     <use xlink:href=\"#md88cf1252a\" x=\"122.516003\" y=\"80.621046\" style=\"fill: #1f77b4; stroke: #1f77b4\"/>\n",
       "     <use xlink:href=\"#md88cf1252a\" x=\"111.147386\" y=\"74.937199\" style=\"fill: #1f77b4; stroke: #1f77b4\"/>\n",
       "     <use xlink:href=\"#md88cf1252a\" x=\"94.397064\" y=\"40.967251\" style=\"fill: #1f77b4; stroke: #1f77b4\"/>\n",
       "     <use xlink:href=\"#md88cf1252a\" x=\"112.851455\" y=\"58.279942\" style=\"fill: #1f77b4; stroke: #1f77b4\"/>\n",
       "     <use xlink:href=\"#md88cf1252a\" x=\"129.547225\" y=\"80.464266\" style=\"fill: #1f77b4; stroke: #1f77b4\"/>\n",
       "     <use xlink:href=\"#md88cf1252a\" x=\"65.697427\" y=\"60.769107\" style=\"fill: #1f77b4; stroke: #1f77b4\"/>\n",
       "     <use xlink:href=\"#md88cf1252a\" x=\"122.862178\" y=\"67.949669\" style=\"fill: #1f77b4; stroke: #1f77b4\"/>\n",
       "     <use xlink:href=\"#md88cf1252a\" x=\"67.768075\" y=\"50.173834\" style=\"fill: #1f77b4; stroke: #1f77b4\"/>\n",
       "     <use xlink:href=\"#md88cf1252a\" x=\"129.785706\" y=\"70.374604\" style=\"fill: #1f77b4; stroke: #1f77b4\"/>\n",
       "     <use xlink:href=\"#md88cf1252a\" x=\"139.917975\" y=\"95.734219\" style=\"fill: #1f77b4; stroke: #1f77b4\"/>\n",
       "     <use xlink:href=\"#md88cf1252a\" x=\"150.08934\" y=\"90.381645\" style=\"fill: #1f77b4; stroke: #1f77b4\"/>\n",
       "     <use xlink:href=\"#md88cf1252a\" x=\"76.227032\" y=\"51.272357\" style=\"fill: #1f77b4; stroke: #1f77b4\"/>\n",
       "     <use xlink:href=\"#md88cf1252a\" x=\"152.741083\" y=\"94.935589\" style=\"fill: #1f77b4; stroke: #1f77b4\"/>\n",
       "     <use xlink:href=\"#md88cf1252a\" x=\"161.31402\" y=\"102.135636\" style=\"fill: #1f77b4; stroke: #1f77b4\"/>\n",
       "     <use xlink:href=\"#md88cf1252a\" x=\"132.273724\" y=\"77.024597\" style=\"fill: #1f77b4; stroke: #1f77b4\"/>\n",
       "     <use xlink:href=\"#md88cf1252a\" x=\"110.527452\" y=\"54.318123\" style=\"fill: #1f77b4; stroke: #1f77b4\"/>\n",
       "     <use xlink:href=\"#md88cf1252a\" x=\"97.286335\" y=\"62.358571\" style=\"fill: #1f77b4; stroke: #1f77b4\"/>\n",
       "     <use xlink:href=\"#md88cf1252a\" x=\"153.094557\" y=\"78.943383\" style=\"fill: #1f77b4; stroke: #1f77b4\"/>\n",
       "     <use xlink:href=\"#md88cf1252a\" x=\"143.349594\" y=\"83.978016\" style=\"fill: #1f77b4; stroke: #1f77b4\"/>\n",
       "     <use xlink:href=\"#md88cf1252a\" x=\"200.862522\" y=\"128.437249\" style=\"fill: #1f77b4; stroke: #1f77b4\"/>\n",
       "     <use xlink:href=\"#md88cf1252a\" x=\"115.30441\" y=\"77.457258\" style=\"fill: #1f77b4; stroke: #1f77b4\"/>\n",
       "     <use xlink:href=\"#md88cf1252a\" x=\"126.73691\" y=\"80.545914\" style=\"fill: #1f77b4; stroke: #1f77b4\"/>\n",
       "     <use xlink:href=\"#md88cf1252a\" x=\"148.65426\" y=\"105.273277\" style=\"fill: #1f77b4; stroke: #1f77b4\"/>\n",
       "     <use xlink:href=\"#md88cf1252a\" x=\"113.473206\" y=\"73.236343\" style=\"fill: #1f77b4; stroke: #1f77b4\"/>\n",
       "     <use xlink:href=\"#md88cf1252a\" x=\"173.045725\" y=\"111.574088\" style=\"fill: #1f77b4; stroke: #1f77b4\"/>\n",
       "     <use xlink:href=\"#md88cf1252a\" x=\"108.528442\" y=\"68.568538\" style=\"fill: #1f77b4; stroke: #1f77b4\"/>\n",
       "     <use xlink:href=\"#md88cf1252a\" x=\"164.853698\" y=\"110.014733\" style=\"fill: #1f77b4; stroke: #1f77b4\"/>\n",
       "     <use xlink:href=\"#md88cf1252a\" x=\"144.780343\" y=\"91.881028\" style=\"fill: #1f77b4; stroke: #1f77b4\"/>\n",
       "     <use xlink:href=\"#md88cf1252a\" x=\"127.621508\" y=\"65.463366\" style=\"fill: #1f77b4; stroke: #1f77b4\"/>\n",
       "     <use xlink:href=\"#md88cf1252a\" x=\"102.536429\" y=\"81.355701\" style=\"fill: #1f77b4; stroke: #1f77b4\"/>\n",
       "     <use xlink:href=\"#md88cf1252a\" x=\"119.735663\" y=\"79.149579\" style=\"fill: #1f77b4; stroke: #1f77b4\"/>\n",
       "     <use xlink:href=\"#md88cf1252a\" x=\"100.922927\" y=\"45.509838\" style=\"fill: #1f77b4; stroke: #1f77b4\"/>\n",
       "     <use xlink:href=\"#md88cf1252a\" x=\"139.681535\" y=\"74.605287\" style=\"fill: #1f77b4; stroke: #1f77b4\"/>\n",
       "     <use xlink:href=\"#md88cf1252a\" x=\"151.926925\" y=\"83.009572\" style=\"fill: #1f77b4; stroke: #1f77b4\"/>\n",
       "     <use xlink:href=\"#md88cf1252a\" x=\"92.376024\" y=\"54.55671\" style=\"fill: #1f77b4; stroke: #1f77b4\"/>\n",
       "     <use xlink:href=\"#md88cf1252a\" x=\"143.333932\" y=\"80.103904\" style=\"fill: #1f77b4; stroke: #1f77b4\"/>\n",
       "     <use xlink:href=\"#md88cf1252a\" x=\"107.595738\" y=\"82.757831\" style=\"fill: #1f77b4; stroke: #1f77b4\"/>\n",
       "     <use xlink:href=\"#md88cf1252a\" x=\"81.636512\" y=\"39.569007\" style=\"fill: #1f77b4; stroke: #1f77b4\"/>\n",
       "     <use xlink:href=\"#md88cf1252a\" x=\"163.841744\" y=\"118.602897\" style=\"fill: #1f77b4; stroke: #1f77b4\"/>\n",
       "     <use xlink:href=\"#md88cf1252a\" x=\"88.995879\" y=\"56.281731\" style=\"fill: #1f77b4; stroke: #1f77b4\"/>\n",
       "     <use xlink:href=\"#md88cf1252a\" x=\"133.606602\" y=\"94.643834\" style=\"fill: #1f77b4; stroke: #1f77b4\"/>\n",
       "     <use xlink:href=\"#md88cf1252a\" x=\"115.838121\" y=\"55.850818\" style=\"fill: #1f77b4; stroke: #1f77b4\"/>\n",
       "     <use xlink:href=\"#md88cf1252a\" x=\"124.903331\" y=\"67.916559\" style=\"fill: #1f77b4; stroke: #1f77b4\"/>\n",
       "     <use xlink:href=\"#md88cf1252a\" x=\"113.936847\" y=\"70.349842\" style=\"fill: #1f77b4; stroke: #1f77b4\"/>\n",
       "     <use xlink:href=\"#md88cf1252a\" x=\"134.731393\" y=\"90.843189\" style=\"fill: #1f77b4; stroke: #1f77b4\"/>\n",
       "     <use xlink:href=\"#md88cf1252a\" x=\"153.650362\" y=\"95.373311\" style=\"fill: #1f77b4; stroke: #1f77b4\"/>\n",
       "     <use xlink:href=\"#md88cf1252a\" x=\"159.818743\" y=\"94.252802\" style=\"fill: #1f77b4; stroke: #1f77b4\"/>\n",
       "     <use xlink:href=\"#md88cf1252a\" x=\"129.985471\" y=\"108.691566\" style=\"fill: #1f77b4; stroke: #1f77b4\"/>\n",
       "     <use xlink:href=\"#md88cf1252a\" x=\"180.856689\" y=\"117.512199\" style=\"fill: #1f77b4; stroke: #1f77b4\"/>\n",
       "     <use xlink:href=\"#md88cf1252a\" x=\"147.433729\" y=\"85.154986\" style=\"fill: #1f77b4; stroke: #1f77b4\"/>\n",
       "     <use xlink:href=\"#md88cf1252a\" x=\"138.015829\" y=\"79.720444\" style=\"fill: #1f77b4; stroke: #1f77b4\"/>\n",
       "     <use xlink:href=\"#md88cf1252a\" x=\"138.450126\" y=\"77.176562\" style=\"fill: #1f77b4; stroke: #1f77b4\"/>\n",
       "     <use xlink:href=\"#md88cf1252a\" x=\"105.113047\" y=\"83.780134\" style=\"fill: #1f77b4; stroke: #1f77b4\"/>\n",
       "     <use xlink:href=\"#md88cf1252a\" x=\"113.424093\" y=\"69.032839\" style=\"fill: #1f77b4; stroke: #1f77b4\"/>\n",
       "     <use xlink:href=\"#md88cf1252a\" x=\"111.658904\" y=\"80.31765\" style=\"fill: #1f77b4; stroke: #1f77b4\"/>\n",
       "     <use xlink:href=\"#md88cf1252a\" x=\"117.209057\" y=\"58.268832\" style=\"fill: #1f77b4; stroke: #1f77b4\"/>\n",
       "     <use xlink:href=\"#md88cf1252a\" x=\"105.613103\" y=\"82.782595\" style=\"fill: #1f77b4; stroke: #1f77b4\"/>\n",
       "     <use xlink:href=\"#md88cf1252a\" x=\"100.155808\" y=\"58.350203\" style=\"fill: #1f77b4; stroke: #1f77b4\"/>\n",
       "     <use xlink:href=\"#md88cf1252a\" x=\"161.818732\" y=\"108.225028\" style=\"fill: #1f77b4; stroke: #1f77b4\"/>\n",
       "     <use xlink:href=\"#md88cf1252a\" x=\"126.278465\" y=\"80.948379\" style=\"fill: #1f77b4; stroke: #1f77b4\"/>\n",
       "     <use xlink:href=\"#md88cf1252a\" x=\"174.783401\" y=\"105.021222\" style=\"fill: #1f77b4; stroke: #1f77b4\"/>\n",
       "     <use xlink:href=\"#md88cf1252a\" x=\"119.785582\" y=\"71.70265\" style=\"fill: #1f77b4; stroke: #1f77b4\"/>\n",
       "     <use xlink:href=\"#md88cf1252a\" x=\"144.092826\" y=\"102.251077\" style=\"fill: #1f77b4; stroke: #1f77b4\"/>\n",
       "     <use xlink:href=\"#md88cf1252a\" x=\"71.310282\" y=\"35.131971\" style=\"fill: #1f77b4; stroke: #1f77b4\"/>\n",
       "     <use xlink:href=\"#md88cf1252a\" x=\"135.291556\" y=\"85.712973\" style=\"fill: #1f77b4; stroke: #1f77b4\"/>\n",
       "     <use xlink:href=\"#md88cf1252a\" x=\"132.121158\" y=\"90.860392\" style=\"fill: #1f77b4; stroke: #1f77b4\"/>\n",
       "     <use xlink:href=\"#md88cf1252a\" x=\"145.87692\" y=\"94.091156\" style=\"fill: #1f77b4; stroke: #1f77b4\"/>\n",
       "     <use xlink:href=\"#md88cf1252a\" x=\"150.40397\" y=\"88.512147\" style=\"fill: #1f77b4; stroke: #1f77b4\"/>\n",
       "     <use xlink:href=\"#md88cf1252a\" x=\"129.039576\" y=\"71.600969\" style=\"fill: #1f77b4; stroke: #1f77b4\"/>\n",
       "     <use xlink:href=\"#md88cf1252a\" x=\"83.00824\" y=\"32.651662\" style=\"fill: #1f77b4; stroke: #1f77b4\"/>\n",
       "     <use xlink:href=\"#md88cf1252a\" x=\"141.221849\" y=\"69.186966\" style=\"fill: #1f77b4; stroke: #1f77b4\"/>\n",
       "     <use xlink:href=\"#md88cf1252a\" x=\"96.473884\" y=\"72.267127\" style=\"fill: #1f77b4; stroke: #1f77b4\"/>\n",
       "     <use xlink:href=\"#md88cf1252a\" x=\"83.822118\" y=\"41.184161\" style=\"fill: #1f77b4; stroke: #1f77b4\"/>\n",
       "     <use xlink:href=\"#md88cf1252a\" x=\"124.340627\" y=\"73.683833\" style=\"fill: #1f77b4; stroke: #1f77b4\"/>\n",
       "     <use xlink:href=\"#md88cf1252a\" x=\"135.90502\" y=\"74.238152\" style=\"fill: #1f77b4; stroke: #1f77b4\"/>\n",
       "     <use xlink:href=\"#md88cf1252a\" x=\"134.205744\" y=\"80.096998\" style=\"fill: #1f77b4; stroke: #1f77b4\"/>\n",
       "     <use xlink:href=\"#md88cf1252a\" x=\"110.847894\" y=\"74.041367\" style=\"fill: #1f77b4; stroke: #1f77b4\"/>\n",
       "     <use xlink:href=\"#md88cf1252a\" x=\"156.476412\" y=\"104.66709\" style=\"fill: #1f77b4; stroke: #1f77b4\"/>\n",
       "     <use xlink:href=\"#md88cf1252a\" x=\"104.123831\" y=\"73.304729\" style=\"fill: #1f77b4; stroke: #1f77b4\"/>\n",
       "     <use xlink:href=\"#md88cf1252a\" x=\"138.910699\" y=\"82.713856\" style=\"fill: #1f77b4; stroke: #1f77b4\"/>\n",
       "     <use xlink:href=\"#md88cf1252a\" x=\"112.776612\" y=\"72.676131\" style=\"fill: #1f77b4; stroke: #1f77b4\"/>\n",
       "     <use xlink:href=\"#md88cf1252a\" x=\"142.323145\" y=\"82.155572\" style=\"fill: #1f77b4; stroke: #1f77b4\"/>\n",
       "     <use xlink:href=\"#md88cf1252a\" x=\"159.485102\" y=\"102.377685\" style=\"fill: #1f77b4; stroke: #1f77b4\"/>\n",
       "     <use xlink:href=\"#md88cf1252a\" x=\"109.340201\" y=\"74.003219\" style=\"fill: #1f77b4; stroke: #1f77b4\"/>\n",
       "     <use xlink:href=\"#md88cf1252a\" x=\"179.393596\" y=\"103.51222\" style=\"fill: #1f77b4; stroke: #1f77b4\"/>\n",
       "     <use xlink:href=\"#md88cf1252a\" x=\"96.337129\" y=\"50.29393\" style=\"fill: #1f77b4; stroke: #1f77b4\"/>\n",
       "     <use xlink:href=\"#md88cf1252a\" x=\"155.671936\" y=\"99.363463\" style=\"fill: #1f77b4; stroke: #1f77b4\"/>\n",
       "     <use xlink:href=\"#md88cf1252a\" x=\"188.962832\" y=\"128.596864\" style=\"fill: #1f77b4; stroke: #1f77b4\"/>\n",
       "     <use xlink:href=\"#md88cf1252a\" x=\"105.234044\" y=\"63.926373\" style=\"fill: #1f77b4; stroke: #1f77b4\"/>\n",
       "     <use xlink:href=\"#md88cf1252a\" x=\"74.692561\" y=\"63.815558\" style=\"fill: #1f77b4; stroke: #1f77b4\"/>\n",
       "     <use xlink:href=\"#md88cf1252a\" x=\"138.905829\" y=\"93.423777\" style=\"fill: #1f77b4; stroke: #1f77b4\"/>\n",
       "     <use xlink:href=\"#md88cf1252a\" x=\"172.072342\" y=\"118.210784\" style=\"fill: #1f77b4; stroke: #1f77b4\"/>\n",
       "     <use xlink:href=\"#md88cf1252a\" x=\"128.157619\" y=\"94.691184\" style=\"fill: #1f77b4; stroke: #1f77b4\"/>\n",
       "     <use xlink:href=\"#md88cf1252a\" x=\"88.952977\" y=\"51.686739\" style=\"fill: #1f77b4; stroke: #1f77b4\"/>\n",
       "     <use xlink:href=\"#md88cf1252a\" x=\"133.292377\" y=\"67.891749\" style=\"fill: #1f77b4; stroke: #1f77b4\"/>\n",
       "     <use xlink:href=\"#md88cf1252a\" x=\"145.565588\" y=\"94.40767\" style=\"fill: #1f77b4; stroke: #1f77b4\"/>\n",
       "     <use xlink:href=\"#md88cf1252a\" x=\"96.452427\" y=\"61.762982\" style=\"fill: #1f77b4; stroke: #1f77b4\"/>\n",
       "     <use xlink:href=\"#md88cf1252a\" x=\"140.367253\" y=\"72.96502\" style=\"fill: #1f77b4; stroke: #1f77b4\"/>\n",
       "     <use xlink:href=\"#md88cf1252a\" x=\"89.676665\" y=\"57.013852\" style=\"fill: #1f77b4; stroke: #1f77b4\"/>\n",
       "     <use xlink:href=\"#md88cf1252a\" x=\"152.815403\" y=\"103.748997\" style=\"fill: #1f77b4; stroke: #1f77b4\"/>\n",
       "     <use xlink:href=\"#md88cf1252a\" x=\"118.140366\" y=\"68.778374\" style=\"fill: #1f77b4; stroke: #1f77b4\"/>\n",
       "     <use xlink:href=\"#md88cf1252a\" x=\"158.245815\" y=\"102.428965\" style=\"fill: #1f77b4; stroke: #1f77b4\"/>\n",
       "     <use xlink:href=\"#md88cf1252a\" x=\"189.473767\" y=\"118.129224\" style=\"fill: #1f77b4; stroke: #1f77b4\"/>\n",
       "     <use xlink:href=\"#md88cf1252a\" x=\"145.231989\" y=\"77.123672\" style=\"fill: #1f77b4; stroke: #1f77b4\"/>\n",
       "     <use xlink:href=\"#md88cf1252a\" x=\"135.043618\" y=\"71.594453\" style=\"fill: #1f77b4; stroke: #1f77b4\"/>\n",
       "     <use xlink:href=\"#md88cf1252a\" x=\"106.673997\" y=\"73.271022\" style=\"fill: #1f77b4; stroke: #1f77b4\"/>\n",
       "     <use xlink:href=\"#md88cf1252a\" x=\"130.907291\" y=\"89.934612\" style=\"fill: #1f77b4; stroke: #1f77b4\"/>\n",
       "     <use xlink:href=\"#md88cf1252a\" x=\"139.390172\" y=\"94.593403\" style=\"fill: #1f77b4; stroke: #1f77b4\"/>\n",
       "     <use xlink:href=\"#md88cf1252a\" x=\"114.985428\" y=\"63.963839\" style=\"fill: #1f77b4; stroke: #1f77b4\"/>\n",
       "     <use xlink:href=\"#md88cf1252a\" x=\"127.144791\" y=\"62.278314\" style=\"fill: #1f77b4; stroke: #1f77b4\"/>\n",
       "     <use xlink:href=\"#md88cf1252a\" x=\"142.37979\" y=\"87.801802\" style=\"fill: #1f77b4; stroke: #1f77b4\"/>\n",
       "     <use xlink:href=\"#md88cf1252a\" x=\"96.356339\" y=\"56.952749\" style=\"fill: #1f77b4; stroke: #1f77b4\"/>\n",
       "     <use xlink:href=\"#md88cf1252a\" x=\"102.205814\" y=\"64.396603\" style=\"fill: #1f77b4; stroke: #1f77b4\"/>\n",
       "     <use xlink:href=\"#md88cf1252a\" x=\"141.243203\" y=\"77.050299\" style=\"fill: #1f77b4; stroke: #1f77b4\"/>\n",
       "     <use xlink:href=\"#md88cf1252a\" x=\"100.063749\" y=\"71.96672\" style=\"fill: #1f77b4; stroke: #1f77b4\"/>\n",
       "     <use xlink:href=\"#md88cf1252a\" x=\"144.832083\" y=\"104.548709\" style=\"fill: #1f77b4; stroke: #1f77b4\"/>\n",
       "     <use xlink:href=\"#md88cf1252a\" x=\"110.120065\" y=\"74.701819\" style=\"fill: #1f77b4; stroke: #1f77b4\"/>\n",
       "     <use xlink:href=\"#md88cf1252a\" x=\"115.080359\" y=\"76.703415\" style=\"fill: #1f77b4; stroke: #1f77b4\"/>\n",
       "     <use xlink:href=\"#md88cf1252a\" x=\"192.769115\" y=\"140.496018\" style=\"fill: #1f77b4; stroke: #1f77b4\"/>\n",
       "     <use xlink:href=\"#md88cf1252a\" x=\"115.438988\" y=\"72.437229\" style=\"fill: #1f77b4; stroke: #1f77b4\"/>\n",
       "     <use xlink:href=\"#md88cf1252a\" x=\"128.835125\" y=\"81.007497\" style=\"fill: #1f77b4; stroke: #1f77b4\"/>\n",
       "     <use xlink:href=\"#md88cf1252a\" x=\"135.493473\" y=\"85.551645\" style=\"fill: #1f77b4; stroke: #1f77b4\"/>\n",
       "     <use xlink:href=\"#md88cf1252a\" x=\"155.166633\" y=\"81.556478\" style=\"fill: #1f77b4; stroke: #1f77b4\"/>\n",
       "     <use xlink:href=\"#md88cf1252a\" x=\"153.269643\" y=\"115.82665\" style=\"fill: #1f77b4; stroke: #1f77b4\"/>\n",
       "     <use xlink:href=\"#md88cf1252a\" x=\"118.454934\" y=\"66.640302\" style=\"fill: #1f77b4; stroke: #1f77b4\"/>\n",
       "     <use xlink:href=\"#md88cf1252a\" x=\"139.24062\" y=\"86.926374\" style=\"fill: #1f77b4; stroke: #1f77b4\"/>\n",
       "     <use xlink:href=\"#md88cf1252a\" x=\"99.816354\" y=\"74.808423\" style=\"fill: #1f77b4; stroke: #1f77b4\"/>\n",
       "     <use xlink:href=\"#md88cf1252a\" x=\"105.101593\" y=\"72.113626\" style=\"fill: #1f77b4; stroke: #1f77b4\"/>\n",
       "     <use xlink:href=\"#md88cf1252a\" x=\"104.739774\" y=\"58.946525\" style=\"fill: #1f77b4; stroke: #1f77b4\"/>\n",
       "     <use xlink:href=\"#md88cf1252a\" x=\"150.208554\" y=\"115.328211\" style=\"fill: #1f77b4; stroke: #1f77b4\"/>\n",
       "     <use xlink:href=\"#md88cf1252a\" x=\"126.161836\" y=\"78.354774\" style=\"fill: #1f77b4; stroke: #1f77b4\"/>\n",
       "     <use xlink:href=\"#md88cf1252a\" x=\"130.071327\" y=\"100.650117\" style=\"fill: #1f77b4; stroke: #1f77b4\"/>\n",
       "     <use xlink:href=\"#md88cf1252a\" x=\"114.33093\" y=\"76.387637\" style=\"fill: #1f77b4; stroke: #1f77b4\"/>\n",
       "     <use xlink:href=\"#md88cf1252a\" x=\"149.308605\" y=\"91.388765\" style=\"fill: #1f77b4; stroke: #1f77b4\"/>\n",
       "     <use xlink:href=\"#md88cf1252a\" x=\"121.609932\" y=\"70.637198\" style=\"fill: #1f77b4; stroke: #1f77b4\"/>\n",
       "     <use xlink:href=\"#md88cf1252a\" x=\"110.492021\" y=\"70.941557\" style=\"fill: #1f77b4; stroke: #1f77b4\"/>\n",
       "     <use xlink:href=\"#md88cf1252a\" x=\"142.777601\" y=\"80.863843\" style=\"fill: #1f77b4; stroke: #1f77b4\"/>\n",
       "     <use xlink:href=\"#md88cf1252a\" x=\"137.259896\" y=\"89.808551\" style=\"fill: #1f77b4; stroke: #1f77b4\"/>\n",
       "     <use xlink:href=\"#md88cf1252a\" x=\"111.410531\" y=\"52.139275\" style=\"fill: #1f77b4; stroke: #1f77b4\"/>\n",
       "     <use xlink:href=\"#md88cf1252a\" x=\"94.757324\" y=\"68.047969\" style=\"fill: #1f77b4; stroke: #1f77b4\"/>\n",
       "     <use xlink:href=\"#md88cf1252a\" x=\"71.036202\" y=\"24.911\" style=\"fill: #1f77b4; stroke: #1f77b4\"/>\n",
       "     <use xlink:href=\"#md88cf1252a\" x=\"142.848278\" y=\"80.402085\" style=\"fill: #1f77b4; stroke: #1f77b4\"/>\n",
       "     <use xlink:href=\"#md88cf1252a\" x=\"103.190335\" y=\"70.684695\" style=\"fill: #1f77b4; stroke: #1f77b4\"/>\n",
       "     <use xlink:href=\"#md88cf1252a\" x=\"99.841602\" y=\"65.794675\" style=\"fill: #1f77b4; stroke: #1f77b4\"/>\n",
       "     <use xlink:href=\"#md88cf1252a\" x=\"141.398008\" y=\"70.907389\" style=\"fill: #1f77b4; stroke: #1f77b4\"/>\n",
       "     <use xlink:href=\"#md88cf1252a\" x=\"164.431667\" y=\"107.218008\" style=\"fill: #1f77b4; stroke: #1f77b4\"/>\n",
       "     <use xlink:href=\"#md88cf1252a\" x=\"160.008282\" y=\"99.240848\" style=\"fill: #1f77b4; stroke: #1f77b4\"/>\n",
       "     <use xlink:href=\"#md88cf1252a\" x=\"91.652305\" y=\"46.913735\" style=\"fill: #1f77b4; stroke: #1f77b4\"/>\n",
       "     <use xlink:href=\"#md88cf1252a\" x=\"119.61303\" y=\"74.779374\" style=\"fill: #1f77b4; stroke: #1f77b4\"/>\n",
       "     <use xlink:href=\"#md88cf1252a\" x=\"139.492942\" y=\"85.136468\" style=\"fill: #1f77b4; stroke: #1f77b4\"/>\n",
       "     <use xlink:href=\"#md88cf1252a\" x=\"149.97108\" y=\"93.65538\" style=\"fill: #1f77b4; stroke: #1f77b4\"/>\n",
       "     <use xlink:href=\"#md88cf1252a\" x=\"113.729506\" y=\"65.619727\" style=\"fill: #1f77b4; stroke: #1f77b4\"/>\n",
       "     <use xlink:href=\"#md88cf1252a\" x=\"135.385327\" y=\"85.881352\" style=\"fill: #1f77b4; stroke: #1f77b4\"/>\n",
       "     <use xlink:href=\"#md88cf1252a\" x=\"160.765485\" y=\"110.143034\" style=\"fill: #1f77b4; stroke: #1f77b4\"/>\n",
       "     <use xlink:href=\"#md88cf1252a\" x=\"181.888938\" y=\"122.262603\" style=\"fill: #1f77b4; stroke: #1f77b4\"/>\n",
       "     <use xlink:href=\"#md88cf1252a\" x=\"126.645188\" y=\"71.889211\" style=\"fill: #1f77b4; stroke: #1f77b4\"/>\n",
       "     <use xlink:href=\"#md88cf1252a\" x=\"108.014244\" y=\"68.938787\" style=\"fill: #1f77b4; stroke: #1f77b4\"/>\n",
       "     <use xlink:href=\"#md88cf1252a\" x=\"130.137702\" y=\"84.044454\" style=\"fill: #1f77b4; stroke: #1f77b4\"/>\n",
       "     <use xlink:href=\"#md88cf1252a\" x=\"203.919606\" y=\"108.814712\" style=\"fill: #1f77b4; stroke: #1f77b4\"/>\n",
       "     <use xlink:href=\"#md88cf1252a\" x=\"123.830273\" y=\"85.776703\" style=\"fill: #1f77b4; stroke: #1f77b4\"/>\n",
       "     <use xlink:href=\"#md88cf1252a\" x=\"134.675898\" y=\"89.150831\" style=\"fill: #1f77b4; stroke: #1f77b4\"/>\n",
       "     <use xlink:href=\"#md88cf1252a\" x=\"131.14991\" y=\"74.975422\" style=\"fill: #1f77b4; stroke: #1f77b4\"/>\n",
       "     <use xlink:href=\"#md88cf1252a\" x=\"94.746863\" y=\"75.464113\" style=\"fill: #1f77b4; stroke: #1f77b4\"/>\n",
       "     <use xlink:href=\"#md88cf1252a\" x=\"123.308951\" y=\"78.348934\" style=\"fill: #1f77b4; stroke: #1f77b4\"/>\n",
       "     <use xlink:href=\"#md88cf1252a\" x=\"95.124853\" y=\"51.334639\" style=\"fill: #1f77b4; stroke: #1f77b4\"/>\n",
       "     <use xlink:href=\"#md88cf1252a\" x=\"156.068482\" y=\"89.188729\" style=\"fill: #1f77b4; stroke: #1f77b4\"/>\n",
       "     <use xlink:href=\"#md88cf1252a\" x=\"123.816251\" y=\"63.729498\" style=\"fill: #1f77b4; stroke: #1f77b4\"/>\n",
       "     <use xlink:href=\"#md88cf1252a\" x=\"114.402193\" y=\"69.712672\" style=\"fill: #1f77b4; stroke: #1f77b4\"/>\n",
       "     <use xlink:href=\"#md88cf1252a\" x=\"136.132993\" y=\"109.273353\" style=\"fill: #1f77b4; stroke: #1f77b4\"/>\n",
       "     <use xlink:href=\"#md88cf1252a\" x=\"164.496953\" y=\"105.721162\" style=\"fill: #1f77b4; stroke: #1f77b4\"/>\n",
       "     <use xlink:href=\"#md88cf1252a\" x=\"145.989258\" y=\"100.763603\" style=\"fill: #1f77b4; stroke: #1f77b4\"/>\n",
       "     <use xlink:href=\"#md88cf1252a\" x=\"138.840133\" y=\"81.464797\" style=\"fill: #1f77b4; stroke: #1f77b4\"/>\n",
       "     <use xlink:href=\"#md88cf1252a\" x=\"139.342196\" y=\"82.257222\" style=\"fill: #1f77b4; stroke: #1f77b4\"/>\n",
       "     <use xlink:href=\"#md88cf1252a\" x=\"140.960497\" y=\"102.429165\" style=\"fill: #1f77b4; stroke: #1f77b4\"/>\n",
       "     <use xlink:href=\"#md88cf1252a\" x=\"154.708628\" y=\"86.202546\" style=\"fill: #1f77b4; stroke: #1f77b4\"/>\n",
       "     <use xlink:href=\"#md88cf1252a\" x=\"154.527302\" y=\"115.651888\" style=\"fill: #1f77b4; stroke: #1f77b4\"/>\n",
       "     <use xlink:href=\"#md88cf1252a\" x=\"132.790061\" y=\"79.81332\" style=\"fill: #1f77b4; stroke: #1f77b4\"/>\n",
       "     <use xlink:href=\"#md88cf1252a\" x=\"60.352711\" y=\"37.602276\" style=\"fill: #1f77b4; stroke: #1f77b4\"/>\n",
       "     <use xlink:href=\"#md88cf1252a\" x=\"101.855533\" y=\"68.889424\" style=\"fill: #1f77b4; stroke: #1f77b4\"/>\n",
       "     <use xlink:href=\"#md88cf1252a\" x=\"125.176989\" y=\"81.878826\" style=\"fill: #1f77b4; stroke: #1f77b4\"/>\n",
       "     <use xlink:href=\"#md88cf1252a\" x=\"111.226231\" y=\"80.655514\" style=\"fill: #1f77b4; stroke: #1f77b4\"/>\n",
       "     <use xlink:href=\"#md88cf1252a\" x=\"151.030176\" y=\"92.498388\" style=\"fill: #1f77b4; stroke: #1f77b4\"/>\n",
       "     <use xlink:href=\"#md88cf1252a\" x=\"138.198738\" y=\"86.01072\" style=\"fill: #1f77b4; stroke: #1f77b4\"/>\n",
       "     <use xlink:href=\"#md88cf1252a\" x=\"119.421579\" y=\"96.881353\" style=\"fill: #1f77b4; stroke: #1f77b4\"/>\n",
       "     <use xlink:href=\"#md88cf1252a\" x=\"104.497807\" y=\"60.752273\" style=\"fill: #1f77b4; stroke: #1f77b4\"/>\n",
       "     <use xlink:href=\"#md88cf1252a\" x=\"175.562738\" y=\"114.401643\" style=\"fill: #1f77b4; stroke: #1f77b4\"/>\n",
       "     <use xlink:href=\"#md88cf1252a\" x=\"103.451271\" y=\"61.535632\" style=\"fill: #1f77b4; stroke: #1f77b4\"/>\n",
       "     <use xlink:href=\"#md88cf1252a\" x=\"76.444136\" y=\"59.557058\" style=\"fill: #1f77b4; stroke: #1f77b4\"/>\n",
       "     <use xlink:href=\"#md88cf1252a\" x=\"123.863844\" y=\"49.85417\" style=\"fill: #1f77b4; stroke: #1f77b4\"/>\n",
       "     <use xlink:href=\"#md88cf1252a\" x=\"178.756899\" y=\"103.832368\" style=\"fill: #1f77b4; stroke: #1f77b4\"/>\n",
       "     <use xlink:href=\"#md88cf1252a\" x=\"153.41845\" y=\"100.377604\" style=\"fill: #1f77b4; stroke: #1f77b4\"/>\n",
       "     <use xlink:href=\"#md88cf1252a\" x=\"131.398881\" y=\"82.985185\" style=\"fill: #1f77b4; stroke: #1f77b4\"/>\n",
       "     <use xlink:href=\"#md88cf1252a\" x=\"121.230743\" y=\"84.264806\" style=\"fill: #1f77b4; stroke: #1f77b4\"/>\n",
       "     <use xlink:href=\"#md88cf1252a\" x=\"164.130764\" y=\"95.891603\" style=\"fill: #1f77b4; stroke: #1f77b4\"/>\n",
       "     <use xlink:href=\"#md88cf1252a\" x=\"102.603321\" y=\"73.522464\" style=\"fill: #1f77b4; stroke: #1f77b4\"/>\n",
       "     <use xlink:href=\"#md88cf1252a\" x=\"86.867279\" y=\"51.584323\" style=\"fill: #1f77b4; stroke: #1f77b4\"/>\n",
       "     <use xlink:href=\"#md88cf1252a\" x=\"119.354887\" y=\"75.592977\" style=\"fill: #1f77b4; stroke: #1f77b4\"/>\n",
       "     <use xlink:href=\"#md88cf1252a\" x=\"188.032182\" y=\"109.122908\" style=\"fill: #1f77b4; stroke: #1f77b4\"/>\n",
       "     <use xlink:href=\"#md88cf1252a\" x=\"151.42872\" y=\"103.803423\" style=\"fill: #1f77b4; stroke: #1f77b4\"/>\n",
       "     <use xlink:href=\"#md88cf1252a\" x=\"128.840589\" y=\"74.465113\" style=\"fill: #1f77b4; stroke: #1f77b4\"/>\n",
       "     <use xlink:href=\"#md88cf1252a\" x=\"135.467189\" y=\"82.592001\" style=\"fill: #1f77b4; stroke: #1f77b4\"/>\n",
       "     <use xlink:href=\"#md88cf1252a\" x=\"114.220988\" y=\"70.271513\" style=\"fill: #1f77b4; stroke: #1f77b4\"/>\n",
       "     <use xlink:href=\"#md88cf1252a\" x=\"148.64309\" y=\"81.53865\" style=\"fill: #1f77b4; stroke: #1f77b4\"/>\n",
       "     <use xlink:href=\"#md88cf1252a\" x=\"138.228256\" y=\"79.791593\" style=\"fill: #1f77b4; stroke: #1f77b4\"/>\n",
       "     <use xlink:href=\"#md88cf1252a\" x=\"130.717959\" y=\"81.162662\" style=\"fill: #1f77b4; stroke: #1f77b4\"/>\n",
       "     <use xlink:href=\"#md88cf1252a\" x=\"159.59103\" y=\"103.83877\" style=\"fill: #1f77b4; stroke: #1f77b4\"/>\n",
       "     <use xlink:href=\"#md88cf1252a\" x=\"122.522555\" y=\"84.937118\" style=\"fill: #1f77b4; stroke: #1f77b4\"/>\n",
       "     <use xlink:href=\"#md88cf1252a\" x=\"55.760099\" y=\"54.161837\" style=\"fill: #1f77b4; stroke: #1f77b4\"/>\n",
       "     <use xlink:href=\"#md88cf1252a\" x=\"148.984436\" y=\"99.549089\" style=\"fill: #1f77b4; stroke: #1f77b4\"/>\n",
       "     <use xlink:href=\"#md88cf1252a\" x=\"151.127126\" y=\"96.942048\" style=\"fill: #1f77b4; stroke: #1f77b4\"/>\n",
       "     <use xlink:href=\"#md88cf1252a\" x=\"126.720367\" y=\"86.849903\" style=\"fill: #1f77b4; stroke: #1f77b4\"/>\n",
       "     <use xlink:href=\"#md88cf1252a\" x=\"182.128126\" y=\"114.079103\" style=\"fill: #1f77b4; stroke: #1f77b4\"/>\n",
       "     <use xlink:href=\"#md88cf1252a\" x=\"57.894089\" y=\"49.499386\" style=\"fill: #1f77b4; stroke: #1f77b4\"/>\n",
       "     <use xlink:href=\"#md88cf1252a\" x=\"132.966358\" y=\"83.516171\" style=\"fill: #1f77b4; stroke: #1f77b4\"/>\n",
       "     <use xlink:href=\"#md88cf1252a\" x=\"125.980161\" y=\"73.918133\" style=\"fill: #1f77b4; stroke: #1f77b4\"/>\n",
       "     <use xlink:href=\"#md88cf1252a\" x=\"119.600279\" y=\"70.581232\" style=\"fill: #1f77b4; stroke: #1f77b4\"/>\n",
       "     <use xlink:href=\"#md88cf1252a\" x=\"172.786191\" y=\"107.168586\" style=\"fill: #1f77b4; stroke: #1f77b4\"/>\n",
       "     <use xlink:href=\"#md88cf1252a\" x=\"107.431832\" y=\"68.093913\" style=\"fill: #1f77b4; stroke: #1f77b4\"/>\n",
       "     <use xlink:href=\"#md88cf1252a\" x=\"153.793668\" y=\"89.006362\" style=\"fill: #1f77b4; stroke: #1f77b4\"/>\n",
       "     <use xlink:href=\"#md88cf1252a\" x=\"128.969318\" y=\"79.194067\" style=\"fill: #1f77b4; stroke: #1f77b4\"/>\n",
       "     <use xlink:href=\"#md88cf1252a\" x=\"85.999559\" y=\"66.968258\" style=\"fill: #1f77b4; stroke: #1f77b4\"/>\n",
       "     <use xlink:href=\"#md88cf1252a\" x=\"125.522924\" y=\"74.802947\" style=\"fill: #1f77b4; stroke: #1f77b4\"/>\n",
       "     <use xlink:href=\"#md88cf1252a\" x=\"116.230943\" y=\"91.494493\" style=\"fill: #1f77b4; stroke: #1f77b4\"/>\n",
       "     <use xlink:href=\"#md88cf1252a\" x=\"106.542978\" y=\"69.571604\" style=\"fill: #1f77b4; stroke: #1f77b4\"/>\n",
       "     <use xlink:href=\"#md88cf1252a\" x=\"116.516867\" y=\"78.059527\" style=\"fill: #1f77b4; stroke: #1f77b4\"/>\n",
       "     <use xlink:href=\"#md88cf1252a\" x=\"116.57576\" y=\"73.009083\" style=\"fill: #1f77b4; stroke: #1f77b4\"/>\n",
       "     <use xlink:href=\"#md88cf1252a\" x=\"126.341611\" y=\"78.237582\" style=\"fill: #1f77b4; stroke: #1f77b4\"/>\n",
       "     <use xlink:href=\"#md88cf1252a\" x=\"103.2819\" y=\"65.448896\" style=\"fill: #1f77b4; stroke: #1f77b4\"/>\n",
       "     <use xlink:href=\"#md88cf1252a\" x=\"162.679041\" y=\"107.649115\" style=\"fill: #1f77b4; stroke: #1f77b4\"/>\n",
       "     <use xlink:href=\"#md88cf1252a\" x=\"99.214956\" y=\"49.949563\" style=\"fill: #1f77b4; stroke: #1f77b4\"/>\n",
       "     <use xlink:href=\"#md88cf1252a\" x=\"133.451381\" y=\"80.324312\" style=\"fill: #1f77b4; stroke: #1f77b4\"/>\n",
       "     <use xlink:href=\"#md88cf1252a\" x=\"116.389509\" y=\"96.059014\" style=\"fill: #1f77b4; stroke: #1f77b4\"/>\n",
       "     <use xlink:href=\"#md88cf1252a\" x=\"142.164757\" y=\"94.229277\" style=\"fill: #1f77b4; stroke: #1f77b4\"/>\n",
       "     <use xlink:href=\"#md88cf1252a\" x=\"156.067805\" y=\"84.418771\" style=\"fill: #1f77b4; stroke: #1f77b4\"/>\n",
       "     <use xlink:href=\"#md88cf1252a\" x=\"140.455345\" y=\"87.457441\" style=\"fill: #1f77b4; stroke: #1f77b4\"/>\n",
       "     <use xlink:href=\"#md88cf1252a\" x=\"120.989717\" y=\"75.78117\" style=\"fill: #1f77b4; stroke: #1f77b4\"/>\n",
       "     <use xlink:href=\"#md88cf1252a\" x=\"120.218173\" y=\"81.847768\" style=\"fill: #1f77b4; stroke: #1f77b4\"/>\n",
       "     <use xlink:href=\"#md88cf1252a\" x=\"122.391543\" y=\"75.173128\" style=\"fill: #1f77b4; stroke: #1f77b4\"/>\n",
       "     <use xlink:href=\"#md88cf1252a\" x=\"137.414986\" y=\"99.083008\" style=\"fill: #1f77b4; stroke: #1f77b4\"/>\n",
       "     <use xlink:href=\"#md88cf1252a\" x=\"149.049789\" y=\"95.936124\" style=\"fill: #1f77b4; stroke: #1f77b4\"/>\n",
       "     <use xlink:href=\"#md88cf1252a\" x=\"106.355896\" y=\"63.859366\" style=\"fill: #1f77b4; stroke: #1f77b4\"/>\n",
       "     <use xlink:href=\"#md88cf1252a\" x=\"137.391089\" y=\"98.01453\" style=\"fill: #1f77b4; stroke: #1f77b4\"/>\n",
       "     <use xlink:href=\"#md88cf1252a\" x=\"115.358438\" y=\"74.870184\" style=\"fill: #1f77b4; stroke: #1f77b4\"/>\n",
       "     <use xlink:href=\"#md88cf1252a\" x=\"93.986239\" y=\"70.290849\" style=\"fill: #1f77b4; stroke: #1f77b4\"/>\n",
       "     <use xlink:href=\"#md88cf1252a\" x=\"147.870694\" y=\"95.779411\" style=\"fill: #1f77b4; stroke: #1f77b4\"/>\n",
       "     <use xlink:href=\"#md88cf1252a\" x=\"179.888082\" y=\"116.60288\" style=\"fill: #1f77b4; stroke: #1f77b4\"/>\n",
       "     <use xlink:href=\"#md88cf1252a\" x=\"103.544773\" y=\"69.577609\" style=\"fill: #1f77b4; stroke: #1f77b4\"/>\n",
       "     <use xlink:href=\"#md88cf1252a\" x=\"97.487791\" y=\"64.033938\" style=\"fill: #1f77b4; stroke: #1f77b4\"/>\n",
       "     <use xlink:href=\"#md88cf1252a\" x=\"120.541349\" y=\"89.726818\" style=\"fill: #1f77b4; stroke: #1f77b4\"/>\n",
       "     <use xlink:href=\"#md88cf1252a\" x=\"140.213514\" y=\"91.873304\" style=\"fill: #1f77b4; stroke: #1f77b4\"/>\n",
       "     <use xlink:href=\"#md88cf1252a\" x=\"123.070127\" y=\"84.507625\" style=\"fill: #1f77b4; stroke: #1f77b4\"/>\n",
       "     <use xlink:href=\"#md88cf1252a\" x=\"97.402346\" y=\"67.557518\" style=\"fill: #1f77b4; stroke: #1f77b4\"/>\n",
       "     <use xlink:href=\"#md88cf1252a\" x=\"159.474878\" y=\"111.886483\" style=\"fill: #1f77b4; stroke: #1f77b4\"/>\n",
       "     <use xlink:href=\"#md88cf1252a\" x=\"139.326659\" y=\"79.555384\" style=\"fill: #1f77b4; stroke: #1f77b4\"/>\n",
       "     <use xlink:href=\"#md88cf1252a\" x=\"170.442125\" y=\"114.719756\" style=\"fill: #1f77b4; stroke: #1f77b4\"/>\n",
       "     <use xlink:href=\"#md88cf1252a\" x=\"156.427314\" y=\"108.125155\" style=\"fill: #1f77b4; stroke: #1f77b4\"/>\n",
       "     <use xlink:href=\"#md88cf1252a\" x=\"103.332659\" y=\"63.978225\" style=\"fill: #1f77b4; stroke: #1f77b4\"/>\n",
       "     <use xlink:href=\"#md88cf1252a\" x=\"93.644857\" y=\"70.674537\" style=\"fill: #1f77b4; stroke: #1f77b4\"/>\n",
       "     <use xlink:href=\"#md88cf1252a\" x=\"86.740134\" y=\"57.577949\" style=\"fill: #1f77b4; stroke: #1f77b4\"/>\n",
       "     <use xlink:href=\"#md88cf1252a\" x=\"175.220689\" y=\"102.995015\" style=\"fill: #1f77b4; stroke: #1f77b4\"/>\n",
       "     <use xlink:href=\"#md88cf1252a\" x=\"88.55533\" y=\"29.812516\" style=\"fill: #1f77b4; stroke: #1f77b4\"/>\n",
       "     <use xlink:href=\"#md88cf1252a\" x=\"95.053021\" y=\"64.224602\" style=\"fill: #1f77b4; stroke: #1f77b4\"/>\n",
       "     <use xlink:href=\"#md88cf1252a\" x=\"131.313193\" y=\"102.896752\" style=\"fill: #1f77b4; stroke: #1f77b4\"/>\n",
       "     <use xlink:href=\"#md88cf1252a\" x=\"82.295702\" y=\"38.994677\" style=\"fill: #1f77b4; stroke: #1f77b4\"/>\n",
       "     <use xlink:href=\"#md88cf1252a\" x=\"147.679144\" y=\"96.43602\" style=\"fill: #1f77b4; stroke: #1f77b4\"/>\n",
       "     <use xlink:href=\"#md88cf1252a\" x=\"107.866372\" y=\"73.629406\" style=\"fill: #1f77b4; stroke: #1f77b4\"/>\n",
       "     <use xlink:href=\"#md88cf1252a\" x=\"127.040903\" y=\"82.686723\" style=\"fill: #1f77b4; stroke: #1f77b4\"/>\n",
       "     <use xlink:href=\"#md88cf1252a\" x=\"113.765434\" y=\"58.128209\" style=\"fill: #1f77b4; stroke: #1f77b4\"/>\n",
       "     <use xlink:href=\"#md88cf1252a\" x=\"112.817566\" y=\"76.11236\" style=\"fill: #1f77b4; stroke: #1f77b4\"/>\n",
       "     <use xlink:href=\"#md88cf1252a\" x=\"139.566614\" y=\"86.282973\" style=\"fill: #1f77b4; stroke: #1f77b4\"/>\n",
       "     <use xlink:href=\"#md88cf1252a\" x=\"125.632399\" y=\"78.163728\" style=\"fill: #1f77b4; stroke: #1f77b4\"/>\n",
       "     <use xlink:href=\"#md88cf1252a\" x=\"125.334148\" y=\"84.533907\" style=\"fill: #1f77b4; stroke: #1f77b4\"/>\n",
       "     <use xlink:href=\"#md88cf1252a\" x=\"35.802273\" y=\"14.496018\" style=\"fill: #1f77b4; stroke: #1f77b4\"/>\n",
       "     <use xlink:href=\"#md88cf1252a\" x=\"86.414888\" y=\"71.467601\" style=\"fill: #1f77b4; stroke: #1f77b4\"/>\n",
       "     <use xlink:href=\"#md88cf1252a\" x=\"112.572504\" y=\"85.433812\" style=\"fill: #1f77b4; stroke: #1f77b4\"/>\n",
       "     <use xlink:href=\"#md88cf1252a\" x=\"132.234328\" y=\"101.405243\" style=\"fill: #1f77b4; stroke: #1f77b4\"/>\n",
       "     <use xlink:href=\"#md88cf1252a\" x=\"90.555047\" y=\"62.129621\" style=\"fill: #1f77b4; stroke: #1f77b4\"/>\n",
       "     <use xlink:href=\"#md88cf1252a\" x=\"106.989353\" y=\"77.280063\" style=\"fill: #1f77b4; stroke: #1f77b4\"/>\n",
       "     <use xlink:href=\"#md88cf1252a\" x=\"161.119297\" y=\"100.477288\" style=\"fill: #1f77b4; stroke: #1f77b4\"/>\n",
       "     <use xlink:href=\"#md88cf1252a\" x=\"126.066365\" y=\"93.256554\" style=\"fill: #1f77b4; stroke: #1f77b4\"/>\n",
       "     <use xlink:href=\"#md88cf1252a\" x=\"152.208845\" y=\"91.227155\" style=\"fill: #1f77b4; stroke: #1f77b4\"/>\n",
       "     <use xlink:href=\"#md88cf1252a\" x=\"101.091823\" y=\"68.608439\" style=\"fill: #1f77b4; stroke: #1f77b4\"/>\n",
       "     <use xlink:href=\"#md88cf1252a\" x=\"116.894349\" y=\"56.491453\" style=\"fill: #1f77b4; stroke: #1f77b4\"/>\n",
       "     <use xlink:href=\"#md88cf1252a\" x=\"120.615117\" y=\"93.691738\" style=\"fill: #1f77b4; stroke: #1f77b4\"/>\n",
       "     <use xlink:href=\"#md88cf1252a\" x=\"130.857598\" y=\"79.61639\" style=\"fill: #1f77b4; stroke: #1f77b4\"/>\n",
       "     <use xlink:href=\"#md88cf1252a\" x=\"124.606998\" y=\"70.054462\" style=\"fill: #1f77b4; stroke: #1f77b4\"/>\n",
       "     <use xlink:href=\"#md88cf1252a\" x=\"102.654093\" y=\"73.093733\" style=\"fill: #1f77b4; stroke: #1f77b4\"/>\n",
       "     <use xlink:href=\"#md88cf1252a\" x=\"134.807717\" y=\"80.396674\" style=\"fill: #1f77b4; stroke: #1f77b4\"/>\n",
       "     <use xlink:href=\"#md88cf1252a\" x=\"168.944093\" y=\"98.192634\" style=\"fill: #1f77b4; stroke: #1f77b4\"/>\n",
       "     <use xlink:href=\"#md88cf1252a\" x=\"148.080675\" y=\"86.976709\" style=\"fill: #1f77b4; stroke: #1f77b4\"/>\n",
       "     <use xlink:href=\"#md88cf1252a\" x=\"137.558214\" y=\"88.351849\" style=\"fill: #1f77b4; stroke: #1f77b4\"/>\n",
       "     <use xlink:href=\"#md88cf1252a\" x=\"179.384183\" y=\"120.22988\" style=\"fill: #1f77b4; stroke: #1f77b4\"/>\n",
       "     <use xlink:href=\"#md88cf1252a\" x=\"154.614452\" y=\"101.264046\" style=\"fill: #1f77b4; stroke: #1f77b4\"/>\n",
       "     <use xlink:href=\"#md88cf1252a\" x=\"148.645049\" y=\"104.799537\" style=\"fill: #1f77b4; stroke: #1f77b4\"/>\n",
       "     <use xlink:href=\"#md88cf1252a\" x=\"96.320984\" y=\"54.153925\" style=\"fill: #1f77b4; stroke: #1f77b4\"/>\n",
       "     <use xlink:href=\"#md88cf1252a\" x=\"182.169025\" y=\"111.567405\" style=\"fill: #1f77b4; stroke: #1f77b4\"/>\n",
       "     <use xlink:href=\"#md88cf1252a\" x=\"157.138287\" y=\"114.093414\" style=\"fill: #1f77b4; stroke: #1f77b4\"/>\n",
       "     <use xlink:href=\"#md88cf1252a\" x=\"120.058427\" y=\"80.549866\" style=\"fill: #1f77b4; stroke: #1f77b4\"/>\n",
       "     <use xlink:href=\"#md88cf1252a\" x=\"108.105218\" y=\"70.355283\" style=\"fill: #1f77b4; stroke: #1f77b4\"/>\n",
       "     <use xlink:href=\"#md88cf1252a\" x=\"137.501491\" y=\"85.067786\" style=\"fill: #1f77b4; stroke: #1f77b4\"/>\n",
       "     <use xlink:href=\"#md88cf1252a\" x=\"134.872611\" y=\"64.031499\" style=\"fill: #1f77b4; stroke: #1f77b4\"/>\n",
       "     <use xlink:href=\"#md88cf1252a\" x=\"114.003524\" y=\"70.128407\" style=\"fill: #1f77b4; stroke: #1f77b4\"/>\n",
       "     <use xlink:href=\"#md88cf1252a\" x=\"128.304761\" y=\"81.761009\" style=\"fill: #1f77b4; stroke: #1f77b4\"/>\n",
       "     <use xlink:href=\"#md88cf1252a\" x=\"144.628808\" y=\"73.98085\" style=\"fill: #1f77b4; stroke: #1f77b4\"/>\n",
       "     <use xlink:href=\"#md88cf1252a\" x=\"137.946657\" y=\"75.683829\" style=\"fill: #1f77b4; stroke: #1f77b4\"/>\n",
       "     <use xlink:href=\"#md88cf1252a\" x=\"98.199481\" y=\"70.6489\" style=\"fill: #1f77b4; stroke: #1f77b4\"/>\n",
       "     <use xlink:href=\"#md88cf1252a\" x=\"117.246717\" y=\"82.952747\" style=\"fill: #1f77b4; stroke: #1f77b4\"/>\n",
       "     <use xlink:href=\"#md88cf1252a\" x=\"129.556966\" y=\"96.910035\" style=\"fill: #1f77b4; stroke: #1f77b4\"/>\n",
       "     <use xlink:href=\"#md88cf1252a\" x=\"101.380286\" y=\"64.200149\" style=\"fill: #1f77b4; stroke: #1f77b4\"/>\n",
       "     <use xlink:href=\"#md88cf1252a\" x=\"118.04205\" y=\"77.243213\" style=\"fill: #1f77b4; stroke: #1f77b4\"/>\n",
       "     <use xlink:href=\"#md88cf1252a\" x=\"161.061154\" y=\"107.177996\" style=\"fill: #1f77b4; stroke: #1f77b4\"/>\n",
       "     <use xlink:href=\"#md88cf1252a\" x=\"136.248244\" y=\"91.183379\" style=\"fill: #1f77b4; stroke: #1f77b4\"/>\n",
       "     <use xlink:href=\"#md88cf1252a\" x=\"96.396258\" y=\"64.353277\" style=\"fill: #1f77b4; stroke: #1f77b4\"/>\n",
       "     <use xlink:href=\"#md88cf1252a\" x=\"141.37494\" y=\"93.8761\" style=\"fill: #1f77b4; stroke: #1f77b4\"/>\n",
       "     <use xlink:href=\"#md88cf1252a\" x=\"143.961347\" y=\"82.30132\" style=\"fill: #1f77b4; stroke: #1f77b4\"/>\n",
       "     <use xlink:href=\"#md88cf1252a\" x=\"109.836302\" y=\"61.90328\" style=\"fill: #1f77b4; stroke: #1f77b4\"/>\n",
       "     <use xlink:href=\"#md88cf1252a\" x=\"92.862565\" y=\"50.798473\" style=\"fill: #1f77b4; stroke: #1f77b4\"/>\n",
       "     <use xlink:href=\"#md88cf1252a\" x=\"159.9513\" y=\"100.809212\" style=\"fill: #1f77b4; stroke: #1f77b4\"/>\n",
       "     <use xlink:href=\"#md88cf1252a\" x=\"100.480399\" y=\"71.16886\" style=\"fill: #1f77b4; stroke: #1f77b4\"/>\n",
       "     <use xlink:href=\"#md88cf1252a\" x=\"100.218734\" y=\"57.301484\" style=\"fill: #1f77b4; stroke: #1f77b4\"/>\n",
       "     <use xlink:href=\"#md88cf1252a\" x=\"130.951456\" y=\"86.063221\" style=\"fill: #1f77b4; stroke: #1f77b4\"/>\n",
       "     <use xlink:href=\"#md88cf1252a\" x=\"147.58221\" y=\"88.59265\" style=\"fill: #1f77b4; stroke: #1f77b4\"/>\n",
       "     <use xlink:href=\"#md88cf1252a\" x=\"139.311761\" y=\"79.36557\" style=\"fill: #1f77b4; stroke: #1f77b4\"/>\n",
       "     <use xlink:href=\"#md88cf1252a\" x=\"120.143746\" y=\"83.1593\" style=\"fill: #1f77b4; stroke: #1f77b4\"/>\n",
       "     <use xlink:href=\"#md88cf1252a\" x=\"106.372583\" y=\"63.35042\" style=\"fill: #1f77b4; stroke: #1f77b4\"/>\n",
       "     <use xlink:href=\"#md88cf1252a\" x=\"113.984444\" y=\"74.659694\" style=\"fill: #1f77b4; stroke: #1f77b4\"/>\n",
       "     <use xlink:href=\"#md88cf1252a\" x=\"107.976248\" y=\"82.497131\" style=\"fill: #1f77b4; stroke: #1f77b4\"/>\n",
       "     <use xlink:href=\"#md88cf1252a\" x=\"113.721796\" y=\"72.000449\" style=\"fill: #1f77b4; stroke: #1f77b4\"/>\n",
       "     <use xlink:href=\"#md88cf1252a\" x=\"131.058915\" y=\"74.756645\" style=\"fill: #1f77b4; stroke: #1f77b4\"/>\n",
       "     <use xlink:href=\"#md88cf1252a\" x=\"101.803021\" y=\"73.438819\" style=\"fill: #1f77b4; stroke: #1f77b4\"/>\n",
       "     <use xlink:href=\"#md88cf1252a\" x=\"105.364126\" y=\"68.1338\" style=\"fill: #1f77b4; stroke: #1f77b4\"/>\n",
       "     <use xlink:href=\"#md88cf1252a\" x=\"94.032866\" y=\"67.350051\" style=\"fill: #1f77b4; stroke: #1f77b4\"/>\n",
       "     <use xlink:href=\"#md88cf1252a\" x=\"143.672263\" y=\"79.619212\" style=\"fill: #1f77b4; stroke: #1f77b4\"/>\n",
       "     <use xlink:href=\"#md88cf1252a\" x=\"111.031128\" y=\"57.609086\" style=\"fill: #1f77b4; stroke: #1f77b4\"/>\n",
       "     <use xlink:href=\"#md88cf1252a\" x=\"134.144584\" y=\"80.685484\" style=\"fill: #1f77b4; stroke: #1f77b4\"/>\n",
       "     <use xlink:href=\"#md88cf1252a\" x=\"190.082796\" y=\"109.159057\" style=\"fill: #1f77b4; stroke: #1f77b4\"/>\n",
       "     <use xlink:href=\"#md88cf1252a\" x=\"151.597174\" y=\"104.107902\" style=\"fill: #1f77b4; stroke: #1f77b4\"/>\n",
       "     <use xlink:href=\"#md88cf1252a\" x=\"123.910299\" y=\"88.574242\" style=\"fill: #1f77b4; stroke: #1f77b4\"/>\n",
       "     <use xlink:href=\"#md88cf1252a\" x=\"122.251487\" y=\"89.435418\" style=\"fill: #1f77b4; stroke: #1f77b4\"/>\n",
       "     <use xlink:href=\"#md88cf1252a\" x=\"134.89111\" y=\"61.464937\" style=\"fill: #1f77b4; stroke: #1f77b4\"/>\n",
       "     <use xlink:href=\"#md88cf1252a\" x=\"190.921093\" y=\"128.40473\" style=\"fill: #1f77b4; stroke: #1f77b4\"/>\n",
       "     <use xlink:href=\"#md88cf1252a\" x=\"162.538032\" y=\"108.664936\" style=\"fill: #1f77b4; stroke: #1f77b4\"/>\n",
       "     <use xlink:href=\"#md88cf1252a\" x=\"129.325336\" y=\"92.187093\" style=\"fill: #1f77b4; stroke: #1f77b4\"/>\n",
       "     <use xlink:href=\"#md88cf1252a\" x=\"169.159732\" y=\"104.816222\" style=\"fill: #1f77b4; stroke: #1f77b4\"/>\n",
       "     <use xlink:href=\"#md88cf1252a\" x=\"121.338008\" y=\"87.28645\" style=\"fill: #1f77b4; stroke: #1f77b4\"/>\n",
       "     <use xlink:href=\"#md88cf1252a\" x=\"121.745825\" y=\"91.925377\" style=\"fill: #1f77b4; stroke: #1f77b4\"/>\n",
       "     <use xlink:href=\"#md88cf1252a\" x=\"116.797949\" y=\"70.507181\" style=\"fill: #1f77b4; stroke: #1f77b4\"/>\n",
       "     <use xlink:href=\"#md88cf1252a\" x=\"121.262982\" y=\"66.805355\" style=\"fill: #1f77b4; stroke: #1f77b4\"/>\n",
       "     <use xlink:href=\"#md88cf1252a\" x=\"136.628477\" y=\"99.311441\" style=\"fill: #1f77b4; stroke: #1f77b4\"/>\n",
       "    </g>\n",
       "   </g>\n",
       "   <g id=\"matplotlib.axis_1\">\n",
       "    <g id=\"xtick_1\">\n",
       "     <g id=\"line2d_1\">\n",
       "      <defs>\n",
       "       <path id=\"maec0ba4e8b\" d=\"M 0 0 \n",
       "L 0 3.5 \n",
       "\" style=\"stroke: #000000; stroke-width: 0.8\"/>\n",
       "      </defs>\n",
       "      <g>\n",
       "       <use xlink:href=\"#maec0ba4e8b\" x=\"78.991161\" y=\"146.796018\" style=\"stroke: #000000; stroke-width: 0.8\"/>\n",
       "      </g>\n",
       "     </g>\n",
       "     <g id=\"text_1\">\n",
       "      <!-- −2 -->\n",
       "      <g transform=\"translate(71.620067 161.394455) scale(0.1 -0.1)\">\n",
       "       <defs>\n",
       "        <path id=\"DejaVuSans-2212\" d=\"M 678 2272 \n",
       "L 4684 2272 \n",
       "L 4684 1741 \n",
       "L 678 1741 \n",
       "L 678 2272 \n",
       "z\n",
       "\" transform=\"scale(0.015625)\"/>\n",
       "        <path id=\"DejaVuSans-32\" d=\"M 1228 531 \n",
       "L 3431 531 \n",
       "L 3431 0 \n",
       "L 469 0 \n",
       "L 469 531 \n",
       "Q 828 903 1448 1529 \n",
       "Q 2069 2156 2228 2338 \n",
       "Q 2531 2678 2651 2914 \n",
       "Q 2772 3150 2772 3378 \n",
       "Q 2772 3750 2511 3984 \n",
       "Q 2250 4219 1831 4219 \n",
       "Q 1534 4219 1204 4116 \n",
       "Q 875 4013 500 3803 \n",
       "L 500 4441 \n",
       "Q 881 4594 1212 4672 \n",
       "Q 1544 4750 1819 4750 \n",
       "Q 2544 4750 2975 4387 \n",
       "Q 3406 4025 3406 3419 \n",
       "Q 3406 3131 3298 2873 \n",
       "Q 3191 2616 2906 2266 \n",
       "Q 2828 2175 2409 1742 \n",
       "Q 1991 1309 1228 531 \n",
       "z\n",
       "\" transform=\"scale(0.015625)\"/>\n",
       "       </defs>\n",
       "       <use xlink:href=\"#DejaVuSans-2212\"/>\n",
       "       <use xlink:href=\"#DejaVuSans-32\" x=\"83.789062\"/>\n",
       "      </g>\n",
       "     </g>\n",
       "    </g>\n",
       "    <g id=\"xtick_2\">\n",
       "     <g id=\"line2d_2\">\n",
       "      <g>\n",
       "       <use xlink:href=\"#maec0ba4e8b\" x=\"131.507077\" y=\"146.796018\" style=\"stroke: #000000; stroke-width: 0.8\"/>\n",
       "      </g>\n",
       "     </g>\n",
       "     <g id=\"text_2\">\n",
       "      <!-- 0 -->\n",
       "      <g transform=\"translate(128.325827 161.394455) scale(0.1 -0.1)\">\n",
       "       <defs>\n",
       "        <path id=\"DejaVuSans-30\" d=\"M 2034 4250 \n",
       "Q 1547 4250 1301 3770 \n",
       "Q 1056 3291 1056 2328 \n",
       "Q 1056 1369 1301 889 \n",
       "Q 1547 409 2034 409 \n",
       "Q 2525 409 2770 889 \n",
       "Q 3016 1369 3016 2328 \n",
       "Q 3016 3291 2770 3770 \n",
       "Q 2525 4250 2034 4250 \n",
       "z\n",
       "M 2034 4750 \n",
       "Q 2819 4750 3233 4129 \n",
       "Q 3647 3509 3647 2328 \n",
       "Q 3647 1150 3233 529 \n",
       "Q 2819 -91 2034 -91 \n",
       "Q 1250 -91 836 529 \n",
       "Q 422 1150 422 2328 \n",
       "Q 422 3509 836 4129 \n",
       "Q 1250 4750 2034 4750 \n",
       "z\n",
       "\" transform=\"scale(0.015625)\"/>\n",
       "       </defs>\n",
       "       <use xlink:href=\"#DejaVuSans-30\"/>\n",
       "      </g>\n",
       "     </g>\n",
       "    </g>\n",
       "    <g id=\"xtick_3\">\n",
       "     <g id=\"line2d_3\">\n",
       "      <g>\n",
       "       <use xlink:href=\"#maec0ba4e8b\" x=\"184.022994\" y=\"146.796018\" style=\"stroke: #000000; stroke-width: 0.8\"/>\n",
       "      </g>\n",
       "     </g>\n",
       "     <g id=\"text_3\">\n",
       "      <!-- 2 -->\n",
       "      <g transform=\"translate(180.841744 161.394455) scale(0.1 -0.1)\">\n",
       "       <use xlink:href=\"#DejaVuSans-32\"/>\n",
       "      </g>\n",
       "     </g>\n",
       "    </g>\n",
       "   </g>\n",
       "   <g id=\"matplotlib.axis_2\">\n",
       "    <g id=\"ytick_1\">\n",
       "     <g id=\"line2d_4\">\n",
       "      <defs>\n",
       "       <path id=\"md4b3f449af\" d=\"M 0 0 \n",
       "L -3.5 0 \n",
       "\" style=\"stroke: #000000; stroke-width: 0.8\"/>\n",
       "      </defs>\n",
       "      <g>\n",
       "       <use xlink:href=\"#md4b3f449af\" x=\"26.925\" y=\"102.982589\" style=\"stroke: #000000; stroke-width: 0.8\"/>\n",
       "      </g>\n",
       "     </g>\n",
       "     <g id=\"text_4\">\n",
       "      <!-- 0 -->\n",
       "      <g transform=\"translate(13.5625 106.781808) scale(0.1 -0.1)\">\n",
       "       <use xlink:href=\"#DejaVuSans-30\"/>\n",
       "      </g>\n",
       "     </g>\n",
       "    </g>\n",
       "    <g id=\"ytick_2\">\n",
       "     <g id=\"line2d_5\">\n",
       "      <g>\n",
       "       <use xlink:href=\"#md4b3f449af\" x=\"26.925\" y=\"56.990904\" style=\"stroke: #000000; stroke-width: 0.8\"/>\n",
       "      </g>\n",
       "     </g>\n",
       "     <g id=\"text_5\">\n",
       "      <!-- 10 -->\n",
       "      <g transform=\"translate(7.2 60.790123) scale(0.1 -0.1)\">\n",
       "       <defs>\n",
       "        <path id=\"DejaVuSans-31\" d=\"M 794 531 \n",
       "L 1825 531 \n",
       "L 1825 4091 \n",
       "L 703 3866 \n",
       "L 703 4441 \n",
       "L 1819 4666 \n",
       "L 2450 4666 \n",
       "L 2450 531 \n",
       "L 3481 531 \n",
       "L 3481 0 \n",
       "L 794 0 \n",
       "L 794 531 \n",
       "z\n",
       "\" transform=\"scale(0.015625)\"/>\n",
       "       </defs>\n",
       "       <use xlink:href=\"#DejaVuSans-31\"/>\n",
       "       <use xlink:href=\"#DejaVuSans-30\" x=\"63.623047\"/>\n",
       "      </g>\n",
       "     </g>\n",
       "    </g>\n",
       "    <g id=\"ytick_3\">\n",
       "     <g id=\"line2d_6\">\n",
       "      <g>\n",
       "       <use xlink:href=\"#md4b3f449af\" x=\"26.925\" y=\"10.999219\" style=\"stroke: #000000; stroke-width: 0.8\"/>\n",
       "      </g>\n",
       "     </g>\n",
       "     <g id=\"text_6\">\n",
       "      <!-- 20 -->\n",
       "      <g transform=\"translate(7.2 14.798438) scale(0.1 -0.1)\">\n",
       "       <use xlink:href=\"#DejaVuSans-32\"/>\n",
       "       <use xlink:href=\"#DejaVuSans-30\" x=\"63.623047\"/>\n",
       "      </g>\n",
       "     </g>\n",
       "    </g>\n",
       "   </g>\n",
       "   <g id=\"patch_3\">\n",
       "    <path d=\"M 26.925 146.796018 \n",
       "L 26.925 8.196018 \n",
       "\" style=\"fill: none; stroke: #000000; stroke-width: 0.8; stroke-linejoin: miter; stroke-linecap: square\"/>\n",
       "   </g>\n",
       "   <g id=\"patch_4\">\n",
       "    <path d=\"M 222.225 146.796018 \n",
       "L 222.225 8.196018 \n",
       "\" style=\"fill: none; stroke: #000000; stroke-width: 0.8; stroke-linejoin: miter; stroke-linecap: square\"/>\n",
       "   </g>\n",
       "   <g id=\"patch_5\">\n",
       "    <path d=\"M 26.925 146.796018 \n",
       "L 222.225 146.796018 \n",
       "\" style=\"fill: none; stroke: #000000; stroke-width: 0.8; stroke-linejoin: miter; stroke-linecap: square\"/>\n",
       "   </g>\n",
       "   <g id=\"patch_6\">\n",
       "    <path d=\"M 26.925 8.196018 \n",
       "L 222.225 8.196018 \n",
       "\" style=\"fill: none; stroke: #000000; stroke-width: 0.8; stroke-linejoin: miter; stroke-linecap: square\"/>\n",
       "   </g>\n",
       "  </g>\n",
       " </g>\n",
       " <defs>\n",
       "  <clipPath id=\"pc59ca81714\">\n",
       "   <rect x=\"26.925\" y=\"8.196018\" width=\"195.3\" height=\"138.6\"/>\n",
       "  </clipPath>\n",
       " </defs>\n",
       "</svg>\n"
      ],
      "text/plain": [
       "<Figure size 350x250 with 1 Axes>"
      ]
     },
     "metadata": {},
     "output_type": "display_data"
    }
   ],
   "source": [
    "fc.set_figsize()\n",
    "fc.plt.scatter(features[:, (1)].detach().numpy(), labels.detach().numpy())"
   ]
  },
  {
   "cell_type": "markdown",
   "metadata": {},
   "source": [
    "### 3.2.2 读取数据集"
   ]
  },
  {
   "cell_type": "markdown",
   "metadata": {},
   "source": [
    "#### 所以有必要定义一个函数，该函数能打乱数据集中的样本并以小批量方式获取数据"
   ]
  },
  {
   "cell_type": "code",
   "execution_count": 13,
   "metadata": {},
   "outputs": [],
   "source": [
    "def data_iter(batch_size, features, labels):\n",
    "    num_examples = len(features)\n",
    "    indices = list(range(num_examples))\n",
    "    random.shuffle(indices) # 随机读取\n",
    "    for i in range(0, num_examples, batch_size):\n",
    "        batch_indices = torch.tensor(indices[i : min(batch_size+i, num_examples)])\n",
    "        yield features[batch_indices], labels[batch_indices] # 保存结果"
   ]
  },
  {
   "cell_type": "markdown",
   "metadata": {},
   "source": [
    "#### 通常，我们利用GPU并行运算的优势，处理合理大小的“小批量”\n",
    "#### 每个样本和其损失函数的梯度都可以并行地进行模型计算"
   ]
  },
  {
   "cell_type": "code",
   "execution_count": 14,
   "metadata": {},
   "outputs": [
    {
     "name": "stdout",
     "output_type": "stream",
     "text": [
      "tensor([[-0.6424,  0.3071],\n",
      "        [ 0.6476, -1.1752],\n",
      "        [-0.0758,  1.8828],\n",
      "        [-1.4396, -0.4412],\n",
      "        [-0.6515, -1.1816],\n",
      "        [ 0.9424, -0.6412],\n",
      "        [ 0.0408, -0.1817],\n",
      "        [-1.4187, -1.3650],\n",
      "        [ 0.3034, -1.6927],\n",
      "        [-0.2428, -1.3883]]) \n",
      " tensor([[ 1.8837],\n",
      "        [ 9.4882],\n",
      "        [-2.3549],\n",
      "        [ 2.8076],\n",
      "        [ 6.9173],\n",
      "        [ 8.2568],\n",
      "        [ 4.8784],\n",
      "        [ 6.0142],\n",
      "        [10.5625],\n",
      "        [ 8.4272]])\n"
     ]
    }
   ],
   "source": [
    "batch_size = 10\n",
    "for X, y in data_iter(batch_size, features, labels):\n",
    "    print(X, '\\n', y)\n",
    "    break"
   ]
  },
  {
   "cell_type": "markdown",
   "metadata": {},
   "source": [
    "#### 深度学习框架中实现的内置迭代器效率要高得多， 它可以处理存储在文件中的数据和数据流提供的数据"
   ]
  },
  {
   "cell_type": "markdown",
   "metadata": {},
   "source": [
    "### 3.2.3. 初始化模型参数"
   ]
  },
  {
   "cell_type": "markdown",
   "metadata": {},
   "source": [
    "#### 我们通过从均值为0、标准差为0.01的正态分布中采样随机数来初始化权重， 并将偏置初始化为0"
   ]
  },
  {
   "cell_type": "code",
   "execution_count": 15,
   "metadata": {},
   "outputs": [],
   "source": [
    "w = torch.normal(0, 0.01, size=(2,1), requires_grad=True)\n",
    "b = torch.zeros(1, requires_grad=True)"
   ]
  },
  {
   "cell_type": "markdown",
   "metadata": {},
   "source": [
    "#### 在初始化参数之后，我们的任务是更新这些参数，直到这些参数足够拟合我们的数据\n",
    "#### 每次都计算损失函数关于模型的梯度，根据梯度，向减少损失的方向更新参数"
   ]
  },
  {
   "cell_type": "markdown",
   "metadata": {},
   "source": [
    "### 3.2.4. 定义模型"
   ]
  },
  {
   "cell_type": "markdown",
   "metadata": {},
   "source": [
    "#### 接下来，我们就要来定义模型，将模型的输入和输出关联上"
   ]
  },
  {
   "cell_type": "code",
   "execution_count": 16,
   "metadata": {},
   "outputs": [],
   "source": [
    "def linreg(X, w, b):\n",
    "    return torch.matmul(X, w) + b"
   ]
  },
  {
   "cell_type": "markdown",
   "metadata": {},
   "source": [
    "### 3.2.5. 定义损失函数"
   ]
  },
  {
   "cell_type": "markdown",
   "metadata": {},
   "source": [
    "#### 用到MSE（均方损失函数），真实值$y$要转换成与预测值$\\hat y$形状相同"
   ]
  },
  {
   "cell_type": "code",
   "execution_count": 17,
   "metadata": {},
   "outputs": [],
   "source": [
    "def squared_loss(y_hat, y):\n",
    "    return (y_hat - y.reshape(y_hat.shape)) ** 2 / 2"
   ]
  },
  {
   "cell_type": "markdown",
   "metadata": {},
   "source": [
    "### 3.2.6. 定义优化算法"
   ]
  },
  {
   "cell_type": "markdown",
   "metadata": {},
   "source": [
    "#### 线性回归有解析解，但其他模型却没有，接下来介绍小批量梯度下降\n",
    "#### 每一步中，随机抽取一个小批量，根据参数计算损失函数梯度\n",
    "#### 接下来，朝着减少损失的方向更新参数，下面用batch_size规定化步长"
   ]
  },
  {
   "cell_type": "code",
   "execution_count": 18,
   "metadata": {},
   "outputs": [],
   "source": [
    "def sgd(params, lr, batch_size):\n",
    "    with torch.no_grad():\n",
    "        for param in params:\n",
    "            param -= lr * param.grad / batch_size\n",
    "            param.grad.zero_()"
   ]
  },
  {
   "cell_type": "markdown",
   "metadata": {},
   "source": [
    "### 3.2.7. 训练"
   ]
  },
  {
   "cell_type": "markdown",
   "metadata": {},
   "source": [
    "#### 概括一下，我们将执行以下循环：\n",
    "##### 初始化参数\n",
    "##### 重复以下训练，直到完成\n",
    "#####   计算梯度$ \\mathbf{g} \\leftarrow \\partial_{(\\mathbf{w},b)} \\frac{1}{|\\mathcal{B}|} \\sum_{i \\in \\mathcal{B}} l(\\mathbf{x}^{(i)}, y^{(i)}, \\mathbf{w}, b)$\n",
    "#####   更新参数$ (\\mathbf{w}, b) \\leftarrow (\\mathbf{w}, b) - \\eta \\mathbf{g}$"
   ]
  },
  {
   "cell_type": "markdown",
   "metadata": {},
   "source": [
    "#### 在每个迭代周期（epoch）中，我们使用data_iter函数遍历整个数据集， 并将训练数据集中所有样本都使用一次"
   ]
  },
  {
   "cell_type": "code",
   "execution_count": 19,
   "metadata": {},
   "outputs": [
    {
     "name": "stdout",
     "output_type": "stream",
     "text": [
      "epoch 1, loss 0.029477\n",
      "epoch 2, loss 0.000103\n",
      "epoch 3, loss 0.000052\n"
     ]
    }
   ],
   "source": [
    "lr = 0.03\n",
    "num_epochs = 3\n",
    "net = linreg\n",
    "loss = squared_loss\n",
    "\n",
    "for epoch in range(num_epochs):\n",
    "    for X, y in data_iter(batch_size, features, labels):\n",
    "        l = loss(net(X, w, b), y)\n",
    "        l.sum().backward()\n",
    "        sgd([w, b], lr, batch_size)  # 使用参数的梯度更新参数\n",
    "    with torch.no_grad():\n",
    "        train_l = loss(net(features, w, b), labels)\n",
    "        print(f'epoch {epoch + 1}, loss {float(train_l.mean()):f}')"
   ]
  },
  {
   "cell_type": "code",
   "execution_count": 20,
   "metadata": {},
   "outputs": [
    {
     "name": "stdout",
     "output_type": "stream",
     "text": [
      "w的估计误差: tensor([ 0.0007, -0.0003], grad_fn=<SubBackward0>)\n",
      "b的估计误差: tensor([0.0002], grad_fn=<RsubBackward1>)\n"
     ]
    }
   ],
   "source": [
    "print(f'w的估计误差: {true_w - w.reshape(true_w.shape)}')\n",
    "print(f'b的估计误差: {true_b - b}')"
   ]
  },
  {
   "cell_type": "markdown",
   "metadata": {},
   "source": [
    "####  在机器学习中，我们通常不太关心恢复真正的参数，而更关心如何高度准确预测参数"
   ]
  },
  {
   "cell_type": "markdown",
   "metadata": {},
   "source": [
    "### 3.2.8. 小结"
   ]
  },
  {
   "cell_type": "markdown",
   "metadata": {},
   "source": [
    "#### 学习了深度网络是如何实现和优化的，这一过程中的张量和自动微分，无需定义层或复杂的优化器"
   ]
  },
  {
   "cell_type": "markdown",
   "metadata": {},
   "source": [
    "### 3.2.9. 练习"
   ]
  },
  {
   "cell_type": "markdown",
   "metadata": {},
   "source": [
    "##### 如果我们将权重初始化为零，会发生什么。算法仍然有效吗？\n",
    "##### 假设试图为电压和电流的关系建立一个模型。自动微分可以用来学习模型的参数吗?\n",
    "##### 能基于普朗克定律使用光谱能量密度来确定物体的温度吗？\n",
    "##### 计算二阶导数时可能会遇到什么问题？这些问题可以如何解决？\n",
    "##### 为什么在squared_loss函数中需要使用reshape函数？\n",
    "##### 尝试使用不同的学习率，观察损失函数值下降的快慢。\n",
    "##### 如果样本个数不能被批量大小整除，data_iter函数的行为会有什么变化？"
   ]
  },
  {
   "cell_type": "markdown",
   "metadata": {},
   "source": [
    "## 3.3. 线性回归的简洁实现"
   ]
  },
  {
   "cell_type": "markdown",
   "metadata": {},
   "source": [
    "#### 介绍如何通过使用深度学习框架来简洁地实现 3.2节中的线性回归模型"
   ]
  },
  {
   "cell_type": "markdown",
   "metadata": {},
   "source": [
    "### 3.3.1. 生成数据集"
   ]
  },
  {
   "cell_type": "code",
   "execution_count": 21,
   "metadata": {},
   "outputs": [],
   "source": [
    "import numpy\n",
    "from torch.utils import data\n",
    "\n",
    "true_w = torch.tensor([2, -3.4])\n",
    "true_b = 4.2\n",
    "features, labels = fc.synthetic_data(true_w, true_b, 1000)"
   ]
  },
  {
   "cell_type": "markdown",
   "metadata": {},
   "source": [
    "### 3.3.2 读取数据集"
   ]
  },
  {
   "cell_type": "markdown",
   "metadata": {},
   "source": [
    "#### 调用utils的data的TensorDataset和dataloader来读取数据"
   ]
  },
  {
   "cell_type": "code",
   "execution_count": 22,
   "metadata": {},
   "outputs": [],
   "source": [
    "def load_array(data_arrays, batch_size, is_train=True):  #@save\n",
    "    dataset = data.TensorDataset(*data_arrays)\n",
    "    return data.DataLoader(dataset, batch_size, shuffle=is_train) # 是否训练来决定是否洗牌\n",
    "\n",
    "batch_size = 10\n",
    "data_iter = load_array((features, labels), batch_size)"
   ]
  },
  {
   "cell_type": "markdown",
   "metadata": {},
   "source": [
    "#### 这里我们使用iter构造Python迭代器，并使用next从迭代器中获取第一项"
   ]
  },
  {
   "cell_type": "code",
   "execution_count": 23,
   "metadata": {},
   "outputs": [
    {
     "data": {
      "text/plain": [
       "[tensor([[ 3.3177, -0.8514],\n",
       "         [-0.5472, -0.3591],\n",
       "         [-0.5600,  0.4637],\n",
       "         [-0.4917, -0.2448],\n",
       "         [-0.4539, -0.4843],\n",
       "         [ 0.3800, -0.3272],\n",
       "         [ 1.2440,  0.8468],\n",
       "         [ 1.0907,  0.5093],\n",
       "         [ 1.3915, -1.1939],\n",
       "         [-1.9724, -2.0312]]),\n",
       " tensor([[13.7307],\n",
       "         [ 4.3203],\n",
       "         [ 1.4936],\n",
       "         [ 4.0448],\n",
       "         [ 4.9457],\n",
       "         [ 6.0751],\n",
       "         [ 3.7995],\n",
       "         [ 4.6486],\n",
       "         [11.0479],\n",
       "         [ 7.1515]])]"
      ]
     },
     "execution_count": 23,
     "metadata": {},
     "output_type": "execute_result"
    }
   ],
   "source": [
    "next(iter(data_iter))"
   ]
  },
  {
   "cell_type": "markdown",
   "metadata": {},
   "source": [
    "### 3.3.3. 定义模型"
   ]
  },
  {
   "cell_type": "markdown",
   "metadata": {},
   "source": [
    "#### 用框架的预定义好的层，这样可以专注工作\n",
    "#### 首先定义一个net，这是Sequential类的实例。 Sequential类将多个层串联起来\n",
    "#### 给定输入之后，Sequential会从第一层输出传入第二层的输入，以此类推"
   ]
  },
  {
   "cell_type": "markdown",
   "metadata": {},
   "source": [
    "#### 我们将两个参数传递到nn.Linear中。 第一个指定输入特征形状，即2，第二个指定输出特征形状，输出特征形状为单个标量，因此为1"
   ]
  },
  {
   "cell_type": "code",
   "execution_count": 24,
   "metadata": {},
   "outputs": [],
   "source": [
    "from torch import nn\n",
    "\n",
    "net = nn.Sequential(nn.Linear(2, 1))"
   ]
  },
  {
   "cell_type": "markdown",
   "metadata": {},
   "source": [
    "### 3.3.4. 初始化模型参数"
   ]
  },
  {
   "cell_type": "markdown",
   "metadata": {},
   "source": [
    "#### 如在线性回归模型中的权重和偏置,深度学习框架通常有预定义的方法来初始化参数"
   ]
  },
  {
   "cell_type": "code",
   "execution_count": 25,
   "metadata": {},
   "outputs": [
    {
     "data": {
      "text/plain": [
       "tensor([0.])"
      ]
     },
     "execution_count": 25,
     "metadata": {},
     "output_type": "execute_result"
    }
   ],
   "source": [
    "net[0].weight.data.normal_(0, 0.01)\n",
    "net[0].bias.data.fill_(0)"
   ]
  },
  {
   "cell_type": "markdown",
   "metadata": {},
   "source": [
    "### 3.3.5. 定义损失函数"
   ]
  },
  {
   "cell_type": "markdown",
   "metadata": {},
   "source": [
    "#### 计算均方误差使用的是MSELoss类，也称为平方$L_2$范数。默认情况返回所有样本损失的平均值"
   ]
  },
  {
   "cell_type": "code",
   "execution_count": 26,
   "metadata": {},
   "outputs": [],
   "source": [
    "loss = nn.MSELoss()"
   ]
  },
  {
   "cell_type": "markdown",
   "metadata": {},
   "source": [
    "### 3.3.6 定义优化算法"
   ]
  },
  {
   "cell_type": "markdown",
   "metadata": {},
   "source": [
    "#### 小批量随机梯度下降算法(mini-batch sgd)是一种优化神经网络的标准工具\n",
    "#### pytorch在optim模块里实现了很多这个算法的变体\n",
    "#### 在实例化sgd时，指定优化的参数（通过net.parameters()从我们的模型中获得）及优化算法所需的超参字典\n",
    "#### but小批量随机梯度下降只需要设置lr值，这里设置为0.03"
   ]
  },
  {
   "cell_type": "code",
   "execution_count": 28,
   "metadata": {},
   "outputs": [],
   "source": [
    "trainer = torch.optim.SGD(net.parameters(), lr=0.03)"
   ]
  },
  {
   "cell_type": "markdown",
   "metadata": {},
   "source": [
    "### 3.3.7 训练"
   ]
  },
  {
   "cell_type": "markdown",
   "metadata": {},
   "source": [
    "#### 在一个迭代周期中，我们将完整遍历一次数据集，从中获取一个小批量的输入和相应的标签\n",
    "#### 4 each batch，我们将：\n",
    "\n",
    "##### 通过调用net(X)生成预测并计算损失l（前向传播）。 forward\n",
    "\n",
    "##### 通过进行反向传播来计算梯度。backward\n",
    "\n",
    "##### 通过调用优化器来更新模型参数。 update"
   ]
  },
  {
   "cell_type": "code",
   "execution_count": 29,
   "metadata": {},
   "outputs": [
    {
     "name": "stdout",
     "output_type": "stream",
     "text": [
      "epoch1, loss0.000193\n",
      "epoch2, loss0.000103\n",
      "epoch3, loss0.000103\n"
     ]
    }
   ],
   "source": [
    "num_epochs = 3\n",
    "for epoch in  range(num_epochs):\n",
    "    for X, y in data_iter:\n",
    "        l = loss(net(X), y)\n",
    "        trainer.zero_grad()\n",
    "        l.backward()\n",
    "        trainer.step()\n",
    "    l = loss(net(features), labels)\n",
    "    print(f'epoch{epoch + 1}, loss{l:f}')"
   ]
  },
  {
   "cell_type": "markdown",
   "metadata": {},
   "source": [
    "#### 比较生成数据集的真实参数和通过有限数据训练获得的模型参数\n",
    "#### 要访问参数，我们首先从net访问所需的层，然后读取该层的权重和偏置"
   ]
  },
  {
   "cell_type": "code",
   "execution_count": 30,
   "metadata": {},
   "outputs": [
    {
     "name": "stdout",
     "output_type": "stream",
     "text": [
      "w的估计误差： tensor([0.0002, 0.0009])\n",
      "b的估计误差： tensor([-0.0007])\n"
     ]
    }
   ],
   "source": [
    "w = net[0].weight.data\n",
    "print('w的估计误差：', true_w - w.reshape(true_w.shape))\n",
    "b = net[0].bias.data\n",
    "print('b的估计误差：', true_b - b)"
   ]
  },
  {
   "cell_type": "markdown",
   "metadata": {},
   "source": [
    "### 3.3.8 小结"
   ]
  },
  {
   "cell_type": "markdown",
   "metadata": {},
   "source": [
    "#### 可以用pytorch的高级API来实现模型\n",
    "#### data模块提供了数据处理工具，nn定义了大量的神经网络层和损失函数\n",
    "#### 可以通过_结尾将参数替换，从而初始化参数"
   ]
  },
  {
   "cell_type": "markdown",
   "metadata": {},
   "source": [
    "### 3.3.9. 练习"
   ]
  },
  {
   "cell_type": "markdown",
   "metadata": {},
   "source": [
    "#### 1. 如果将小批量的总损失替换为小批量损失的平均值，需要如何更改学习率？\n",
    "\n",
    "#### 2. 查看深度学习框架文档，它们提供了哪些损失函数和初始化方法？用Huber损失代替原损失，即(3.3.1)\n",
    " $$\\begin{split}l(y,y') = \\begin{cases}|y-y'| -\\frac{\\sigma}{2} & \\text{ if } |y-y'| > \\sigma \\\\ \\frac{1}{2 \\sigma} (y-y')^2 & \\text{ 其它情况}\\end{cases}\\end{split}$$\n",
    "##### 其它情况\n",
    "##### 如何访问线性回归的梯度？"
   ]
  },
  {
   "cell_type": "markdown",
   "metadata": {},
   "source": [
    "## 3.4 softmax回归"
   ]
  },
  {
   "cell_type": "markdown",
   "metadata": {},
   "source": [
    "#### 回归可以用于预测多少的问题\n",
    "#### 事实上，我们也对分类问题感兴趣：不是问“多少”，而是问“哪一个”\n",
    "#### 硬类别是属于哪一类，软类别是属于每个类的概率。即使我们只关心硬类别，我们仍然使用软类别的模型。"
   ]
  },
  {
   "cell_type": "markdown",
   "metadata": {},
   "source": [
    "### 3.4.1. 分类问题"
   ]
  },
  {
   "cell_type": "markdown",
   "metadata": {},
   "source": [
    "#### 从一个图像分类问题开始，假设每次输入是一个$2 X 2$的灰度图像\n",
    "#### 我们可以用一个标量表示每个像素值，每个图像对应四个特征$x_1, x_2, x_3, x_4$\n",
    "#### 假设每个图像属于类别“猫”“鸡”和“狗”中的一个"
   ]
  },
  {
   "cell_type": "markdown",
   "metadata": {},
   "source": [
    "#### 可以选择用$y \\in {1, 2, 3}$，整数代表{🐔， 🐱， 🐶}，是在计算机上的有效储存方法\n",
    "#### 如果类别间有自然顺序，如预测年龄段（婴儿到老年），那么这个问题将转化为回归问题，且这样也有效"
   ]
  },
  {
   "cell_type": "markdown",
   "metadata": {},
   "source": [
    "#### 但一般分类与自然顺序无关，统计学家很早就发明了一种表示数据分类的简单方法：独热编码（one-hot encoding）\n",
    "#### 独热编码是一个向量，它的分量和类别一样多。 类别对应的分量设置为1，其他所有分量设置为0\n",
    "##### $$y \\in \\{(1, 0, 0), (0, 1, 0), (0, 0, 1)\\}. $$"
   ]
  },
  {
   "cell_type": "markdown",
   "metadata": {},
   "source": [
    "### 3.4.2. 网络架构"
   ]
  },
  {
   "cell_type": "markdown",
   "metadata": {},
   "source": [
    "#### 为了估计所有可能类别的条件概率，我们需要一个有**多个输出**的模型，每个类别对应一个输出\n",
    "#### 解决线性模型的分类问题，我们需要和输出一样多的仿射函数（affine function）\n",
    "#### 即每个输出对应其仿射函数\n",
    "#### 如我们有4特征3可能的输出类别，我们就需要12个权重$\\omega_i$，三个偏置标量\n",
    "#### $$ \\begin{split}\\begin{aligned}o_1 &= x_1 w_{11} + x_2 w_{12} + x_3 w_{13} + x_4 w_{14} + b_1,\\\\o_2 &= x_1 w_{21} + x_2 w_{22} + x_3 w_{23} + x_4 w_{24} + b_2,\\\\o_3 &= x_1 w_{31} + x_2 w_{32} + x_3 w_{33} + x_4 w_{34} + b_3.\\end{aligned}\\end{split} $$"
   ]
  },
  {
   "attachments": {
    "image.png": {
     "image/png": "[encoded data removed]"
    }
   },
   "cell_type": "markdown",
   "metadata": {},
   "source": [
    "#### 用神经网络图来描述这个过程\n",
    "![image.png](attachment:image.png)\n",
    "#### 和线性回归一样，softmax回归也是一层网络，因此输出也是全连接层"
   ]
  },
  {
   "cell_type": "markdown",
   "metadata": {},
   "source": [
    "#### 为了简洁表达模型，依然采用线代符号，通过向量表示:$\\mathbf{o} = \\mathbf{W} \\mathbf{x} + \\mathbf{b}$"
   ]
  },
  {
   "cell_type": "markdown",
   "metadata": {},
   "source": [
    "### 3.4.3. 全连接层的参数开销"
   ]
  },
  {
   "cell_type": "markdown",
   "metadata": {},
   "source": [
    "#### 在深度学习中，全连接层无处不在，顾名思义，全连接层是“完全”连接的，可能有很多可学习的参数\n",
    "#### 任何具有d个输入和q个输出的全连接层，参数开销为O(dq)\n",
    "#### 将d个输入转换为q个输出的成本可以减少到$O(\\frac{dq}{n})$， 其中超参数n可以由我们灵活指定，以在实际应用中平衡参数节约和模型有效性 (Zhang et al., 2021)"
   ]
  },
  {
   "cell_type": "markdown",
   "metadata": {},
   "source": [
    "### 3.4.4. softmax运算"
   ]
  },
  {
   "cell_type": "markdown",
   "metadata": {},
   "source": [
    "#### 现在将优化参数以最大化观测数据的概率，为了得到预测结果，我们设定一个阈值，如选择具有最大概率的标签\n",
    "#### 希望模型的输出$\\hat{y}_j$可以视为属于类j的概率，之后选择最大输出值的类别$\\operatorname*{argmax}_j y_j$作为我们的预测\n",
    "#### 例如，如果输出的结果是{0.1, 0.8, 0.1}，那就是取第二个类🐔\n"
   ]
  },
  {
   "cell_type": "markdown",
   "metadata": {},
   "source": [
    "#### 未规范化的预测值是线性层的输出，它是通过权重矩阵和偏置向量与输入相乘后得到的。未规范化的预测值可以为任何实数，包括负数\n",
    "#### 概率的基本公理规定，概率的总和必须为1，并且概率只能为非负数。未规范化的预测值违反了这些公理，因此不能直接视为概率\n",
    "#### 我们需要一个训练的目标函数，来激励模型精准地估计概率\n",
    "#### 校准是指将分类器的预测概率映射到真实的类别概率的过程。如果分类器的预测概率与真实的类别概率相匹配，那么该分类器就被认为是校准良好的"
   ]
  },
  {
   "cell_type": "markdown",
   "metadata": {},
   "source": [
    "#### 社会科学家邓肯·卢斯于1959年在选择模型（choice model）的理论基础上 发明的softmax函数正是这样做的\n",
    "#### softmax可以将为规范化的预测变换为非负数且总和为1\n",
    "#### 所以是先求幂，确保输出非负，再除以它们的总和\n",
    "#### $$ \\hat{\\mathbf{y}} = \\mathrm{softmax}(\\mathbf{o})\\quad \\text{其中}\\quad \\hat{y}_j = \\frac{\\exp(o_j)}{\\sum_k \\exp(o_k)} $$"
   ]
  },
  {
   "cell_type": "markdown",
   "metadata": {},
   "source": [
    "#### 对于所有的j总有$ 0 <= \\hat y_j <= 1$ ，因此y可以视为一个正确的概率分布\n",
    "#### softmax不会改变未规范化的预测o之间的大小次序，只会确定分配给每个类别的概率\n",
    "#### 因此在预测过程中，我们仍然可以用下式来选择最可能的类别\n",
    "#### $$ \\operatorname*{argmax}_j \\hat y_j = \\operatorname*{argmax}_j o_j.$$"
   ]
  },
  {
   "cell_type": "markdown",
   "metadata": {},
   "source": [
    "#### 虽然softmax是非线性函数，但其输出仍由输入特征的仿射变换决定，因此是一个线性模型"
   ]
  },
  {
   "cell_type": "markdown",
   "metadata": {},
   "source": [
    "### 3.4.5. 小批量样本的矢量化"
   ]
  },
  {
   "cell_type": "markdown",
   "metadata": {},
   "source": [
    "#### 为提高计算效率，我们通常会对小批量样本的数据执行矢量计算\n",
    "#### 我们读了样本X，特征维度为d，批量大小为n，我们有q个类别\n",
    "#### 那么小批量样本的特征为$\\mathbf{X} \\in \\mathbb{R}^{n \\times d}$， 权重为$\\mathbf{W} \\in \\mathbb{R}^{d \\times q}$， 偏置为$\\mathbf{b} \\in \\mathbb{R}^{1\\times q}$\n",
    "#### softmax回归的矢量计算表达式是:\n",
    "#### $$ \\begin{split}\\begin{aligned} \\mathbf{O} &= \\mathbf{X} \\mathbf{W} + \\mathbf{b}, \\\\ \\hat{\\mathbf{Y}} & = \\mathrm{softmax}(\\mathbf{O}). \\end{aligned}\\end{split}$$\n"
   ]
  },
  {
   "cell_type": "markdown",
   "metadata": {},
   "source": [
    "#### 相对于一次处理一个样本， 小批量样本的矢量化加快了$\\mathbf{X}和\\mathbf{W}$的矩阵-向量乘法\n",
    "#### 那么softmax运算可以按行（rowwise）执行： 对于$\\mathbf{O}$的每一行，我们先对所有项进行幂运算，然后通过求和对它们进行标准化\n",
    "#### $\\mathbf{X} \\mathbf{W} + \\mathbf{b}$会使用到广播机制，$\\mathbf{O}$和$\\hat y$ 都是nxq的矩阵"
   ]
  },
  {
   "cell_type": "markdown",
   "metadata": {},
   "source": [
    "### 3.4.6. 损失函数"
   ]
  },
  {
   "cell_type": "markdown",
   "metadata": {},
   "source": [
    "#### 我们将使用最大似然估"
   ]
  },
  {
   "cell_type": "markdown",
   "metadata": {},
   "source": [
    "### 3.4.6.1. 对数似然"
   ]
  },
  {
   "cell_type": "markdown",
   "metadata": {},
   "source": [
    "#### softmax函数给出了一个向量$\\hat y$， 我们可以将其视为“对给定任意输入$\\mathbf{X}$的每个类的条件概率”"
   ]
  },
  {
   "cell_type": "markdown",
   "metadata": {},
   "source": [
    "#### 我们可以将估计值与实际值进行比较：\n",
    "#### $$ P(\\mathbf{Y} \\mid \\mathbf{X}) = \\prod_{i=1}^n P(\\mathbf{y}^{(i)} \\mid \\mathbf{x}^{(i)}).$$"
   ]
  },
  {
   "cell_type": "markdown",
   "metadata": {},
   "source": [
    "#### 根据最大似然估计，我们最大化$P(\\mathbf{Y} \\mid \\mathbf{X})$，相当于最小化负对数似然：\n",
    "#### $$-\\log P(\\mathbf{Y} \\mid \\mathbf{X}) = \\sum_{i=1}^n -\\log P(\\mathbf{y}^{(i)} \\mid \\mathbf{x}^{(i)})= \\sum_{i=1}^n l(\\mathbf{y}^{(i)}, \\hat{\\mathbf{y}}^{(i)}),$$"
   ]
  },
  {
   "cell_type": "markdown",
   "metadata": {},
   "source": [
    "#### 其中，对于任何标签$y$和模型预测$\\hat y$，损失函数为：\n",
    "#### $$ l(\\mathbf{y}, \\hat{\\mathbf{y}}) = - \\sum_{j=1}^q y_j \\log \\hat{y}_j.$$"
   ]
  },
  {
   "cell_type": "markdown",
   "metadata": {},
   "source": [
    "#### 上式是交叉熵损失。对于独热编码的真实标签 y，除了一个项以外的所有项都为 0。因此，交叉熵损失函数的计算只需要考虑这个非零项。\n",
    "#### 由于所有预测的概率 $p_i$都介于 0 和 1 之间，因此它们的对数永远不会大于 0。因此，如果正确地预测实际标签，即 $y_i=1$，则损失函数$ H(y,p) $就等于 0，无法进一步最小化。\n",
    "#### 这往往是不可能的。原因有两个：\n",
    "##### 数据集中可能存在标签噪声。例如，某些样本可能被误标。\n",
    "##### 输入特征可能没有足够的信息来完美地对每一个样本分类。\n"
   ]
  },
  {
   "cell_type": "markdown",
   "metadata": {},
   "source": [
    "### 3.4.6.2. softmax及其导数"
   ]
  },
  {
   "cell_type": "markdown",
   "metadata": {},
   "source": [
    "#### 将 (3.4.3)代入损失 (3.4.8)中。用softmax的定义，我们得到：\n",
    "#### $$ \\begin{split}\\begin{aligned}l(\\mathbf{y}, \\hat{\\mathbf{y}}) &=  - \\sum_{j=1}^q y_j \\log \\frac{\\exp(o_j)}{\\sum_{k=1}^q \\exp(o_k)} \\\\&= \\sum_{j=1}^q y_j \\log \\sum_{k=1}^q \\exp(o_k) - \\sum_{j=1}^q y_j o_j\\\\&= \\log \\sum_{k=1}^q \\exp(o_k) - \\sum_{j=1}^q y_j o_j.\\end{aligned}\\end{split}$$"
   ]
  },
  {
   "cell_type": "markdown",
   "metadata": {},
   "source": [
    "#### 考虑相对于任何未规范化的预测$\\mathbf{o_j}$的导数，我们得到：\n",
    "#### $$ \\partial_{o_j} l(\\mathbf{y}, \\hat{\\mathbf{y}}) = \\frac{\\exp(o_j)}{\\sum_{k=1}^q \\exp(o_k)} - y_j = \\mathrm{softmax}(\\mathbf{o})_j - y_j.$$"
   ]
  },
  {
   "cell_type": "markdown",
   "metadata": {},
   "source": [
    "#### 导数是我们softmax模型分配的概率与实际发生的情况（由独热标签向量表示）之间的差异\n",
    "#### 这与我们在回归中看到的非常相似， 其中梯度是观测值$y$和估计值$\\hat y$之间的差异\n",
    "#### 这不是巧合，在任何指数族分布模型中，对数似然的梯度正是由此得出的"
   ]
  },
  {
   "cell_type": "markdown",
   "metadata": {},
   "source": [
    "### 3.4.6.3. 交叉熵损失"
   ]
  },
  {
   "cell_type": "markdown",
   "metadata": {},
   "source": [
    "####  对于标签$y$，我们可以使用与以前相同的表示形式。 唯一的区别是，我们现在用一个概率向量表示，如(0.1, 0.2, 0.7) 而不是仅包含二元项的向量\n",
    "####"
   ]
  },
  {
   "cell_type": "markdown",
   "metadata": {},
   "source": [
    "### 3.4.7. 信息论基础"
   ]
  },
  {
   "cell_type": "markdown",
   "metadata": {},
   "source": [
    "#### 3.4.7.1. 熵\n",
    "\n",
    "信息论关注如何量化数据中的信息内容，其中关键概念之一是熵。熵的计算公式为：\n",
    "\n",
    "\\[ H(X) = -\\sum_{i} P(x_i) \\log_b P(x_i) \\]\n",
    "\n",
    "这表示对数据的不确定性或混乱程度的度量。最小编码所需的最小信息单位是“纳特”，相当于比特。\n",
    "\n"
   ]
  },
  {
   "cell_type": "markdown",
   "metadata": {},
   "source": [
    "#### 3.4.7.2. 信息量\n",
    "\n",
    "信息量衡量事件的惊异程度，可以通过 \\( I(x) = -\\log_b P(x) \\) 计算。高概率事件的信息量低，反之亦然。\n",
    "\n"
   ]
  },
  {
   "cell_type": "markdown",
   "metadata": {},
   "source": [
    "#### 3.4.7.3. 交叉熵\n",
    "\n",
    "交叉熵度量观察者在看到根据概率分布 \\( Q(x) \\) 生成的数据时的惊异。公式为：\n",
    "\n",
    "\\[ H(P, Q) = -\\sum_{i} P(x_i) \\log_b Q(x_i) \\]\n",
    "\n",
    "最小化交叉熵实现观测数据更符合预期分布，在分类任务中有重要应用。\n",
    "\n",
    "信息论提供了理解数据特性和信息传递方式的框架，在机器学习和人工智能中具有广泛应用"
   ]
  },
  {
   "cell_type": "markdown",
   "metadata": {},
   "source": [
    "### 3.4.8. 模型预测和评估"
   ]
  },
  {
   "cell_type": "markdown",
   "metadata": {},
   "source": [
    "#### 训练softmax回归模型后，给出任何样本特征，我们可以预测每个输出类别的概率\n",
    "#### 通常我们是使用预测概率最高的那个类别作为输出\n",
    "#### 如果预测与实际类别（标签）一致，则预测是正确的\n",
    "#### 精度等于正确预测数与预测总数之间的比率"
   ]
  },
  {
   "cell_type": "markdown",
   "metadata": {},
   "source": [
    "### 3.4.9 小结"
   ]
  },
  {
   "cell_type": "markdown",
   "metadata": {},
   "source": [
    "#### softmax将一个向量其映射为概率。\n",
    "\n",
    "#### softmax回归适用于分类问题，它使用了softmax运算中输出类别的概率分布。\n",
    "\n",
    "#### 交叉熵是一个衡量两个概率分布之间差异的很好的度量，它测量给定模型编码数据所需的比特数"
   ]
  },
  {
   "cell_type": "markdown",
   "metadata": {},
   "source": [
    "### 3.4.10. 练习"
   ]
  },
  {
   "cell_type": "markdown",
   "metadata": {},
   "source": [
    "#### 1我们可以更深入地探讨指数族与softmax之间的联系。\n",
    "        1.计算softmax交叉熵损失$l(y，\\hat y)$的二阶导数。\n",
    "        2. 计算softmax(o)给出的分布方差，并与上面计算的二阶导数匹配。"
   ]
  },
  {
   "cell_type": "markdown",
   "metadata": {},
   "source": [
    "#### 2假设我们有三个类发生的概率相等，即概率向量是(1/3，1/3，1/3)。\n",
    "    1.如果我们尝试为它设计二进制代码，有什么问题？\n",
    "    2.请设计一个更好的代码。提示：如果我们尝试编码两个独立的观察结果会发生什么？如果我们联合编码几个观测值怎么办？"
   ]
  },
  {
   "cell_type": "markdown",
   "metadata": {},
   "source": [
    "#### 3softmax是对上面介绍的映射的误称（虽然深度学习领域中很多人都使用这个名字）。真正的softmax被定义为$\\mathrm{RealSoftMax}(a, b) = \\log (\\exp(a) + \\exp(b))$\n",
    "1. 证明$ \\mathrm{RealSoftMax}(a, b) > \\mathrm{max}(a, b)$\n",
    "2. 证明$ \\lambda^{-1} \\mathrm{RealSoftMax}(\\lambda a, \\lambda b) > \\mathrm{max}(a, b)$成立，前提是$\\lambda > 0$\n",
    "3. 证明对于$\\lambda \\to \\infty$，有 $\\lambda^{-1} \\mathrm{RealSoftMax}(\\lambda a, \\lambda b) \\to \\mathrm{max}(a, b)$\n",
    "4. soft-min会是什么样子\n",
    "5. 将其扩展成两个以上的数字"
   ]
  },
  {
   "cell_type": "markdown",
   "metadata": {},
   "source": []
  }
 ],
 "metadata": {
  "kernelspec": {
   "display_name": "base",
   "language": "python",
   "name": "python3"
  },
  "language_info": {
   "codemirror_mode": {
    "name": "ipython",
    "version": 3
   },
   "file_extension": ".py",
   "mimetype": "text/x-python",
   "name": "python",
   "nbconvert_exporter": "python",
   "pygments_lexer": "ipython3",
   "version": "3.11.5"
  }
 },
 "nbformat": 4,
 "nbformat_minor": 2
}
