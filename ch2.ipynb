{
 "cells": [
  {
   "cell_type": "markdown",
   "metadata": {},
   "source": [
    "# Ch2 预备知识"
   ]
  },
  {
   "cell_type": "markdown",
   "metadata": {},
   "source": [
    "## 2.1 数据操作"
   ]
  },
  {
   "cell_type": "markdown",
   "metadata": {},
   "source": [
    "#### 为完成数据操作， 我们需要某种方法来存储和操作数据。 通常， 我们需要做两件重要的是： 一是获取数据， 二是将数据读入计算机后对其进行操作"
   ]
  },
  {
   "cell_type": "markdown",
   "metadata": {},
   "source": [
    "#### 先来介绍n维数组（n阶数组、具有n个轴的）， 也称为张量（tensor）。 whatever 用哪个深度学习框架， 它都有张量类， 都与NumPy中的ndarray相似。 但深度学习框架支持GPU运算"
   ]
  },
  {
   "cell_type": "markdown",
   "metadata": {},
   "source": [
    "### 2.1.1 入门"
   ]
  },
  {
   "cell_type": "markdown",
   "metadata": {},
   "source": [
    "\n",
    "#### 了解一些会用到的基本的数值计算工具。"
   ]
  },
  {
   "cell_type": "code",
   "execution_count": 1,
   "metadata": {},
   "outputs": [],
   "source": [
    "import torch"
   ]
  },
  {
   "cell_type": "markdown",
   "metadata": {},
   "source": [
    "#### 具有一个轴的张量叫做向量， 两个轴的叫矩阵， 两个以上没有特定名称\n",
    "#### 可以用arange创建一个行向量x\n",
    "#### 张量内的每个值叫做元素（element）"
   ]
  },
  {
   "cell_type": "code",
   "execution_count": 2,
   "metadata": {},
   "outputs": [
    {
     "data": {
      "text/plain": [
       "tensor([ 0,  1,  2,  3,  4,  5,  6,  7,  8,  9, 10, 11])"
      ]
     },
     "execution_count": 2,
     "metadata": {},
     "output_type": "execute_result"
    }
   ],
   "source": [
    "x = torch.arange(12)\n",
    "x"
   ]
  },
  {
   "cell_type": "markdown",
   "metadata": {},
   "source": [
    "#### 用shape访问张量的形状"
   ]
  },
  {
   "cell_type": "code",
   "execution_count": 3,
   "metadata": {},
   "outputs": [
    {
     "data": {
      "text/plain": [
       "torch.Size([12])"
      ]
     },
     "execution_count": 3,
     "metadata": {},
     "output_type": "execute_result"
    }
   ],
   "source": [
    "x.shape"
   ]
  },
  {
   "cell_type": "markdown",
   "metadata": {},
   "source": [
    "#### 如果质量知道张量中的元素的总数， 即形状中所有元素乘积， 可以检查它的大小（size）"
   ]
  },
  {
   "cell_type": "code",
   "execution_count": 4,
   "metadata": {},
   "outputs": [
    {
     "data": {
      "text/plain": [
       "12"
      ]
     },
     "execution_count": 4,
     "metadata": {},
     "output_type": "execute_result"
    }
   ],
   "source": [
    "x.numel()"
   ]
  },
  {
   "cell_type": "markdown",
   "metadata": {},
   "source": [
    "#### 要想改变一个张量的形状而不改变元素数量和元素值， 可以调用reshape函数。 形状改变， 但其元素值不变"
   ]
  },
  {
   "cell_type": "code",
   "execution_count": 5,
   "metadata": {},
   "outputs": [
    {
     "data": {
      "text/plain": [
       "tensor([[ 0,  1,  2,  3],\n",
       "        [ 4,  5,  6,  7],\n",
       "        [ 8,  9, 10, 11]])"
      ]
     },
     "execution_count": 5,
     "metadata": {},
     "output_type": "execute_result"
    }
   ],
   "source": [
    "X = x.reshape(3, 4)\n",
    "X"
   ]
  },
  {
   "cell_type": "markdown",
   "metadata": {},
   "source": [
    "#### tips: 不需要手写每个维度， torch会自动补全，不想写的那维用-1来代替"
   ]
  },
  {
   "cell_type": "markdown",
   "metadata": {},
   "source": [
    "#### 有时我们想要全0或者全1、 其他常量或者从特征分布中随机采样的数字来初始化矩阵。 我们可以创建一个形状为（2， 3， 4）的张量， 其中所有元素都设置为0"
   ]
  },
  {
   "cell_type": "code",
   "execution_count": 6,
   "metadata": {},
   "outputs": [
    {
     "data": {
      "text/plain": [
       "tensor([[[0., 0., 0., 0.],\n",
       "         [0., 0., 0., 0.],\n",
       "         [0., 0., 0., 0.]],\n",
       "\n",
       "        [[0., 0., 0., 0.],\n",
       "         [0., 0., 0., 0.],\n",
       "         [0., 0., 0., 0.]]])"
      ]
     },
     "execution_count": 6,
     "metadata": {},
     "output_type": "execute_result"
    }
   ],
   "source": [
    "torch.zeros((2, 3, 4))"
   ]
  },
  {
   "cell_type": "markdown",
   "metadata": {},
   "source": [
    "#### 同样，我们可以创建一个形状为(2,3,4)的张量，其中所有元素都设置为1"
   ]
  },
  {
   "cell_type": "code",
   "execution_count": 7,
   "metadata": {},
   "outputs": [
    {
     "data": {
      "text/plain": [
       "tensor([[[1., 1., 1., 1.],\n",
       "         [1., 1., 1., 1.],\n",
       "         [1., 1., 1., 1.]],\n",
       "\n",
       "        [[1., 1., 1., 1.],\n",
       "         [1., 1., 1., 1.],\n",
       "         [1., 1., 1., 1.]]])"
      ]
     },
     "execution_count": 7,
     "metadata": {},
     "output_type": "execute_result"
    }
   ],
   "source": [
    "torch.ones((2, 3, 4))"
   ]
  },
  {
   "cell_type": "markdown",
   "metadata": {},
   "source": [
    "#### 有时我们想通过从某个特定的概率分布中随机采样来得到张量中每个元素的值\n",
    "#### randn使每个元素都从均值为0、标准差为1的标准高斯分布（正态分布）中随机采样"
   ]
  },
  {
   "cell_type": "code",
   "execution_count": 8,
   "metadata": {},
   "outputs": [
    {
     "data": {
      "text/plain": [
       "tensor([[-1.8071, -0.5427,  0.6312, -0.6955],\n",
       "        [ 0.5260, -0.1449, -1.2629, -0.2870],\n",
       "        [ 0.7845,  0.0594, -1.5573, -1.1838]])"
      ]
     },
     "execution_count": 8,
     "metadata": {},
     "output_type": "execute_result"
    }
   ],
   "source": [
    "torch.randn(3, 4)"
   ]
  },
  {
   "cell_type": "markdown",
   "metadata": {},
   "source": [
    "#### 我们还可以通过提供包含数值的Python列表（或嵌套列表），来为所需张量中的每个元素赋予确定值。外层的列表对应于轴0，内层的列表对应于轴1。"
   ]
  },
  {
   "cell_type": "code",
   "execution_count": 9,
   "metadata": {},
   "outputs": [
    {
     "data": {
      "text/plain": [
       "tensor([[2, 1, 4, 3],\n",
       "        [1, 2, 3, 4],\n",
       "        [4, 3, 2, 1]])"
      ]
     },
     "execution_count": 9,
     "metadata": {},
     "output_type": "execute_result"
    }
   ],
   "source": [
    "torch.tensor([[2, 1, 4, 3], [1, 2, 3, 4], [4, 3, 2, 1]])"
   ]
  },
  {
   "cell_type": "markdown",
   "metadata": {},
   "source": [
    "### 2.1.2 运算符"
   ]
  },
  {
   "cell_type": "markdown",
   "metadata": {},
   "source": [
    "#### 我们想在这些数据上执行数学运算，其中最简单且最有用的操作是按元素（elementwise）运算。\n",
    "#### 它们将标准标量运算符应用于数组的每个元素\n",
    "#### 可以基于任何从标量到标量的函数来创建按元素函数。"
   ]
  },
  {
   "cell_type": "markdown",
   "metadata": {},
   "source": [
    "#### 在数学表示法中，我们将通过符号$$f : R → R $$来表示一元标量运算符（只接收一个输入）。means一进一出"
   ]
  },
  {
   "cell_type": "markdown",
   "metadata": {},
   "source": [
    "#### 同样，我们通过符号$$f : R, R → R $$表示二元标量运算符，means该函数接收两个输入，并产生一个输出。"
   ]
  },
  {
   "cell_type": "markdown",
   "metadata": {},
   "source": [
    "#### 给定同一形状的任意两个向量u和v和二元运算符f，我们可以得到向量$$c = F(u, v)$$。具体计算方法是$$c_i ← f(u_i, v_i)$$，其中ci、ui和vi分别是向量c、u和v中的元素。"
   ]
  },
  {
   "cell_type": "markdown",
   "metadata": {},
   "source": [
    "#### 按元素运算： 将标准的标量运算符应用于数组的每个元素， 对两个数组按元素做二元运算。"
   ]
  },
  {
   "cell_type": "code",
   "execution_count": 10,
   "metadata": {},
   "outputs": [
    {
     "data": {
      "text/plain": [
       "(tensor([ 3.,  4.,  6., 10.]),\n",
       " tensor([-1.,  0.,  2.,  6.]),\n",
       " tensor([ 2.,  4.,  8., 16.]),\n",
       " tensor([0.5000, 1.0000, 2.0000, 4.0000]),\n",
       " tensor([ 1.,  4., 16., 64.]))"
      ]
     },
     "execution_count": 10,
     "metadata": {},
     "output_type": "execute_result"
    }
   ],
   "source": [
    "x = torch.tensor([1.0, 2, 4, 8]) \n",
    "y = torch.tensor([2, 2, 2, 2])\n",
    "x + y, x - y, x * y, x / y, x**y"
   ]
  },
  {
   "cell_type": "markdown",
   "metadata": {},
   "source": [
    "##### 像求幂这样的一元运算符"
   ]
  },
  {
   "cell_type": "code",
   "execution_count": 11,
   "metadata": {},
   "outputs": [
    {
     "data": {
      "text/plain": [
       "tensor([2.7183e+00, 7.3891e+00, 5.4598e+01, 2.9810e+03])"
      ]
     },
     "execution_count": 11,
     "metadata": {},
     "output_type": "execute_result"
    }
   ],
   "source": [
    "torch.exp(x)"
   ]
  },
  {
   "cell_type": "markdown",
   "metadata": {},
   "source": [
    "#### 连接： 可以把多个张量连结(concatenate)在一起,把它们端对端地叠起来形成一个更大的张量"
   ]
  },
  {
   "cell_type": "code",
   "execution_count": 12,
   "metadata": {},
   "outputs": [
    {
     "data": {
      "text/plain": [
       "tensor([[ 0.,  1.,  2.,  3.,  2.,  1.,  4.,  3.],\n",
       "        [ 4.,  5.,  6.,  7.,  1.,  2.,  3.,  4.],\n",
       "        [ 8.,  9., 10., 11.,  4.,  3.,  2.,  1.]])"
      ]
     },
     "execution_count": 12,
     "metadata": {},
     "output_type": "execute_result"
    }
   ],
   "source": [
    "X = torch.arange(12, dtype=torch.float32).reshape((3,4))\n",
    "Y = torch.tensor([[2.0, 1, 4, 3], [1, 2, 3, 4], [4, 3, 2, 1]])\n",
    "torch.cat((X, Y), dim=0) # 沿行连接\n",
    "torch.cat((X, Y), dim=1) # 沿列连接"
   ]
  },
  {
   "cell_type": "markdown",
   "metadata": {},
   "source": [
    "#### 逻辑运算： 可以用来构建二元张量,对每个位置比较两个张量的值"
   ]
  },
  {
   "cell_type": "code",
   "execution_count": 13,
   "metadata": {},
   "outputs": [
    {
     "data": {
      "text/plain": [
       "tensor([[False,  True, False,  True],\n",
       "        [False, False, False, False],\n",
       "        [False, False, False, False]])"
      ]
     },
     "execution_count": 13,
     "metadata": {},
     "output_type": "execute_result"
    }
   ],
   "source": [
    "X == Y"
   ]
  },
  {
   "cell_type": "markdown",
   "metadata": {},
   "source": [
    "#### 求和： 对张量的所有元素进行求和,得到一个单元素的张量"
   ]
  },
  {
   "cell_type": "code",
   "execution_count": 14,
   "metadata": {},
   "outputs": [
    {
     "data": {
      "text/plain": [
       "tensor(66.)"
      ]
     },
     "execution_count": 14,
     "metadata": {},
     "output_type": "execute_result"
    }
   ],
   "source": [
    "X.sum()"
   ]
  },
  {
   "cell_type": "markdown",
   "metadata": {},
   "source": [
    "### 2.1.3 广播机制"
   ]
  },
  {
   "cell_type": "markdown",
   "metadata": {},
   "source": [
    "#### 在某些情况下，即使形状不同 ，我们仍然可以通过调用广播机制（broadcasting mechanism）来执行按元素操作，其工作方式如下：\n",
    "##### 1. 通过适当复制元素来扩展一个或两个数组，以便在转换之后，两个张量具有相同的形状；\n",
    "##### 2. 对生成的数组执行按元素操作。"
   ]
  },
  {
   "cell_type": "markdown",
   "metadata": {},
   "source": [
    "#### 多数情况下，我们将沿着数组中长度为1的轴进行广播"
   ]
  },
  {
   "cell_type": "code",
   "execution_count": 15,
   "metadata": {},
   "outputs": [
    {
     "data": {
      "text/plain": [
       "(tensor([[0],\n",
       "         [1],\n",
       "         [2]]),\n",
       " tensor([[0, 1]]))"
      ]
     },
     "execution_count": 15,
     "metadata": {},
     "output_type": "execute_result"
    }
   ],
   "source": [
    "a = torch.arange(3).reshape((3, 1))\n",
    "b = torch.arange(2).reshape((1, 2))\n",
    "a, b"
   ]
  },
  {
   "cell_type": "markdown",
   "metadata": {},
   "source": [
    "##### 由于维度不匹配，所以会广播成更大的3x2矩阵"
   ]
  },
  {
   "cell_type": "code",
   "execution_count": 16,
   "metadata": {},
   "outputs": [
    {
     "data": {
      "text/plain": [
       "tensor([[0, 1],\n",
       "        [1, 2],\n",
       "        [2, 3]])"
      ]
     },
     "execution_count": 16,
     "metadata": {},
     "output_type": "execute_result"
    }
   ],
   "source": [
    "a + b"
   ]
  },
  {
   "cell_type": "markdown",
   "metadata": {},
   "source": [
    "### 2.1.4 索引和切片"
   ]
  },
  {
   "cell_type": "markdown",
   "metadata": {},
   "source": [
    "#### like python中的数组，张量中的元素可以通过索引访问。且与数组一样，第一个元素的索引是0，最后一个元素索引是‐1；可以指定范围以包含第一个元素和最后一个之前的元素。"
   ]
  },
  {
   "cell_type": "markdown",
   "metadata": {},
   "source": [
    "##### 用[-1]取最后一个元素， 用[1,3]取第2到3的元素"
   ]
  },
  {
   "cell_type": "code",
   "execution_count": 17,
   "metadata": {},
   "outputs": [
    {
     "data": {
      "text/plain": [
       "(tensor([ 8.,  9., 10., 11.]),\n",
       " tensor([[ 4.,  5.,  6.,  7.],\n",
       "         [ 8.,  9., 10., 11.]]))"
      ]
     },
     "execution_count": 17,
     "metadata": {},
     "output_type": "execute_result"
    }
   ],
   "source": [
    "X[-1], X[1:3]"
   ]
  },
  {
   "cell_type": "markdown",
   "metadata": {},
   "source": [
    "##### 还可以通过指定索引来将元素写入矩阵"
   ]
  },
  {
   "cell_type": "code",
   "execution_count": 18,
   "metadata": {},
   "outputs": [
    {
     "data": {
      "text/plain": [
       "tensor([[ 0.,  1.,  2.,  3.],\n",
       "        [ 4.,  5.,  9.,  7.],\n",
       "        [ 8.,  9., 10., 11.]])"
      ]
     },
     "execution_count": 18,
     "metadata": {},
     "output_type": "execute_result"
    }
   ],
   "source": [
    "X[1, 2] = 9\n",
    "X"
   ]
  },
  {
   "cell_type": "markdown",
   "metadata": {},
   "source": [
    "##### 如果我们想为多个元素赋值相同的值，我们只需要索引所有元素，然后为它们赋值"
   ]
  },
  {
   "cell_type": "code",
   "execution_count": 19,
   "metadata": {},
   "outputs": [
    {
     "data": {
      "text/plain": [
       "tensor([[12., 12., 12., 12.],\n",
       "        [12., 12., 12., 12.],\n",
       "        [ 8.,  9., 10., 11.]])"
      ]
     },
     "execution_count": 19,
     "metadata": {},
     "output_type": "execute_result"
    }
   ],
   "source": [
    "X[0:2, :] = 12 # 冒号表示沿轴的所有元素\n",
    "X"
   ]
  },
  {
   "cell_type": "markdown",
   "metadata": {},
   "source": [
    "### 2.1.5 节省内存"
   ]
  },
  {
   "cell_type": "markdown",
   "metadata": {},
   "source": [
    "#### 运行一些操作可能会导致为新结果分配内存\n",
    "##### 例如，如果我们用Y = X + Y，我们将取消引用Y指向的张量，而是指向新分配的内存处的张量"
   ]
  },
  {
   "cell_type": "markdown",
   "metadata": {},
   "source": [
    "##### 我们用Python的id()函数演示了这一点，它给我们提供了内存中引用对象的确切地址\n",
    "##### 运行Y = Y + X后，我们会发现id(Y)指向另一个位置，是因为python计算完后为结果分配了新内存再存到Y"
   ]
  },
  {
   "cell_type": "code",
   "execution_count": 20,
   "metadata": {},
   "outputs": [
    {
     "data": {
      "text/plain": [
       "False"
      ]
     },
     "execution_count": 20,
     "metadata": {},
     "output_type": "execute_result"
    }
   ],
   "source": [
    "before = id(Y)\n",
    "Y = Y + X\n",
    "id(Y) == before"
   ]
  },
  {
   "cell_type": "markdown",
   "metadata": {},
   "source": [
    "#### 这不可取，原因有2\n",
    "##### 1:机器学习中可能有数兆的数据，且一秒更新多参，因此我们希望原地执行更新\n",
    "##### 2:如果不原地更新，某些代码可能引用到旧参"
   ]
  },
  {
   "cell_type": "markdown",
   "metadata": {},
   "source": [
    "#### 我们可以使用切片表示法将操作的结果分配给先前分配的数组"
   ]
  },
  {
   "cell_type": "code",
   "execution_count": 21,
   "metadata": {},
   "outputs": [
    {
     "name": "stdout",
     "output_type": "stream",
     "text": [
      "id(Z): 140564093393392\n",
      "id(Z): 140564093393392\n"
     ]
    }
   ],
   "source": [
    "Z = torch.zeros_like(Y)\n",
    "print('id(Z):', id(Z))\n",
    "Z[:] = X + Y\n",
    "print('id(Z):', id(Z))"
   ]
  },
  {
   "cell_type": "markdown",
   "metadata": {},
   "source": [
    "#### 如果在后续计算中没有重复使用X，我们也可以使用X[:] = X + Y或X += Y来减少操作的内存开销。 ⭐️应该注意+= 和 = + 的区别"
   ]
  },
  {
   "cell_type": "code",
   "execution_count": 22,
   "metadata": {},
   "outputs": [
    {
     "data": {
      "text/plain": [
       "True"
      ]
     },
     "execution_count": 22,
     "metadata": {},
     "output_type": "execute_result"
    }
   ],
   "source": [
    "before = id(X)\n",
    "X += Y\n",
    "id(X) == before"
   ]
  },
  {
   "cell_type": "markdown",
   "metadata": {},
   "source": [
    "### 2.1.6 转换为其他Python对象"
   ]
  },
  {
   "cell_type": "markdown",
   "metadata": {},
   "source": [
    "#### 将深度学习框架定义的张量转换为NumPy张量（ndarray）很容易，反之也同样容易。torch张量和numpy数组将共享它们的底层内存，就地操作更改一个张量也会同时更改另一个张量\n",
    "#### Tensors on the CPU and NumPy arrays can share their underlying memory locations, and changing one will change the other. (From Torch Docs)"
   ]
  },
  {
   "cell_type": "code",
   "execution_count": 23,
   "metadata": {},
   "outputs": [
    {
     "data": {
      "text/plain": [
       "(numpy.ndarray, torch.Tensor)"
      ]
     },
     "execution_count": 23,
     "metadata": {},
     "output_type": "execute_result"
    }
   ],
   "source": [
    "A = X.numpy()\n",
    "B = torch.tensor(A)\n",
    "type(A), type(B)"
   ]
  },
  {
   "cell_type": "markdown",
   "metadata": {},
   "source": [
    "#### 要将大小为1的张量转换为Python标量，可以调用item函数或Python的内置函数"
   ]
  },
  {
   "cell_type": "code",
   "execution_count": 24,
   "metadata": {},
   "outputs": [
    {
     "data": {
      "text/plain": [
       "(tensor([3.5000]), 3.5, 3.5, 3)"
      ]
     },
     "execution_count": 24,
     "metadata": {},
     "output_type": "execute_result"
    }
   ],
   "source": [
    "a = torch.tensor([3.5])\n",
    "a, a.item(), float(a), int(a)"
   ]
  },
  {
   "cell_type": "markdown",
   "metadata": {},
   "source": [
    "### 小结\n",
    "#### 深度学习所用来存储和操作的数据是张量（n维数组），提供了运算、广播※、索引和切片、节省内存、转换为python对象等功能。 "
   ]
  },
  {
   "cell_type": "code",
   "execution_count": 25,
   "metadata": {},
   "outputs": [
    {
     "data": {
      "text/plain": [
       "(tensor([[True, True, True, True],\n",
       "         [True, True, True, True],\n",
       "         [True, True, True, True]]),\n",
       " tensor([[False, False, False, False],\n",
       "         [False, False, False, False],\n",
       "         [False, False, False, False]]))"
      ]
     },
     "execution_count": 25,
     "metadata": {},
     "output_type": "execute_result"
    }
   ],
   "source": [
    "# test1\n",
    "X > Y, X < Y"
   ]
  },
  {
   "cell_type": "markdown",
   "metadata": {},
   "source": [
    "## 2.2 数据预处理"
   ]
  },
  {
   "cell_type": "markdown",
   "metadata": {},
   "source": [
    "#### 为用深度学习解决现实生活中的问题，我们经常从预处理原始数据开始， 而不是从准备好的张量格式数据开始\n",
    "#### 在Python中常用的数据分析工具中，我们通常用pandas包。与庞大的Python生态系统中许多扩展包一样，pandas可以与张量兼容。因此接下来介绍用pandas预处理原始数据"
   ]
  },
  {
   "cell_type": "markdown",
   "metadata": {},
   "source": [
    "### 2.2.1 读取数据集"
   ]
  },
  {
   "cell_type": "markdown",
   "metadata": {},
   "source": [
    "#### 举个例子， 我们先创建一个人工数据集，并存储在CSV（逗号分隔值）文件 ../data/house_tiny.csv中。处理方式大体适用于其他格式的数据。"
   ]
  },
  {
   "cell_type": "code",
   "execution_count": 26,
   "metadata": {},
   "outputs": [],
   "source": [
    "import os\n",
    "os.makedirs(os.path.join('', 'data'), exist_ok=True)\n",
    "data_file = os.path.join('', 'data', 'house_tiny.csv')\n",
    "with open(data_file, 'w') as f:\n",
    "    f.write('NumRooms,Alley,Price\\n') # 列名\n",
    "    f.write('NA,Pave,127500\\n') # 每行表示一个数据样本\n",
    "    f.write('6,Liber,106700\\n')\n",
    "    f.write('4,NA,178100\\n')\n",
    "    f.write('NA,Rock,140000\\n')"
   ]
  },
  {
   "cell_type": "markdown",
   "metadata": {},
   "source": [
    "#### 要从创建的CSV文件中加载原始数据集， 我们导入pandas包并调用read_csv函数"
   ]
  },
  {
   "cell_type": "code",
   "execution_count": 27,
   "metadata": {},
   "outputs": [
    {
     "name": "stdout",
     "output_type": "stream",
     "text": [
      "   NumRooms  Alley   Price\n",
      "0       NaN   Pave  127500\n",
      "1       6.0  Liber  106700\n",
      "2       4.0    NaN  178100\n",
      "3       NaN   Rock  140000\n"
     ]
    }
   ],
   "source": [
    "import pandas as pd\n",
    "data = pd.read_csv(data_file)\n",
    "print(data)"
   ]
  },
  {
   "cell_type": "markdown",
   "metadata": {},
   "source": [
    "### 2.2.2 处理缺失值"
   ]
  },
  {
   "cell_type": "markdown",
   "metadata": {},
   "source": [
    "#### NaN项代表缺失值。 处理缺失的数据的典型方法包括插值法和删除法"
   ]
  },
  {
   "cell_type": "markdown",
   "metadata": {},
   "source": [
    "#### 在这里，我们将考虑插值法\n",
    "#### 通过位置索引iloc，我们将data分成inputs和outputs，其中前者为data的前两列，而后者为data的最后一列。对于inputs中缺少的数值，我们用同一列的均值替换“NaN”项。"
   ]
  },
  {
   "cell_type": "code",
   "execution_count": 28,
   "metadata": {},
   "outputs": [
    {
     "name": "stderr",
     "output_type": "stream",
     "text": [
      "/var/folders/0x/15_qt5ln5qn1y1nln4knxp940000gn/T/ipykernel_1417/2829519728.py:2: FutureWarning: Dropping of nuisance columns in DataFrame reductions (with 'numeric_only=None') is deprecated; in a future version this will raise TypeError.  Select only valid columns before calling the reduction.\n",
      "  inputs = inputs.fillna(inputs.mean())\n"
     ]
    }
   ],
   "source": [
    "inputs, outputs = data.iloc[:, 0:2], data.iloc[:, 2]\n",
    "inputs = inputs.fillna(inputs.mean())"
   ]
  },
  {
   "cell_type": "code",
   "execution_count": 29,
   "metadata": {},
   "outputs": [
    {
     "data": {
      "text/html": [
       "<div>\n",
       "<style scoped>\n",
       "    .dataframe tbody tr th:only-of-type {\n",
       "        vertical-align: middle;\n",
       "    }\n",
       "\n",
       "    .dataframe tbody tr th {\n",
       "        vertical-align: top;\n",
       "    }\n",
       "\n",
       "    .dataframe thead th {\n",
       "        text-align: right;\n",
       "    }\n",
       "</style>\n",
       "<table border=\"1\" class=\"dataframe\">\n",
       "  <thead>\n",
       "    <tr style=\"text-align: right;\">\n",
       "      <th></th>\n",
       "      <th>NumRooms</th>\n",
       "      <th>Alley</th>\n",
       "    </tr>\n",
       "  </thead>\n",
       "  <tbody>\n",
       "    <tr>\n",
       "      <th>0</th>\n",
       "      <td>5.0</td>\n",
       "      <td>Pave</td>\n",
       "    </tr>\n",
       "    <tr>\n",
       "      <th>1</th>\n",
       "      <td>6.0</td>\n",
       "      <td>Liber</td>\n",
       "    </tr>\n",
       "    <tr>\n",
       "      <th>2</th>\n",
       "      <td>4.0</td>\n",
       "      <td>NaN</td>\n",
       "    </tr>\n",
       "    <tr>\n",
       "      <th>3</th>\n",
       "      <td>5.0</td>\n",
       "      <td>Rock</td>\n",
       "    </tr>\n",
       "  </tbody>\n",
       "</table>\n",
       "</div>"
      ],
      "text/plain": [
       "   NumRooms  Alley\n",
       "0       5.0   Pave\n",
       "1       6.0  Liber\n",
       "2       4.0    NaN\n",
       "3       5.0   Rock"
      ]
     },
     "execution_count": 29,
     "metadata": {},
     "output_type": "execute_result"
    }
   ],
   "source": [
    "inputs"
   ]
  },
  {
   "cell_type": "markdown",
   "metadata": {},
   "source": [
    "#### 对于inputs中的类别值或离散值，我们将“NaN”视为一个类别。 因为只有Alley列Liber和NA两类，pandas可以自动将此列转换为两列“Alley_Liber”和“Alley_nan”，因此缺少Alley值的Alley_nan都会设置为0"
   ]
  },
  {
   "cell_type": "code",
   "execution_count": 30,
   "metadata": {},
   "outputs": [
    {
     "data": {
      "text/html": [
       "<div>\n",
       "<style scoped>\n",
       "    .dataframe tbody tr th:only-of-type {\n",
       "        vertical-align: middle;\n",
       "    }\n",
       "\n",
       "    .dataframe tbody tr th {\n",
       "        vertical-align: top;\n",
       "    }\n",
       "\n",
       "    .dataframe thead th {\n",
       "        text-align: right;\n",
       "    }\n",
       "</style>\n",
       "<table border=\"1\" class=\"dataframe\">\n",
       "  <thead>\n",
       "    <tr style=\"text-align: right;\">\n",
       "      <th></th>\n",
       "      <th>NumRooms</th>\n",
       "      <th>Alley_Liber</th>\n",
       "      <th>Alley_Pave</th>\n",
       "      <th>Alley_Rock</th>\n",
       "      <th>Alley_nan</th>\n",
       "    </tr>\n",
       "  </thead>\n",
       "  <tbody>\n",
       "    <tr>\n",
       "      <th>0</th>\n",
       "      <td>5.0</td>\n",
       "      <td>0</td>\n",
       "      <td>1</td>\n",
       "      <td>0</td>\n",
       "      <td>0</td>\n",
       "    </tr>\n",
       "    <tr>\n",
       "      <th>1</th>\n",
       "      <td>6.0</td>\n",
       "      <td>1</td>\n",
       "      <td>0</td>\n",
       "      <td>0</td>\n",
       "      <td>0</td>\n",
       "    </tr>\n",
       "    <tr>\n",
       "      <th>2</th>\n",
       "      <td>4.0</td>\n",
       "      <td>0</td>\n",
       "      <td>0</td>\n",
       "      <td>0</td>\n",
       "      <td>1</td>\n",
       "    </tr>\n",
       "    <tr>\n",
       "      <th>3</th>\n",
       "      <td>5.0</td>\n",
       "      <td>0</td>\n",
       "      <td>0</td>\n",
       "      <td>1</td>\n",
       "      <td>0</td>\n",
       "    </tr>\n",
       "  </tbody>\n",
       "</table>\n",
       "</div>"
      ],
      "text/plain": [
       "   NumRooms  Alley_Liber  Alley_Pave  Alley_Rock  Alley_nan\n",
       "0       5.0            0           1           0          0\n",
       "1       6.0            1           0           0          0\n",
       "2       4.0            0           0           0          1\n",
       "3       5.0            0           0           1          0"
      ]
     },
     "execution_count": 30,
     "metadata": {},
     "output_type": "execute_result"
    }
   ],
   "source": [
    "inputs = pd.get_dummies(inputs, dummy_na=True)\n",
    "inputs"
   ]
  },
  {
   "cell_type": "markdown",
   "metadata": {},
   "source": [
    "### 2.2.3 转换为张量格式"
   ]
  },
  {
   "cell_type": "markdown",
   "metadata": {},
   "source": [
    "#### 现在inputs和outputs中的所有条目都是数值类型，它们可以转换为张量格式"
   ]
  },
  {
   "cell_type": "code",
   "execution_count": 31,
   "metadata": {},
   "outputs": [
    {
     "data": {
      "text/plain": [
       "(tensor([[5., 0., 1., 0., 0.],\n",
       "         [6., 1., 0., 0., 0.],\n",
       "         [4., 0., 0., 0., 1.],\n",
       "         [5., 0., 0., 1., 0.]], dtype=torch.float64),\n",
       " tensor([127500., 106700., 178100., 140000.], dtype=torch.float64))"
      ]
     },
     "execution_count": 31,
     "metadata": {},
     "output_type": "execute_result"
    }
   ],
   "source": [
    "import torch\n",
    "X = torch.tensor(inputs.to_numpy(dtype=float))\n",
    "y = torch.tensor(outputs.to_numpy(dtype=float))\n",
    "X, y"
   ]
  },
  {
   "cell_type": "markdown",
   "metadata": {},
   "source": [
    "### 小结\n",
    "#### pandas包时Python中常用的数据分析工具， 可以与张量兼容\n",
    "#### 处理缺失值时可以用插值或者删除法"
   ]
  },
  {
   "cell_type": "code",
   "execution_count": 32,
   "metadata": {},
   "outputs": [
    {
     "data": {
      "text/html": [
       "<div>\n",
       "<style scoped>\n",
       "    .dataframe tbody tr th:only-of-type {\n",
       "        vertical-align: middle;\n",
       "    }\n",
       "\n",
       "    .dataframe tbody tr th {\n",
       "        vertical-align: top;\n",
       "    }\n",
       "\n",
       "    .dataframe thead th {\n",
       "        text-align: right;\n",
       "    }\n",
       "</style>\n",
       "<table border=\"1\" class=\"dataframe\">\n",
       "  <thead>\n",
       "    <tr style=\"text-align: right;\">\n",
       "      <th></th>\n",
       "      <th>Alley</th>\n",
       "      <th>Price</th>\n",
       "    </tr>\n",
       "  </thead>\n",
       "  <tbody>\n",
       "    <tr>\n",
       "      <th>0</th>\n",
       "      <td>Pave</td>\n",
       "      <td>127500</td>\n",
       "    </tr>\n",
       "    <tr>\n",
       "      <th>1</th>\n",
       "      <td>Liber</td>\n",
       "      <td>106700</td>\n",
       "    </tr>\n",
       "    <tr>\n",
       "      <th>2</th>\n",
       "      <td>NaN</td>\n",
       "      <td>178100</td>\n",
       "    </tr>\n",
       "    <tr>\n",
       "      <th>3</th>\n",
       "      <td>Rock</td>\n",
       "      <td>140000</td>\n",
       "    </tr>\n",
       "  </tbody>\n",
       "</table>\n",
       "</div>"
      ],
      "text/plain": [
       "   Alley   Price\n",
       "0   Pave  127500\n",
       "1  Liber  106700\n",
       "2    NaN  178100\n",
       "3   Rock  140000"
      ]
     },
     "execution_count": 32,
     "metadata": {},
     "output_type": "execute_result"
    }
   ],
   "source": [
    "# test1\n",
    "cnt = 0\n",
    "max = 0\n",
    "labels = ['NumRooms','Alley','Price']\n",
    "for label in labels:\n",
    "    cnt = data[label].isna().sum() #Detect missing values. 检测缺失值。\n",
    "    if (cnt > max):\n",
    "        max = cnt\n",
    "        delete = label\n",
    "dropped =  data.drop(delete, axis=1)\n",
    "dropped"
   ]
  },
  {
   "cell_type": "code",
   "execution_count": 33,
   "metadata": {},
   "outputs": [
    {
     "data": {
      "text/plain": [
       "tensor([[       nan, 1.2750e+05],\n",
       "        [6.0000e+00, 1.0670e+05],\n",
       "        [4.0000e+00, 1.7810e+05],\n",
       "        [       nan, 1.4000e+05]], dtype=torch.float64)"
      ]
     },
     "execution_count": 33,
     "metadata": {},
     "output_type": "execute_result"
    }
   ],
   "source": [
    "t_d = data.drop('Alley', axis=1)\n",
    "t_d = torch.tensor(t_d.to_numpy(dtype=float))\n",
    "t_d"
   ]
  },
  {
   "cell_type": "markdown",
   "metadata": {},
   "source": [
    "## 2.3 线性代数"
   ]
  },
  {
   "cell_type": "markdown",
   "metadata": {},
   "source": [
    "#### 接下来将简要地回顾一下部分基本线性代数内容\n",
    "#### 介绍线性代数中的基本数学对象、算术和运算，并用数学符号和相应的代码实现来表示它们"
   ]
  },
  {
   "cell_type": "markdown",
   "metadata": {},
   "source": [
    "### 2.3.1 标量"
   ]
  },
  {
   "cell_type": "markdown",
   "metadata": {},
   "source": [
    "#### 标量由只有一个元素的张量表示"
   ]
  },
  {
   "cell_type": "code",
   "execution_count": 34,
   "metadata": {},
   "outputs": [
    {
     "data": {
      "text/plain": [
       "(tensor(5.), tensor(6.), tensor(1.5000), tensor(9.))"
      ]
     },
     "execution_count": 34,
     "metadata": {},
     "output_type": "execute_result"
    }
   ],
   "source": [
    "x = torch.tensor(3.0)\n",
    "y = torch.tensor(2.0)\n",
    "x + y, x * y, x / y, x**y"
   ]
  },
  {
   "cell_type": "markdown",
   "metadata": {},
   "source": [
    "### 2.3.2 向量"
   ]
  },
  {
   "cell_type": "markdown",
   "metadata": {},
   "source": [
    "#### 向量可以被视为标量值组成的列表。这些标量值被称为向量的元素（element）或分量（component）。 tips: 在数学表示中， 向量是粗体"
   ]
  },
  {
   "cell_type": "code",
   "execution_count": 35,
   "metadata": {},
   "outputs": [
    {
     "data": {
      "text/plain": [
       "tensor([0, 1, 2, 3])"
      ]
     },
     "execution_count": 35,
     "metadata": {},
     "output_type": "execute_result"
    }
   ],
   "source": [
    "x = torch.arange(4)\n",
    "x"
   ]
  },
  {
   "cell_type": "markdown",
   "metadata": {},
   "source": [
    "#### 我们可以使用下标来引用向量的任一元素"
   ]
  },
  {
   "cell_type": "markdown",
   "metadata": {},
   "source": [
    "#### $$ \\mathbf{x} = \\begin{bmatrix} x_1 \\\\ x_2 \\\\ ... \\\\ x_n \\end{bmatrix} $$"
   ]
  },
  {
   "cell_type": "markdown",
   "metadata": {},
   "source": [
    "#### x1, . . . , xn是向量的元素, 在代码中，我们通过张量的索引来访问任一元素"
   ]
  },
  {
   "cell_type": "code",
   "execution_count": 36,
   "metadata": {},
   "outputs": [
    {
     "data": {
      "text/plain": [
       "tensor(3)"
      ]
     },
     "execution_count": 36,
     "metadata": {},
     "output_type": "execute_result"
    }
   ],
   "source": [
    "x[3]"
   ]
  },
  {
   "cell_type": "markdown",
   "metadata": {},
   "source": [
    "#### 长度、维度和形状"
   ]
  },
  {
   "cell_type": "markdown",
   "metadata": {},
   "source": [
    "##### 向量只是一个数字数组，也有长度。 \n",
    "##### 在数学表示法中，如果我们想说一个向量x由n个实值标量组成，可以将其表示为 $$x ∈ R^n$$\n",
    "##### 向量的长度通常称为向量的维度（dimension）。"
   ]
  },
  {
   "cell_type": "code",
   "execution_count": 37,
   "metadata": {},
   "outputs": [
    {
     "data": {
      "text/plain": [
       "4"
      ]
     },
     "execution_count": 37,
     "metadata": {},
     "output_type": "execute_result"
    }
   ],
   "source": [
    "len(x)"
   ]
  },
  {
   "cell_type": "markdown",
   "metadata": {},
   "source": [
    "##### 当张量只表示一个向量即只有一个轴时，可用.shape来访问向量长度\n",
    "##### .shape是一个元素组，列出张量每个轴的维度 （横轴竖维"
   ]
  },
  {
   "cell_type": "code",
   "execution_count": 38,
   "metadata": {},
   "outputs": [
    {
     "data": {
      "text/plain": [
       "torch.Size([4])"
      ]
     },
     "execution_count": 38,
     "metadata": {},
     "output_type": "execute_result"
    }
   ],
   "source": [
    "x.shape"
   ]
  },
  {
   "cell_type": "markdown",
   "metadata": {},
   "source": [
    "#### 维度（dimension）这个词在不同上下文时往往会有不同的含义\n",
    "##### 向量或轴的维度被用来表示向量或轴的长度，即向量或轴的元素数量\n",
    "##### 然而，张量的维度用来表示张量具有的轴数 即 张量.维度 == 张量.轴数,  向量.维度 == 向量.元素数"
   ]
  },
  {
   "cell_type": "markdown",
   "metadata": {},
   "source": [
    "### 2.3.3 矩阵"
   ]
  },
  {
   "cell_type": "markdown",
   "metadata": {},
   "source": [
    "#### 正如向量将标量从零阶推广到一阶，矩阵将向量从一阶推广到二阶。\n",
    "#### 矩阵，我们通常用粗体、大写字母来表示"
   ]
  },
  {
   "cell_type": "markdown",
   "metadata": {},
   "source": [
    "#### 数学表示法使用 $$A ∈ R^{m×n}$$ 来表示矩阵A，其由m行和n列的实值标量组成"
   ]
  },
  {
   "cell_type": "markdown",
   "metadata": {},
   "source": [
    "#### 当矩阵具有相同数量的行和列时，其形状将变为正方形；\n",
    "#### 因此，它被称为方阵（square matrix）"
   ]
  },
  {
   "cell_type": "code",
   "execution_count": 39,
   "metadata": {},
   "outputs": [
    {
     "data": {
      "text/plain": [
       "tensor([[ 0,  1,  2,  3],\n",
       "        [ 4,  5,  6,  7],\n",
       "        [ 8,  9, 10, 11],\n",
       "        [12, 13, 14, 15],\n",
       "        [16, 17, 18, 19]])"
      ]
     },
     "execution_count": 39,
     "metadata": {},
     "output_type": "execute_result"
    }
   ],
   "source": [
    "A = torch.arange(20).reshape(5, 4)\n",
    "A"
   ]
  },
  {
   "cell_type": "markdown",
   "metadata": {},
   "source": [
    "#### 我们可以通过行索引（i）和列索引（j）来访问矩阵中的标量元素aij，例如[A]ij。"
   ]
  },
  {
   "cell_type": "markdown",
   "metadata": {},
   "source": [
    "#### 当我们交换矩阵的行和列时，结果称为矩阵的转置（transpose）\n",
    "#### 通常用 a^⊤ 来表示矩阵的转置，如果 B = A^⊤，则对于任意i和j，都有bij = aji"
   ]
  },
  {
   "cell_type": "code",
   "execution_count": 40,
   "metadata": {},
   "outputs": [
    {
     "data": {
      "text/plain": [
       "tensor([[ 0,  4,  8, 12, 16],\n",
       "        [ 1,  5,  9, 13, 17],\n",
       "        [ 2,  6, 10, 14, 18],\n",
       "        [ 3,  7, 11, 15, 19]])"
      ]
     },
     "execution_count": 40,
     "metadata": {},
     "output_type": "execute_result"
    }
   ],
   "source": [
    "A.T"
   ]
  },
  {
   "cell_type": "code",
   "execution_count": 41,
   "metadata": {},
   "outputs": [
    {
     "data": {
      "text/plain": [
       "tensor([[1, 2, 3],\n",
       "        [2, 0, 4],\n",
       "        [3, 4, 5]])"
      ]
     },
     "execution_count": 41,
     "metadata": {},
     "output_type": "execute_result"
    }
   ],
   "source": [
    "B = torch.tensor([[1, 2, 3], [2, 0, 4], [3, 4, 5]])\n",
    "B"
   ]
  },
  {
   "cell_type": "code",
   "execution_count": 42,
   "metadata": {},
   "outputs": [
    {
     "data": {
      "text/plain": [
       "tensor([[True, True, True],\n",
       "        [True, True, True],\n",
       "        [True, True, True]])"
      ]
     },
     "execution_count": 42,
     "metadata": {},
     "output_type": "execute_result"
    }
   ],
   "source": [
    "B == B.T"
   ]
  },
  {
   "cell_type": "markdown",
   "metadata": {},
   "source": [
    "#### 矩阵是有用的数据结构：它们允许我们组织具有不同模式的数据\n",
    "#### 尽管单个向量的默认方向是列向量，但在表示表格数据集的矩阵中，将每个数据样本作为矩阵中的行向量更为常见\n",
    "#### 这种约定将支持常见的深度学习实践。如，沿着张量的最外轴，我们可以访问或遍历小批量的数据样本"
   ]
  },
  {
   "cell_type": "markdown",
   "metadata": {},
   "source": [
    "### 2.3.4 张量"
   ]
  },
  {
   "cell_type": "markdown",
   "metadata": {},
   "source": [
    "#### 张量（本小节中的“张量”指代数对象）是描述具有任意数量轴的n维数组的通用方法 examples：向量是一阶张量， 矩阵是二阶张量"
   ]
  },
  {
   "cell_type": "markdown",
   "metadata": {},
   "source": [
    "#### 数学表示用大写的字母，索引机制与矩阵类似"
   ]
  },
  {
   "cell_type": "markdown",
   "metadata": {},
   "source": [
    "#### 当我们开始处理图像时，张量将变得更加重要，图像以n维数组形式出现，其中3个轴对应于高度、宽度，以及一个颜色通道（channel）轴"
   ]
  },
  {
   "cell_type": "code",
   "execution_count": 43,
   "metadata": {},
   "outputs": [
    {
     "data": {
      "text/plain": [
       "tensor([[[ 0,  1,  2,  3],\n",
       "         [ 4,  5,  6,  7],\n",
       "         [ 8,  9, 10, 11]],\n",
       "\n",
       "        [[12, 13, 14, 15],\n",
       "         [16, 17, 18, 19],\n",
       "         [20, 21, 22, 23]]])"
      ]
     },
     "execution_count": 43,
     "metadata": {},
     "output_type": "execute_result"
    }
   ],
   "source": [
    "X = torch.arange(24).reshape(2, 3, 4) #分别是1，2，3维。第一个是batch维，第二个是channel维，第三个是长度维度\n",
    "X"
   ]
  },
  {
   "cell_type": "markdown",
   "metadata": {},
   "source": [
    "### 2.3.5 张量算法的基本性质"
   ]
  },
  {
   "cell_type": "markdown",
   "metadata": {},
   "source": [
    "#### 张量有一些实用的属性\n",
    "#### 任何按元素的一元运算都不会改变其操作数的形状"
   ]
  },
  {
   "cell_type": "code",
   "execution_count": 44,
   "metadata": {},
   "outputs": [
    {
     "data": {
      "text/plain": [
       "(tensor([[ 0.,  1.,  2.,  3.],\n",
       "         [ 4.,  5.,  6.,  7.],\n",
       "         [ 8.,  9., 10., 11.],\n",
       "         [12., 13., 14., 15.],\n",
       "         [16., 17., 18., 19.]]),\n",
       " tensor([[ 0.,  2.,  4.,  6.],\n",
       "         [ 8., 10., 12., 14.],\n",
       "         [16., 18., 20., 22.],\n",
       "         [24., 26., 28., 30.],\n",
       "         [32., 34., 36., 38.]]))"
      ]
     },
     "execution_count": 44,
     "metadata": {},
     "output_type": "execute_result"
    }
   ],
   "source": [
    "A = torch.arange(20, dtype = torch.float32).reshape(5, 4)\n",
    "B = A.clone()\n",
    "A, A + B"
   ]
  },
  {
   "cell_type": "markdown",
   "metadata": {},
   "source": [
    "#### 具体而言，两个矩阵的按元素乘法称为Hadamard积（Hadamard product）（数学符号⊙）。(不同于矩阵乘法"
   ]
  },
  {
   "cell_type": "code",
   "execution_count": 45,
   "metadata": {},
   "outputs": [
    {
     "data": {
      "text/plain": [
       "tensor([[  0.,   1.,   4.,   9.],\n",
       "        [ 16.,  25.,  36.,  49.],\n",
       "        [ 64.,  81., 100., 121.],\n",
       "        [144., 169., 196., 225.],\n",
       "        [256., 289., 324., 361.]])"
      ]
     },
     "execution_count": 45,
     "metadata": {},
     "output_type": "execute_result"
    }
   ],
   "source": [
    "A * B"
   ]
  },
  {
   "cell_type": "markdown",
   "metadata": {},
   "source": [
    "#### 将张量乘以或加上一个标量不会改变张量的形状，其中张量的每个元素都将与标量相加或相乘"
   ]
  },
  {
   "cell_type": "code",
   "execution_count": 46,
   "metadata": {},
   "outputs": [
    {
     "data": {
      "text/plain": [
       "(tensor([[[ 2,  3,  4,  5],\n",
       "          [ 6,  7,  8,  9],\n",
       "          [10, 11, 12, 13]],\n",
       " \n",
       "         [[14, 15, 16, 17],\n",
       "          [18, 19, 20, 21],\n",
       "          [22, 23, 24, 25]]]),\n",
       " torch.Size([2, 3, 4]))"
      ]
     },
     "execution_count": 46,
     "metadata": {},
     "output_type": "execute_result"
    }
   ],
   "source": [
    "a = 2 \n",
    "X = torch.arange(24).reshape(2, 3, 4)\n",
    "a + X, (a * X).shape"
   ]
  },
  {
   "cell_type": "markdown",
   "metadata": {},
   "source": [
    "### 2.3.6 降维"
   ]
  },
  {
   "cell_type": "markdown",
   "metadata": {},
   "source": [
    "#### 我们可以对任意张量进行的一个有用的操作是计算其元素的和\n",
    "#### 元素的总和，可以记为$$\\sum_{i=1}^dxi$$"
   ]
  },
  {
   "cell_type": "code",
   "execution_count": 47,
   "metadata": {},
   "outputs": [
    {
     "data": {
      "text/plain": [
       "(tensor([0., 1., 2., 3.]), tensor(6.))"
      ]
     },
     "execution_count": 47,
     "metadata": {},
     "output_type": "execute_result"
    }
   ],
   "source": [
    "x = torch.arange(4, dtype = torch.float32)\n",
    "x, x.sum()"
   ]
  },
  {
   "cell_type": "markdown",
   "metadata": {},
   "source": [
    "#### 我们可以表示任意形状张量的元素和。例如，矩阵A中元素的和可以记为$$\\sum_{i=1}^m\\sum_{j=1}^na_{ij}$$"
   ]
  },
  {
   "cell_type": "code",
   "execution_count": 48,
   "metadata": {},
   "outputs": [
    {
     "data": {
      "text/plain": [
       "(torch.Size([5, 4]), tensor(190.))"
      ]
     },
     "execution_count": 48,
     "metadata": {},
     "output_type": "execute_result"
    }
   ],
   "source": [
    "A.shape, A.sum()"
   ]
  },
  {
   "cell_type": "markdown",
   "metadata": {},
   "source": [
    "#### 调用求和函数会沿所有的轴降低张量的维度，使它变为一个标量\n",
    "#### 我们还可以指定张量沿哪一个轴来通过求和降低维度。以矩阵为例，为了通过求和所有行的元素来降维（轴0） //二向箔"
   ]
  },
  {
   "cell_type": "code",
   "execution_count": 49,
   "metadata": {},
   "outputs": [
    {
     "data": {
      "text/plain": [
       "(tensor([40., 45., 50., 55.]), torch.Size([4]))"
      ]
     },
     "execution_count": 49,
     "metadata": {},
     "output_type": "execute_result"
    }
   ],
   "source": [
    "A_sum_axis0 = A.sum(axis=0)\n",
    "A_sum_axis0, A_sum_axis0.shape"
   ]
  },
  {
   "cell_type": "markdown",
   "metadata": {},
   "source": [
    "#### 指定axis=1将通过汇总所有列的元素降维（轴1）"
   ]
  },
  {
   "cell_type": "code",
   "execution_count": 50,
   "metadata": {},
   "outputs": [
    {
     "data": {
      "text/plain": [
       "(tensor([ 6., 22., 38., 54., 70.]), torch.Size([5]))"
      ]
     },
     "execution_count": 50,
     "metadata": {},
     "output_type": "execute_result"
    }
   ],
   "source": [
    "A_sum_axis1 = A.sum(axis=1)\n",
    "A_sum_axis1, A_sum_axis1.shape"
   ]
  },
  {
   "cell_type": "markdown",
   "metadata": {},
   "source": [
    "#### 沿着行和列对矩阵求和，等价于对矩阵的所有元素进行求和"
   ]
  },
  {
   "cell_type": "code",
   "execution_count": 51,
   "metadata": {},
   "outputs": [
    {
     "data": {
      "text/plain": [
       "tensor(190.)"
      ]
     },
     "execution_count": 51,
     "metadata": {},
     "output_type": "execute_result"
    }
   ],
   "source": [
    "A.sum(axis=[0, 1])"
   ]
  },
  {
   "cell_type": "markdown",
   "metadata": {},
   "source": [
    "#### 一个与求和相关的量是平均值（mean或average）。我们通过将总和除以元素总数来计算平均值"
   ]
  },
  {
   "cell_type": "code",
   "execution_count": 52,
   "metadata": {},
   "outputs": [
    {
     "data": {
      "text/plain": [
       "(tensor(9.5000), tensor(9.5000))"
      ]
     },
     "execution_count": 52,
     "metadata": {},
     "output_type": "execute_result"
    }
   ],
   "source": [
    "A.mean(), A.sum()/ A.numel()"
   ]
  },
  {
   "cell_type": "markdown",
   "metadata": {},
   "source": [
    "#### 同样，计算平均值的函数也可以沿指定轴降低张量的维度"
   ]
  },
  {
   "cell_type": "code",
   "execution_count": 53,
   "metadata": {},
   "outputs": [
    {
     "data": {
      "text/plain": [
       "(tensor([ 8.,  9., 10., 11.]), tensor([ 8.,  9., 10., 11.]))"
      ]
     },
     "execution_count": 53,
     "metadata": {},
     "output_type": "execute_result"
    }
   ],
   "source": [
    "A.mean(axis=0), A.sum(axis=0) / A.shape[0]"
   ]
  },
  {
   "cell_type": "markdown",
   "metadata": {},
   "source": [
    "### -非降维求和"
   ]
  },
  {
   "cell_type": "markdown",
   "metadata": {},
   "source": [
    "#### 有时在调用函数来计算总和或均值时保持轴数不变会很有用, 维度没变==轴数不变"
   ]
  },
  {
   "cell_type": "code",
   "execution_count": 54,
   "metadata": {},
   "outputs": [
    {
     "data": {
      "text/plain": [
       "tensor([[ 6.],\n",
       "        [22.],\n",
       "        [38.],\n",
       "        [54.],\n",
       "        [70.]])"
      ]
     },
     "execution_count": 54,
     "metadata": {},
     "output_type": "execute_result"
    }
   ],
   "source": [
    "sum_A = A.sum(axis=1, keepdim=True)\n",
    "sum_A"
   ]
  },
  {
   "cell_type": "markdown",
   "metadata": {},
   "source": [
    "#### 由于sum_A在对每行进行求和后仍保持两个轴，我们可以通过广播将A除以sum_A"
   ]
  },
  {
   "cell_type": "code",
   "execution_count": 55,
   "metadata": {},
   "outputs": [
    {
     "data": {
      "text/plain": [
       "tensor([[0.0000, 0.1667, 0.3333, 0.5000],\n",
       "        [0.1818, 0.2273, 0.2727, 0.3182],\n",
       "        [0.2105, 0.2368, 0.2632, 0.2895],\n",
       "        [0.2222, 0.2407, 0.2593, 0.2778],\n",
       "        [0.2286, 0.2429, 0.2571, 0.2714]])"
      ]
     },
     "execution_count": 55,
     "metadata": {},
     "output_type": "execute_result"
    }
   ],
   "source": [
    "A / sum_A"
   ]
  },
  {
   "cell_type": "markdown",
   "metadata": {},
   "source": [
    "#### 若想沿某个轴计算A元素的累积总和，比如axis=0（按行计算），可以调用cumsum函数。此函数不会沿任何轴降低输入张量的维度，这里是竖着加"
   ]
  },
  {
   "cell_type": "code",
   "execution_count": 56,
   "metadata": {},
   "outputs": [
    {
     "data": {
      "text/plain": [
       "tensor([[ 0.,  1.,  2.,  3.],\n",
       "        [ 4.,  6.,  8., 10.],\n",
       "        [12., 15., 18., 21.],\n",
       "        [24., 28., 32., 36.],\n",
       "        [40., 45., 50., 55.]])"
      ]
     },
     "execution_count": 56,
     "metadata": {},
     "output_type": "execute_result"
    }
   ],
   "source": [
    "A.cumsum(axis=0)"
   ]
  },
  {
   "cell_type": "markdown",
   "metadata": {},
   "source": [
    "### 2.3.7 点积（Dot Product）"
   ]
  },
  {
   "cell_type": "markdown",
   "metadata": {},
   "source": [
    "#### 给定两个向量x, y ∈ R^d，它们的点积（dot product）x^⊤y （或⟨x, y⟩）是相同位置的按元素乘积的和：$$x^⊤y =\\sum_{i=1}^d xiyi$$ (应该是x^⊤和y的点积)"
   ]
  },
  {
   "cell_type": "code",
   "execution_count": 57,
   "metadata": {},
   "outputs": [
    {
     "data": {
      "text/plain": [
       "(tensor([0., 1., 2., 3.]), tensor([1., 1., 1., 1.]), tensor(6.))"
      ]
     },
     "execution_count": 57,
     "metadata": {},
     "output_type": "execute_result"
    }
   ],
   "source": [
    "y = torch.ones(4, dtype=torch.float32)\n",
    "x, y, torch.dot(x, y)"
   ]
  },
  {
   "cell_type": "markdown",
   "metadata": {},
   "source": [
    "#### 我们可以通过执行按元素乘法，然后进行求和来表示两个向量的点积"
   ]
  },
  {
   "cell_type": "code",
   "execution_count": 58,
   "metadata": {},
   "outputs": [
    {
     "data": {
      "text/plain": [
       "tensor(6.)"
      ]
     },
     "execution_count": 58,
     "metadata": {},
     "output_type": "execute_result"
    }
   ],
   "source": [
    "torch.sum(x * y)"
   ]
  },
  {
   "cell_type": "markdown",
   "metadata": {},
   "source": [
    "#### 给定一组由向量x ∈ R^d表示的值，和一组由w ∈ R^d表示的权重。x中的值根据权重w的加权和，可以表示为点积x^⊤w\n",
    "#### 当权重非负且和为1时，点积表示加权平均\n",
    "#### 将两个向量规范化得到单位长度后，点积表示它们夹角的余弦"
   ]
  },
  {
   "cell_type": "markdown",
   "metadata": {},
   "source": [
    "### 2.3.8 矩阵-向量积"
   ]
  },
  {
   "cell_type": "markdown",
   "metadata": {},
   "source": [
    "#### 我们知道如何计算点积，可以开始理解矩阵-向量积（matrix‐vector product）"
   ]
  },
  {
   "cell_type": "markdown",
   "metadata": {},
   "source": [
    "#### 我们可以把一个矩阵$A ∈ R^{m×n}$乘法看作一个从$R^n$到$R^m$向量的转换"
   ]
  },
  {
   "cell_type": "markdown",
   "metadata": {},
   "source": [
    "##### 具体用例有旋转矩阵"
   ]
  },
  {
   "cell_type": "markdown",
   "metadata": {},
   "source": [
    "####  在代码中使用张量表示矩阵‐向量积，我们使用mv函数。 矩阵A和向量x调用torch.mv(A, x)"
   ]
  },
  {
   "cell_type": "code",
   "execution_count": 59,
   "metadata": {},
   "outputs": [
    {
     "data": {
      "text/plain": [
       "(torch.Size([5, 4]), torch.Size([4]), tensor([ 14.,  38.,  62.,  86., 110.]))"
      ]
     },
     "execution_count": 59,
     "metadata": {},
     "output_type": "execute_result"
    }
   ],
   "source": [
    "A.shape, x.shape, torch.mv(A, x)"
   ]
  },
  {
   "cell_type": "markdown",
   "metadata": {},
   "source": [
    "### 2.3.9 矩阵-矩阵乘法"
   ]
  },
  {
   "cell_type": "markdown",
   "metadata": {},
   "source": [
    "#### 掌握点积和矩阵向量积之后， 那么矩阵‐矩阵乘法（matrix‐matrix multiplication）应该很简单"
   ]
  },
  {
   "cell_type": "markdown",
   "metadata": {},
   "source": [
    "#### 要得到矩阵积C = AB， 需要A的行向量*B的列向量（按位运算），即求$c_{ij}$ 的值时，是在求$a_i * b_j$的值（左行右列）"
   ]
  },
  {
   "cell_type": "code",
   "execution_count": 60,
   "metadata": {},
   "outputs": [
    {
     "data": {
      "text/plain": [
       "tensor([[ 6.,  6.,  6.],\n",
       "        [22., 22., 22.],\n",
       "        [38., 38., 38.],\n",
       "        [54., 54., 54.],\n",
       "        [70., 70., 70.]])"
      ]
     },
     "execution_count": 60,
     "metadata": {},
     "output_type": "execute_result"
    }
   ],
   "source": [
    "B = torch.ones(4, 3)\n",
    "torch.mm(A, B)"
   ]
  },
  {
   "cell_type": "markdown",
   "metadata": {},
   "source": [
    "#### 矩阵乘法，不应与“Hadamard积”混淆"
   ]
  },
  {
   "cell_type": "markdown",
   "metadata": {},
   "source": [
    "### 2.3.10 范数"
   ]
  },
  {
   "cell_type": "markdown",
   "metadata": {},
   "source": [
    "#### 线性代数中最有用的一些运算符是范数（norm）。"
   ]
  },
  {
   "cell_type": "markdown",
   "metadata": {},
   "source": [
    "#### 非正式地说，向量的范数是表示一个向量有多大。这里考虑的是分量大小，不是维度"
   ]
  },
  {
   "cell_type": "markdown",
   "metadata": {},
   "source": [
    "#### 在线性代数中，向量范数是将向量映射到标量的函数f。"
   ]
  },
  {
   "cell_type": "markdown",
   "metadata": {},
   "source": [
    "#### 第一个性质是：如果我们按常数因子α缩放向量的所有元素，其范数也会按相同常数因子的**绝对值**缩放"
   ]
  },
  {
   "cell_type": "markdown",
   "metadata": {},
   "source": [
    "$$ f(αx) = |α|f(x). $$"
   ]
  },
  {
   "cell_type": "markdown",
   "metadata": {},
   "source": [
    "#### 第二个性质是熟悉的三角不等式:"
   ]
  },
  {
   "cell_type": "markdown",
   "metadata": {},
   "source": [
    "$$ f(x + y) ≤ f(x) + f(y).  $$"
   ]
  },
  {
   "cell_type": "markdown",
   "metadata": {},
   "source": [
    "#### 第三个性质简单地说范数必须是非负的"
   ]
  },
  {
   "cell_type": "markdown",
   "metadata": {},
   "source": [
    "$$ f(x) ≥ 0. $$"
   ]
  },
  {
   "cell_type": "markdown",
   "metadata": {},
   "source": [
    "#### 最后一个性质要求范数最小为0，当且仅当向量全由0组成"
   ]
  },
  {
   "cell_type": "markdown",
   "metadata": {},
   "source": [
    "$$ ∀i, [x]i = 0 ⇔ f(x) = 0. $$"
   ]
  },
  {
   "cell_type": "markdown",
   "metadata": {},
   "source": [
    "#### 范数听起来很像距离的度量。欧几里得距离和毕达哥拉斯定理中的非负性概念和三角不等式可能会给出一些启发。"
   ]
  },
  {
   "cell_type": "markdown",
   "metadata": {},
   "source": [
    "#### 事实上，欧几里得距离是一个L2范数：假设n维向量**x**中的元素是$x_1, . . . , x_n$，其L2范数是向量元素平方和的平方根：\n",
    "#### $$ ∥x∥_2 = \\sqrt(\\sum{i=1}^n x_i^2) $$"
   ]
  },
  {
   "cell_type": "markdown",
   "metadata": {},
   "source": [
    "##### 其中，在L2范数中常常省略下标2，也就是说∥x∥等同于∥x∥2"
   ]
  },
  {
   "cell_type": "code",
   "execution_count": 61,
   "metadata": {},
   "outputs": [
    {
     "data": {
      "text/plain": [
       "tensor(5.)"
      ]
     },
     "execution_count": 61,
     "metadata": {},
     "output_type": "execute_result"
    }
   ],
   "source": [
    "u = torch.tensor([3.0, -4.0])\n",
    "torch.norm(u)"
   ]
  },
  {
   "cell_type": "markdown",
   "metadata": {},
   "source": [
    "#### 深度学习中更经常地使用L2范数的平方，也会经常遇到L1范数，它表示为向量元素的绝对值之和：\n",
    "#### $$ ∥x∥_1 = \\sum_{i=1}^n|x_i| $$"
   ]
  },
  {
   "cell_type": "code",
   "execution_count": 62,
   "metadata": {},
   "outputs": [
    {
     "data": {
      "text/plain": [
       "tensor(7.)"
      ]
     },
     "execution_count": 62,
     "metadata": {},
     "output_type": "execute_result"
    }
   ],
   "source": [
    "torch.abs(u).sum()"
   ]
  },
  {
   "cell_type": "markdown",
   "metadata": {},
   "source": [
    "#### L2范数和L1范数都是更一般的Lp范数的特例："
   ]
  },
  {
   "cell_type": "markdown",
   "metadata": {},
   "source": [
    "$$ ∥X∥_F = \\sqrt(\\sum_{i=1}^m\\sum_{i=1}^m x_{ij}^2) $$"
   ]
  },
  {
   "cell_type": "markdown",
   "metadata": {},
   "source": [
    "#### Frobenius范数满足向量范数的所有性质，它就像是矩阵形向量的L2范数"
   ]
  },
  {
   "cell_type": "code",
   "execution_count": 63,
   "metadata": {},
   "outputs": [
    {
     "data": {
      "text/plain": [
       "tensor(4.8990)"
      ]
     },
     "execution_count": 63,
     "metadata": {},
     "output_type": "execute_result"
    }
   ],
   "source": [
    "torch.norm(torch.ones(6, 4))"
   ]
  },
  {
   "cell_type": "markdown",
   "metadata": {},
   "source": [
    "### -范数和目标"
   ]
  },
  {
   "cell_type": "markdown",
   "metadata": {},
   "source": [
    "#### 目标，或许是深度学习算法最重要的组成部分（除了数据），通常被表达为范数"
   ]
  },
  {
   "cell_type": "markdown",
   "metadata": {},
   "source": [
    "### 2.3.11 关于线性代数的更多信息"
   ]
  },
  {
   "cell_type": "markdown",
   "metadata": {},
   "source": [
    "#### 线性代数还有很多，其中很多数学对于机器学习非常有用。例如，矩阵可以分解为因子，这些分解可以显示真实世界数据集中的低维结构。\n",
    "#### 机器学习的整个子领域都侧重于使用矩阵分解及其向高阶张量的泛化，来发现数据集中的结构并解决预测问题。\n",
    "#### 线性代数补充资料(https://d2l.ai/chapter_appendix-mathematics-for-deep-learning/geometry-linear-algebraic-ops.html)"
   ]
  },
  {
   "cell_type": "markdown",
   "metadata": {},
   "source": [
    "### 小结"
   ]
  },
  {
   "cell_type": "markdown",
   "metadata": {},
   "source": [
    "#### 矩阵和标、向、张量都是线代基本对象\n",
    "#### 可以通过mean、sum给张量降维\n",
    "#### 两个矩阵的按元素乘法被称为他们的Hadamard积。它与矩阵乘法不同\n",
    "#### 在深度学习中，我们经常使用范数，如L1范数、L2范数和Frobenius范数"
   ]
  },
  {
   "cell_type": "code",
   "execution_count": 64,
   "metadata": {},
   "outputs": [
    {
     "data": {
      "text/plain": [
       "tensor([[True, True, True, True],\n",
       "        [True, True, True, True],\n",
       "        [True, True, True, True],\n",
       "        [True, True, True, True],\n",
       "        [True, True, True, True]])"
      ]
     },
     "execution_count": 64,
     "metadata": {},
     "output_type": "execute_result"
    }
   ],
   "source": [
    "# test1\n",
    "(A.T).T == A"
   ]
  },
  {
   "cell_type": "code",
   "execution_count": 65,
   "metadata": {},
   "outputs": [],
   "source": [
    "# test2\n",
    "# A.T + B.T == (A + B).T"
   ]
  },
  {
   "cell_type": "code",
   "execution_count": 68,
   "metadata": {},
   "outputs": [],
   "source": [
    "# test3\n",
    "# A + A.T"
   ]
  },
  {
   "cell_type": "code",
   "execution_count": 69,
   "metadata": {},
   "outputs": [
    {
     "data": {
      "text/plain": [
       "2"
      ]
     },
     "execution_count": 69,
     "metadata": {},
     "output_type": "execute_result"
    }
   ],
   "source": [
    "# test4\n",
    "len(X) #"
   ]
  },
  {
   "cell_type": "code",
   "execution_count": 70,
   "metadata": {},
   "outputs": [
    {
     "data": {
      "text/plain": [
       "3"
      ]
     },
     "execution_count": 70,
     "metadata": {},
     "output_type": "execute_result"
    }
   ],
   "source": [
    "# test5\n",
    "Xt = torch.arange(12).reshape(3, 4)\n",
    "len(Xt) #第一维"
   ]
  },
  {
   "cell_type": "code",
   "execution_count": 71,
   "metadata": {},
   "outputs": [],
   "source": [
    "# test6\n",
    "# A / A.sum(axis=1) #非单维大小不匹配"
   ]
  },
  {
   "cell_type": "code",
   "execution_count": 72,
   "metadata": {},
   "outputs": [
    {
     "data": {
      "text/plain": [
       "(tensor([[12, 14, 16, 18],\n",
       "         [20, 22, 24, 26],\n",
       "         [28, 30, 32, 34]]),\n",
       " tensor([[12, 15, 18, 21],\n",
       "         [48, 51, 54, 57]]),\n",
       " tensor([[ 6, 22, 38],\n",
       "         [54, 70, 86]]))"
      ]
     },
     "execution_count": 72,
     "metadata": {},
     "output_type": "execute_result"
    }
   ],
   "source": [
    "# test7\n",
    "Xt2 = torch.arange(24).reshape(2, 3, 4)\n",
    "sum1 = Xt2.sum(axis=0)\n",
    "sum2 = Xt2.sum(axis=1)\n",
    "sum3 = Xt2.sum(axis=2)\n",
    "sum1, sum2, sum3 # 依次对1，2，3维度降维"
   ]
  },
  {
   "cell_type": "code",
   "execution_count": 73,
   "metadata": {},
   "outputs": [
    {
     "data": {
      "text/plain": [
       "(tensor([[[-2.8021, -0.3215, -0.5210,  0.9632, -0.2607],\n",
       "          [-2.0555, -1.3784, -0.6005,  0.1550,  1.1034],\n",
       "          [ 0.9869, -0.2859, -0.0974,  1.1344, -0.1801],\n",
       "          [ 0.5897,  1.9329, -2.1716,  1.0049,  0.6680]],\n",
       " \n",
       "         [[-0.3277, -1.4672,  0.9380,  4.0057, -0.2060],\n",
       "          [ 0.3667,  0.4443, -0.1398, -0.0267, -0.5205],\n",
       "          [ 1.0598,  0.3183,  0.3114, -0.8394, -0.9772],\n",
       "          [ 2.1481, -0.3955,  0.9273, -1.2295, -0.5215]],\n",
       " \n",
       "         [[ 0.1353, -1.2920, -0.1078,  1.5495, -0.7902],\n",
       "          [-1.0973,  1.9848, -1.8585,  0.7775, -2.3235],\n",
       "          [ 0.9094, -1.3600, -1.8858, -1.1962, -0.1256],\n",
       "          [ 0.3498,  1.1241, -0.9819, -0.5595,  0.7760]]]),\n",
       " tensor(9.4924),\n",
       " tensor([[[9.4924]]]))"
      ]
     },
     "execution_count": 73,
     "metadata": {},
     "output_type": "execute_result"
    }
   ],
   "source": [
    "# test8\n",
    "Xt3 = torch.randn(3, 4, 5)\n",
    "norm = torch.linalg.norm(Xt3)\n",
    "norm2 = torch.linalg.norm(Xt3, keepdim=True)\n",
    "Xt3, norm, norm2"
   ]
  },
  {
   "cell_type": "markdown",
   "metadata": {},
   "source": [
    "## 2.4 微积分"
   ]
  },
  {
   "cell_type": "markdown",
   "metadata": {},
   "source": [
    "#### 在2500年前，古希腊人把一个多边形分成三角形，并把它们的面积相加，才找到计算多边形面积的方法。为了求出曲线形状（比如圆）的面积，古希腊人在这样的形状上刻内接多边形。内接多边形的等长边越多，就越接近圆。这个过程也被称为逼近法（method of exhaustion）"
   ]
  },
  {
   "cell_type": "markdown",
   "metadata": {},
   "source": [
    "#### 事实上，逼近法就是积分（integral calculus）的起源\n",
    "#### 2000多年后，微积分的另一支，微分（differential calculus）被发明出来"
   ]
  },
  {
   "cell_type": "markdown",
   "metadata": {},
   "source": [
    "### 在微分学最重要的应用是优化问题，即考虑如何把事情做到最好"
   ]
  },
  {
   "cell_type": "markdown",
   "metadata": {},
   "source": [
    "#### 在dl中，我们训练模型，不断更新它们，使它们在看到更多数据时能变得更好\n",
    "#### 就要最小化损失函数的值，损失函数即是衡量模型有多糟糕的指数\n",
    "#### 且我们希望它们遇到新的数据时仍能表现良好，但训练只能在已知数据上拟合\n",
    "### 因此，我们可以将拟合模型的任务分解为两个关键问题：\n",
    "##### • 优化（optimization）：用模型拟合观测数据的过程；\n",
    "##### • 泛化（generalization）：数学原理和实践者的智慧，能够指导我们生成出有效性超出用于训练的数据集本身的模型。"
   ]
  },
  {
   "cell_type": "markdown",
   "metadata": {},
   "source": [
    "### 2.4.1 导数和微分"
   ]
  },
  {
   "cell_type": "markdown",
   "metadata": {},
   "source": [
    "#### 我们首先讨论导数的计算，这是几乎所有深度学习优化算法的关键步骤。在深度学习中，我们通常选择对于模型参数可微的损失函数。\n",
    "#### 简而言之，对于每个参数，如果我们把这个参数增加或减少一个无穷小的量，可以知道损失会以多快的速度增加或减少，"
   ]
  },
  {
   "cell_type": "markdown",
   "metadata": {},
   "source": [
    "#### 假设我们有一个函数f : R → R，其输入和输出都是标量。如果f的导数存在，这个极限被定义为:\n",
    "#### $$ f^′(x) = \\lim_{h→0} \\frac{f(x + h) − f(x)} {h}.$$"
   ]
  },
  {
   "cell_type": "markdown",
   "metadata": {},
   "source": [
    "#### 如果$f^′(a)$存在，则称$f$在$a$处是可微（differentiable）的\n",
    "#### 如果f在一个区间内的每个数上都是可微的，则此函数在此区间中是可微的\n",
    "#### 导数$f^′(x)$解释为$f(x)$相对于$x$的瞬时（instantaneous）变化率。"
   ]
  },
  {
   "cell_type": "markdown",
   "metadata": {},
   "source": [
    "#### 定义$u = f(x) = 3x^2 − 4x$如下"
   ]
  },
  {
   "cell_type": "code",
   "execution_count": 74,
   "metadata": {},
   "outputs": [],
   "source": [
    "%matplotlib inline\n",
    "import numpy as np\n",
    "from matplotlib_inline import backend_inline\n",
    "from fc import torch as fc\n",
    "def f(x):\n",
    "    return 3 * x ** 2 - 4 * x"
   ]
  },
  {
   "cell_type": "markdown",
   "metadata": {},
   "source": [
    "#### 通过令x = 1并让h接近0, 当x = 1时，导数u′是2。"
   ]
  },
  {
   "cell_type": "code",
   "execution_count": 75,
   "metadata": {},
   "outputs": [
    {
     "name": "stdout",
     "output_type": "stream",
     "text": [
      "h=0.10000, numerical limit =  2.30000\n",
      "h=0.01000, numerical limit =  2.03000\n",
      "h=0.00100, numerical limit =  2.00300\n",
      "h=0.00010, numerical limit =  2.00030\n",
      "h=0.00001, numerical limit =  2.00003\n"
     ]
    }
   ],
   "source": [
    "def numerical_lim(f, x, h):\n",
    "    return (f(x + h) - f(x))/ h\n",
    "h = 0.1\n",
    "for i in range(5):\n",
    "    print(f'h={h:.5f}, numerical limit = {numerical_lim(f, 1, h): .5f}')\n",
    "    h *= 0.1"
   ]
  },
  {
   "cell_type": "markdown",
   "metadata": {},
   "source": [
    "#### 熟悉一下导数的几个等价符号。给定y = f(x)，其中x和y分别是函数f的自变量和因变量。以下表达式是等价的：\n",
    "#### $$ f^′(x) = y^′ = \\frac{dy}{dx} = \\frac{df}{dx} = \\frac{d}{dx} f(x) = Df(x) = Dxf(x), $$"
   ]
  },
  {
   "cell_type": "markdown",
   "metadata": {},
   "source": [
    "#### 其中符号 $\\frac{d}{dx} 和$D$是微分运算符"
   ]
  },
  {
   "cell_type": "markdown",
   "metadata": {},
   "source": [
    "#### • $DC = 0$（C是一个常数）\n",
    "#### • $Dx^n = nx^{n−1}$（幂律（power rule），n是任意实数）\n",
    "#### • $De^x = e$\n",
    "#### • $D ln(x) = \\frac{1}{x}$"
   ]
  },
  {
   "cell_type": "markdown",
   "metadata": {},
   "source": [
    "#### 假设函数f和g都是可微的，C是一个常数，则：（省略4条公式） 常数相乘法则，加法法则，乘法法则，除法法则\n",
    "$$\\begin{split}\\begin{aligned} \\frac{d}{dx} [C f(x)] & = C \\frac{d}{dx} f(x) && \\textrm{Constant multiple rule} \\\\ \\frac{d}{dx} [f(x) + g(x)] & = \\frac{d}{dx} f(x) + \\frac{d}{dx} g(x) && \\textrm{Sum rule} \\\\ \\frac{d}{dx} [f(x) g(x)] & = f(x) \\frac{d}{dx} g(x) + g(x) \\frac{d}{dx} f(x) && \\textrm{Product rule} \\\\ \\frac{d}{dx} \\frac{f(x)}{g(x)} & = \\frac{g(x) \\frac{d}{dx} f(x) - f(x) \\frac{d}{dx} g(x)}{g^2(x)} && \\textrm{Quotient rule} \\end{aligned}\\end{split}$$"
   ]
  },
  {
   "cell_type": "markdown",
   "metadata": {},
   "source": [
    "#### 现在我们可以应用上述几个法则来计算$u'=f'（x）= 3 \\frac{d}{dx}x^2 - 4 \\frac{d}{dx}x = 6x + 4$"
   ]
  },
  {
   "cell_type": "markdown",
   "metadata": {},
   "source": [
    "#### 为了对导数的这种解释进行可视化，我们将使用matplotlib\n",
    "#### use_svg_display函数指定matplotlib软件包输出svg图表以获得更清晰的图像\n",
    "#### __注释#@save是一个特殊的标记，会将对应的函数、类或语句保存在fc包__"
   ]
  },
  {
   "cell_type": "code",
   "execution_count": 76,
   "metadata": {},
   "outputs": [],
   "source": [
    "def use_svg_display(): #@save\n",
    "    '''使用svg格式显示绘图'''\n",
    "    backend_inline.set_matplotlib_formats('svg')"
   ]
  },
  {
   "cell_type": "markdown",
   "metadata": {},
   "source": [
    "#### 我们定义set_figsize函数来设置图表大小"
   ]
  },
  {
   "cell_type": "code",
   "execution_count": 77,
   "metadata": {},
   "outputs": [],
   "source": [
    "def set_figsize(figsize=(3.5, 2.5)): #@save\n",
    "    \"\"\"设置matplotlib的图表大小\"\"\"\n",
    "    use_svg_display()\n",
    "    fc.plt.rcParams['figure.figsize'] = figsize"
   ]
  },
  {
   "cell_type": "markdown",
   "metadata": {},
   "source": [
    "#### set_axes函数用于设置由matplotlib生成图表的轴的属性"
   ]
  },
  {
   "cell_type": "code",
   "execution_count": 78,
   "metadata": {},
   "outputs": [],
   "source": [
    "#@save\n",
    "def set_axes(axes, xlabel, ylabel, xlim, ylim, xscale, yscale, legend):\n",
    "    \"\"\"设置matplot的轴\"\"\"\n",
    "    axes.set_xlabel(xlabel)\n",
    "    axes.set_ylabel(ylabel)\n",
    "    axes.set_xlim(xlim)\n",
    "    axes.set_ylim(ylim)\n",
    "    axes.set_xscale(xscale)\n",
    "    axes.set_yscale(yscale)\n",
    "    if legend:\n",
    "        axes.legend(legend)\n",
    "    axes.grid"
   ]
  },
  {
   "cell_type": "markdown",
   "metadata": {},
   "source": [
    "#### 我们可以定义一个plot来叠加多条曲线"
   ]
  },
  {
   "cell_type": "code",
   "execution_count": 79,
   "metadata": {},
   "outputs": [],
   "source": [
    "#@save\n",
    "def plot(X, Y=None, xlabel=None, ylabel=None, legend=[], xlim=None,\n",
    "         ylim=None, xscale='linear', yscale='linear',\n",
    "         fmts=('-', 'm--', 'g-.', 'r:'), figsize=(3.5, 2.5), axes=None):\n",
    "    \"\"\"绘制数据点.\"\"\"\n",
    "\n",
    "    def has_one_axis(X):  # 如果X有一个轴\n",
    "        return (hasattr(X, \"ndim\") and X.ndim == 1 or isinstance(X, list)\n",
    "                and not hasattr(X[0], \"__len__\"))\n",
    "\n",
    "    if has_one_axis(X): X = [X]\n",
    "    if Y is None:\n",
    "        X, Y = [[]] * len(X), X\n",
    "    elif has_one_axis(Y):\n",
    "        Y = [Y]\n",
    "    if len(X) != len(Y):\n",
    "        X = X * len(Y)\n",
    "\n",
    "    set_figsize(figsize)\n",
    "    if axes is None:\n",
    "        axes = fc.plt.gca()\n",
    "    axes.cla()\n",
    "    for x, y, fmt in zip(X, Y, fmts):\n",
    "        axes.plot(x,y,fmt) if len(x) else axes.plot(y,fmt)\n",
    "    set_axes(axes, xlabel, ylabel, xlim, ylim, xscale, yscale, legend)"
   ]
  },
  {
   "cell_type": "markdown",
   "metadata": {},
   "source": [
    "#### 现在我们可以绘制$u=f(x)$及其切线了"
   ]
  },
  {
   "cell_type": "code",
   "execution_count": 80,
   "metadata": {},
   "outputs": [
    {
     "data": {
      "image/svg+xml": [
       "<?xml version=\"1.0\" encoding=\"utf-8\" standalone=\"no\"?>\n",
       "<!DOCTYPE svg PUBLIC \"-//W3C//DTD SVG 1.1//EN\"\n",
       "  \"http://www.w3.org/Graphics/SVG/1.1/DTD/svg11.dtd\">\n",
       "<svg xmlns:xlink=\"http://www.w3.org/1999/xlink\" width=\"239.254688pt\" height=\"177.55pt\" viewBox=\"0 0 239.254688 177.55\" xmlns=\"http://www.w3.org/2000/svg\" version=\"1.1\">\n",
       " <metadata>\n",
       "  <rdf:RDF xmlns:dc=\"http://purl.org/dc/elements/1.1/\" xmlns:cc=\"http://creativecommons.org/ns#\" xmlns:rdf=\"http://www.w3.org/1999/02/22-rdf-syntax-ns#\">\n",
       "   <cc:Work>\n",
       "    <dc:type rdf:resource=\"http://purl.org/dc/dcmitype/StillImage\"/>\n",
       "    <dc:date>2023-12-15T19:42:10.392502</dc:date>\n",
       "    <dc:format>image/svg+xml</dc:format>\n",
       "    <dc:creator>\n",
       "     <cc:Agent>\n",
       "      <dc:title>Matplotlib v3.7.2, https://matplotlib.org/</dc:title>\n",
       "     </cc:Agent>\n",
       "    </dc:creator>\n",
       "   </cc:Work>\n",
       "  </rdf:RDF>\n",
       " </metadata>\n",
       " <defs>\n",
       "  <style type=\"text/css\">*{stroke-linejoin: round; stroke-linecap: butt}</style>\n",
       " </defs>\n",
       " <g id=\"figure_1\">\n",
       "  <g id=\"patch_1\">\n",
       "   <path d=\"M 0 177.55 \n",
       "L 239.254688 177.55 \n",
       "L 239.254688 0 \n",
       "L 0 0 \n",
       "L 0 177.55 \n",
       "z\n",
       "\" style=\"fill: none\"/>\n",
       "  </g>\n",
       "  <g id=\"axes_1\">\n",
       "   <g id=\"patch_2\">\n",
       "    <path d=\"M 36.754688 143.1 \n",
       "L 232.054688 143.1 \n",
       "L 232.054688 7.2 \n",
       "L 36.754688 7.2 \n",
       "z\n",
       "\" style=\"fill: #ffffff\"/>\n",
       "   </g>\n",
       "   <g id=\"matplotlib.axis_1\">\n",
       "    <g id=\"xtick_1\">\n",
       "     <g id=\"line2d_1\">\n",
       "      <defs>\n",
       "       <path id=\"mf28f1f2749\" d=\"M 0 0 \n",
       "L 0 3.5 \n",
       "\" style=\"stroke: #000000; stroke-width: 0.8\"/>\n",
       "      </defs>\n",
       "      <g>\n",
       "       <use xlink:href=\"#mf28f1f2749\" x=\"45.63196\" y=\"143.1\" style=\"stroke: #000000; stroke-width: 0.8\"/>\n",
       "      </g>\n",
       "     </g>\n",
       "     <g id=\"text_1\">\n",
       "      <!-- 0 -->\n",
       "      <g transform=\"translate(43.13196 156.935938) scale(0.1 -0.1)\">\n",
       "       <defs>\n",
       "        <path id=\"SimHei-30\" d=\"M 2975 2250 \n",
       "Q 2975 1350 2650 700 \n",
       "Q 2325 50 1600 50 \n",
       "Q 875 50 537 700 \n",
       "Q 200 1350 200 2250 \n",
       "Q 200 3150 537 3787 \n",
       "Q 875 4425 1600 4425 \n",
       "Q 2325 4425 2650 3787 \n",
       "Q 2975 3150 2975 2250 \n",
       "z\n",
       "M 2375 2250 \n",
       "Q 2375 3050 2187 3500 \n",
       "Q 2000 3950 1600 3950 \n",
       "Q 1200 3950 1000 3500 \n",
       "Q 800 3050 800 2250 \n",
       "Q 800 1450 1000 987 \n",
       "Q 1200 525 1600 525 \n",
       "Q 2000 525 2187 987 \n",
       "Q 2375 1450 2375 2250 \n",
       "z\n",
       "\" transform=\"scale(0.015625)\"/>\n",
       "       </defs>\n",
       "       <use xlink:href=\"#SimHei-30\"/>\n",
       "      </g>\n",
       "     </g>\n",
       "    </g>\n",
       "    <g id=\"xtick_2\">\n",
       "     <g id=\"line2d_2\">\n",
       "      <g>\n",
       "       <use xlink:href=\"#mf28f1f2749\" x=\"106.854531\" y=\"143.1\" style=\"stroke: #000000; stroke-width: 0.8\"/>\n",
       "      </g>\n",
       "     </g>\n",
       "     <g id=\"text_2\">\n",
       "      <!-- 1 -->\n",
       "      <g transform=\"translate(104.354531 156.935938) scale(0.1 -0.1)\">\n",
       "       <defs>\n",
       "        <path id=\"SimHei-31\" d=\"M 1950 100 \n",
       "L 1375 100 \n",
       "L 1375 3425 \n",
       "L 625 3425 \n",
       "L 625 3725 \n",
       "Q 1075 3725 1325 3900 \n",
       "Q 1575 4075 1650 4425 \n",
       "L 1950 4425 \n",
       "L 1950 100 \n",
       "z\n",
       "\" transform=\"scale(0.015625)\"/>\n",
       "       </defs>\n",
       "       <use xlink:href=\"#SimHei-31\"/>\n",
       "      </g>\n",
       "     </g>\n",
       "    </g>\n",
       "    <g id=\"xtick_3\">\n",
       "     <g id=\"line2d_3\">\n",
       "      <g>\n",
       "       <use xlink:href=\"#mf28f1f2749\" x=\"168.077101\" y=\"143.1\" style=\"stroke: #000000; stroke-width: 0.8\"/>\n",
       "      </g>\n",
       "     </g>\n",
       "     <g id=\"text_3\">\n",
       "      <!-- 2 -->\n",
       "      <g transform=\"translate(165.577101 156.935938) scale(0.1 -0.1)\">\n",
       "       <defs>\n",
       "        <path id=\"SimHei-32\" d=\"M 2850 100 \n",
       "L 300 100 \n",
       "L 300 500 \n",
       "Q 450 900 712 1237 \n",
       "Q 975 1575 1475 2000 \n",
       "Q 1850 2325 2012 2600 \n",
       "Q 2175 2875 2175 3200 \n",
       "Q 2175 3525 2037 3737 \n",
       "Q 1900 3950 1600 3950 \n",
       "Q 1350 3950 1162 3725 \n",
       "Q 975 3500 975 2925 \n",
       "L 400 2925 \n",
       "Q 425 3650 737 4037 \n",
       "Q 1050 4425 1625 4425 \n",
       "Q 2175 4425 2475 4087 \n",
       "Q 2775 3750 2775 3175 \n",
       "Q 2775 2700 2500 2350 \n",
       "Q 2225 2000 1825 1650 \n",
       "Q 1375 1250 1200 1050 \n",
       "Q 1025 850 875 575 \n",
       "L 2850 575 \n",
       "L 2850 100 \n",
       "z\n",
       "\" transform=\"scale(0.015625)\"/>\n",
       "       </defs>\n",
       "       <use xlink:href=\"#SimHei-32\"/>\n",
       "      </g>\n",
       "     </g>\n",
       "    </g>\n",
       "    <g id=\"xtick_4\">\n",
       "     <g id=\"line2d_4\">\n",
       "      <g>\n",
       "       <use xlink:href=\"#mf28f1f2749\" x=\"229.299672\" y=\"143.1\" style=\"stroke: #000000; stroke-width: 0.8\"/>\n",
       "      </g>\n",
       "     </g>\n",
       "     <g id=\"text_4\">\n",
       "      <!-- 3 -->\n",
       "      <g transform=\"translate(226.799672 156.935938) scale(0.1 -0.1)\">\n",
       "       <defs>\n",
       "        <path id=\"SimHei-33\" d=\"M 2825 1300 \n",
       "Q 2825 725 2462 387 \n",
       "Q 2100 50 1550 50 \n",
       "Q 1000 50 637 387 \n",
       "Q 275 725 275 1425 \n",
       "L 850 1425 \n",
       "Q 850 950 1037 737 \n",
       "Q 1225 525 1550 525 \n",
       "Q 1875 525 2050 725 \n",
       "Q 2225 925 2225 1350 \n",
       "Q 2225 1700 2037 1900 \n",
       "Q 1850 2100 1375 2100 \n",
       "L 1375 2525 \n",
       "Q 1775 2525 1962 2725 \n",
       "Q 2150 2925 2150 3325 \n",
       "Q 2150 3625 2012 3800 \n",
       "Q 1875 3975 1575 3975 \n",
       "Q 1275 3975 1112 3762 \n",
       "Q 950 3550 925 3150 \n",
       "L 375 3150 \n",
       "Q 425 3725 737 4075 \n",
       "Q 1050 4425 1575 4425 \n",
       "Q 2125 4425 2425 4112 \n",
       "Q 2725 3800 2725 3350 \n",
       "Q 2725 2925 2575 2687 \n",
       "Q 2425 2450 2075 2325 \n",
       "Q 2425 2250 2625 1975 \n",
       "Q 2825 1700 2825 1300 \n",
       "z\n",
       "\" transform=\"scale(0.015625)\"/>\n",
       "       </defs>\n",
       "       <use xlink:href=\"#SimHei-33\"/>\n",
       "      </g>\n",
       "     </g>\n",
       "    </g>\n",
       "    <g id=\"text_5\">\n",
       "     <!-- x -->\n",
       "     <g transform=\"translate(131.904688 169.060938) scale(0.1 -0.1)\">\n",
       "      <defs>\n",
       "       <path id=\"SimHei-78\" d=\"M 2900 100 \n",
       "L 2300 100 \n",
       "L 1575 1175 \n",
       "L 850 100 \n",
       "L 250 100 \n",
       "L 1275 1525 \n",
       "L 325 2900 \n",
       "L 925 2900 \n",
       "L 1575 1850 \n",
       "L 2225 2900 \n",
       "L 2825 2900 \n",
       "L 1875 1525 \n",
       "L 2900 100 \n",
       "z\n",
       "\" transform=\"scale(0.015625)\"/>\n",
       "      </defs>\n",
       "      <use xlink:href=\"#SimHei-78\"/>\n",
       "     </g>\n",
       "    </g>\n",
       "   </g>\n",
       "   <g id=\"matplotlib.axis_2\">\n",
       "    <g id=\"ytick_1\">\n",
       "     <g id=\"line2d_5\">\n",
       "      <defs>\n",
       "       <path id=\"md36e2c28ae\" d=\"M 0 0 \n",
       "L -3.5 0 \n",
       "\" style=\"stroke: #000000; stroke-width: 0.8\"/>\n",
       "      </defs>\n",
       "      <g>\n",
       "       <use xlink:href=\"#md36e2c28ae\" x=\"36.754688\" y=\"114.635514\" style=\"stroke: #000000; stroke-width: 0.8\"/>\n",
       "      </g>\n",
       "     </g>\n",
       "     <g id=\"text_6\">\n",
       "      <!-- 0 -->\n",
       "      <g transform=\"translate(24.754688 118.053482) scale(0.1 -0.1)\">\n",
       "       <use xlink:href=\"#SimHei-30\"/>\n",
       "      </g>\n",
       "     </g>\n",
       "    </g>\n",
       "    <g id=\"ytick_2\">\n",
       "     <g id=\"line2d_6\">\n",
       "      <g>\n",
       "       <use xlink:href=\"#md36e2c28ae\" x=\"36.754688\" y=\"77.490157\" style=\"stroke: #000000; stroke-width: 0.8\"/>\n",
       "      </g>\n",
       "     </g>\n",
       "     <g id=\"text_7\">\n",
       "      <!-- 5 -->\n",
       "      <g transform=\"translate(24.754688 80.908126) scale(0.1 -0.1)\">\n",
       "       <defs>\n",
       "        <path id=\"SimHei-35\" d=\"M 2825 1650 \n",
       "Q 2825 900 2462 475 \n",
       "Q 2100 50 1500 50 \n",
       "Q 975 50 637 400 \n",
       "Q 300 750 275 1350 \n",
       "L 850 1350 \n",
       "Q 850 975 1025 750 \n",
       "Q 1200 525 1525 525 \n",
       "Q 1850 525 2037 800 \n",
       "Q 2225 1075 2225 1650 \n",
       "Q 2225 2150 2062 2387 \n",
       "Q 1900 2625 1625 2625 \n",
       "Q 1400 2625 1237 2525 \n",
       "Q 1075 2425 925 2175 \n",
       "L 425 2175 \n",
       "L 575 4375 \n",
       "L 2725 4375 \n",
       "L 2725 3900 \n",
       "L 1050 3900 \n",
       "L 950 2750 \n",
       "Q 1100 2900 1275 2975 \n",
       "Q 1450 3050 1750 3050 \n",
       "Q 2225 3050 2525 2687 \n",
       "Q 2825 2325 2825 1650 \n",
       "z\n",
       "\" transform=\"scale(0.015625)\"/>\n",
       "       </defs>\n",
       "       <use xlink:href=\"#SimHei-35\"/>\n",
       "      </g>\n",
       "     </g>\n",
       "    </g>\n",
       "    <g id=\"ytick_3\">\n",
       "     <g id=\"line2d_7\">\n",
       "      <g>\n",
       "       <use xlink:href=\"#md36e2c28ae\" x=\"36.754688\" y=\"40.344801\" style=\"stroke: #000000; stroke-width: 0.8\"/>\n",
       "      </g>\n",
       "     </g>\n",
       "     <g id=\"text_8\">\n",
       "      <!-- 10 -->\n",
       "      <g transform=\"translate(19.754688 43.76277) scale(0.1 -0.1)\">\n",
       "       <use xlink:href=\"#SimHei-31\"/>\n",
       "       <use xlink:href=\"#SimHei-30\" x=\"50\"/>\n",
       "      </g>\n",
       "     </g>\n",
       "    </g>\n",
       "    <g id=\"text_9\">\n",
       "     <!-- f(x) -->\n",
       "     <g transform=\"translate(14.465625 85.15) rotate(-90) scale(0.1 -0.1)\">\n",
       "      <defs>\n",
       "       <path id=\"SimHei-66\" d=\"M 2875 3800 \n",
       "Q 2750 3875 2575 3925 \n",
       "Q 2400 3975 2125 3975 \n",
       "Q 1850 3975 1750 3837 \n",
       "Q 1650 3700 1650 3500 \n",
       "L 1650 2900 \n",
       "L 2675 2900 \n",
       "L 2675 2500 \n",
       "L 1650 2500 \n",
       "L 1650 100 \n",
       "L 1150 100 \n",
       "L 1150 2500 \n",
       "L 300 2500 \n",
       "L 300 2900 \n",
       "L 1150 2900 \n",
       "L 1150 3475 \n",
       "Q 1150 3925 1425 4175 \n",
       "Q 1700 4425 2150 4425 \n",
       "Q 2425 4425 2587 4387 \n",
       "Q 2750 4350 2875 4300 \n",
       "L 2875 3800 \n",
       "z\n",
       "\" transform=\"scale(0.015625)\"/>\n",
       "       <path id=\"SimHei-28\" d=\"M 3000 -225 \n",
       "L 2725 -500 \n",
       "Q 2100 100 1787 750 \n",
       "Q 1475 1400 1475 2225 \n",
       "Q 1475 3050 1787 3700 \n",
       "Q 2100 4350 2725 4975 \n",
       "L 3000 4700 \n",
       "Q 2425 4150 2137 3562 \n",
       "Q 1850 2975 1850 2225 \n",
       "Q 1850 1475 2137 887 \n",
       "Q 2425 300 3000 -225 \n",
       "z\n",
       "\" transform=\"scale(0.015625)\"/>\n",
       "       <path id=\"SimHei-29\" d=\"M 1700 2225 \n",
       "Q 1700 1400 1387 750 \n",
       "Q 1075 100 450 -500 \n",
       "L 175 -225 \n",
       "Q 750 300 1037 887 \n",
       "Q 1325 1475 1325 2225 \n",
       "Q 1325 2975 1037 3562 \n",
       "Q 750 4150 175 4700 \n",
       "L 450 4975 \n",
       "Q 1075 4350 1387 3700 \n",
       "Q 1700 3050 1700 2225 \n",
       "z\n",
       "\" transform=\"scale(0.015625)\"/>\n",
       "      </defs>\n",
       "      <use xlink:href=\"#SimHei-66\"/>\n",
       "      <use xlink:href=\"#SimHei-28\" x=\"50\"/>\n",
       "      <use xlink:href=\"#SimHei-78\" x=\"100\"/>\n",
       "      <use xlink:href=\"#SimHei-29\" x=\"150\"/>\n",
       "     </g>\n",
       "    </g>\n",
       "   </g>\n",
       "   <g id=\"line2d_8\">\n",
       "    <path d=\"M 45.63196 114.635514 \n",
       "L 51.754217 117.38427 \n",
       "L 57.876474 119.687282 \n",
       "L 63.998731 121.54455 \n",
       "L 70.120988 122.956073 \n",
       "L 76.243245 123.921853 \n",
       "L 82.365503 124.441888 \n",
       "L 88.48776 124.516178 \n",
       "L 94.610017 124.144725 \n",
       "L 100.732274 123.327527 \n",
       "L 106.854531 122.064585 \n",
       "L 112.976788 120.355898 \n",
       "L 119.099045 118.201468 \n",
       "L 125.221302 115.601293 \n",
       "L 131.343559 112.555374 \n",
       "L 137.465816 109.06371 \n",
       "L 143.588073 105.126302 \n",
       "L 149.71033 100.74315 \n",
       "L 155.832587 95.914254 \n",
       "L 161.954844 90.639614 \n",
       "L 168.077101 84.919229 \n",
       "L 174.199358 78.7531 \n",
       "L 180.321615 72.141226 \n",
       "L 186.443872 65.083608 \n",
       "L 192.56613 57.580247 \n",
       "L 198.688387 49.63114 \n",
       "L 204.810644 41.23629 \n",
       "L 210.932901 32.395695 \n",
       "L 217.055158 23.109356 \n",
       "L 223.177415 13.377273 \n",
       "\" clip-path=\"url(#pdbc5c6afbe)\" style=\"fill: none; stroke: #1f77b4; stroke-width: 1.5; stroke-linecap: square\"/>\n",
       "   </g>\n",
       "   <g id=\"line2d_9\">\n",
       "    <path d=\"M 45.63196 136.922727 \n",
       "L 51.754217 135.436913 \n",
       "L 57.876474 133.951099 \n",
       "L 63.998731 132.465285 \n",
       "L 70.120988 130.97947 \n",
       "L 76.243245 129.493656 \n",
       "L 82.365503 128.007842 \n",
       "L 88.48776 126.522028 \n",
       "L 94.610017 125.036213 \n",
       "L 100.732274 123.550399 \n",
       "L 106.854531 122.064585 \n",
       "L 112.976788 120.578771 \n",
       "L 119.099045 119.092956 \n",
       "L 125.221302 117.607142 \n",
       "L 131.343559 116.121328 \n",
       "L 137.465816 114.635514 \n",
       "L 143.588073 113.149699 \n",
       "L 149.71033 111.663885 \n",
       "L 155.832587 110.178071 \n",
       "L 161.954844 108.692257 \n",
       "L 168.077101 107.206442 \n",
       "L 174.199358 105.720628 \n",
       "L 180.321615 104.234814 \n",
       "L 186.443872 102.749 \n",
       "L 192.56613 101.263185 \n",
       "L 198.688387 99.777371 \n",
       "L 204.810644 98.291557 \n",
       "L 210.932901 96.805743 \n",
       "L 217.055158 95.319928 \n",
       "L 223.177415 93.834114 \n",
       "\" clip-path=\"url(#pdbc5c6afbe)\" style=\"fill: none; stroke-dasharray: 5.55,2.4; stroke-dashoffset: 0; stroke: #bf00bf; stroke-width: 1.5\"/>\n",
       "   </g>\n",
       "   <g id=\"patch_3\">\n",
       "    <path d=\"M 36.754688 143.1 \n",
       "L 36.754688 7.2 \n",
       "\" style=\"fill: none; stroke: #000000; stroke-width: 0.8; stroke-linejoin: miter; stroke-linecap: square\"/>\n",
       "   </g>\n",
       "   <g id=\"patch_4\">\n",
       "    <path d=\"M 232.054688 143.1 \n",
       "L 232.054688 7.2 \n",
       "\" style=\"fill: none; stroke: #000000; stroke-width: 0.8; stroke-linejoin: miter; stroke-linecap: square\"/>\n",
       "   </g>\n",
       "   <g id=\"patch_5\">\n",
       "    <path d=\"M 36.754688 143.1 \n",
       "L 232.054688 143.1 \n",
       "\" style=\"fill: none; stroke: #000000; stroke-width: 0.8; stroke-linejoin: miter; stroke-linecap: square\"/>\n",
       "   </g>\n",
       "   <g id=\"patch_6\">\n",
       "    <path d=\"M 36.754688 7.2 \n",
       "L 232.054688 7.2 \n",
       "\" style=\"fill: none; stroke: #000000; stroke-width: 0.8; stroke-linejoin: miter; stroke-linecap: square\"/>\n",
       "   </g>\n",
       "   <g id=\"legend_1\">\n",
       "    <g id=\"patch_7\">\n",
       "     <path d=\"M 43.754688 42.817188 \n",
       "L 165.754687 42.817188 \n",
       "Q 167.754687 42.817188 167.754687 40.817188 \n",
       "L 167.754687 14.2 \n",
       "Q 167.754687 12.2 165.754687 12.2 \n",
       "L 43.754688 12.2 \n",
       "Q 41.754688 12.2 41.754688 14.2 \n",
       "L 41.754688 40.817188 \n",
       "Q 41.754688 42.817188 43.754688 42.817188 \n",
       "z\n",
       "\" style=\"fill: #ffffff; opacity: 0.8; stroke: #cccccc; stroke-linejoin: miter\"/>\n",
       "    </g>\n",
       "    <g id=\"line2d_10\">\n",
       "     <path d=\"M 45.754688 19.965625 \n",
       "L 55.754688 19.965625 \n",
       "L 65.754688 19.965625 \n",
       "\" style=\"fill: none; stroke: #1f77b4; stroke-width: 1.5; stroke-linecap: square\"/>\n",
       "    </g>\n",
       "    <g id=\"text_10\">\n",
       "     <!-- f(x) -->\n",
       "     <g transform=\"translate(73.754688 23.465625) scale(0.1 -0.1)\">\n",
       "      <use xlink:href=\"#SimHei-66\"/>\n",
       "      <use xlink:href=\"#SimHei-28\" x=\"50\"/>\n",
       "      <use xlink:href=\"#SimHei-78\" x=\"100\"/>\n",
       "      <use xlink:href=\"#SimHei-29\" x=\"150\"/>\n",
       "     </g>\n",
       "    </g>\n",
       "    <g id=\"line2d_11\">\n",
       "     <path d=\"M 45.754688 34.028125 \n",
       "L 55.754688 34.028125 \n",
       "L 65.754688 34.028125 \n",
       "\" style=\"fill: none; stroke-dasharray: 5.55,2.4; stroke-dashoffset: 0; stroke: #bf00bf; stroke-width: 1.5\"/>\n",
       "    </g>\n",
       "    <g id=\"text_11\">\n",
       "     <!-- Tangent line (x=1) -->\n",
       "     <g transform=\"translate(73.754688 37.528125) scale(0.1 -0.1)\">\n",
       "      <defs>\n",
       "       <path id=\"SimHei-54\" d=\"M 2875 3900 \n",
       "L 1875 3900 \n",
       "L 1875 100 \n",
       "L 1300 100 \n",
       "L 1300 3900 \n",
       "L 300 3900 \n",
       "L 300 4375 \n",
       "L 2875 4375 \n",
       "L 2875 3900 \n",
       "z\n",
       "\" transform=\"scale(0.015625)\"/>\n",
       "       <path id=\"SimHei-61\" d=\"M 2900 100 \n",
       "L 2300 100 \n",
       "Q 2250 150 2225 237 \n",
       "Q 2200 325 2200 450 \n",
       "Q 2025 250 1775 150 \n",
       "Q 1525 50 1250 50 \n",
       "Q 850 50 575 250 \n",
       "Q 300 450 300 825 \n",
       "Q 300 1200 550 1425 \n",
       "Q 800 1650 1325 1725 \n",
       "Q 1675 1775 1937 1850 \n",
       "Q 2200 1925 2200 2050 \n",
       "Q 2200 2200 2087 2350 \n",
       "Q 1975 2500 1600 2500 \n",
       "Q 1300 2500 1162 2387 \n",
       "Q 1025 2275 975 2075 \n",
       "L 425 2075 \n",
       "Q 475 2475 787 2712 \n",
       "Q 1100 2950 1600 2950 \n",
       "Q 2150 2950 2425 2700 \n",
       "Q 2700 2450 2700 2000 \n",
       "L 2700 625 \n",
       "Q 2700 475 2750 350 \n",
       "Q 2800 225 2900 100 \n",
       "z\n",
       "M 2200 1025 \n",
       "L 2200 1525 \n",
       "Q 2050 1475 1912 1437 \n",
       "Q 1775 1400 1450 1350 \n",
       "Q 1075 1300 962 1175 \n",
       "Q 850 1050 850 875 \n",
       "Q 850 725 962 612 \n",
       "Q 1075 500 1300 500 \n",
       "Q 1525 500 1787 625 \n",
       "Q 2050 750 2200 1025 \n",
       "z\n",
       "\" transform=\"scale(0.015625)\"/>\n",
       "       <path id=\"SimHei-6e\" d=\"M 2825 100 \n",
       "L 2325 100 \n",
       "L 2325 1900 \n",
       "Q 2325 2200 2175 2375 \n",
       "Q 2025 2550 1775 2550 \n",
       "Q 1450 2550 1162 2212 \n",
       "Q 875 1875 875 1375 \n",
       "L 875 100 \n",
       "L 375 100 \n",
       "L 375 2900 \n",
       "L 875 2900 \n",
       "L 875 2375 \n",
       "Q 1075 2650 1312 2800 \n",
       "Q 1550 2950 1925 2950 \n",
       "Q 2375 2950 2600 2700 \n",
       "Q 2825 2450 2825 2075 \n",
       "L 2825 100 \n",
       "z\n",
       "\" transform=\"scale(0.015625)\"/>\n",
       "       <path id=\"SimHei-67\" d=\"M 3000 2475 \n",
       "Q 2825 2525 2662 2537 \n",
       "Q 2500 2550 2325 2500 \n",
       "Q 2400 2425 2450 2312 \n",
       "Q 2500 2200 2500 1975 \n",
       "Q 2500 1550 2212 1275 \n",
       "Q 1925 1000 1500 1000 \n",
       "Q 1400 1000 1237 1037 \n",
       "Q 1075 1075 975 1125 \n",
       "Q 900 1075 875 1025 \n",
       "Q 850 975 850 900 \n",
       "Q 850 775 1025 712 \n",
       "Q 1200 650 1650 650 \n",
       "Q 2375 650 2637 450 \n",
       "Q 2900 250 2900 -50 \n",
       "Q 2900 -450 2512 -637 \n",
       "Q 2125 -825 1600 -825 \n",
       "Q 925 -825 600 -650 \n",
       "Q 275 -475 275 -175 \n",
       "Q 275 -25 400 125 \n",
       "Q 525 275 725 375 \n",
       "Q 575 450 487 562 \n",
       "Q 400 675 400 850 \n",
       "Q 400 1000 512 1112 \n",
       "Q 625 1225 775 1300 \n",
       "Q 650 1425 575 1600 \n",
       "Q 500 1775 500 1975 \n",
       "Q 500 2400 787 2675 \n",
       "Q 1075 2950 1500 2950 \n",
       "Q 1725 2950 1887 2887 \n",
       "Q 2050 2825 2175 2700 \n",
       "Q 2375 2850 2575 2912 \n",
       "Q 2775 2975 3000 2950 \n",
       "L 3000 2475 \n",
       "z\n",
       "M 2000 1975 \n",
       "Q 2000 2225 1875 2375 \n",
       "Q 1750 2525 1500 2525 \n",
       "Q 1250 2525 1125 2375 \n",
       "Q 1000 2225 1000 1975 \n",
       "Q 1000 1725 1125 1575 \n",
       "Q 1250 1425 1500 1425 \n",
       "Q 1750 1425 1875 1575 \n",
       "Q 2000 1725 2000 1975 \n",
       "z\n",
       "M 2425 -100 \n",
       "Q 2425 0 2312 100 \n",
       "Q 2200 200 1750 200 \n",
       "Q 1650 200 1475 212 \n",
       "Q 1300 225 1075 250 \n",
       "Q 875 175 800 75 \n",
       "Q 725 -25 725 -125 \n",
       "Q 725 -275 925 -375 \n",
       "Q 1125 -475 1625 -475 \n",
       "Q 2050 -475 2237 -362 \n",
       "Q 2425 -250 2425 -100 \n",
       "z\n",
       "\" transform=\"scale(0.015625)\"/>\n",
       "       <path id=\"SimHei-65\" d=\"M 2875 1050 \n",
       "Q 2825 600 2475 325 \n",
       "Q 2125 50 1650 50 \n",
       "Q 1050 50 662 437 \n",
       "Q 275 825 275 1500 \n",
       "Q 275 2175 662 2562 \n",
       "Q 1050 2950 1650 2950 \n",
       "Q 2175 2950 2512 2612 \n",
       "Q 2850 2275 2850 1500 \n",
       "L 825 1500 \n",
       "Q 825 950 1062 725 \n",
       "Q 1300 500 1650 500 \n",
       "Q 1925 500 2100 637 \n",
       "Q 2275 775 2325 1050 \n",
       "L 2875 1050 \n",
       "z\n",
       "M 2275 1900 \n",
       "Q 2225 2250 2050 2387 \n",
       "Q 1875 2525 1600 2525 \n",
       "Q 1350 2525 1150 2387 \n",
       "Q 950 2250 850 1900 \n",
       "L 2275 1900 \n",
       "z\n",
       "\" transform=\"scale(0.015625)\"/>\n",
       "       <path id=\"SimHei-74\" d=\"M 2775 175 \n",
       "Q 2650 125 2487 87 \n",
       "Q 2325 50 2050 50 \n",
       "Q 1600 50 1325 300 \n",
       "Q 1050 550 1050 1000 \n",
       "L 1050 2500 \n",
       "L 200 2500 \n",
       "L 200 2900 \n",
       "L 1050 2900 \n",
       "L 1050 3875 \n",
       "L 1550 3875 \n",
       "L 1550 2900 \n",
       "L 2575 2900 \n",
       "L 2575 2500 \n",
       "L 1550 2500 \n",
       "L 1550 975 \n",
       "Q 1550 775 1650 637 \n",
       "Q 1750 500 2025 500 \n",
       "Q 2300 500 2475 550 \n",
       "Q 2650 600 2775 675 \n",
       "L 2775 175 \n",
       "z\n",
       "\" transform=\"scale(0.015625)\"/>\n",
       "       <path id=\"SimHei-20\" transform=\"scale(0.015625)\"/>\n",
       "       <path id=\"SimHei-6c\" d=\"M 1850 100 \n",
       "L 1350 100 \n",
       "L 1350 4375 \n",
       "L 1850 4375 \n",
       "L 1850 100 \n",
       "z\n",
       "\" transform=\"scale(0.015625)\"/>\n",
       "       <path id=\"SimHei-69\" d=\"M 1825 3700 \n",
       "L 1325 3700 \n",
       "L 1325 4350 \n",
       "L 1825 4350 \n",
       "L 1825 3700 \n",
       "z\n",
       "M 1825 100 \n",
       "L 1325 100 \n",
       "L 1325 2900 \n",
       "L 1825 2900 \n",
       "L 1825 100 \n",
       "z\n",
       "\" transform=\"scale(0.015625)\"/>\n",
       "       <path id=\"SimHei-3d\" d=\"M 3000 2875 \n",
       "L 150 2875 \n",
       "L 150 3275 \n",
       "L 3000 3275 \n",
       "L 3000 2875 \n",
       "z\n",
       "M 3000 1350 \n",
       "L 150 1350 \n",
       "L 150 1750 \n",
       "L 3000 1750 \n",
       "L 3000 1350 \n",
       "z\n",
       "\" transform=\"scale(0.015625)\"/>\n",
       "      </defs>\n",
       "      <use xlink:href=\"#SimHei-54\"/>\n",
       "      <use xlink:href=\"#SimHei-61\" x=\"50\"/>\n",
       "      <use xlink:href=\"#SimHei-6e\" x=\"100\"/>\n",
       "      <use xlink:href=\"#SimHei-67\" x=\"150\"/>\n",
       "      <use xlink:href=\"#SimHei-65\" x=\"200\"/>\n",
       "      <use xlink:href=\"#SimHei-6e\" x=\"250\"/>\n",
       "      <use xlink:href=\"#SimHei-74\" x=\"300\"/>\n",
       "      <use xlink:href=\"#SimHei-20\" x=\"350\"/>\n",
       "      <use xlink:href=\"#SimHei-6c\" x=\"400\"/>\n",
       "      <use xlink:href=\"#SimHei-69\" x=\"450\"/>\n",
       "      <use xlink:href=\"#SimHei-6e\" x=\"500\"/>\n",
       "      <use xlink:href=\"#SimHei-65\" x=\"550\"/>\n",
       "      <use xlink:href=\"#SimHei-20\" x=\"600\"/>\n",
       "      <use xlink:href=\"#SimHei-28\" x=\"650\"/>\n",
       "      <use xlink:href=\"#SimHei-78\" x=\"700\"/>\n",
       "      <use xlink:href=\"#SimHei-3d\" x=\"750\"/>\n",
       "      <use xlink:href=\"#SimHei-31\" x=\"800\"/>\n",
       "      <use xlink:href=\"#SimHei-29\" x=\"850\"/>\n",
       "     </g>\n",
       "    </g>\n",
       "   </g>\n",
       "  </g>\n",
       " </g>\n",
       " <defs>\n",
       "  <clipPath id=\"pdbc5c6afbe\">\n",
       "   <rect x=\"36.754688\" y=\"7.2\" width=\"195.3\" height=\"135.9\"/>\n",
       "  </clipPath>\n",
       " </defs>\n",
       "</svg>\n"
      ],
      "text/plain": [
       "<Figure size 252x180 with 1 Axes>"
      ]
     },
     "metadata": {
      "needs_background": "light"
     },
     "output_type": "display_data"
    }
   ],
   "source": [
    "x = np.arange(0, 3, 0.1)\n",
    "plot(x, [f(x), 2 * x - 3], 'x', 'f(x)', legend=['f(x)', 'Tangent line (x=1)'] )"
   ]
  },
  {
   "cell_type": "markdown",
   "metadata": {},
   "source": [
    "### 2.4.3.偏导数和梯度"
   ]
  },
  {
   "cell_type": "markdown",
   "metadata": {},
   "source": [
    "#### 介绍多元函数的导数"
   ]
  },
  {
   "cell_type": "markdown",
   "metadata": {},
   "source": [
    "#### 令f为带有n变量的函数。 $y$相对于其$i^{th}$参数$x^i$的偏导数为:\n",
    "#### $$ \\frac{\\partial y}{\\partial x_i} = \\lim_{h \\rightarrow 0} \\frac{f(x_1, \\ldots, x_{i-1}, x_i+h, x_{i+1}, \\ldots, x_n) - f(x_1, \\ldots, x_i, \\ldots, x_n)}{h}. $$"
   ]
  },
  {
   "cell_type": "markdown",
   "metadata": {},
   "source": [
    "#### 为了计算$\\frac{\\partial y}{\\partial x_i}$，我们可将$x_1...x_n$视为常量，并计算$y$相对于$x_i$的导数\n",
    "#### $$\\frac{\\partial y}{\\partial x_i} = \\frac{\\partial f}{\\partial x_i} = \\partial_{x_i} f = \\partial_i f = f_{x_i} = f_i = D_i f = D_{x_i} f.$$"
   ]
  },
  {
   "cell_type": "markdown",
   "metadata": {},
   "source": [
    "#### 可以将多元函数相对于其所有变量的偏导数连接起来以获得称为函数梯度的向量\n",
    "#### 假设函数$y$的输入是$n$维向量$X$ ，输出是标量\n",
    "#### 函数$f$相对于$X$的梯度是$n$偏导数的向量：\n",
    "#### $$ \\nabla_{\\mathbf{x}} f(\\mathbf{x}) = \\left[\\partial_{x_1} f(\\mathbf{x}), \\partial_{x_2} f(\\mathbf{x}), \\ldots\\partial_{x_n} f(\\mathbf{x})\\right]^\\top.$$"
   ]
  },
  {
   "cell_type": "markdown",
   "metadata": {},
   "source": [
    "如果没有歧义， $\\nabla_{\\mathbf{x}}f(\\mathbf{x})$通常会替换为$\\nabla_f(\\mathbf{x})$\n"
   ]
  },
  {
   "cell_type": "markdown",
   "metadata": {},
   "source": [
    "#### 对于所有$A ∈ R^{m×n}$，都有$∇xAx = A⊤$\n",
    "#### 对于所有$A ∈ R^{n×m}$，都有$∇_xx ⊤A = A$\n",
    "#### 对于所有$A ∈ R^{n×n}，都有$∇_xx⊤Ax = (A + A^⊤)x$\n",
    "#### $∇_x∥x∥2 = ∇_xx^⊤x = 2x$"
   ]
  },
  {
   "cell_type": "markdown",
   "metadata": {},
   "source": [
    "### 2.4.4.链式法则"
   ]
  },
  {
   "cell_type": "markdown",
   "metadata": {},
   "source": [
    "#### 在深度学习中，所关注的梯度通常很难计算，因为我们正在使用深度嵌套的函数\n",
    "#### 幸运的是，链式法则可以解决这个问题"
   ]
  },
  {
   "cell_type": "markdown",
   "metadata": {},
   "source": [
    "#### $$ \\frac{dy}{dx} = \\frac{dy}{du} \\frac{du}{dx}.$$\n",
    "#### 更多的u和x可以无限链下去"
   ]
  },
  {
   "cell_type": "markdown",
   "metadata": {},
   "source": [
    "### 小结"
   ]
  },
  {
   "cell_type": "markdown",
   "metadata": {},
   "source": [
    "#### 我们可以常规应用微分的基本法则计算梯度\n",
    "#### 这项任务不需要动脑，所以认知力可以用在别处\n",
    "#### 计算向量值函数的导数需要我们跟踪从输出到输入的变量依赖图时乘以矩阵\n",
    "#### 特别时，当我们评估函数时，该图会前向遍历，计算梯度时，向后遍历"
   ]
  },
  {
   "cell_type": "code",
   "execution_count": 81,
   "metadata": {},
   "outputs": [
    {
     "data": {
      "text/plain": [
       "\"def f(x):\\n    return x ** x\\nx = np.arange(0, 3, 0.1)\\nplot(x, [f(x), f(x) * (math.log(x, 10) + 1)], 'x', 'f(x)', legend=['f(x)', 'Tangent Line(x=1)'])\""
      ]
     },
     "execution_count": 81,
     "metadata": {},
     "output_type": "execute_result"
    }
   ],
   "source": [
    "import math\n",
    "# test3\n",
    "'''def f(x):\n",
    "    return x ** x\n",
    "x = np.arange(0, 3, 0.1)\n",
    "plot(x, [f(x), f(x) * (math.log(x, 10) + 1)], 'x', 'f(x)', legend=['f(x)', 'Tangent Line(x=1)'])'''"
   ]
  },
  {
   "cell_type": "markdown",
   "metadata": {},
   "source": [
    "## 2.5.自动微分"
   ]
  },
  {
   "cell_type": "markdown",
   "metadata": {},
   "source": [
    "#### 代深度学习框架都通过提供自动微分（通常缩写为 autograd）来完成计算微分\n",
    "#### 当我们通过每个连续函数传递数据时，框架会构建一个计算图来跟踪每个值如何依赖于其他值\n",
    "#### 自动微分通过应用链式法则的图表向后进行——反向传播"
   ]
  },
  {
   "cell_type": "markdown",
   "metadata": {},
   "source": [
    "#### Autograd库在过去十年中已成为热门话题，但它们却有着悠久的历史\n",
    "#### 在探索方法之前，我们首先要掌握 autograd 包"
   ]
  },
  {
   "cell_type": "markdown",
   "metadata": {},
   "source": [
    "### 2.5.1.一个简单的函数"
   ]
  },
  {
   "cell_type": "markdown",
   "metadata": {},
   "source": [
    "#### 假设我们感兴趣的是函数$y=2x^Tx$相对于列向量$x$的微分"
   ]
  },
  {
   "cell_type": "code",
   "execution_count": 82,
   "metadata": {},
   "outputs": [
    {
     "data": {
      "text/plain": [
       "tensor([0., 1., 2., 3.])"
      ]
     },
     "execution_count": 82,
     "metadata": {},
     "output_type": "execute_result"
    }
   ],
   "source": [
    "x = torch.arange(4.0)\n",
    "x"
   ]
  },
  {
   "cell_type": "markdown",
   "metadata": {},
   "source": [
    "#### 在我们计算y关于x的梯度之前，需要一个地方来存储梯度\n",
    "#### 注意，一个标量函数关于向量 __x__ 的梯度是向量，并且与 __x__ 具有相同的形状"
   ]
  },
  {
   "cell_type": "code",
   "execution_count": 83,
   "metadata": {},
   "outputs": [],
   "source": [
    "x.requires_grad_(True) # 等价于x=torch.arange(4.0,requires_grad=True)\n",
    "x.grad"
   ]
  },
  {
   "cell_type": "code",
   "execution_count": 84,
   "metadata": {},
   "outputs": [
    {
     "data": {
      "text/plain": [
       "tensor(28., grad_fn=<MulBackward0>)"
      ]
     },
     "execution_count": 84,
     "metadata": {},
     "output_type": "execute_result"
    }
   ],
   "source": [
    "y = 2 * torch.dot(x, x)\n",
    "y"
   ]
  },
  {
   "cell_type": "markdown",
   "metadata": {},
   "source": [
    "#### 我们可以通过调用 backward() 方法来获取 $y$ 相对于 $x$ 的梯度"
   ]
  },
  {
   "cell_type": "code",
   "execution_count": 85,
   "metadata": {},
   "outputs": [
    {
     "data": {
      "text/plain": [
       "tensor([ 0.,  4.,  8., 12.])"
      ]
     },
     "execution_count": 85,
     "metadata": {},
     "output_type": "execute_result"
    }
   ],
   "source": [
    "y.backward()\n",
    "x.grad"
   ]
  },
  {
   "cell_type": "markdown",
   "metadata": {},
   "source": [
    "#### 验证自动梯度计算和预期结果是否相同"
   ]
  },
  {
   "cell_type": "code",
   "execution_count": 86,
   "metadata": {},
   "outputs": [
    {
     "data": {
      "text/plain": [
       "tensor([True, True, True, True])"
      ]
     },
     "execution_count": 86,
     "metadata": {},
     "output_type": "execute_result"
    }
   ],
   "source": [
    "x.grad == 4 * x"
   ]
  },
  {
   "cell_type": "markdown",
   "metadata": {},
   "source": [
    "#### 当我们记录新梯度时，PyTorch 不会自动重置梯度缓冲区，新的梯度会加到已储存的里\n",
    "#### 当我们要优化多个目标的总和时，会派上用场"
   ]
  },
  {
   "cell_type": "code",
   "execution_count": 87,
   "metadata": {},
   "outputs": [
    {
     "data": {
      "text/plain": [
       "tensor([1., 1., 1., 1.])"
      ]
     },
     "execution_count": 87,
     "metadata": {},
     "output_type": "execute_result"
    }
   ],
   "source": [
    "x.grad.zero_()\n",
    "y = x.sum()\n",
    "y.backward()\n",
    "x.grad"
   ]
  },
  {
   "cell_type": "markdown",
   "metadata": {},
   "source": [
    "### 2.5.2.非标量变量的后向"
   ]
  },
  {
   "cell_type": "markdown",
   "metadata": {},
   "source": [
    "#### 当$y$是向量时，向量$y$对向量$x$的导数最自然的解释就是一个雅可比行列式的矩阵\n",
    "#### 同样，对于高阶 $y$ 和 $x$，微分的结果可能是更高阶的张量"
   ]
  },
  {
   "cell_type": "markdown",
   "metadata": {},
   "source": [
    "#### 尽管雅可比行列式确实出现在一些高级机器学习技术中，但更常见的是，我们希望将$y$ 的每个分量相对于完整向量 $x$ 的梯度相加，产生一个向量与 $x$ 形状相同"
   ]
  },
  {
   "cell_type": "code",
   "execution_count": 88,
   "metadata": {},
   "outputs": [
    {
     "data": {
      "text/plain": [
       "tensor([0., 2., 4., 6.])"
      ]
     },
     "execution_count": 88,
     "metadata": {},
     "output_type": "execute_result"
    }
   ],
   "source": [
    "x.grad.zero_()\n",
    "y = x * x\n",
    "y.sum().backward()  # 比y.backward(gradient=torch.ones(len(y)))快\n",
    "x.grad"
   ]
  },
  {
   "cell_type": "markdown",
   "metadata": {},
   "source": [
    "#### PyTorch 采取了一些步骤来避免混淆解释非标量张量梯度的方式de不同 \n",
    "#### 在非标量上调用 backward 会引发错误，除非我们告诉 PyTorch 如何将对象减少为标量"
   ]
  },
  {
   "cell_type": "markdown",
   "metadata": {},
   "source": [
    "### 2.5.3 分离计算"
   ]
  },
  {
   "cell_type": "markdown",
   "metadata": {},
   "source": [
    "#### 有时，我们希望将某些计算移动到记录的计算图之外\n",
    "#### 例，y是作为x的函数，z则是作为y和x的函数，要计算z关于x的梯度，就要把y视为常量，且只考虑x在y被计算后发挥的作用"
   ]
  },
  {
   "cell_type": "markdown",
   "metadata": {},
   "source": [
    "#### 这里可以分离y来返回一个新变量u，该变量与y具有相同的值，但丢弃计算图中如何计算y的任何信息\n",
    "#### 因此，下面的反向传播函数计算z=u*x关于x的偏导数"
   ]
  },
  {
   "cell_type": "code",
   "execution_count": 93,
   "metadata": {},
   "outputs": [
    {
     "data": {
      "text/plain": [
       "tensor([0., 1., 4., 9.])"
      ]
     },
     "execution_count": 93,
     "metadata": {},
     "output_type": "execute_result"
    }
   ],
   "source": [
    "x.grad.zero_()\n",
    "y = x * x\n",
    "u = y.detach() #分离\n",
    "z = u * x\n",
    "z.sum().backward()\n",
    "x.grad"
   ]
  },
  {
   "cell_type": "markdown",
   "metadata": {},
   "source": [
    "#### 记录了y的计算结果，我们可以随后在y上调用反向传播"
   ]
  },
  {
   "cell_type": "code",
   "execution_count": 94,
   "metadata": {},
   "outputs": [
    {
     "data": {
      "text/plain": [
       "tensor([True, True, True, True])"
      ]
     },
     "execution_count": 94,
     "metadata": {},
     "output_type": "execute_result"
    }
   ],
   "source": [
    "x.grad.zero_()\n",
    "y.sum().backward()\n",
    "x.grad == 2 * x"
   ]
  },
  {
   "cell_type": "markdown",
   "metadata": {},
   "source": [
    "### 2.5.4 Python控制流的梯度计算"
   ]
  },
  {
   "cell_type": "markdown",
   "metadata": {},
   "source": [
    "#### 自动微分的一大好处是即是构建函数需要用到python控制流，我们仍能计算变量的梯度"
   ]
  },
  {
   "cell_type": "code",
   "execution_count": 107,
   "metadata": {},
   "outputs": [],
   "source": [
    "def f(a):\n",
    "    b = a * 2\n",
    "    while b.norm() < 1000:\n",
    "        b = b * 2\n",
    "    if b.sum() > 0:\n",
    "        c = b\n",
    "    else:\n",
    "        c = 100 - b\n",
    "    return  c"
   ]
  },
  {
   "cell_type": "code",
   "execution_count": 108,
   "metadata": {},
   "outputs": [
    {
     "data": {
      "text/plain": [
       "tensor(False)"
      ]
     },
     "execution_count": 108,
     "metadata": {},
     "output_type": "execute_result"
    }
   ],
   "source": [
    "a = torch.randn(size=(), requires_grad=True)\n",
    "d = f(a)\n",
    "d.backward()\n",
    "a.grad == d / a"
   ]
  },
  {
   "cell_type": "markdown",
   "metadata": {},
   "source": [
    "### 小结"
   ]
  },
  {
   "cell_type": "markdown",
   "metadata": {},
   "source": [
    "#### 深度学习可以自动计算导数\n",
    "#### 我们首先将梯度附加到想要对其进行偏导的变量上\n",
    "#### 然后计算目标值，执行反向传播函数，访问得到的梯度"
   ]
  },
  {
   "cell_type": "markdown",
   "metadata": {},
   "source": [
    "#### test1：因为导数本质是求斜率的极值，每多导一次就多算一次，开销也就变大了"
   ]
  },
  {
   "cell_type": "code",
   "execution_count": 98,
   "metadata": {},
   "outputs": [
    {
     "data": {
      "text/plain": [
       "'\\nx.grad.zero_()\\ny = x * x\\ny.sum().backward()\\ny.sum().backward()\\nx.grad\\n\\n首先调用了一次 .backward(),计算并保存了梯度\\n然后再次调用.backward(),试图重新进行反向传播\\n由于默认设置下,PyTorch计算图的中间变量(中间tensor)在.backward()之后会被释放,所以第二次反传就失败了。\\n\\n解决方法是在第一次调用 .backward() 时指定 retain_graph=True。这会保留计算图使得可以进行多次反向传播。\\n'"
      ]
     },
     "execution_count": 98,
     "metadata": {},
     "output_type": "execute_result"
    }
   ],
   "source": [
    "# test2\n",
    "'''\n",
    "x.grad.zero_()\n",
    "y = x * x\n",
    "y.sum().backward()\n",
    "y.sum().backward()\n",
    "x.grad\n",
    "\n",
    "首先调用了一次 .backward(),计算并保存了梯度\n",
    "然后再次调用.backward(),试图重新进行反向传播\n",
    "由于默认设置下,PyTorch计算图的中间变量(中间tensor)在.backward()之后会被释放,所以第二次反传就失败了。\n",
    "\n",
    "解决方法是在第一次调用 .backward() 时指定 retain_graph=True。这会保留计算图使得可以进行多次反向传播。\n",
    "'''"
   ]
  },
  {
   "cell_type": "code",
   "execution_count": 109,
   "metadata": {},
   "outputs": [
    {
     "data": {
      "text/plain": [
       "tensor(2048.)"
      ]
     },
     "execution_count": 109,
     "metadata": {},
     "output_type": "execute_result"
    }
   ],
   "source": [
    "def g(x):\n",
    "    y = x * 4\n",
    "    while y.norm() < 1000:\n",
    "        y = y * 2\n",
    "    if y.sum() > 5:\n",
    "        z = y\n",
    "    else:\n",
    "        z = y - 1\n",
    "    return z\n",
    "\n",
    "a = torch.randn(size=(), requires_grad=True)\n",
    "b = g(a)\n",
    "b.sum().backward()\n",
    "a.grad"
   ]
  },
  {
   "cell_type": "markdown",
   "metadata": {},
   "source": [
    "## 2.6 概率"
   ]
  },
  {
   "cell_type": "markdown",
   "metadata": {},
   "source": [
    "#### 概率是一种灵活的语言，用于说明我们的确定程度，并且它可以有效地应用于广泛的领域中"
   ]
  },
  {
   "cell_type": "markdown",
   "metadata": {},
   "source": [
    "### 2.6.1 基本概率论"
   ]
  },
  {
   "cell_type": "markdown",
   "metadata": {},
   "source": [
    "#### 对于每个值，一种自然的方法是将它出现的次数除以投掷的总次数，即此事件（event）概率的估计值。\n",
    "#### 大数定律（law of large numbers）告诉我们：随着投掷次数的增加，这个估计值会越来越接近真实的潜在概率"
   ]
  },
  {
   "cell_type": "code",
   "execution_count": 110,
   "metadata": {},
   "outputs": [],
   "source": [
    "from torch.distributions import multinomial"
   ]
  },
  {
   "cell_type": "markdown",
   "metadata": {},
   "source": [
    "#### 在统计学中，我们把从概率分布中抽取样本的过程称为抽样（sampling）\n",
    "#### 笼统来说，可以把分布（distribution）看作对事件的概率分配\n",
    "#### 将概率分配给一些离散选择的分布称为多项分布（multinomial distribution）"
   ]
  },
  {
   "cell_type": "code",
   "execution_count": 111,
   "metadata": {},
   "outputs": [
    {
     "data": {
      "text/plain": [
       "tensor([0., 1., 0., 0., 0., 0.])"
      ]
     },
     "execution_count": 111,
     "metadata": {},
     "output_type": "execute_result"
    }
   ],
   "source": [
    "fair_probs = torch.ones([6]) / 6\n",
    "multinomial.Multinomial(1, fair_probs).sample()"
   ]
  },
  {
   "cell_type": "markdown",
   "metadata": {},
   "source": [
    "#### 在估计一个骰子的公平性时，我们希望从同一分布中生成多个样本\n",
    "#### for很慢，因此我们使用深度学习框架的函数同时抽取多个样本，得到我们想要的任意形状的独立样本数组。"
   ]
  },
  {
   "cell_type": "code",
   "execution_count": 112,
   "metadata": {},
   "outputs": [
    {
     "data": {
      "text/plain": [
       "tensor([3., 1., 2., 1., 2., 1.])"
      ]
     },
     "execution_count": 112,
     "metadata": {},
     "output_type": "execute_result"
    }
   ],
   "source": [
    "multinomial.Multinomial(10, fair_probs).sample()"
   ]
  },
  {
   "cell_type": "markdown",
   "metadata": {},
   "source": [
    "#### 现在我们知道如何对骰子进行采样，我们可以模拟1000次投掷\n",
    "#### 具体来说，我们计算相对频率，以作为真实概率的估计。"
   ]
  },
  {
   "cell_type": "code",
   "execution_count": 113,
   "metadata": {},
   "outputs": [
    {
     "data": {
      "text/plain": [
       "tensor([0.1490, 0.1640, 0.1650, 0.1760, 0.1750, 0.1710])"
      ]
     },
     "execution_count": 113,
     "metadata": {},
     "output_type": "execute_result"
    }
   ],
   "source": [
    "counts = multinomial.Multinomial(1000, fair_probs).sample()\n",
    "counts / 1000"
   ]
  },
  {
   "cell_type": "markdown",
   "metadata": {},
   "source": [
    "#### 因为我们是从一个公平的骰子中生成的数据，因此结果果都有真实的概率1/6"
   ]
  },
  {
   "cell_type": "code",
   "execution_count": 115,
   "metadata": {},
   "outputs": [
    {
     "data": {
      "text/plain": [
       "<matplotlib.legend.Legend at 0x7fd7a00f57c0>"
      ]
     },
     "execution_count": 115,
     "metadata": {},
     "output_type": "execute_result"
    },
    {
     "data": {
      "image/svg+xml": [
       "<?xml version=\"1.0\" encoding=\"utf-8\" standalone=\"no\"?>\n",
       "<!DOCTYPE svg PUBLIC \"-//W3C//DTD SVG 1.1//EN\"\n",
       "  \"http://www.w3.org/Graphics/SVG/1.1/DTD/svg11.dtd\">\n",
       "<svg xmlns:xlink=\"http://www.w3.org/1999/xlink\" width=\"388.325pt\" height=\"272.758125pt\" viewBox=\"0 0 388.325 272.758125\" xmlns=\"http://www.w3.org/2000/svg\" version=\"1.1\">\n",
       " <metadata>\n",
       "  <rdf:RDF xmlns:dc=\"http://purl.org/dc/elements/1.1/\" xmlns:cc=\"http://creativecommons.org/ns#\" xmlns:rdf=\"http://www.w3.org/1999/02/22-rdf-syntax-ns#\">\n",
       "   <cc:Work>\n",
       "    <dc:type rdf:resource=\"http://purl.org/dc/dcmitype/StillImage\"/>\n",
       "    <dc:date>2023-12-15T21:32:18.825778</dc:date>\n",
       "    <dc:format>image/svg+xml</dc:format>\n",
       "    <dc:creator>\n",
       "     <cc:Agent>\n",
       "      <dc:title>Matplotlib v3.7.2, https://matplotlib.org/</dc:title>\n",
       "     </cc:Agent>\n",
       "    </dc:creator>\n",
       "   </cc:Work>\n",
       "  </rdf:RDF>\n",
       " </metadata>\n",
       " <defs>\n",
       "  <style type=\"text/css\">*{stroke-linejoin: round; stroke-linecap: butt}</style>\n",
       " </defs>\n",
       " <g id=\"figure_1\">\n",
       "  <g id=\"patch_1\">\n",
       "   <path d=\"M 0 272.758125 \n",
       "L 388.325 272.758125 \n",
       "L 388.325 0 \n",
       "L 0 0 \n",
       "L 0 272.758125 \n",
       "z\n",
       "\" style=\"fill: none\"/>\n",
       "  </g>\n",
       "  <g id=\"axes_1\">\n",
       "   <g id=\"patch_2\">\n",
       "    <path d=\"M 46.325 238.23 \n",
       "L 381.125 238.23 \n",
       "L 381.125 7.2 \n",
       "L 46.325 7.2 \n",
       "z\n",
       "\" style=\"fill: #ffffff\"/>\n",
       "   </g>\n",
       "   <g id=\"matplotlib.axis_1\">\n",
       "    <g id=\"xtick_1\">\n",
       "     <g id=\"line2d_1\">\n",
       "      <defs>\n",
       "       <path id=\"m25383b0aa8\" d=\"M 0 0 \n",
       "L 0 3.5 \n",
       "\" style=\"stroke: #000000; stroke-width: 0.8\"/>\n",
       "      </defs>\n",
       "      <g>\n",
       "       <use xlink:href=\"#m25383b0aa8\" x=\"61.543182\" y=\"238.23\" style=\"stroke: #000000; stroke-width: 0.8\"/>\n",
       "      </g>\n",
       "     </g>\n",
       "     <g id=\"text_1\">\n",
       "      <!-- 0 -->\n",
       "      <g transform=\"translate(59.043182 252.065938) scale(0.1 -0.1)\">\n",
       "       <defs>\n",
       "        <path id=\"SimHei-30\" d=\"M 2975 2250 \n",
       "Q 2975 1350 2650 700 \n",
       "Q 2325 50 1600 50 \n",
       "Q 875 50 537 700 \n",
       "Q 200 1350 200 2250 \n",
       "Q 200 3150 537 3787 \n",
       "Q 875 4425 1600 4425 \n",
       "Q 2325 4425 2650 3787 \n",
       "Q 2975 3150 2975 2250 \n",
       "z\n",
       "M 2375 2250 \n",
       "Q 2375 3050 2187 3500 \n",
       "Q 2000 3950 1600 3950 \n",
       "Q 1200 3950 1000 3500 \n",
       "Q 800 3050 800 2250 \n",
       "Q 800 1450 1000 987 \n",
       "Q 1200 525 1600 525 \n",
       "Q 2000 525 2187 987 \n",
       "Q 2375 1450 2375 2250 \n",
       "z\n",
       "\" transform=\"scale(0.015625)\"/>\n",
       "       </defs>\n",
       "       <use xlink:href=\"#SimHei-30\"/>\n",
       "      </g>\n",
       "     </g>\n",
       "    </g>\n",
       "    <g id=\"xtick_2\">\n",
       "     <g id=\"line2d_2\">\n",
       "      <g>\n",
       "       <use xlink:href=\"#m25383b0aa8\" x=\"122.537899\" y=\"238.23\" style=\"stroke: #000000; stroke-width: 0.8\"/>\n",
       "      </g>\n",
       "     </g>\n",
       "     <g id=\"text_2\">\n",
       "      <!-- 100 -->\n",
       "      <g transform=\"translate(115.037899 252.065938) scale(0.1 -0.1)\">\n",
       "       <defs>\n",
       "        <path id=\"SimHei-31\" d=\"M 1950 100 \n",
       "L 1375 100 \n",
       "L 1375 3425 \n",
       "L 625 3425 \n",
       "L 625 3725 \n",
       "Q 1075 3725 1325 3900 \n",
       "Q 1575 4075 1650 4425 \n",
       "L 1950 4425 \n",
       "L 1950 100 \n",
       "z\n",
       "\" transform=\"scale(0.015625)\"/>\n",
       "       </defs>\n",
       "       <use xlink:href=\"#SimHei-31\"/>\n",
       "       <use xlink:href=\"#SimHei-30\" x=\"50\"/>\n",
       "       <use xlink:href=\"#SimHei-30\" x=\"100\"/>\n",
       "      </g>\n",
       "     </g>\n",
       "    </g>\n",
       "    <g id=\"xtick_3\">\n",
       "     <g id=\"line2d_3\">\n",
       "      <g>\n",
       "       <use xlink:href=\"#m25383b0aa8\" x=\"183.532615\" y=\"238.23\" style=\"stroke: #000000; stroke-width: 0.8\"/>\n",
       "      </g>\n",
       "     </g>\n",
       "     <g id=\"text_3\">\n",
       "      <!-- 200 -->\n",
       "      <g transform=\"translate(176.032615 252.065938) scale(0.1 -0.1)\">\n",
       "       <defs>\n",
       "        <path id=\"SimHei-32\" d=\"M 2850 100 \n",
       "L 300 100 \n",
       "L 300 500 \n",
       "Q 450 900 712 1237 \n",
       "Q 975 1575 1475 2000 \n",
       "Q 1850 2325 2012 2600 \n",
       "Q 2175 2875 2175 3200 \n",
       "Q 2175 3525 2037 3737 \n",
       "Q 1900 3950 1600 3950 \n",
       "Q 1350 3950 1162 3725 \n",
       "Q 975 3500 975 2925 \n",
       "L 400 2925 \n",
       "Q 425 3650 737 4037 \n",
       "Q 1050 4425 1625 4425 \n",
       "Q 2175 4425 2475 4087 \n",
       "Q 2775 3750 2775 3175 \n",
       "Q 2775 2700 2500 2350 \n",
       "Q 2225 2000 1825 1650 \n",
       "Q 1375 1250 1200 1050 \n",
       "Q 1025 850 875 575 \n",
       "L 2850 575 \n",
       "L 2850 100 \n",
       "z\n",
       "\" transform=\"scale(0.015625)\"/>\n",
       "       </defs>\n",
       "       <use xlink:href=\"#SimHei-32\"/>\n",
       "       <use xlink:href=\"#SimHei-30\" x=\"50\"/>\n",
       "       <use xlink:href=\"#SimHei-30\" x=\"100\"/>\n",
       "      </g>\n",
       "     </g>\n",
       "    </g>\n",
       "    <g id=\"xtick_4\">\n",
       "     <g id=\"line2d_4\">\n",
       "      <g>\n",
       "       <use xlink:href=\"#m25383b0aa8\" x=\"244.527332\" y=\"238.23\" style=\"stroke: #000000; stroke-width: 0.8\"/>\n",
       "      </g>\n",
       "     </g>\n",
       "     <g id=\"text_4\">\n",
       "      <!-- 300 -->\n",
       "      <g transform=\"translate(237.027332 252.065938) scale(0.1 -0.1)\">\n",
       "       <defs>\n",
       "        <path id=\"SimHei-33\" d=\"M 2825 1300 \n",
       "Q 2825 725 2462 387 \n",
       "Q 2100 50 1550 50 \n",
       "Q 1000 50 637 387 \n",
       "Q 275 725 275 1425 \n",
       "L 850 1425 \n",
       "Q 850 950 1037 737 \n",
       "Q 1225 525 1550 525 \n",
       "Q 1875 525 2050 725 \n",
       "Q 2225 925 2225 1350 \n",
       "Q 2225 1700 2037 1900 \n",
       "Q 1850 2100 1375 2100 \n",
       "L 1375 2525 \n",
       "Q 1775 2525 1962 2725 \n",
       "Q 2150 2925 2150 3325 \n",
       "Q 2150 3625 2012 3800 \n",
       "Q 1875 3975 1575 3975 \n",
       "Q 1275 3975 1112 3762 \n",
       "Q 950 3550 925 3150 \n",
       "L 375 3150 \n",
       "Q 425 3725 737 4075 \n",
       "Q 1050 4425 1575 4425 \n",
       "Q 2125 4425 2425 4112 \n",
       "Q 2725 3800 2725 3350 \n",
       "Q 2725 2925 2575 2687 \n",
       "Q 2425 2450 2075 2325 \n",
       "Q 2425 2250 2625 1975 \n",
       "Q 2825 1700 2825 1300 \n",
       "z\n",
       "\" transform=\"scale(0.015625)\"/>\n",
       "       </defs>\n",
       "       <use xlink:href=\"#SimHei-33\"/>\n",
       "       <use xlink:href=\"#SimHei-30\" x=\"50\"/>\n",
       "       <use xlink:href=\"#SimHei-30\" x=\"100\"/>\n",
       "      </g>\n",
       "     </g>\n",
       "    </g>\n",
       "    <g id=\"xtick_5\">\n",
       "     <g id=\"line2d_5\">\n",
       "      <g>\n",
       "       <use xlink:href=\"#m25383b0aa8\" x=\"305.522049\" y=\"238.23\" style=\"stroke: #000000; stroke-width: 0.8\"/>\n",
       "      </g>\n",
       "     </g>\n",
       "     <g id=\"text_5\">\n",
       "      <!-- 400 -->\n",
       "      <g transform=\"translate(298.022049 252.065938) scale(0.1 -0.1)\">\n",
       "       <defs>\n",
       "        <path id=\"SimHei-34\" d=\"M 2975 1200 \n",
       "L 2450 1200 \n",
       "L 2450 100 \n",
       "L 1875 100 \n",
       "L 1875 1200 \n",
       "L 200 1200 \n",
       "L 200 1675 \n",
       "L 1875 4425 \n",
       "L 2450 4425 \n",
       "L 2450 1675 \n",
       "L 2975 1675 \n",
       "L 2975 1200 \n",
       "z\n",
       "M 1875 1675 \n",
       "L 1875 3525 \n",
       "L 750 1675 \n",
       "L 1875 1675 \n",
       "z\n",
       "\" transform=\"scale(0.015625)\"/>\n",
       "       </defs>\n",
       "       <use xlink:href=\"#SimHei-34\"/>\n",
       "       <use xlink:href=\"#SimHei-30\" x=\"50\"/>\n",
       "       <use xlink:href=\"#SimHei-30\" x=\"100\"/>\n",
       "      </g>\n",
       "     </g>\n",
       "    </g>\n",
       "    <g id=\"xtick_6\">\n",
       "     <g id=\"line2d_6\">\n",
       "      <g>\n",
       "       <use xlink:href=\"#m25383b0aa8\" x=\"366.516765\" y=\"238.23\" style=\"stroke: #000000; stroke-width: 0.8\"/>\n",
       "      </g>\n",
       "     </g>\n",
       "     <g id=\"text_6\">\n",
       "      <!-- 500 -->\n",
       "      <g transform=\"translate(359.016765 252.065938) scale(0.1 -0.1)\">\n",
       "       <defs>\n",
       "        <path id=\"SimHei-35\" d=\"M 2825 1650 \n",
       "Q 2825 900 2462 475 \n",
       "Q 2100 50 1500 50 \n",
       "Q 975 50 637 400 \n",
       "Q 300 750 275 1350 \n",
       "L 850 1350 \n",
       "Q 850 975 1025 750 \n",
       "Q 1200 525 1525 525 \n",
       "Q 1850 525 2037 800 \n",
       "Q 2225 1075 2225 1650 \n",
       "Q 2225 2150 2062 2387 \n",
       "Q 1900 2625 1625 2625 \n",
       "Q 1400 2625 1237 2525 \n",
       "Q 1075 2425 925 2175 \n",
       "L 425 2175 \n",
       "L 575 4375 \n",
       "L 2725 4375 \n",
       "L 2725 3900 \n",
       "L 1050 3900 \n",
       "L 950 2750 \n",
       "Q 1100 2900 1275 2975 \n",
       "Q 1450 3050 1750 3050 \n",
       "Q 2225 3050 2525 2687 \n",
       "Q 2825 2325 2825 1650 \n",
       "z\n",
       "\" transform=\"scale(0.015625)\"/>\n",
       "       </defs>\n",
       "       <use xlink:href=\"#SimHei-35\"/>\n",
       "       <use xlink:href=\"#SimHei-30\" x=\"50\"/>\n",
       "       <use xlink:href=\"#SimHei-30\" x=\"100\"/>\n",
       "      </g>\n",
       "     </g>\n",
       "    </g>\n",
       "    <g id=\"text_7\">\n",
       "     <!-- Groups of experiments -->\n",
       "     <g transform=\"translate(161.225 264.269063) scale(0.1 -0.1)\">\n",
       "      <defs>\n",
       "       <path id=\"SimHei-47\" d=\"M 2875 50 \n",
       "L 2450 50 \n",
       "L 2375 400 \n",
       "Q 2275 250 2062 150 \n",
       "Q 1850 50 1600 50 \n",
       "Q 1075 50 662 537 \n",
       "Q 250 1025 250 2100 \n",
       "Q 250 3275 625 3850 \n",
       "Q 1000 4425 1650 4425 \n",
       "Q 2225 4425 2550 4000 \n",
       "Q 2875 3575 2875 2900 \n",
       "L 2325 2900 \n",
       "Q 2325 3425 2150 3687 \n",
       "Q 1975 3950 1650 3950 \n",
       "Q 1250 3950 1050 3537 \n",
       "Q 850 3125 850 2150 \n",
       "Q 850 1225 1100 875 \n",
       "Q 1350 525 1675 525 \n",
       "Q 2000 525 2187 762 \n",
       "Q 2375 1000 2375 1500 \n",
       "L 2375 1775 \n",
       "L 1600 1775 \n",
       "L 1600 2250 \n",
       "L 2875 2250 \n",
       "L 2875 50 \n",
       "z\n",
       "\" transform=\"scale(0.015625)\"/>\n",
       "       <path id=\"SimHei-72\" d=\"M 2525 2400 \n",
       "Q 2050 2475 1725 2262 \n",
       "Q 1400 2050 1175 1525 \n",
       "L 1175 100 \n",
       "L 675 100 \n",
       "L 675 2900 \n",
       "L 1175 2900 \n",
       "L 1175 2175 \n",
       "Q 1400 2575 1737 2762 \n",
       "Q 2075 2950 2525 2950 \n",
       "L 2525 2400 \n",
       "z\n",
       "\" transform=\"scale(0.015625)\"/>\n",
       "       <path id=\"SimHei-6f\" d=\"M 2950 1500 \n",
       "Q 2950 850 2550 450 \n",
       "Q 2150 50 1600 50 \n",
       "Q 1050 50 650 450 \n",
       "Q 250 850 250 1500 \n",
       "Q 250 2150 650 2550 \n",
       "Q 1050 2950 1600 2950 \n",
       "Q 2150 2950 2550 2550 \n",
       "Q 2950 2150 2950 1500 \n",
       "z\n",
       "M 2400 1500 \n",
       "Q 2400 2000 2150 2250 \n",
       "Q 1900 2500 1600 2500 \n",
       "Q 1300 2500 1050 2250 \n",
       "Q 800 2000 800 1500 \n",
       "Q 800 1000 1050 750 \n",
       "Q 1300 500 1600 500 \n",
       "Q 1900 500 2150 750 \n",
       "Q 2400 1000 2400 1500 \n",
       "z\n",
       "\" transform=\"scale(0.015625)\"/>\n",
       "       <path id=\"SimHei-75\" d=\"M 2825 100 \n",
       "L 2325 100 \n",
       "L 2325 625 \n",
       "Q 2125 350 1887 200 \n",
       "Q 1650 50 1275 50 \n",
       "Q 825 50 600 300 \n",
       "Q 375 550 375 925 \n",
       "L 375 2900 \n",
       "L 875 2900 \n",
       "L 875 1100 \n",
       "Q 875 800 1025 625 \n",
       "Q 1175 450 1425 450 \n",
       "Q 1750 450 2037 787 \n",
       "Q 2325 1125 2325 1625 \n",
       "L 2325 2900 \n",
       "L 2825 2900 \n",
       "L 2825 100 \n",
       "z\n",
       "\" transform=\"scale(0.015625)\"/>\n",
       "       <path id=\"SimHei-70\" d=\"M 2850 1500 \n",
       "Q 2850 775 2500 400 \n",
       "Q 2150 25 1650 25 \n",
       "Q 1375 25 1175 137 \n",
       "Q 975 250 825 475 \n",
       "L 825 -825 \n",
       "L 325 -825 \n",
       "L 325 2900 \n",
       "L 825 2900 \n",
       "L 825 2525 \n",
       "Q 975 2750 1175 2850 \n",
       "Q 1375 2950 1650 2950 \n",
       "Q 2150 2950 2500 2587 \n",
       "Q 2850 2225 2850 1500 \n",
       "z\n",
       "M 2300 1500 \n",
       "Q 2300 1975 2112 2237 \n",
       "Q 1925 2500 1550 2500 \n",
       "Q 1250 2500 1037 2237 \n",
       "Q 825 1975 825 1500 \n",
       "Q 825 1025 1037 750 \n",
       "Q 1250 475 1550 475 \n",
       "Q 1925 475 2112 750 \n",
       "Q 2300 1025 2300 1500 \n",
       "z\n",
       "\" transform=\"scale(0.015625)\"/>\n",
       "       <path id=\"SimHei-73\" d=\"M 2775 875 \n",
       "Q 2775 475 2462 262 \n",
       "Q 2150 50 1675 50 \n",
       "Q 1075 50 750 287 \n",
       "Q 425 525 425 975 \n",
       "L 925 975 \n",
       "Q 925 675 1137 575 \n",
       "Q 1350 475 1650 475 \n",
       "Q 1950 475 2100 587 \n",
       "Q 2250 700 2250 875 \n",
       "Q 2250 1000 2125 1125 \n",
       "Q 2000 1250 1500 1325 \n",
       "Q 925 1400 712 1612 \n",
       "Q 500 1825 500 2175 \n",
       "Q 500 2475 787 2712 \n",
       "Q 1075 2950 1625 2950 \n",
       "Q 2125 2950 2412 2725 \n",
       "Q 2700 2500 2700 2125 \n",
       "L 2200 2125 \n",
       "Q 2200 2350 2037 2437 \n",
       "Q 1875 2525 1625 2525 \n",
       "Q 1300 2525 1162 2412 \n",
       "Q 1025 2300 1025 2150 \n",
       "Q 1025 1975 1150 1875 \n",
       "Q 1275 1775 1675 1725 \n",
       "Q 2325 1625 2550 1412 \n",
       "Q 2775 1200 2775 875 \n",
       "z\n",
       "\" transform=\"scale(0.015625)\"/>\n",
       "       <path id=\"SimHei-20\" transform=\"scale(0.015625)\"/>\n",
       "       <path id=\"SimHei-66\" d=\"M 2875 3800 \n",
       "Q 2750 3875 2575 3925 \n",
       "Q 2400 3975 2125 3975 \n",
       "Q 1850 3975 1750 3837 \n",
       "Q 1650 3700 1650 3500 \n",
       "L 1650 2900 \n",
       "L 2675 2900 \n",
       "L 2675 2500 \n",
       "L 1650 2500 \n",
       "L 1650 100 \n",
       "L 1150 100 \n",
       "L 1150 2500 \n",
       "L 300 2500 \n",
       "L 300 2900 \n",
       "L 1150 2900 \n",
       "L 1150 3475 \n",
       "Q 1150 3925 1425 4175 \n",
       "Q 1700 4425 2150 4425 \n",
       "Q 2425 4425 2587 4387 \n",
       "Q 2750 4350 2875 4300 \n",
       "L 2875 3800 \n",
       "z\n",
       "\" transform=\"scale(0.015625)\"/>\n",
       "       <path id=\"SimHei-65\" d=\"M 2875 1050 \n",
       "Q 2825 600 2475 325 \n",
       "Q 2125 50 1650 50 \n",
       "Q 1050 50 662 437 \n",
       "Q 275 825 275 1500 \n",
       "Q 275 2175 662 2562 \n",
       "Q 1050 2950 1650 2950 \n",
       "Q 2175 2950 2512 2612 \n",
       "Q 2850 2275 2850 1500 \n",
       "L 825 1500 \n",
       "Q 825 950 1062 725 \n",
       "Q 1300 500 1650 500 \n",
       "Q 1925 500 2100 637 \n",
       "Q 2275 775 2325 1050 \n",
       "L 2875 1050 \n",
       "z\n",
       "M 2275 1900 \n",
       "Q 2225 2250 2050 2387 \n",
       "Q 1875 2525 1600 2525 \n",
       "Q 1350 2525 1150 2387 \n",
       "Q 950 2250 850 1900 \n",
       "L 2275 1900 \n",
       "z\n",
       "\" transform=\"scale(0.015625)\"/>\n",
       "       <path id=\"SimHei-78\" d=\"M 2900 100 \n",
       "L 2300 100 \n",
       "L 1575 1175 \n",
       "L 850 100 \n",
       "L 250 100 \n",
       "L 1275 1525 \n",
       "L 325 2900 \n",
       "L 925 2900 \n",
       "L 1575 1850 \n",
       "L 2225 2900 \n",
       "L 2825 2900 \n",
       "L 1875 1525 \n",
       "L 2900 100 \n",
       "z\n",
       "\" transform=\"scale(0.015625)\"/>\n",
       "       <path id=\"SimHei-69\" d=\"M 1825 3700 \n",
       "L 1325 3700 \n",
       "L 1325 4350 \n",
       "L 1825 4350 \n",
       "L 1825 3700 \n",
       "z\n",
       "M 1825 100 \n",
       "L 1325 100 \n",
       "L 1325 2900 \n",
       "L 1825 2900 \n",
       "L 1825 100 \n",
       "z\n",
       "\" transform=\"scale(0.015625)\"/>\n",
       "       <path id=\"SimHei-6d\" d=\"M 3075 100 \n",
       "L 2575 100 \n",
       "L 2575 2125 \n",
       "Q 2575 2275 2525 2375 \n",
       "Q 2475 2475 2325 2475 \n",
       "Q 2150 2475 2000 2287 \n",
       "Q 1850 2100 1850 1800 \n",
       "L 1850 100 \n",
       "L 1350 100 \n",
       "L 1350 2125 \n",
       "Q 1350 2275 1300 2375 \n",
       "Q 1250 2475 1100 2475 \n",
       "Q 925 2475 775 2287 \n",
       "Q 625 2100 625 1800 \n",
       "L 625 100 \n",
       "L 125 100 \n",
       "L 125 2900 \n",
       "L 625 2900 \n",
       "L 625 2525 \n",
       "Q 750 2725 925 2837 \n",
       "Q 1100 2950 1300 2950 \n",
       "Q 1500 2950 1637 2837 \n",
       "Q 1775 2725 1825 2525 \n",
       "Q 1950 2725 2112 2837 \n",
       "Q 2275 2950 2475 2950 \n",
       "Q 2775 2950 2925 2787 \n",
       "Q 3075 2625 3075 2325 \n",
       "L 3075 100 \n",
       "z\n",
       "\" transform=\"scale(0.015625)\"/>\n",
       "       <path id=\"SimHei-6e\" d=\"M 2825 100 \n",
       "L 2325 100 \n",
       "L 2325 1900 \n",
       "Q 2325 2200 2175 2375 \n",
       "Q 2025 2550 1775 2550 \n",
       "Q 1450 2550 1162 2212 \n",
       "Q 875 1875 875 1375 \n",
       "L 875 100 \n",
       "L 375 100 \n",
       "L 375 2900 \n",
       "L 875 2900 \n",
       "L 875 2375 \n",
       "Q 1075 2650 1312 2800 \n",
       "Q 1550 2950 1925 2950 \n",
       "Q 2375 2950 2600 2700 \n",
       "Q 2825 2450 2825 2075 \n",
       "L 2825 100 \n",
       "z\n",
       "\" transform=\"scale(0.015625)\"/>\n",
       "       <path id=\"SimHei-74\" d=\"M 2775 175 \n",
       "Q 2650 125 2487 87 \n",
       "Q 2325 50 2050 50 \n",
       "Q 1600 50 1325 300 \n",
       "Q 1050 550 1050 1000 \n",
       "L 1050 2500 \n",
       "L 200 2500 \n",
       "L 200 2900 \n",
       "L 1050 2900 \n",
       "L 1050 3875 \n",
       "L 1550 3875 \n",
       "L 1550 2900 \n",
       "L 2575 2900 \n",
       "L 2575 2500 \n",
       "L 1550 2500 \n",
       "L 1550 975 \n",
       "Q 1550 775 1650 637 \n",
       "Q 1750 500 2025 500 \n",
       "Q 2300 500 2475 550 \n",
       "Q 2650 600 2775 675 \n",
       "L 2775 175 \n",
       "z\n",
       "\" transform=\"scale(0.015625)\"/>\n",
       "      </defs>\n",
       "      <use xlink:href=\"#SimHei-47\"/>\n",
       "      <use xlink:href=\"#SimHei-72\" x=\"50\"/>\n",
       "      <use xlink:href=\"#SimHei-6f\" x=\"100\"/>\n",
       "      <use xlink:href=\"#SimHei-75\" x=\"150\"/>\n",
       "      <use xlink:href=\"#SimHei-70\" x=\"200\"/>\n",
       "      <use xlink:href=\"#SimHei-73\" x=\"250\"/>\n",
       "      <use xlink:href=\"#SimHei-20\" x=\"300\"/>\n",
       "      <use xlink:href=\"#SimHei-6f\" x=\"350\"/>\n",
       "      <use xlink:href=\"#SimHei-66\" x=\"400\"/>\n",
       "      <use xlink:href=\"#SimHei-20\" x=\"450\"/>\n",
       "      <use xlink:href=\"#SimHei-65\" x=\"500\"/>\n",
       "      <use xlink:href=\"#SimHei-78\" x=\"550\"/>\n",
       "      <use xlink:href=\"#SimHei-70\" x=\"600\"/>\n",
       "      <use xlink:href=\"#SimHei-65\" x=\"650\"/>\n",
       "      <use xlink:href=\"#SimHei-72\" x=\"700\"/>\n",
       "      <use xlink:href=\"#SimHei-69\" x=\"750\"/>\n",
       "      <use xlink:href=\"#SimHei-6d\" x=\"800\"/>\n",
       "      <use xlink:href=\"#SimHei-65\" x=\"850\"/>\n",
       "      <use xlink:href=\"#SimHei-6e\" x=\"900\"/>\n",
       "      <use xlink:href=\"#SimHei-74\" x=\"950\"/>\n",
       "      <use xlink:href=\"#SimHei-73\" x=\"1000\"/>\n",
       "     </g>\n",
       "    </g>\n",
       "   </g>\n",
       "   <g id=\"matplotlib.axis_2\">\n",
       "    <g id=\"ytick_1\">\n",
       "     <g id=\"line2d_7\">\n",
       "      <defs>\n",
       "       <path id=\"mfdfe6befcd\" d=\"M 0 0 \n",
       "L -3.5 0 \n",
       "\" style=\"stroke: #000000; stroke-width: 0.8\"/>\n",
       "      </defs>\n",
       "      <g>\n",
       "       <use xlink:href=\"#mfdfe6befcd\" x=\"46.325\" y=\"227.728636\" style=\"stroke: #000000; stroke-width: 0.8\"/>\n",
       "      </g>\n",
       "     </g>\n",
       "     <g id=\"text_8\">\n",
       "      <!-- 0.00 -->\n",
       "      <g transform=\"translate(19.325 231.146605) scale(0.1 -0.1)\">\n",
       "       <defs>\n",
       "        <path id=\"SimHei-2e\" d=\"M 1100 100 \n",
       "L 525 100 \n",
       "L 525 650 \n",
       "L 1100 650 \n",
       "L 1100 100 \n",
       "z\n",
       "\" transform=\"scale(0.015625)\"/>\n",
       "       </defs>\n",
       "       <use xlink:href=\"#SimHei-30\"/>\n",
       "       <use xlink:href=\"#SimHei-2e\" x=\"50\"/>\n",
       "       <use xlink:href=\"#SimHei-30\" x=\"100\"/>\n",
       "       <use xlink:href=\"#SimHei-30\" x=\"150\"/>\n",
       "      </g>\n",
       "     </g>\n",
       "    </g>\n",
       "    <g id=\"ytick_2\">\n",
       "     <g id=\"line2d_8\">\n",
       "      <g>\n",
       "       <use xlink:href=\"#mfdfe6befcd\" x=\"46.325\" y=\"201.475228\" style=\"stroke: #000000; stroke-width: 0.8\"/>\n",
       "      </g>\n",
       "     </g>\n",
       "     <g id=\"text_9\">\n",
       "      <!-- 0.05 -->\n",
       "      <g transform=\"translate(19.325 204.893196) scale(0.1 -0.1)\">\n",
       "       <use xlink:href=\"#SimHei-30\"/>\n",
       "       <use xlink:href=\"#SimHei-2e\" x=\"50\"/>\n",
       "       <use xlink:href=\"#SimHei-30\" x=\"100\"/>\n",
       "       <use xlink:href=\"#SimHei-35\" x=\"150\"/>\n",
       "      </g>\n",
       "     </g>\n",
       "    </g>\n",
       "    <g id=\"ytick_3\">\n",
       "     <g id=\"line2d_9\">\n",
       "      <g>\n",
       "       <use xlink:href=\"#mfdfe6befcd\" x=\"46.325\" y=\"175.221819\" style=\"stroke: #000000; stroke-width: 0.8\"/>\n",
       "      </g>\n",
       "     </g>\n",
       "     <g id=\"text_10\">\n",
       "      <!-- 0.10 -->\n",
       "      <g transform=\"translate(19.325 178.639788) scale(0.1 -0.1)\">\n",
       "       <use xlink:href=\"#SimHei-30\"/>\n",
       "       <use xlink:href=\"#SimHei-2e\" x=\"50\"/>\n",
       "       <use xlink:href=\"#SimHei-31\" x=\"100\"/>\n",
       "       <use xlink:href=\"#SimHei-30\" x=\"150\"/>\n",
       "      </g>\n",
       "     </g>\n",
       "    </g>\n",
       "    <g id=\"ytick_4\">\n",
       "     <g id=\"line2d_10\">\n",
       "      <g>\n",
       "       <use xlink:href=\"#mfdfe6befcd\" x=\"46.325\" y=\"148.96841\" style=\"stroke: #000000; stroke-width: 0.8\"/>\n",
       "      </g>\n",
       "     </g>\n",
       "     <g id=\"text_11\">\n",
       "      <!-- 0.15 -->\n",
       "      <g transform=\"translate(19.325 152.386379) scale(0.1 -0.1)\">\n",
       "       <use xlink:href=\"#SimHei-30\"/>\n",
       "       <use xlink:href=\"#SimHei-2e\" x=\"50\"/>\n",
       "       <use xlink:href=\"#SimHei-31\" x=\"100\"/>\n",
       "       <use xlink:href=\"#SimHei-35\" x=\"150\"/>\n",
       "      </g>\n",
       "     </g>\n",
       "    </g>\n",
       "    <g id=\"ytick_5\">\n",
       "     <g id=\"line2d_11\">\n",
       "      <g>\n",
       "       <use xlink:href=\"#mfdfe6befcd\" x=\"46.325\" y=\"122.715002\" style=\"stroke: #000000; stroke-width: 0.8\"/>\n",
       "      </g>\n",
       "     </g>\n",
       "     <g id=\"text_12\">\n",
       "      <!-- 0.20 -->\n",
       "      <g transform=\"translate(19.325 126.13297) scale(0.1 -0.1)\">\n",
       "       <use xlink:href=\"#SimHei-30\"/>\n",
       "       <use xlink:href=\"#SimHei-2e\" x=\"50\"/>\n",
       "       <use xlink:href=\"#SimHei-32\" x=\"100\"/>\n",
       "       <use xlink:href=\"#SimHei-30\" x=\"150\"/>\n",
       "      </g>\n",
       "     </g>\n",
       "    </g>\n",
       "    <g id=\"ytick_6\">\n",
       "     <g id=\"line2d_12\">\n",
       "      <g>\n",
       "       <use xlink:href=\"#mfdfe6befcd\" x=\"46.325\" y=\"96.461593\" style=\"stroke: #000000; stroke-width: 0.8\"/>\n",
       "      </g>\n",
       "     </g>\n",
       "     <g id=\"text_13\">\n",
       "      <!-- 0.25 -->\n",
       "      <g transform=\"translate(19.325 99.879562) scale(0.1 -0.1)\">\n",
       "       <use xlink:href=\"#SimHei-30\"/>\n",
       "       <use xlink:href=\"#SimHei-2e\" x=\"50\"/>\n",
       "       <use xlink:href=\"#SimHei-32\" x=\"100\"/>\n",
       "       <use xlink:href=\"#SimHei-35\" x=\"150\"/>\n",
       "      </g>\n",
       "     </g>\n",
       "    </g>\n",
       "    <g id=\"ytick_7\">\n",
       "     <g id=\"line2d_13\">\n",
       "      <g>\n",
       "       <use xlink:href=\"#mfdfe6befcd\" x=\"46.325\" y=\"70.208184\" style=\"stroke: #000000; stroke-width: 0.8\"/>\n",
       "      </g>\n",
       "     </g>\n",
       "     <g id=\"text_14\">\n",
       "      <!-- 0.30 -->\n",
       "      <g transform=\"translate(19.325 73.626153) scale(0.1 -0.1)\">\n",
       "       <use xlink:href=\"#SimHei-30\"/>\n",
       "       <use xlink:href=\"#SimHei-2e\" x=\"50\"/>\n",
       "       <use xlink:href=\"#SimHei-33\" x=\"100\"/>\n",
       "       <use xlink:href=\"#SimHei-30\" x=\"150\"/>\n",
       "      </g>\n",
       "     </g>\n",
       "    </g>\n",
       "    <g id=\"ytick_8\">\n",
       "     <g id=\"line2d_14\">\n",
       "      <g>\n",
       "       <use xlink:href=\"#mfdfe6befcd\" x=\"46.325\" y=\"43.954775\" style=\"stroke: #000000; stroke-width: 0.8\"/>\n",
       "      </g>\n",
       "     </g>\n",
       "     <g id=\"text_15\">\n",
       "      <!-- 0.35 -->\n",
       "      <g transform=\"translate(19.325 47.372744) scale(0.1 -0.1)\">\n",
       "       <use xlink:href=\"#SimHei-30\"/>\n",
       "       <use xlink:href=\"#SimHei-2e\" x=\"50\"/>\n",
       "       <use xlink:href=\"#SimHei-33\" x=\"100\"/>\n",
       "       <use xlink:href=\"#SimHei-35\" x=\"150\"/>\n",
       "      </g>\n",
       "     </g>\n",
       "    </g>\n",
       "    <g id=\"ytick_9\">\n",
       "     <g id=\"line2d_15\">\n",
       "      <g>\n",
       "       <use xlink:href=\"#mfdfe6befcd\" x=\"46.325\" y=\"17.701367\" style=\"stroke: #000000; stroke-width: 0.8\"/>\n",
       "      </g>\n",
       "     </g>\n",
       "     <g id=\"text_16\">\n",
       "      <!-- 0.40 -->\n",
       "      <g transform=\"translate(19.325 21.119336) scale(0.1 -0.1)\">\n",
       "       <use xlink:href=\"#SimHei-30\"/>\n",
       "       <use xlink:href=\"#SimHei-2e\" x=\"50\"/>\n",
       "       <use xlink:href=\"#SimHei-34\" x=\"100\"/>\n",
       "       <use xlink:href=\"#SimHei-30\" x=\"150\"/>\n",
       "      </g>\n",
       "     </g>\n",
       "    </g>\n",
       "    <g id=\"text_17\">\n",
       "     <!-- Estimated probability -->\n",
       "     <g transform=\"translate(14.035937 175.215) rotate(-90) scale(0.1 -0.1)\">\n",
       "      <defs>\n",
       "       <path id=\"SimHei-45\" d=\"M 2925 100 \n",
       "L 375 100 \n",
       "L 375 4375 \n",
       "L 2800 4375 \n",
       "L 2800 3900 \n",
       "L 950 3900 \n",
       "L 950 2575 \n",
       "L 2650 2575 \n",
       "L 2650 2100 \n",
       "L 950 2100 \n",
       "L 950 575 \n",
       "L 2925 575 \n",
       "L 2925 100 \n",
       "z\n",
       "\" transform=\"scale(0.015625)\"/>\n",
       "       <path id=\"SimHei-61\" d=\"M 2900 100 \n",
       "L 2300 100 \n",
       "Q 2250 150 2225 237 \n",
       "Q 2200 325 2200 450 \n",
       "Q 2025 250 1775 150 \n",
       "Q 1525 50 1250 50 \n",
       "Q 850 50 575 250 \n",
       "Q 300 450 300 825 \n",
       "Q 300 1200 550 1425 \n",
       "Q 800 1650 1325 1725 \n",
       "Q 1675 1775 1937 1850 \n",
       "Q 2200 1925 2200 2050 \n",
       "Q 2200 2200 2087 2350 \n",
       "Q 1975 2500 1600 2500 \n",
       "Q 1300 2500 1162 2387 \n",
       "Q 1025 2275 975 2075 \n",
       "L 425 2075 \n",
       "Q 475 2475 787 2712 \n",
       "Q 1100 2950 1600 2950 \n",
       "Q 2150 2950 2425 2700 \n",
       "Q 2700 2450 2700 2000 \n",
       "L 2700 625 \n",
       "Q 2700 475 2750 350 \n",
       "Q 2800 225 2900 100 \n",
       "z\n",
       "M 2200 1025 \n",
       "L 2200 1525 \n",
       "Q 2050 1475 1912 1437 \n",
       "Q 1775 1400 1450 1350 \n",
       "Q 1075 1300 962 1175 \n",
       "Q 850 1050 850 875 \n",
       "Q 850 725 962 612 \n",
       "Q 1075 500 1300 500 \n",
       "Q 1525 500 1787 625 \n",
       "Q 2050 750 2200 1025 \n",
       "z\n",
       "\" transform=\"scale(0.015625)\"/>\n",
       "       <path id=\"SimHei-64\" d=\"M 2775 100 \n",
       "L 2275 100 \n",
       "L 2275 475 \n",
       "Q 2125 250 1925 150 \n",
       "Q 1725 50 1450 50 \n",
       "Q 950 50 600 412 \n",
       "Q 250 775 250 1500 \n",
       "Q 250 2225 600 2600 \n",
       "Q 950 2975 1450 2975 \n",
       "Q 1725 2975 1925 2862 \n",
       "Q 2125 2750 2275 2525 \n",
       "L 2275 4375 \n",
       "L 2775 4375 \n",
       "L 2775 100 \n",
       "z\n",
       "M 2275 1500 \n",
       "Q 2275 1975 2062 2250 \n",
       "Q 1850 2525 1550 2525 \n",
       "Q 1175 2525 987 2250 \n",
       "Q 800 1975 800 1500 \n",
       "Q 800 1025 987 762 \n",
       "Q 1175 500 1550 500 \n",
       "Q 1850 500 2062 762 \n",
       "Q 2275 1025 2275 1500 \n",
       "z\n",
       "\" transform=\"scale(0.015625)\"/>\n",
       "       <path id=\"SimHei-62\" d=\"M 2850 1500 \n",
       "Q 2850 775 2500 412 \n",
       "Q 2150 50 1650 50 \n",
       "Q 1375 50 1175 150 \n",
       "Q 975 250 825 475 \n",
       "L 825 100 \n",
       "L 325 100 \n",
       "L 325 4375 \n",
       "L 825 4375 \n",
       "L 825 2525 \n",
       "Q 975 2750 1175 2862 \n",
       "Q 1375 2975 1650 2975 \n",
       "Q 2150 2975 2500 2600 \n",
       "Q 2850 2225 2850 1500 \n",
       "z\n",
       "M 2300 1500 \n",
       "Q 2300 1975 2112 2250 \n",
       "Q 1925 2525 1550 2525 \n",
       "Q 1250 2525 1037 2250 \n",
       "Q 825 1975 825 1500 \n",
       "Q 825 1025 1037 762 \n",
       "Q 1250 500 1550 500 \n",
       "Q 1925 500 2112 762 \n",
       "Q 2300 1025 2300 1500 \n",
       "z\n",
       "\" transform=\"scale(0.015625)\"/>\n",
       "       <path id=\"SimHei-6c\" d=\"M 1850 100 \n",
       "L 1350 100 \n",
       "L 1350 4375 \n",
       "L 1850 4375 \n",
       "L 1850 100 \n",
       "z\n",
       "\" transform=\"scale(0.015625)\"/>\n",
       "       <path id=\"SimHei-79\" d=\"M 2925 2900 \n",
       "L 1775 -125 \n",
       "Q 1675 -475 1475 -650 \n",
       "Q 1275 -825 975 -825 \n",
       "Q 850 -825 737 -812 \n",
       "Q 625 -800 525 -750 \n",
       "L 525 -250 \n",
       "Q 625 -300 725 -325 \n",
       "Q 825 -350 900 -350 \n",
       "Q 1100 -350 1175 -287 \n",
       "Q 1250 -225 1325 0 \n",
       "L 225 2900 \n",
       "L 775 2900 \n",
       "L 1575 700 \n",
       "L 1600 700 \n",
       "L 2375 2900 \n",
       "L 2925 2900 \n",
       "z\n",
       "\" transform=\"scale(0.015625)\"/>\n",
       "      </defs>\n",
       "      <use xlink:href=\"#SimHei-45\"/>\n",
       "      <use xlink:href=\"#SimHei-73\" x=\"50\"/>\n",
       "      <use xlink:href=\"#SimHei-74\" x=\"100\"/>\n",
       "      <use xlink:href=\"#SimHei-69\" x=\"150\"/>\n",
       "      <use xlink:href=\"#SimHei-6d\" x=\"200\"/>\n",
       "      <use xlink:href=\"#SimHei-61\" x=\"250\"/>\n",
       "      <use xlink:href=\"#SimHei-74\" x=\"300\"/>\n",
       "      <use xlink:href=\"#SimHei-65\" x=\"350\"/>\n",
       "      <use xlink:href=\"#SimHei-64\" x=\"400\"/>\n",
       "      <use xlink:href=\"#SimHei-20\" x=\"450\"/>\n",
       "      <use xlink:href=\"#SimHei-70\" x=\"500\"/>\n",
       "      <use xlink:href=\"#SimHei-72\" x=\"550\"/>\n",
       "      <use xlink:href=\"#SimHei-6f\" x=\"600\"/>\n",
       "      <use xlink:href=\"#SimHei-62\" x=\"650\"/>\n",
       "      <use xlink:href=\"#SimHei-61\" x=\"700\"/>\n",
       "      <use xlink:href=\"#SimHei-62\" x=\"750\"/>\n",
       "      <use xlink:href=\"#SimHei-69\" x=\"800\"/>\n",
       "      <use xlink:href=\"#SimHei-6c\" x=\"850\"/>\n",
       "      <use xlink:href=\"#SimHei-69\" x=\"900\"/>\n",
       "      <use xlink:href=\"#SimHei-74\" x=\"950\"/>\n",
       "      <use xlink:href=\"#SimHei-79\" x=\"1000\"/>\n",
       "     </g>\n",
       "    </g>\n",
       "   </g>\n",
       "   <g id=\"line2d_16\">\n",
       "    <path d=\"M 61.543182 227.728636 \n",
       "L 62.153129 148.968407 \n",
       "L 62.763076 140.217271 \n",
       "L 63.373023 122.715 \n",
       "L 63.98297 122.715 \n",
       "L 64.592918 131.466136 \n",
       "L 65.202865 145.21792 \n",
       "L 65.812812 148.968407 \n",
       "L 66.422759 146.051362 \n",
       "L 67.032706 154.219092 \n",
       "L 67.642653 151.355086 \n",
       "L 68.862548 155.026886 \n",
       "L 69.472495 152.718894 \n",
       "L 70.082442 147.218182 \n",
       "L 70.692389 152.250088 \n",
       "L 71.302336 153.601361 \n",
       "L 72.522231 150.350171 \n",
       "L 73.742125 152.718894 \n",
       "L 74.962019 154.675676 \n",
       "L 76.181914 147.918276 \n",
       "L 76.791861 142.909929 \n",
       "L 77.401808 142.161973 \n",
       "L 78.011755 139.592194 \n",
       "L 78.621702 139.01022 \n",
       "L 79.23165 141.967505 \n",
       "L 79.841597 137.958916 \n",
       "L 80.451544 139.12338 \n",
       "L 81.061491 138.626157 \n",
       "L 81.671438 135.069545 \n",
       "L 82.281385 134.716559 \n",
       "L 83.50128 136.906031 \n",
       "L 84.111227 133.769065 \n",
       "L 84.721174 132.1393 \n",
       "L 85.331121 133.216361 \n",
       "L 85.941069 131.679578 \n",
       "L 86.551016 132.716298 \n",
       "L 87.77091 132.261693 \n",
       "L 88.380857 134.383181 \n",
       "L 88.990804 135.270977 \n",
       "L 90.210699 134.747816 \n",
       "L 90.820646 136.645378 \n",
       "L 91.430593 134.2665 \n",
       "L 92.04054 134.039999 \n",
       "L 92.650487 134.831957 \n",
       "L 93.260435 133.612645 \n",
       "L 94.480329 135.125706 \n",
       "L 95.700223 138.374932 \n",
       "L 96.31017 137.199639 \n",
       "L 98.140012 136.487284 \n",
       "L 98.749959 137.112032 \n",
       "L 100.579801 136.447553 \n",
       "L 101.189748 135.443929 \n",
       "L 101.799695 135.253944 \n",
       "L 102.409642 135.841707 \n",
       "L 103.019589 134.890497 \n",
       "L 104.239484 136.026592 \n",
       "L 104.849431 135.112444 \n",
       "L 105.459378 134.942614 \n",
       "L 106.069325 136.196485 \n",
       "L 106.679272 135.316638 \n",
       "L 107.289219 135.150829 \n",
       "L 107.899167 135.671228 \n",
       "L 108.509114 135.505121 \n",
       "L 109.119061 136.007868 \n",
       "L 109.729008 135.841707 \n",
       "L 110.948902 138.08285 \n",
       "L 111.55885 138.530312 \n",
       "L 112.168797 139.592194 \n",
       "L 112.778744 140.011364 \n",
       "L 113.998638 138.406691 \n",
       "L 114.608585 138.228379 \n",
       "L 115.218533 137.46411 \n",
       "L 116.438427 138.293945 \n",
       "L 118.268268 137.796745 \n",
       "L 118.878216 138.190698 \n",
       "L 119.488163 137.482544 \n",
       "L 120.09811 138.412919 \n",
       "L 121.318004 138.095783 \n",
       "L 121.927951 136.891846 \n",
       "L 123.147846 136.613863 \n",
       "L 123.757793 135.969147 \n",
       "L 124.36774 134.831957 \n",
       "L 124.977687 135.216622 \n",
       "L 125.587634 134.603336 \n",
       "L 126.197582 134.492234 \n",
       "L 126.807529 134.869356 \n",
       "L 128.027423 134.648372 \n",
       "L 129.247317 135.372894 \n",
       "L 130.467212 136.993168 \n",
       "L 132.297053 136.627062 \n",
       "L 132.907 136.954142 \n",
       "L 133.516948 136.393246 \n",
       "L 134.126895 136.279264 \n",
       "L 134.736842 137.035043 \n",
       "L 135.346789 137.348047 \n",
       "L 136.566683 137.112032 \n",
       "L 137.176631 137.416907 \n",
       "L 138.396525 137.185384 \n",
       "L 139.616419 137.775096 \n",
       "L 140.836314 137.545168 \n",
       "L 142.056208 138.111737 \n",
       "L 142.666155 138.780519 \n",
       "L 143.276102 137.88364 \n",
       "L 143.886049 138.544262 \n",
       "L 144.495997 138.428723 \n",
       "L 145.105944 139.075818 \n",
       "L 145.715891 138.58037 \n",
       "L 146.325838 139.217145 \n",
       "L 147.545732 139.72425 \n",
       "L 148.15568 139.238129 \n",
       "L 148.765627 139.12338 \n",
       "L 149.375574 139.372336 \n",
       "L 149.985521 139.258245 \n",
       "L 150.595468 139.502897 \n",
       "L 151.205415 139.034686 \n",
       "L 151.815363 139.629946 \n",
       "L 153.035257 140.101365 \n",
       "L 153.645204 139.641541 \n",
       "L 154.255151 139.530908 \n",
       "L 155.475046 139.991436 \n",
       "L 156.69494 139.771359 \n",
       "L 157.304887 139.995723 \n",
       "L 157.914834 139.887046 \n",
       "L 158.524781 139.12338 \n",
       "L 159.134729 138.695338 \n",
       "L 160.354623 139.143512 \n",
       "L 160.96457 138.723176 \n",
       "L 161.574517 139.262603 \n",
       "L 162.184464 139.162924 \n",
       "L 162.794412 139.378838 \n",
       "L 163.404359 139.904737 \n",
       "L 164.014306 140.113711 \n",
       "L 165.2342 139.910214 \n",
       "L 167.064042 140.51904 \n",
       "L 167.673989 140.117263 \n",
       "L 168.283936 140.61505 \n",
       "L 168.893883 140.810575 \n",
       "L 169.50383 141.298879 \n",
       "L 170.113778 141.488387 \n",
       "L 170.723725 141.967505 \n",
       "L 171.333672 141.861136 \n",
       "L 171.943619 140.601937 \n",
       "L 172.553566 141.078043 \n",
       "L 173.163513 141.263607 \n",
       "L 173.773461 140.879521 \n",
       "L 174.993355 141.808393 \n",
       "L 175.603302 141.986118 \n",
       "L 176.213249 141.884154 \n",
       "L 176.823196 142.059618 \n",
       "L 177.433144 141.958335 \n",
       "L 178.043091 142.131585 \n",
       "L 178.653038 142.575095 \n",
       "L 179.262985 142.472724 \n",
       "L 180.482879 142.806893 \n",
       "L 181.092827 142.704905 \n",
       "L 181.702774 142.869134 \n",
       "L 182.312721 142.504005 \n",
       "L 182.922668 142.930123 \n",
       "L 183.532615 142.829551 \n",
       "L 184.142562 142.989915 \n",
       "L 184.75251 142.372724 \n",
       "L 185.362457 142.533752 \n",
       "L 185.972404 141.924816 \n",
       "L 186.582351 141.831561 \n",
       "L 187.802245 142.657491 \n",
       "L 188.412193 142.310851 \n",
       "L 189.02214 142.467568 \n",
       "L 189.632087 141.87626 \n",
       "L 192.071876 141.519769 \n",
       "L 193.29177 141.830387 \n",
       "L 194.511664 142.614849 \n",
       "L 195.121611 142.047061 \n",
       "L 196.341506 142.818965 \n",
       "L 196.951453 142.728808 \n",
       "L 198.171347 143.484368 \n",
       "L 198.781294 143.624795 \n",
       "L 199.391242 143.301377 \n",
       "L 200.611136 143.580159 \n",
       "L 201.83103 143.399508 \n",
       "L 202.440977 143.536672 \n",
       "L 203.050925 143.221955 \n",
       "L 203.660872 143.358705 \n",
       "L 204.270819 142.600563 \n",
       "L 204.880766 142.738791 \n",
       "L 205.490713 142.432751 \n",
       "L 207.320555 142.842618 \n",
       "L 207.930502 142.759095 \n",
       "L 208.540449 143.110211 \n",
       "L 209.150396 143.026281 \n",
       "L 209.760343 142.727846 \n",
       "L 210.370291 142.646162 \n",
       "L 210.980238 142.138259 \n",
       "L 211.590185 142.059618 \n",
       "L 212.200132 142.19334 \n",
       "L 212.810079 141.904239 \n",
       "L 213.420026 142.247538 \n",
       "L 214.029974 142.378913 \n",
       "L 214.639921 142.092519 \n",
       "L 215.249868 142.430998 \n",
       "L 215.859815 142.353375 \n",
       "L 216.469762 142.070455 \n",
       "L 217.079709 142.199952 \n",
       "L 217.689657 141.919832 \n",
       "L 218.299604 141.845394 \n",
       "L 218.909551 142.176988 \n",
       "L 219.519498 142.304083 \n",
       "L 222.569234 141.934479 \n",
       "L 223.789128 141.397204 \n",
       "L 225.009023 141.648687 \n",
       "L 225.61897 141.57856 \n",
       "L 226.228917 141.702705 \n",
       "L 227.448811 141.5636 \n",
       "L 228.058758 141.878075 \n",
       "L 228.668706 141.999326 \n",
       "L 229.278653 141.739212 \n",
       "L 229.8886 141.670532 \n",
       "L 230.498547 141.980094 \n",
       "L 231.108494 141.534651 \n",
       "L 232.938336 141.334439 \n",
       "L 233.548283 141.083113 \n",
       "L 234.15823 141.018431 \n",
       "L 234.768177 141.32268 \n",
       "L 235.378124 141.257622 \n",
       "L 235.988072 141.558913 \n",
       "L 236.598019 141.675798 \n",
       "L 237.817913 142.269266 \n",
       "L 238.42786 142.202064 \n",
       "L 239.037807 141.775696 \n",
       "L 239.647755 141.710639 \n",
       "L 240.257702 141.28884 \n",
       "L 241.477596 141.518118 \n",
       "L 242.087543 141.808393 \n",
       "L 242.69749 141.391923 \n",
       "L 245.137279 142.535458 \n",
       "L 245.747226 142.643329 \n",
       "L 246.357173 142.577779 \n",
       "L 246.967121 142.684805 \n",
       "L 247.577068 142.962726 \n",
       "L 248.796962 143.172201 \n",
       "L 249.406909 142.936077 \n",
       "L 250.016856 143.2096 \n",
       "L 250.626804 142.974869 \n",
       "L 251.236751 143.246515 \n",
       "L 251.846698 143.348674 \n",
       "L 253.066592 143.217667 \n",
       "L 253.676539 143.318943 \n",
       "L 254.286487 142.922674 \n",
       "L 254.896434 143.024239 \n",
       "L 255.506381 142.795978 \n",
       "L 256.116328 142.733229 \n",
       "L 257.336222 142.935021 \n",
       "L 257.94617 142.87242 \n",
       "L 258.556117 142.648149 \n",
       "L 259.776011 142.847985 \n",
       "L 260.385958 143.107558 \n",
       "L 260.995905 143.045388 \n",
       "L 261.605853 143.143189 \n",
       "L 262.2158 143.081285 \n",
       "L 262.825747 143.178382 \n",
       "L 264.045641 143.055481 \n",
       "L 264.655588 143.151788 \n",
       "L 265.875483 143.030138 \n",
       "L 266.48543 143.125663 \n",
       "L 267.095377 143.065277 \n",
       "L 268.315271 143.563298 \n",
       "L 268.925219 143.50216 \n",
       "L 269.535166 143.748432 \n",
       "L 270.145113 143.687115 \n",
       "L 270.75506 143.778782 \n",
       "L 271.365007 143.71773 \n",
       "L 271.974954 143.960536 \n",
       "L 272.584902 143.899305 \n",
       "L 274.414743 144.617849 \n",
       "L 275.02469 144.555444 \n",
       "L 275.634637 144.344232 \n",
       "L 276.244585 144.431705 \n",
       "L 276.854532 144.222034 \n",
       "L 277.464479 144.161444 \n",
       "L 278.074426 144.248699 \n",
       "L 278.684373 144.041297 \n",
       "L 279.29432 143.981732 \n",
       "L 279.904268 144.068752 \n",
       "L 280.514215 144.301136 \n",
       "L 281.734109 144.181881 \n",
       "L 282.344056 144.412035 \n",
       "L 282.954003 144.208178 \n",
       "L 283.563951 143.861585 \n",
       "L 284.783845 144.032487 \n",
       "L 286.003739 143.91694 \n",
       "L 286.613686 144.001551 \n",
       "L 287.223634 144.22723 \n",
       "L 287.833581 144.310549 \n",
       "L 289.663422 144.137784 \n",
       "L 290.273369 143.941164 \n",
       "L 290.883317 143.884862 \n",
       "L 291.493264 143.967758 \n",
       "L 292.103211 143.634607 \n",
       "L 292.713158 143.71773 \n",
       "L 293.323105 143.662602 \n",
       "L 293.933052 143.882671 \n",
       "L 294.543 143.690307 \n",
       "L 295.152947 143.635687 \n",
       "L 295.762894 143.71773 \n",
       "L 296.372841 143.935374 \n",
       "L 297.592735 144.096645 \n",
       "L 298.202683 143.771717 \n",
       "L 298.81263 143.986998 \n",
       "L 299.422577 143.66401 \n",
       "L 300.032524 143.610571 \n",
       "L 301.252418 143.771036 \n",
       "L 301.862366 143.71773 \n",
       "L 302.472313 143.797286 \n",
       "L 303.08226 144.008702 \n",
       "L 303.692207 143.9552 \n",
       "L 304.302154 144.165153 \n",
       "L 304.912101 143.848996 \n",
       "L 305.522049 144.058174 \n",
       "L 306.131996 144.135695 \n",
       "L 306.741943 144.343121 \n",
       "L 307.961837 144.495605 \n",
       "L 308.571784 144.700613 \n",
       "L 309.791679 144.850226 \n",
       "L 311.011573 144.742253 \n",
       "L 311.62152 144.560905 \n",
       "L 313.451362 144.783087 \n",
       "L 314.061309 144.982954 \n",
       "L 314.671256 144.929421 \n",
       "L 315.281203 144.62432 \n",
       "L 315.89115 144.446289 \n",
       "L 317.111045 144.342808 \n",
       "L 317.720992 144.166718 \n",
       "L 318.330939 144.240312 \n",
       "L 318.940886 144.065294 \n",
       "L 319.550833 144.13877 \n",
       "L 320.160781 144.088367 \n",
       "L 320.770728 144.161444 \n",
       "L 321.380675 144.357157 \n",
       "L 321.990622 144.30659 \n",
       "L 322.600569 144.011472 \n",
       "L 323.210516 144.206167 \n",
       "L 323.820464 144.278126 \n",
       "L 325.650305 144.129076 \n",
       "L 326.260252 144.321252 \n",
       "L 327.480147 144.222371 \n",
       "L 328.700041 144.363596 \n",
       "L 329.309988 144.553065 \n",
       "L 330.529882 144.454247 \n",
       "L 331.749777 144.592843 \n",
       "L 332.359724 144.779668 \n",
       "L 332.969671 144.730196 \n",
       "L 333.579618 144.798406 \n",
       "L 334.189565 144.631909 \n",
       "L 334.799513 144.816981 \n",
       "L 335.40946 144.65118 \n",
       "L 336.629354 144.786451 \n",
       "L 337.239301 144.73773 \n",
       "L 337.849248 144.804877 \n",
       "L 338.459196 144.640922 \n",
       "L 339.67909 144.774762 \n",
       "L 341.508931 144.630892 \n",
       "L 342.728826 144.195065 \n",
       "L 343.338773 144.262078 \n",
       "L 343.94872 144.441963 \n",
       "L 344.558667 144.395237 \n",
       "L 345.168615 144.46139 \n",
       "L 345.778562 144.302388 \n",
       "L 347.608403 144.499744 \n",
       "L 348.828298 144.296191 \n",
       "L 349.438245 144.13956 \n",
       "L 350.658139 144.380974 \n",
       "L 352.487981 144.354841 \n",
       "L 353.707875 144.702232 \n",
       "L 355.537716 144.456954 \n",
       "L 356.147664 144.195065 \n",
       "L 357.367558 144.214703 \n",
       "L 357.977505 143.84711 \n",
       "L 359.197399 144.082804 \n",
       "L 361.637188 144.441963 \n",
       "L 362.247135 144.079111 \n",
       "L 364.076977 144.055803 \n",
       "L 365.296871 144.285942 \n",
       "L 365.906818 144.347807 \n",
       "L 365.906818 144.347807 \n",
       "\" clip-path=\"url(#p0fb797d5c7)\" style=\"fill: none; stroke: #1f77b4; stroke-width: 1.5; stroke-linecap: square\"/>\n",
       "   </g>\n",
       "   <g id=\"line2d_17\">\n",
       "    <path d=\"M 61.543182 17.701364 \n",
       "L 62.153129 70.208178 \n",
       "L 62.763076 105.212729 \n",
       "L 63.373023 96.461593 \n",
       "L 63.98297 101.712277 \n",
       "L 64.592918 105.212729 \n",
       "L 65.202865 122.715 \n",
       "L 65.812812 109.5883 \n",
       "L 66.422759 122.715 \n",
       "L 67.032706 127.965685 \n",
       "L 67.642653 137.035043 \n",
       "L 68.252601 135.841707 \n",
       "L 68.862548 138.870943 \n",
       "L 70.082442 136.71682 \n",
       "L 70.692389 125.996681 \n",
       "L 71.912284 137.300226 \n",
       "L 73.132178 146.343069 \n",
       "L 73.742125 147.718245 \n",
       "L 74.962019 145.544053 \n",
       "L 76.181914 147.918276 \n",
       "L 77.401808 142.161973 \n",
       "L 78.621702 144.441963 \n",
       "L 79.841597 143.040224 \n",
       "L 80.451544 140.764217 \n",
       "L 81.671438 145.879771 \n",
       "L 82.891333 144.592843 \n",
       "L 83.50128 145.420651 \n",
       "L 84.721174 144.256257 \n",
       "L 85.331121 142.405061 \n",
       "L 85.941069 143.205469 \n",
       "L 86.551016 142.717596 \n",
       "L 87.160963 139.810245 \n",
       "L 87.77091 140.61505 \n",
       "L 89.600752 139.472493 \n",
       "L 90.210699 140.217271 \n",
       "L 91.430593 143.71773 \n",
       "L 92.04054 143.305908 \n",
       "L 93.260435 146.491672 \n",
       "L 93.870382 146.051362 \n",
       "L 94.480329 146.581736 \n",
       "L 95.090276 146.155548 \n",
       "L 95.700223 143.901965 \n",
       "L 96.920118 144.963652 \n",
       "L 97.530065 142.842618 \n",
       "L 98.140012 141.651887 \n",
       "L 98.749959 141.346449 \n",
       "L 99.359906 142.717596 \n",
       "L 99.969853 143.225476 \n",
       "L 102.409642 138.930344 \n",
       "L 103.019589 139.456305 \n",
       "L 103.629536 140.717343 \n",
       "L 104.239484 139.72425 \n",
       "L 104.849431 140.946535 \n",
       "L 105.459378 140.696789 \n",
       "L 106.069325 141.163341 \n",
       "L 106.679272 142.317548 \n",
       "L 107.289219 141.36874 \n",
       "L 107.899167 142.490297 \n",
       "L 109.729008 143.71773 \n",
       "L 110.338955 143.458439 \n",
       "L 110.948902 141.284482 \n",
       "L 112.168797 143.342681 \n",
       "L 112.778744 143.71773 \n",
       "L 113.998638 145.649014 \n",
       "L 114.608585 145.985068 \n",
       "L 115.218533 144.543676 \n",
       "L 115.82848 143.71773 \n",
       "L 117.048374 144.4026 \n",
       "L 118.268268 143.941164 \n",
       "L 118.878216 144.270434 \n",
       "L 119.488163 144.045898 \n",
       "L 120.09811 144.908601 \n",
       "L 120.708057 145.21792 \n",
       "L 121.318004 146.051362 \n",
       "L 121.927951 146.343069 \n",
       "L 122.537899 144.549521 \n",
       "L 123.147846 144.335453 \n",
       "L 126.197582 145.778746 \n",
       "L 126.807529 145.565194 \n",
       "L 128.027423 146.104402 \n",
       "L 129.247317 145.686734 \n",
       "L 129.857265 145.948107 \n",
       "L 131.687106 145.347253 \n",
       "L 132.297053 144.705033 \n",
       "L 132.907 145.408626 \n",
       "L 133.516948 145.659154 \n",
       "L 134.126895 145.467956 \n",
       "L 134.736842 146.147794 \n",
       "L 136.566683 146.851199 \n",
       "L 137.176631 145.818 \n",
       "L 139.006472 146.507156 \n",
       "L 139.616419 146.322718 \n",
       "L 140.226366 146.948914 \n",
       "L 140.836314 145.962292 \n",
       "L 142.056208 145.61271 \n",
       "L 142.666155 145.833671 \n",
       "L 143.276102 145.662425 \n",
       "L 144.495997 144.560905 \n",
       "L 145.105944 144.783087 \n",
       "L 145.715891 144.62432 \n",
       "L 146.325838 143.71773 \n",
       "L 146.935785 143.568775 \n",
       "L 148.15568 144.011472 \n",
       "L 148.765627 143.498952 \n",
       "L 149.375574 144.079847 \n",
       "L 149.985521 144.293148 \n",
       "L 150.595468 144.146359 \n",
       "L 151.815363 145.268269 \n",
       "L 152.42531 145.467956 \n",
       "L 153.035257 145.317271 \n",
       "L 153.645204 145.859452 \n",
       "L 154.255151 145.70818 \n",
       "L 154.865098 144.876968 \n",
       "L 155.475046 145.411497 \n",
       "L 156.084993 145.266007 \n",
       "L 156.69494 145.456807 \n",
       "L 157.304887 144.64823 \n",
       "L 157.914834 144.510283 \n",
       "L 158.524781 144.045898 \n",
       "L 159.134729 144.565662 \n",
       "L 159.744676 144.430782 \n",
       "L 160.354623 144.619688 \n",
       "L 160.96457 144.486122 \n",
       "L 162.184464 144.85643 \n",
       "L 162.794412 144.72385 \n",
       "L 163.404359 143.967758 \n",
       "L 164.014306 143.531313 \n",
       "L 164.624253 142.482278 \n",
       "L 165.844147 142.862968 \n",
       "L 166.454095 142.746506 \n",
       "L 167.673989 143.117651 \n",
       "L 168.283936 142.405061 \n",
       "L 168.893883 142.590462 \n",
       "L 170.113778 142.36839 \n",
       "L 170.723725 142.842618 \n",
       "L 171.333672 143.021508 \n",
       "L 171.943619 143.486927 \n",
       "L 172.553566 143.086496 \n",
       "L 173.163513 143.546507 \n",
       "L 174.383408 143.887107 \n",
       "L 174.993355 143.4931 \n",
       "L 175.603302 143.382576 \n",
       "L 176.823196 143.71773 \n",
       "L 177.433144 144.157579 \n",
       "L 178.653038 144.479487 \n",
       "L 179.262985 143.825993 \n",
       "L 179.872932 144.256257 \n",
       "L 180.482879 144.146359 \n",
       "L 181.092827 144.304102 \n",
       "L 183.532615 142.829551 \n",
       "L 184.75251 143.665997 \n",
       "L 185.972404 143.4616 \n",
       "L 186.582351 143.615774 \n",
       "L 187.802245 142.909929 \n",
       "L 188.412193 142.813308 \n",
       "L 189.02214 141.967505 \n",
       "L 190.242034 141.785876 \n",
       "L 190.851981 141.942851 \n",
       "L 191.461928 141.607642 \n",
       "L 192.071876 141.763984 \n",
       "L 192.681823 142.161973 \n",
       "L 194.511664 141.895578 \n",
       "L 195.121611 142.285728 \n",
       "L 195.731559 141.959579 \n",
       "L 196.341506 142.109411 \n",
       "L 198.171347 141.850816 \n",
       "L 198.781294 141.998481 \n",
       "L 199.391242 141.913526 \n",
       "L 200.001189 142.059618 \n",
       "L 200.611136 142.433721 \n",
       "L 201.221083 141.663115 \n",
       "L 201.83103 141.808393 \n",
       "L 202.440977 142.178733 \n",
       "L 203.050925 141.869852 \n",
       "L 204.270819 142.153696 \n",
       "L 204.880766 141.626357 \n",
       "L 205.490713 141.768107 \n",
       "L 206.10066 142.129284 \n",
       "L 206.710608 142.267748 \n",
       "L 207.930502 141.669742 \n",
       "L 208.540449 141.157481 \n",
       "L 209.150396 141.297658 \n",
       "L 209.760343 141.221506 \n",
       "L 210.370291 141.360282 \n",
       "L 210.980238 141.711374 \n",
       "L 211.590185 141.847037 \n",
       "L 212.200132 142.19334 \n",
       "L 213.420026 142.037507 \n",
       "L 214.029974 141.542146 \n",
       "L 214.639921 141.884154 \n",
       "L 215.249868 141.808393 \n",
       "L 215.859815 141.93994 \n",
       "L 216.469762 142.276362 \n",
       "L 217.079709 142.199952 \n",
       "L 217.689657 142.32844 \n",
       "L 218.299604 142.25242 \n",
       "L 220.739392 142.75577 \n",
       "L 221.34934 142.679571 \n",
       "L 222.569234 142.92517 \n",
       "L 223.179181 142.651803 \n",
       "L 223.789128 142.773789 \n",
       "L 225.009023 142.624653 \n",
       "L 225.61897 142.161973 \n",
       "L 226.228917 142.283959 \n",
       "L 226.838864 142.598098 \n",
       "L 227.448811 142.525263 \n",
       "L 228.668706 141.999326 \n",
       "L 229.278653 142.309936 \n",
       "L 229.8886 141.860087 \n",
       "L 231.108494 141.722844 \n",
       "L 231.718441 141.842483 \n",
       "L 232.328389 141.213846 \n",
       "L 232.938336 141.520638 \n",
       "L 233.548283 141.268646 \n",
       "L 234.15823 141.573083 \n",
       "L 234.768177 141.506914 \n",
       "L 235.378124 141.808393 \n",
       "L 235.988072 141.375962 \n",
       "L 237.207966 141.246817 \n",
       "L 237.817913 141.545033 \n",
       "L 238.42786 141.480328 \n",
       "L 239.037807 141.595875 \n",
       "L 241.477596 142.759831 \n",
       "L 242.087543 142.515554 \n",
       "L 242.69749 142.449111 \n",
       "L 243.307438 142.207502 \n",
       "L 243.917385 142.142523 \n",
       "L 244.527332 142.426867 \n",
       "L 245.137279 142.36159 \n",
       "L 245.747226 141.950174 \n",
       "L 246.357173 142.059618 \n",
       "L 246.967121 141.824042 \n",
       "L 247.577068 141.418408 \n",
       "L 248.796962 140.95601 \n",
       "L 250.626804 140.780045 \n",
       "L 251.236751 141.058733 \n",
       "L 251.846698 141.000122 \n",
       "L 252.456645 141.276329 \n",
       "L 253.066592 141.217406 \n",
       "L 254.286487 140.769396 \n",
       "L 255.506381 140.985397 \n",
       "L 256.116328 141.256472 \n",
       "L 256.726275 141.362285 \n",
       "L 257.336222 141.141308 \n",
       "L 257.94617 141.084263 \n",
       "L 259.166064 141.294341 \n",
       "L 259.776011 141.237342 \n",
       "L 260.385958 141.020128 \n",
       "L 260.995905 141.124401 \n",
       "L 262.825747 140.957551 \n",
       "L 263.435694 141.060759 \n",
       "L 264.045641 141.005662 \n",
       "L 264.655588 141.108111 \n",
       "L 265.265536 140.739727 \n",
       "L 265.875483 140.842356 \n",
       "L 266.48543 140.788566 \n",
       "L 267.095377 140.579748 \n",
       "L 267.705324 140.681938 \n",
       "L 268.315271 140.320229 \n",
       "L 268.925219 140.268598 \n",
       "L 269.535166 139.910214 \n",
       "L 270.75506 140.115519 \n",
       "L 271.365007 140.369466 \n",
       "L 271.974954 139.863183 \n",
       "L 272.584902 139.965076 \n",
       "L 273.804796 139.866226 \n",
       "L 274.414743 139.967244 \n",
       "L 275.02469 139.918093 \n",
       "L 275.634637 140.167549 \n",
       "L 277.464479 140.463786 \n",
       "L 278.074426 140.266438 \n",
       "L 279.904268 140.558544 \n",
       "L 280.514215 140.363129 \n",
       "L 281.124162 140.314236 \n",
       "L 281.734109 140.55572 \n",
       "L 282.344056 140.506568 \n",
       "L 282.954003 140.74619 \n",
       "L 285.393792 140.550196 \n",
       "L 286.613686 140.169967 \n",
       "L 287.223634 140.12292 \n",
       "L 287.833581 140.217271 \n",
       "L 288.443528 140.451886 \n",
       "L 289.663422 140.357292 \n",
       "L 290.273369 140.170726 \n",
       "L 290.883317 140.2637 \n",
       "L 291.493264 139.93946 \n",
       "L 292.103211 140.032552 \n",
       "L 292.713158 139.986984 \n",
       "L 293.933052 140.171453 \n",
       "L 294.543 140.125878 \n",
       "L 295.152947 140.217271 \n",
       "L 296.982788 140.081601 \n",
       "L 297.592735 139.901513 \n",
       "L 298.202683 140.127286 \n",
       "L 298.81263 139.813374 \n",
       "L 299.422577 140.038224 \n",
       "L 300.032524 139.994033 \n",
       "L 300.642471 139.682852 \n",
       "L 301.252418 139.639788 \n",
       "L 301.862366 139.33108 \n",
       "L 302.472313 139.289127 \n",
       "L 303.08226 139.379636 \n",
       "L 303.692207 139.601614 \n",
       "L 304.302154 139.690888 \n",
       "L 304.912101 139.64845 \n",
       "L 305.522049 139.344342 \n",
       "L 306.131996 139.433591 \n",
       "L 306.741943 139.001238 \n",
       "L 307.35189 139.090887 \n",
       "L 309.181732 138.970184 \n",
       "L 309.791679 138.672953 \n",
       "L 311.62152 139.322997 \n",
       "L 312.231467 139.282687 \n",
       "L 312.841415 139.115439 \n",
       "L 313.451362 139.202647 \n",
       "L 314.061309 139.415964 \n",
       "L 314.671256 139.249599 \n",
       "L 315.89115 139.672947 \n",
       "L 316.501098 139.507162 \n",
       "L 317.111045 139.46718 \n",
       "L 317.720992 139.552103 \n",
       "L 318.330939 139.512208 \n",
       "L 318.940886 139.596623 \n",
       "L 319.550833 139.556814 \n",
       "L 320.160781 139.640727 \n",
       "L 320.770728 139.600996 \n",
       "L 321.380675 139.684417 \n",
       "L 321.990622 139.644772 \n",
       "L 322.600569 139.850093 \n",
       "L 324.430411 139.731096 \n",
       "L 325.040358 139.813061 \n",
       "L 325.650305 139.773667 \n",
       "L 326.260252 139.61375 \n",
       "L 326.870199 139.815847 \n",
       "L 327.480147 139.656563 \n",
       "L 328.700041 138.981349 \n",
       "L 329.309988 138.94438 \n",
       "L 329.919935 139.145703 \n",
       "L 330.529882 138.752149 \n",
       "L 331.13983 138.597427 \n",
       "L 331.749777 138.798171 \n",
       "L 332.359724 138.762031 \n",
       "L 333.579618 138.455302 \n",
       "L 334.189565 138.420164 \n",
       "L 334.799513 138.268243 \n",
       "L 335.40946 138.350365 \n",
       "L 336.019407 138.199273 \n",
       "L 337.239301 138.130914 \n",
       "L 337.849248 138.328262 \n",
       "L 338.459196 137.832353 \n",
       "L 339.069143 137.799194 \n",
       "L 339.67909 137.651295 \n",
       "L 341.508931 138.238754 \n",
       "L 342.118879 138.205078 \n",
       "L 342.728826 138.285205 \n",
       "L 343.338773 138.251577 \n",
       "L 345.778562 138.680676 \n",
       "L 346.388509 138.422167 \n",
       "L 346.998456 138.500635 \n",
       "L 347.608403 138.355333 \n",
       "L 348.21835 138.545084 \n",
       "L 350.048192 138.444896 \n",
       "L 353.097928 138.938402 \n",
       "L 353.707875 138.795213 \n",
       "L 354.927769 139.055295 \n",
       "L 355.537716 138.804047 \n",
       "L 357.977505 138.779714 \n",
       "L 359.197399 139.036141 \n",
       "L 362.857082 138.94438 \n",
       "L 363.46703 139.12338 \n",
       "L 365.296871 139.024734 \n",
       "L 365.906818 139.202146 \n",
       "L 365.906818 139.202146 \n",
       "\" clip-path=\"url(#p0fb797d5c7)\" style=\"fill: none; stroke: #ff7f0e; stroke-width: 1.5; stroke-linecap: square\"/>\n",
       "   </g>\n",
       "   <g id=\"line2d_18\">\n",
       "    <path d=\"M 61.543182 122.715 \n",
       "L 62.153129 122.715 \n",
       "L 62.763076 140.217271 \n",
       "L 63.373023 122.715 \n",
       "L 63.98297 133.216361 \n",
       "L 64.592918 131.466136 \n",
       "L 65.202865 137.716947 \n",
       "L 65.812812 142.405061 \n",
       "L 66.422759 140.217271 \n",
       "L 67.032706 133.216361 \n",
       "L 67.642653 132.261693 \n",
       "L 68.252601 127.090572 \n",
       "L 69.472495 133.96646 \n",
       "L 70.692389 132.560027 \n",
       "L 71.302336 128.892272 \n",
       "L 71.912284 131.466136 \n",
       "L 72.522231 122.715 \n",
       "L 73.742125 127.715649 \n",
       "L 74.352072 127.48835 \n",
       "L 74.962019 120.4321 \n",
       "L 75.571967 122.715 \n",
       "L 76.791861 122.715 \n",
       "L 77.401808 124.659702 \n",
       "L 78.011755 124.590247 \n",
       "L 78.621702 128.146743 \n",
       "L 79.841597 131.183841 \n",
       "L 82.281385 130.215973 \n",
       "L 82.891333 130.007617 \n",
       "L 83.50128 131.22962 \n",
       "L 84.111227 131.005553 \n",
       "L 85.331121 133.216361 \n",
       "L 85.941069 132.960231 \n",
       "L 86.551016 131.466136 \n",
       "L 87.160963 133.704798 \n",
       "L 87.77091 134.648372 \n",
       "L 88.380857 134.383181 \n",
       "L 88.990804 136.41243 \n",
       "L 89.600752 137.238165 \n",
       "L 90.210699 136.935598 \n",
       "L 90.820646 135.573817 \n",
       "L 91.430593 135.316638 \n",
       "L 92.04054 134.039999 \n",
       "L 93.260435 133.612645 \n",
       "L 93.870382 132.438487 \n",
       "L 94.480329 134.171038 \n",
       "L 95.090276 133.96646 \n",
       "L 95.700223 134.690239 \n",
       "L 96.31017 133.578477 \n",
       "L 97.530065 134.966595 \n",
       "L 98.140012 136.487284 \n",
       "L 98.749959 135.418266 \n",
       "L 99.969853 135.021285 \n",
       "L 100.579801 136.447553 \n",
       "L 101.189748 136.239486 \n",
       "L 101.799695 135.253944 \n",
       "L 103.019589 136.41243 \n",
       "L 103.629536 137.716947 \n",
       "L 104.239484 136.76612 \n",
       "L 104.849431 137.300226 \n",
       "L 105.459378 137.100429 \n",
       "L 106.069325 137.615585 \n",
       "L 106.679272 137.416907 \n",
       "L 107.289219 137.914342 \n",
       "L 107.899167 137.035043 \n",
       "L 109.119061 136.672512 \n",
       "L 109.729008 135.841707 \n",
       "L 110.338955 135.679646 \n",
       "L 110.948902 134.881218 \n",
       "L 111.55885 135.367245 \n",
       "L 112.168797 133.96646 \n",
       "L 112.778744 134.451822 \n",
       "L 113.998638 132.974956 \n",
       "L 114.608585 132.858361 \n",
       "L 116.438427 134.254959 \n",
       "L 117.048374 132.988077 \n",
       "L 117.658321 132.877608 \n",
       "L 118.268268 133.328082 \n",
       "L 118.878216 131.558257 \n",
       "L 120.09811 129.210691 \n",
       "L 120.708057 129.144405 \n",
       "L 121.318004 128.54909 \n",
       "L 121.927951 129.015823 \n",
       "L 122.537899 128.953433 \n",
       "L 123.147846 129.407045 \n",
       "L 124.36774 129.278354 \n",
       "L 124.977687 129.71591 \n",
       "L 125.587634 130.640557 \n",
       "L 126.197582 130.566486 \n",
       "L 127.417476 131.385852 \n",
       "L 128.63737 130.28355 \n",
       "L 129.247317 130.684787 \n",
       "L 129.857265 130.614261 \n",
       "L 130.467212 130.08438 \n",
       "L 131.077159 130.0203 \n",
       "L 131.687106 130.862614 \n",
       "L 132.907 131.614465 \n",
       "L 133.516948 131.539675 \n",
       "L 134.126895 132.341249 \n",
       "L 134.736842 131.827751 \n",
       "L 135.346789 132.183444 \n",
       "L 135.956736 132.106462 \n",
       "L 136.566683 131.607283 \n",
       "L 137.176631 131.9562 \n",
       "L 137.786578 131.466136 \n",
       "L 139.006472 132.149823 \n",
       "L 139.616419 132.890745 \n",
       "L 140.836314 133.537017 \n",
       "L 142.056208 133.374283 \n",
       "L 142.666155 132.902888 \n",
       "L 143.276102 133.605306 \n",
       "L 143.886049 133.139153 \n",
       "L 144.495997 133.829585 \n",
       "L 145.105944 133.368556 \n",
       "L 146.325838 133.96646 \n",
       "L 146.935785 133.886662 \n",
       "L 147.545732 134.547527 \n",
       "L 148.15568 134.831957 \n",
       "L 148.765627 135.477072 \n",
       "L 149.375574 135.026942 \n",
       "L 149.985521 134.223342 \n",
       "L 150.595468 134.145054 \n",
       "L 151.205415 134.777376 \n",
       "L 151.815363 134.344029 \n",
       "L 152.42531 134.616543 \n",
       "L 153.035257 134.537731 \n",
       "L 153.645204 134.114508 \n",
       "L 154.255151 134.039999 \n",
       "L 154.865098 134.307412 \n",
       "L 155.475046 134.910136 \n",
       "L 156.084993 134.495379 \n",
       "L 156.69494 134.75478 \n",
       "L 157.914834 135.924268 \n",
       "L 159.134729 135.760172 \n",
       "L 159.744676 135.355532 \n",
       "L 160.354623 135.600106 \n",
       "L 160.96457 135.521544 \n",
       "L 161.574517 135.762152 \n",
       "L 162.184464 135.683551 \n",
       "L 163.404359 134.904088 \n",
       "L 164.014306 135.142653 \n",
       "L 164.624253 135.069545 \n",
       "L 165.2342 134.690239 \n",
       "L 165.844147 134.925886 \n",
       "L 166.454095 135.462323 \n",
       "L 167.064042 134.785537 \n",
       "L 168.283936 134.648372 \n",
       "L 168.893883 133.987648 \n",
       "L 169.50383 133.924319 \n",
       "L 170.113778 134.155037 \n",
       "L 170.723725 133.216361 \n",
       "L 171.333672 133.158345 \n",
       "L 172.553566 133.61806 \n",
       "L 173.163513 133.5588 \n",
       "L 173.773461 134.06783 \n",
       "L 174.993355 133.946407 \n",
       "L 175.603302 133.328082 \n",
       "L 176.213249 132.994117 \n",
       "L 176.823196 133.492717 \n",
       "L 178.043091 133.927394 \n",
       "L 178.653038 134.413413 \n",
       "L 179.262985 134.623765 \n",
       "L 179.872932 134.56269 \n",
       "L 182.312721 135.379959 \n",
       "L 183.532615 135.253944 \n",
       "L 184.142562 135.4518 \n",
       "L 184.75251 134.871751 \n",
       "L 186.582351 135.459374 \n",
       "L 187.192298 135.397806 \n",
       "L 187.802245 135.841707 \n",
       "L 188.412193 135.778895 \n",
       "L 189.02214 135.966721 \n",
       "L 190.242034 136.832398 \n",
       "L 190.851981 136.76612 \n",
       "L 192.071876 137.123847 \n",
       "L 192.681823 137.057138 \n",
       "L 193.29177 136.749079 \n",
       "L 193.901717 136.684702 \n",
       "L 194.511664 136.860675 \n",
       "L 195.121611 136.796376 \n",
       "L 196.951453 137.313308 \n",
       "L 197.5614 136.779327 \n",
       "L 198.171347 137.183545 \n",
       "L 198.781294 137.351858 \n",
       "L 200.001189 137.223464 \n",
       "L 201.221083 137.553884 \n",
       "L 202.440977 136.973319 \n",
       "L 203.050925 137.137477 \n",
       "L 203.660872 136.85145 \n",
       "L 204.880766 136.731655 \n",
       "L 206.10066 137.055096 \n",
       "L 206.710608 136.775407 \n",
       "L 207.320555 136.279264 \n",
       "L 210.370291 136.002438 \n",
       "L 210.980238 136.375313 \n",
       "L 211.590185 136.10743 \n",
       "L 212.200132 136.47687 \n",
       "L 212.810079 136.4216 \n",
       "L 213.420026 136.156746 \n",
       "L 214.029974 136.521577 \n",
       "L 214.639921 136.466785 \n",
       "L 215.249868 136.204896 \n",
       "L 215.859815 135.738343 \n",
       "L 216.469762 135.893182 \n",
       "L 217.079709 135.841707 \n",
       "L 217.689657 135.58632 \n",
       "L 218.299604 135.739947 \n",
       "L 218.909551 135.48693 \n",
       "L 219.519498 135.033906 \n",
       "L 220.129445 135.187884 \n",
       "L 221.959287 134.449483 \n",
       "L 223.179181 135.150829 \n",
       "L 224.399075 135.449867 \n",
       "L 225.009023 135.012139 \n",
       "L 225.61897 135.355532 \n",
       "L 226.838864 134.876508 \n",
       "L 227.448811 135.02429 \n",
       "L 228.058758 134.979371 \n",
       "L 229.278653 134.51001 \n",
       "L 229.8886 134.846541 \n",
       "L 230.498547 134.802898 \n",
       "L 231.108494 135.135971 \n",
       "L 232.938336 135.00383 \n",
       "L 233.548283 135.145947 \n",
       "L 234.768177 135.795647 \n",
       "L 235.378124 135.9335 \n",
       "L 236.598019 135.112444 \n",
       "L 237.207966 135.432913 \n",
       "L 237.817913 135.208 \n",
       "L 238.42786 135.345509 \n",
       "L 239.037807 135.30225 \n",
       "L 240.257702 135.573817 \n",
       "L 240.867649 135.352238 \n",
       "L 241.477596 134.954765 \n",
       "L 242.087543 135.267135 \n",
       "L 242.69749 135.401209 \n",
       "L 243.307438 135.183174 \n",
       "L 244.527332 135.100332 \n",
       "L 245.137279 135.407046 \n",
       "L 245.747226 135.538452 \n",
       "L 246.357173 135.496265 \n",
       "L 247.577068 135.755908 \n",
       "L 248.187015 136.055494 \n",
       "L 248.796962 135.671228 \n",
       "L 249.406909 135.969147 \n",
       "L 250.016856 135.926396 \n",
       "L 250.626804 136.221577 \n",
       "L 251.236751 136.178286 \n",
       "L 252.456645 136.426976 \n",
       "L 253.066592 136.216757 \n",
       "L 254.286487 136.462841 \n",
       "L 254.896434 136.419613 \n",
       "L 255.506381 136.541247 \n",
       "L 256.116328 136.333955 \n",
       "L 256.726275 136.455103 \n",
       "L 257.336222 136.738564 \n",
       "L 258.556117 136.976112 \n",
       "L 259.166064 136.447553 \n",
       "L 259.776011 136.727555 \n",
       "L 260.385958 136.845277 \n",
       "L 260.995905 136.802197 \n",
       "L 261.605853 137.078569 \n",
       "L 262.2158 137.035043 \n",
       "L 262.825747 137.309044 \n",
       "L 263.435694 137.26508 \n",
       "L 264.045641 137.063711 \n",
       "L 264.655588 137.177959 \n",
       "L 265.265536 137.448259 \n",
       "L 265.875483 137.404412 \n",
       "L 268.315271 137.849323 \n",
       "L 270.145113 137.716947 \n",
       "L 271.365007 137.934372 \n",
       "L 271.974954 138.19389 \n",
       "L 272.584902 138.149285 \n",
       "L 273.194849 138.25581 \n",
       "L 273.804796 138.512183 \n",
       "L 274.414743 138.317026 \n",
       "L 275.02469 138.571764 \n",
       "L 275.634637 138.526713 \n",
       "L 276.244585 138.630664 \n",
       "L 277.464479 138.540999 \n",
       "L 278.074426 138.34905 \n",
       "L 280.514215 138.175339 \n",
       "L 281.124162 138.423411 \n",
       "L 281.734109 138.380018 \n",
       "L 282.344056 138.192216 \n",
       "L 282.954003 138.293945 \n",
       "L 283.563951 138.538973 \n",
       "L 284.783845 138.738879 \n",
       "L 285.393792 138.695338 \n",
       "L 286.613686 138.89278 \n",
       "L 287.223634 138.849168 \n",
       "L 288.443528 138.481121 \n",
       "L 289.053475 138.579361 \n",
       "L 290.273369 139.053558 \n",
       "L 291.493264 138.967109 \n",
       "L 292.103211 139.062767 \n",
       "L 293.323105 138.976952 \n",
       "L 293.933052 138.65948 \n",
       "L 294.543 138.480754 \n",
       "L 295.152947 138.576435 \n",
       "L 296.372841 138.49425 \n",
       "L 296.982788 138.317801 \n",
       "L 298.81263 138.601683 \n",
       "L 299.422577 138.426759 \n",
       "L 300.032524 138.654574 \n",
       "L 300.642471 138.747619 \n",
       "L 301.252418 138.706926 \n",
       "L 301.862366 138.9323 \n",
       "L 303.08226 138.586082 \n",
       "L 303.692207 138.546203 \n",
       "L 304.302154 138.374932 \n",
       "L 304.912101 138.33578 \n",
       "L 305.522049 138.427769 \n",
       "L 306.741943 138.870943 \n",
       "L 307.35189 138.830954 \n",
       "L 307.961837 138.920806 \n",
       "L 308.571784 138.880895 \n",
       "L 309.181732 138.970184 \n",
       "L 309.791679 138.801652 \n",
       "L 310.401626 138.890699 \n",
       "L 311.011573 138.851242 \n",
       "L 312.231467 139.027801 \n",
       "L 312.841415 139.242573 \n",
       "L 313.451362 139.075818 \n",
       "L 314.671256 138.997162 \n",
       "L 315.281203 138.832206 \n",
       "L 315.89115 138.79364 \n",
       "L 317.111045 138.967109 \n",
       "L 317.720992 139.177946 \n",
       "L 318.940886 139.348363 \n",
       "L 321.990622 139.154051 \n",
       "L 322.600569 139.360522 \n",
       "L 323.210516 139.321808 \n",
       "L 323.820464 139.039623 \n",
       "L 324.430411 139.244928 \n",
       "L 325.040358 139.206746 \n",
       "L 325.650305 139.289737 \n",
       "L 326.260252 139.130923 \n",
       "L 326.870199 138.852415 \n",
       "L 328.700041 139.100956 \n",
       "L 329.919935 139.026643 \n",
       "L 330.529882 139.10853 \n",
       "L 331.13983 139.308577 \n",
       "L 331.749777 139.271202 \n",
       "L 332.359724 139.11601 \n",
       "L 332.969671 139.079237 \n",
       "L 334.189565 139.240586 \n",
       "L 334.799513 139.086834 \n",
       "L 336.019407 139.014234 \n",
       "L 336.629354 139.094337 \n",
       "L 337.849248 139.369144 \n",
       "L 339.069143 139.641541 \n",
       "L 339.67909 139.719399 \n",
       "L 340.289037 139.567626 \n",
       "L 342.118879 139.457956 \n",
       "L 343.94872 139.915511 \n",
       "L 344.558667 139.991436 \n",
       "L 345.168615 139.84169 \n",
       "L 346.388509 140.105081 \n",
       "L 346.998456 139.956047 \n",
       "L 347.608403 140.142794 \n",
       "L 348.21835 139.994315 \n",
       "L 350.048192 140.106497 \n",
       "L 353.707875 139.889104 \n",
       "L 354.317822 140.071727 \n",
       "L 356.757611 140.036839 \n",
       "L 359.197399 140.32465 \n",
       "L 359.807347 140.181554 \n",
       "L 361.027241 140.217271 \n",
       "L 361.637188 140.075271 \n",
       "L 362.857082 140.1112 \n",
       "L 364.686924 140.111841 \n",
       "L 365.906818 140.357292 \n",
       "L 365.906818 140.357292 \n",
       "\" clip-path=\"url(#p0fb797d5c7)\" style=\"fill: none; stroke: #2ca02c; stroke-width: 1.5; stroke-linecap: square\"/>\n",
       "   </g>\n",
       "   <g id=\"line2d_19\">\n",
       "    <path d=\"M 61.543182 175.221818 \n",
       "L 62.763076 122.715 \n",
       "L 63.373023 135.841707 \n",
       "L 63.98297 143.71773 \n",
       "L 64.592918 157.719543 \n",
       "L 65.202865 160.219867 \n",
       "L 65.812812 162.095115 \n",
       "L 66.422759 157.719543 \n",
       "L 67.032706 143.71773 \n",
       "L 68.252601 148.968407 \n",
       "L 69.472495 152.718894 \n",
       "L 70.692389 162.095115 \n",
       "L 71.302336 159.778634 \n",
       "L 72.522231 166.931269 \n",
       "L 73.132178 162.095115 \n",
       "L 73.742125 160.219867 \n",
       "L 74.352072 160.901779 \n",
       "L 74.962019 163.807295 \n",
       "L 76.181914 160.519907 \n",
       "L 76.791861 163.104861 \n",
       "L 77.401808 163.553637 \n",
       "L 78.011755 162.095115 \n",
       "L 78.621702 158.926602 \n",
       "L 79.23165 157.719543 \n",
       "L 79.841597 158.28414 \n",
       "L 81.061491 156.128429 \n",
       "L 82.281385 157.21948 \n",
       "L 82.891333 154.802498 \n",
       "L 84.721174 156.373214 \n",
       "L 85.941069 154.731353 \n",
       "L 86.551016 156.469381 \n",
       "L 87.160963 155.684402 \n",
       "L 87.77091 156.128429 \n",
       "L 88.380857 155.385911 \n",
       "L 88.990804 151.251315 \n",
       "L 90.210699 150.062306 \n",
       "L 91.430593 151.068684 \n",
       "L 92.04054 152.571816 \n",
       "L 92.650487 149.978157 \n",
       "L 93.260435 149.46376 \n",
       "L 93.870382 149.940758 \n",
       "L 94.480329 148.491073 \n",
       "L 95.090276 149.906035 \n",
       "L 96.920118 145.853599 \n",
       "L 97.530065 147.218182 \n",
       "L 98.749959 146.427757 \n",
       "L 99.969853 147.327571 \n",
       "L 101.189748 146.581736 \n",
       "L 102.409642 148.968407 \n",
       "L 103.019589 148.587928 \n",
       "L 103.629536 146.718118 \n",
       "L 104.239484 147.119582 \n",
       "L 104.849431 146.780625 \n",
       "L 105.459378 147.889499 \n",
       "L 106.069325 146.839752 \n",
       "L 107.289219 148.968407 \n",
       "L 107.899167 145.899832 \n",
       "L 108.509114 144.929421 \n",
       "L 109.119061 145.312874 \n",
       "L 109.729008 145.0304 \n",
       "L 110.338955 144.106668 \n",
       "L 111.55885 143.591206 \n",
       "L 112.168797 144.592843 \n",
       "L 112.778744 144.953183 \n",
       "L 113.388691 144.694596 \n",
       "L 113.998638 145.045484 \n",
       "L 114.608585 144.791732 \n",
       "L 115.218533 145.133639 \n",
       "L 115.82848 144.88455 \n",
       "L 117.048374 145.544053 \n",
       "L 117.658321 145.298579 \n",
       "L 118.268268 145.616912 \n",
       "L 118.878216 146.481243 \n",
       "L 119.488163 146.780625 \n",
       "L 120.09811 144.908601 \n",
       "L 120.708057 144.68214 \n",
       "L 121.318004 145.520996 \n",
       "L 121.927951 144.2428 \n",
       "L 122.537899 144.549521 \n",
       "L 123.147846 143.82068 \n",
       "L 124.36774 145.434297 \n",
       "L 125.587634 145.996327 \n",
       "L 126.197582 145.778746 \n",
       "L 126.807529 146.537537 \n",
       "L 128.027423 146.104402 \n",
       "L 128.63737 146.366721 \n",
       "L 129.247317 146.155548 \n",
       "L 129.857265 146.877433 \n",
       "L 130.467212 147.126068 \n",
       "L 131.077159 146.913792 \n",
       "L 131.687106 145.799895 \n",
       "L 132.297053 146.051362 \n",
       "L 132.907 145.853599 \n",
       "L 133.516948 146.100388 \n",
       "L 134.126895 146.780625 \n",
       "L 134.736842 144.845977 \n",
       "L 136.566683 145.580874 \n",
       "L 137.176631 146.238053 \n",
       "L 138.396525 146.694489 \n",
       "L 139.006472 146.096945 \n",
       "L 139.616419 144.694596 \n",
       "L 140.226366 144.121627 \n",
       "L 142.056208 144.823139 \n",
       "L 142.666155 143.874463 \n",
       "L 143.276102 143.71773 \n",
       "L 143.886049 143.177216 \n",
       "L 144.495997 143.027862 \n",
       "L 146.325838 143.71773 \n",
       "L 146.935785 144.313553 \n",
       "L 147.545732 143.421916 \n",
       "L 148.15568 143.277115 \n",
       "L 148.765627 143.498952 \n",
       "L 149.375574 144.079847 \n",
       "L 150.595468 143.789165 \n",
       "L 151.815363 142.801502 \n",
       "L 152.42531 141.967505 \n",
       "L 153.645204 142.405061 \n",
       "L 154.255151 142.276362 \n",
       "L 154.865098 142.831249 \n",
       "L 155.475046 142.70147 \n",
       "L 156.084993 143.246515 \n",
       "L 156.69494 143.450177 \n",
       "L 157.304887 142.986621 \n",
       "L 157.914834 142.859127 \n",
       "L 158.524781 143.389563 \n",
       "L 159.134729 143.261146 \n",
       "L 159.744676 143.782553 \n",
       "L 160.354623 143.331172 \n",
       "L 160.96457 143.205469 \n",
       "L 162.184464 143.591206 \n",
       "L 162.794412 143.4662 \n",
       "L 163.404359 143.655223 \n",
       "L 164.014306 143.531313 \n",
       "L 164.624253 143.71773 \n",
       "L 165.2342 144.209023 \n",
       "L 165.844147 143.778782 \n",
       "L 167.064042 144.140194 \n",
       "L 167.673989 143.71773 \n",
       "L 168.283936 143.598397 \n",
       "L 168.893883 143.777061 \n",
       "L 169.50383 143.363751 \n",
       "L 170.113778 143.248392 \n",
       "L 170.723725 142.550911 \n",
       "L 171.943619 142.909929 \n",
       "L 172.553566 142.799577 \n",
       "L 173.773461 143.15009 \n",
       "L 174.383408 143.040224 \n",
       "L 174.993355 143.212315 \n",
       "L 175.603302 143.661874 \n",
       "L 176.213249 143.828856 \n",
       "L 176.823196 143.71773 \n",
       "L 177.433144 142.783053 \n",
       "L 178.653038 141.486869 \n",
       "L 179.262985 141.66076 \n",
       "L 181.702774 141.278019 \n",
       "L 182.312721 141.448593 \n",
       "L 182.922668 141.354923 \n",
       "L 183.532615 141.784639 \n",
       "L 184.142562 140.910434 \n",
       "L 185.362457 141.246817 \n",
       "L 185.972404 141.668686 \n",
       "L 186.582351 141.831561 \n",
       "L 187.192298 141.739212 \n",
       "L 187.802245 141.395311 \n",
       "L 188.412193 141.557161 \n",
       "L 189.02214 141.467434 \n",
       "L 189.632087 141.627414 \n",
       "L 190.242034 142.033548 \n",
       "L 190.851981 141.942851 \n",
       "L 191.461928 142.34372 \n",
       "L 192.071876 142.25242 \n",
       "L 192.681823 141.675798 \n",
       "L 193.29177 141.346449 \n",
       "L 194.511664 140.217271 \n",
       "L 195.121611 140.137716 \n",
       "L 195.731559 139.583705 \n",
       "L 196.341506 139.271202 \n",
       "L 196.951453 139.432418 \n",
       "L 197.5614 139.357791 \n",
       "L 198.171347 138.817089 \n",
       "L 198.781294 138.745843 \n",
       "L 200.001189 139.065811 \n",
       "L 200.611136 138.535836 \n",
       "L 201.221083 138.923631 \n",
       "L 201.83103 138.853464 \n",
       "L 203.050925 139.616339 \n",
       "L 204.270819 139.91936 \n",
       "L 204.880766 140.291436 \n",
       "L 205.490713 140.217271 \n",
       "L 206.10066 139.702499 \n",
       "L 206.710608 140.070812 \n",
       "L 207.320555 139.998493 \n",
       "L 208.540449 140.289598 \n",
       "L 209.150396 140.217271 \n",
       "L 209.760343 140.360735 \n",
       "L 210.980238 140.217271 \n",
       "L 212.200132 139.229241 \n",
       "L 212.810079 139.58466 \n",
       "L 213.420026 139.307153 \n",
       "L 214.029974 139.241055 \n",
       "L 214.639921 138.967109 \n",
       "L 216.469762 139.393641 \n",
       "L 217.079709 139.12338 \n",
       "L 217.689657 139.263839 \n",
       "L 218.299604 139.606731 \n",
       "L 218.909551 139.74424 \n",
       "L 219.519498 140.082642 \n",
       "L 220.739392 139.950062 \n",
       "L 221.34934 140.084175 \n",
       "L 221.959287 140.416161 \n",
       "L 222.569234 140.547504 \n",
       "L 223.179181 140.085677 \n",
       "L 223.789128 139.823968 \n",
       "L 224.399075 139.760123 \n",
       "L 225.009023 140.087148 \n",
       "L 225.61897 140.217271 \n",
       "L 226.838864 140.08858 \n",
       "L 227.448811 139.640273 \n",
       "L 228.058758 139.770138 \n",
       "L 229.278653 140.407515 \n",
       "L 230.498547 140.657981 \n",
       "L 231.108494 140.970062 \n",
       "L 231.718441 140.904863 \n",
       "L 232.328389 141.213846 \n",
       "L 233.548283 141.454187 \n",
       "L 234.15823 140.833554 \n",
       "L 234.768177 140.769975 \n",
       "L 235.378124 140.523257 \n",
       "L 235.988072 140.827107 \n",
       "L 237.207966 141.065133 \n",
       "L 237.817913 140.639743 \n",
       "L 238.42786 140.758584 \n",
       "L 239.037807 140.696789 \n",
       "L 239.647755 140.097805 \n",
       "L 241.477596 139.921629 \n",
       "L 242.087543 139.686905 \n",
       "L 242.69749 139.806145 \n",
       "L 243.307438 140.100199 \n",
       "L 245.747226 139.870694 \n",
       "L 246.357173 139.641541 \n",
       "L 246.967121 139.758199 \n",
       "L 247.577068 139.702499 \n",
       "L 248.187015 139.476139 \n",
       "L 249.406909 139.707498 \n",
       "L 250.016856 139.652683 \n",
       "L 250.626804 139.767056 \n",
       "L 251.236751 140.048982 \n",
       "L 251.846698 140.161352 \n",
       "L 252.456645 140.105793 \n",
       "L 253.066592 140.383964 \n",
       "L 253.676539 139.995723 \n",
       "L 254.286487 140.272486 \n",
       "L 254.896434 140.052159 \n",
       "L 255.506381 140.162409 \n",
       "L 257.94617 139.946338 \n",
       "L 258.556117 140.217271 \n",
       "L 259.166064 140.324978 \n",
       "L 259.776011 139.948834 \n",
       "L 260.385958 139.735563 \n",
       "L 261.605853 139.632089 \n",
       "L 262.2158 139.739937 \n",
       "L 263.435694 140.26999 \n",
       "L 265.875483 140.061 \n",
       "L 267.095377 140.269059 \n",
       "L 267.705324 140.062385 \n",
       "L 268.315271 140.011364 \n",
       "L 268.925219 139.652683 \n",
       "L 269.535166 139.756689 \n",
       "L 270.145113 139.707005 \n",
       "L 270.75506 139.962878 \n",
       "L 271.974954 139.863183 \n",
       "L 273.194849 140.066391 \n",
       "L 273.804796 139.866226 \n",
       "L 275.02469 139.768495 \n",
       "L 275.634637 139.869215 \n",
       "L 276.244585 140.118108 \n",
       "L 277.464479 140.315879 \n",
       "L 278.074426 140.561423 \n",
       "L 279.904268 140.412288 \n",
       "L 280.514215 140.071422 \n",
       "L 281.124162 140.314236 \n",
       "L 281.734109 140.120573 \n",
       "L 282.344056 140.217271 \n",
       "L 283.563951 140.121371 \n",
       "L 284.173898 140.360735 \n",
       "L 284.783845 140.169583 \n",
       "L 285.393792 140.122154 \n",
       "L 286.003739 140.217271 \n",
       "L 287.833581 140.076124 \n",
       "L 288.443528 140.17035 \n",
       "L 289.053475 140.404464 \n",
       "L 290.273369 140.589661 \n",
       "L 290.883317 140.820801 \n",
       "L 291.493264 140.911811 \n",
       "L 292.103211 141.140878 \n",
       "L 292.713158 141.092384 \n",
       "L 294.543 141.359719 \n",
       "L 295.762894 141.262864 \n",
       "L 296.372841 141.350839 \n",
       "L 297.592735 141.254782 \n",
       "L 298.202683 141.342099 \n",
       "L 298.81263 141.294341 \n",
       "L 299.422577 141.38111 \n",
       "L 300.032524 141.333492 \n",
       "L 300.642471 141.419722 \n",
       "L 301.252418 141.105717 \n",
       "L 301.862366 141.059155 \n",
       "L 302.472313 141.278019 \n",
       "L 303.08226 141.099003 \n",
       "L 304.302154 141.006851 \n",
       "L 304.912101 141.223657 \n",
       "L 305.522049 141.046558 \n",
       "L 306.131996 140.739727 \n",
       "L 306.741943 140.825292 \n",
       "L 307.961837 140.476571 \n",
       "L 308.571784 140.562143 \n",
       "L 309.181732 140.518297 \n",
       "L 310.401626 140.687994 \n",
       "L 311.011573 140.51609 \n",
       "L 312.841415 140.386789 \n",
       "L 313.451362 140.47093 \n",
       "L 314.061309 140.301623 \n",
       "L 314.671256 140.511787 \n",
       "L 315.281203 140.59502 \n",
       "L 315.89115 140.552246 \n",
       "L 316.501098 140.634986 \n",
       "L 317.720992 141.048733 \n",
       "L 318.330939 140.880867 \n",
       "L 318.940886 140.83792 \n",
       "L 319.550833 140.671345 \n",
       "L 320.160781 140.87618 \n",
       "L 321.990622 140.748882 \n",
       "L 322.600569 140.462065 \n",
       "L 323.210516 140.298681 \n",
       "L 323.820464 140.379708 \n",
       "L 324.430411 140.338819 \n",
       "L 325.040358 140.540643 \n",
       "L 325.650305 140.499566 \n",
       "L 327.480147 140.737936 \n",
       "L 328.090094 140.936543 \n",
       "L 328.700041 141.014644 \n",
       "L 329.309988 140.853717 \n",
       "L 330.529882 141.009229 \n",
       "L 331.13983 140.849414 \n",
       "L 331.749777 140.808564 \n",
       "L 332.359724 140.649914 \n",
       "L 332.969671 140.845157 \n",
       "L 333.579618 140.804597 \n",
       "L 334.189565 140.647019 \n",
       "L 334.799513 140.724024 \n",
       "L 335.40946 140.567323 \n",
       "L 336.019407 140.760579 \n",
       "L 337.849248 140.294378 \n",
       "L 338.459196 140.486539 \n",
       "L 339.069143 140.447567 \n",
       "L 339.67909 140.29387 \n",
       "L 340.289037 140.484778 \n",
       "L 340.898984 140.446065 \n",
       "L 341.508931 140.293369 \n",
       "L 343.338773 140.746503 \n",
       "L 344.558667 140.556025 \n",
       "L 345.778562 140.367189 \n",
       "L 346.388509 140.44166 \n",
       "L 347.608403 140.031081 \n",
       "L 348.21835 139.882837 \n",
       "L 349.438245 140.143271 \n",
       "L 350.048192 139.995723 \n",
       "L 350.658139 140.069888 \n",
       "L 353.707875 139.342159 \n",
       "L 355.537716 139.238888 \n",
       "L 356.147664 139.421714 \n",
       "L 356.757611 139.387273 \n",
       "L 357.367558 139.569043 \n",
       "L 357.977505 139.534437 \n",
       "L 359.197399 139.143512 \n",
       "L 359.807347 139.217145 \n",
       "L 360.417294 139.0766 \n",
       "L 361.027241 139.150061 \n",
       "L 361.637188 139.01022 \n",
       "L 362.857082 139.05046 \n",
       "L 365.906818 138.8871 \n",
       "L 365.906818 138.8871 \n",
       "\" clip-path=\"url(#p0fb797d5c7)\" style=\"fill: none; stroke: #d62728; stroke-width: 1.5; stroke-linecap: square\"/>\n",
       "   </g>\n",
       "   <g id=\"line2d_20\">\n",
       "    <path d=\"M 61.543182 122.715 \n",
       "L 62.153129 175.221818 \n",
       "L 62.763076 140.217271 \n",
       "L 63.373023 162.095115 \n",
       "L 63.98297 164.720457 \n",
       "L 64.592918 148.968407 \n",
       "L 65.202865 115.214027 \n",
       "L 65.812812 122.715 \n",
       "L 66.422759 116.88091 \n",
       "L 67.032706 117.464323 \n",
       "L 67.642653 113.168307 \n",
       "L 68.252601 118.339436 \n",
       "L 68.862548 114.637029 \n",
       "L 70.082442 115.71409 \n",
       "L 70.692389 112.869973 \n",
       "L 71.302336 113.449092 \n",
       "L 71.912284 105.212729 \n",
       "L 72.522231 108.897414 \n",
       "L 73.132178 106.962954 \n",
       "L 73.742125 102.712404 \n",
       "L 74.352072 101.234943 \n",
       "L 75.571967 103.024947 \n",
       "L 76.791861 108.57855 \n",
       "L 77.401808 111.046819 \n",
       "L 78.011755 111.46354 \n",
       "L 78.621702 110.040942 \n",
       "L 79.23165 110.463413 \n",
       "L 79.841597 112.552392 \n",
       "L 80.451544 112.869973 \n",
       "L 81.061491 116.350536 \n",
       "L 81.671438 116.537728 \n",
       "L 82.281385 118.214414 \n",
       "L 82.891333 121.256481 \n",
       "L 83.50128 118.45769 \n",
       "L 84.111227 121.333244 \n",
       "L 85.331121 121.402331 \n",
       "L 85.941069 123.995653 \n",
       "L 86.551016 123.965162 \n",
       "L 87.160963 125.157176 \n",
       "L 87.77091 122.715 \n",
       "L 88.380857 125.048639 \n",
       "L 88.990804 124.997908 \n",
       "L 89.600752 127.183663 \n",
       "L 90.210699 127.090572 \n",
       "L 90.820646 124.858138 \n",
       "L 91.430593 124.815277 \n",
       "L 92.04054 125.803636 \n",
       "L 92.650487 125.744243 \n",
       "L 93.260435 124.696389 \n",
       "L 93.870382 124.659702 \n",
       "L 94.480329 126.533682 \n",
       "L 95.090276 125.527867 \n",
       "L 95.700223 125.47852 \n",
       "L 96.31017 127.241452 \n",
       "L 97.530065 127.090572 \n",
       "L 98.140012 128.740375 \n",
       "L 98.749959 129.490075 \n",
       "L 99.359906 127.715649 \n",
       "L 99.969853 127.637517 \n",
       "L 100.579801 128.369582 \n",
       "L 101.189748 129.875022 \n",
       "L 101.799695 130.55184 \n",
       "L 103.019589 130.324682 \n",
       "L 103.629536 129.465875 \n",
       "L 104.239484 130.110324 \n",
       "L 104.849431 131.466136 \n",
       "L 106.679272 131.116092 \n",
       "L 107.289219 130.314675 \n",
       "L 107.899167 131.579789 \n",
       "L 108.509114 132.1393 \n",
       "L 109.119061 130.690718 \n",
       "L 110.338955 131.79025 \n",
       "L 110.948902 132.960231 \n",
       "L 112.168797 130.215973 \n",
       "L 112.778744 129.510003 \n",
       "L 113.998638 129.353794 \n",
       "L 115.82848 130.88273 \n",
       "L 116.438427 129.638976 \n",
       "L 117.048374 130.705169 \n",
       "L 118.878216 130.452849 \n",
       "L 120.09811 132.458532 \n",
       "L 120.708057 132.894891 \n",
       "L 121.318004 132.792067 \n",
       "L 122.537899 134.672001 \n",
       "L 123.147846 134.554772 \n",
       "L 123.757793 133.930047 \n",
       "L 124.36774 133.822215 \n",
       "L 124.977687 132.716298 \n",
       "L 125.587634 133.117292 \n",
       "L 126.197582 134.001512 \n",
       "L 126.807529 133.410838 \n",
       "L 128.027423 133.216361 \n",
       "L 128.63737 133.594791 \n",
       "L 129.247317 133.02884 \n",
       "L 129.857265 132.008246 \n",
       "L 130.467212 131.926726 \n",
       "L 131.687106 133.578477 \n",
       "L 132.297053 133.934405 \n",
       "L 132.907 133.394352 \n",
       "L 133.516948 133.745843 \n",
       "L 134.126895 133.216361 \n",
       "L 134.736842 133.563518 \n",
       "L 135.346789 133.044215 \n",
       "L 135.956736 133.387123 \n",
       "L 137.786578 133.133019 \n",
       "L 138.396525 132.637548 \n",
       "L 139.616419 132.48371 \n",
       "L 140.226366 132.812464 \n",
       "L 140.836314 133.537017 \n",
       "L 141.446261 132.659471 \n",
       "L 142.056208 132.189914 \n",
       "L 143.886049 133.139153 \n",
       "L 144.495997 132.679798 \n",
       "L 145.105944 132.60759 \n",
       "L 146.325838 133.216361 \n",
       "L 146.935785 132.769502 \n",
       "L 147.545732 132.698694 \n",
       "L 148.15568 132.996057 \n",
       "L 149.375574 132.854253 \n",
       "L 149.985521 133.144434 \n",
       "L 150.595468 133.073493 \n",
       "L 151.205415 132.648721 \n",
       "L 154.255151 132.32409 \n",
       "L 154.865098 132.602653 \n",
       "L 155.475046 132.538855 \n",
       "L 156.084993 132.812464 \n",
       "L 156.69494 132.079273 \n",
       "L 157.304887 132.352327 \n",
       "L 157.914834 131.961489 \n",
       "L 158.524781 132.560027 \n",
       "L 159.134729 132.498881 \n",
       "L 159.744676 132.762601 \n",
       "L 160.354623 132.700963 \n",
       "L 160.96457 133.280394 \n",
       "L 161.574517 132.898138 \n",
       "L 162.184464 132.836797 \n",
       "L 162.794412 133.090604 \n",
       "L 163.404359 133.653926 \n",
       "L 164.014306 133.589197 \n",
       "L 164.624253 134.142957 \n",
       "L 165.2342 133.769065 \n",
       "L 165.844147 133.704798 \n",
       "L 166.454095 133.034263 \n",
       "L 167.064042 132.673195 \n",
       "L 168.283936 133.156695 \n",
       "L 168.893883 132.801057 \n",
       "L 170.113778 132.688366 \n",
       "L 170.723725 133.216361 \n",
       "L 171.333672 133.158345 \n",
       "L 171.943619 133.389462 \n",
       "L 172.553566 133.331133 \n",
       "L 173.163513 132.988077 \n",
       "L 173.773461 132.932541 \n",
       "L 174.383408 132.595314 \n",
       "L 174.993355 132.542477 \n",
       "L 175.603302 132.769502 \n",
       "L 176.213249 132.716298 \n",
       "L 176.823196 132.387309 \n",
       "L 178.043091 132.286558 \n",
       "L 178.653038 132.509021 \n",
       "L 179.262985 132.458532 \n",
       "L 179.872932 131.870033 \n",
       "L 183.532615 131.596752 \n",
       "L 184.75251 132.026554 \n",
       "L 185.362457 131.723526 \n",
       "L 185.972404 131.935708 \n",
       "L 186.582351 131.63606 \n",
       "L 187.192298 131.592965 \n",
       "L 187.802245 131.297847 \n",
       "L 188.412193 131.759235 \n",
       "L 189.02214 131.966199 \n",
       "L 189.632087 131.92236 \n",
       "L 190.242034 132.126601 \n",
       "L 190.851981 132.082419 \n",
       "L 191.461928 131.793286 \n",
       "L 192.681823 131.709223 \n",
       "L 193.29177 132.151709 \n",
       "L 195.731559 131.980908 \n",
       "L 196.341506 131.702651 \n",
       "L 197.5614 132.560027 \n",
       "L 198.171347 132.516274 \n",
       "L 198.781294 132.240575 \n",
       "L 199.391242 132.429919 \n",
       "L 200.001189 132.387309 \n",
       "L 200.611136 132.57436 \n",
       "L 201.221083 132.531492 \n",
       "L 201.83103 132.716298 \n",
       "L 202.440977 131.994225 \n",
       "L 203.050925 132.179751 \n",
       "L 203.660872 131.914912 \n",
       "L 204.270819 132.322635 \n",
       "L 204.880766 132.504405 \n",
       "L 206.10066 132.422142 \n",
       "L 206.710608 131.722446 \n",
       "L 207.320555 132.12247 \n",
       "L 208.540449 132.478664 \n",
       "L 209.150396 132.222408 \n",
       "L 209.760343 132.613825 \n",
       "L 210.370291 132.78774 \n",
       "L 210.980238 132.746789 \n",
       "L 211.590185 133.131337 \n",
       "L 212.200132 132.877608 \n",
       "L 213.420026 132.796307 \n",
       "L 214.029974 132.546953 \n",
       "L 214.639921 132.507941 \n",
       "L 215.859815 132.844269 \n",
       "L 216.469762 132.392731 \n",
       "L 217.079709 132.560027 \n",
       "L 217.689657 132.930335 \n",
       "L 218.299604 132.890745 \n",
       "L 218.909551 132.445998 \n",
       "L 220.129445 133.17613 \n",
       "L 221.34934 133.49587 \n",
       "L 221.959287 133.455036 \n",
       "L 222.569234 133.216361 \n",
       "L 223.179181 133.57167 \n",
       "L 225.009023 134.036173 \n",
       "L 226.228917 133.952619 \n",
       "L 226.838864 133.718271 \n",
       "L 227.448811 134.062627 \n",
       "L 228.058758 133.829585 \n",
       "L 228.668706 133.980098 \n",
       "L 229.8886 133.898766 \n",
       "L 231.108494 133.442205 \n",
       "L 231.718441 133.591411 \n",
       "L 232.328389 133.926424 \n",
       "L 232.938336 133.514273 \n",
       "L 234.15823 134.177759 \n",
       "L 235.378124 133.730414 \n",
       "L 235.988072 133.874988 \n",
       "L 236.598019 133.836235 \n",
       "L 237.207966 133.616072 \n",
       "L 237.817913 133.940594 \n",
       "L 238.42786 133.541149 \n",
       "L 239.037807 133.683892 \n",
       "L 239.647755 134.004861 \n",
       "L 240.257702 134.145054 \n",
       "L 241.477596 134.06783 \n",
       "L 242.087543 134.206395 \n",
       "L 242.69749 134.16783 \n",
       "L 243.307438 134.305135 \n",
       "L 245.137279 134.190003 \n",
       "L 245.747226 134.325423 \n",
       "L 246.357173 134.632669 \n",
       "L 246.967121 134.765749 \n",
       "L 247.577068 135.069545 \n",
       "L 248.796962 135.330276 \n",
       "L 250.626804 135.208587 \n",
       "L 251.236751 134.495379 \n",
       "L 251.846698 134.625494 \n",
       "L 253.066592 134.549874 \n",
       "L 253.676539 134.844742 \n",
       "L 254.896434 135.098682 \n",
       "L 255.506381 134.89527 \n",
       "L 256.116328 134.857206 \n",
       "L 256.726275 134.982947 \n",
       "L 257.336222 134.781789 \n",
       "L 257.94617 134.744429 \n",
       "L 258.556117 134.545242 \n",
       "L 259.166064 134.670397 \n",
       "L 259.776011 134.472665 \n",
       "L 260.385958 134.59728 \n",
       "L 260.995905 134.400973 \n",
       "L 261.605853 134.046258 \n",
       "L 262.2158 134.330149 \n",
       "L 262.825747 134.136424 \n",
       "L 263.435694 134.102021 \n",
       "L 264.045641 134.225501 \n",
       "L 264.655588 134.033834 \n",
       "L 265.265536 134.313523 \n",
       "L 265.875483 134.279003 \n",
       "L 266.48543 133.933075 \n",
       "L 267.095377 133.744537 \n",
       "L 267.705324 133.86689 \n",
       "L 268.315271 133.679659 \n",
       "L 268.925219 133.955467 \n",
       "L 270.75506 133.857439 \n",
       "L 271.365007 133.520751 \n",
       "L 271.974954 133.489525 \n",
       "L 272.584902 133.60979 \n",
       "L 273.194849 133.427597 \n",
       "L 273.804796 133.096003 \n",
       "L 274.414743 133.216361 \n",
       "L 275.02469 133.18645 \n",
       "L 275.634637 133.455036 \n",
       "L 276.244585 133.275864 \n",
       "L 276.854532 133.542682 \n",
       "L 277.464479 133.512176 \n",
       "L 278.074426 133.629342 \n",
       "L 279.29432 133.568369 \n",
       "L 279.904268 133.830649 \n",
       "L 280.514215 133.945625 \n",
       "L 281.124162 133.623623 \n",
       "L 281.734109 133.738536 \n",
       "L 282.344056 133.708162 \n",
       "L 282.954003 133.533716 \n",
       "L 283.563951 133.50407 \n",
       "L 284.173898 133.044215 \n",
       "L 285.393792 133.5588 \n",
       "L 286.613686 133.784009 \n",
       "L 287.223634 133.754168 \n",
       "L 287.833581 133.865646 \n",
       "L 288.443528 133.83575 \n",
       "L 289.053475 133.946407 \n",
       "L 290.883317 133.439208 \n",
       "L 291.493264 133.549739 \n",
       "L 292.103211 133.52115 \n",
       "L 292.713158 133.354543 \n",
       "L 293.933052 132.749026 \n",
       "L 295.152947 132.970238 \n",
       "L 295.762894 133.216361 \n",
       "L 296.372841 132.917104 \n",
       "L 296.982788 133.026415 \n",
       "L 297.592735 133.270496 \n",
       "L 298.202683 133.378336 \n",
       "L 298.81263 133.350999 \n",
       "L 299.422577 133.458088 \n",
       "L 300.032524 133.296731 \n",
       "L 300.642471 133.269808 \n",
       "L 301.862366 133.748081 \n",
       "L 302.472313 133.587624 \n",
       "L 303.08226 133.692498 \n",
       "L 303.692207 133.532988 \n",
       "L 305.522049 133.844873 \n",
       "L 306.131996 133.55596 \n",
       "L 306.741943 133.398773 \n",
       "L 307.35189 133.502294 \n",
       "L 308.571784 133.449152 \n",
       "L 309.181732 133.293773 \n",
       "L 309.791679 133.525226 \n",
       "L 310.401626 133.370418 \n",
       "L 311.011573 133.344427 \n",
       "L 311.62152 133.44632 \n",
       "L 312.231467 133.67516 \n",
       "L 313.451362 133.368556 \n",
       "L 314.671256 133.569777 \n",
       "L 315.281203 133.795573 \n",
       "L 315.89115 133.769065 \n",
       "L 316.501098 133.993313 \n",
       "L 317.720992 133.6903 \n",
       "L 319.550833 133.612645 \n",
       "L 320.160781 133.463455 \n",
       "L 320.770728 133.561483 \n",
       "L 321.380675 133.536079 \n",
       "L 321.990622 133.633473 \n",
       "L 322.600569 133.608021 \n",
       "L 323.210516 133.704798 \n",
       "L 323.820464 133.679299 \n",
       "L 324.430411 133.532378 \n",
       "L 325.040358 133.143605 \n",
       "L 325.650305 133.119577 \n",
       "L 326.260252 133.337072 \n",
       "L 326.870199 133.433137 \n",
       "L 328.700041 133.359895 \n",
       "L 329.919935 133.549739 \n",
       "L 330.529882 133.762814 \n",
       "L 332.359724 133.688336 \n",
       "L 332.969671 133.546007 \n",
       "L 333.579618 133.521776 \n",
       "L 334.189565 133.614852 \n",
       "L 334.799513 133.590581 \n",
       "L 335.40946 133.683094 \n",
       "L 336.629354 133.634561 \n",
       "L 337.239301 133.726361 \n",
       "L 337.849248 133.702114 \n",
       "L 338.459196 133.793359 \n",
       "L 339.069143 133.769065 \n",
       "L 339.67909 133.859778 \n",
       "L 340.289037 133.835437 \n",
       "L 340.898984 133.92561 \n",
       "L 342.118879 133.876968 \n",
       "L 343.338773 133.488539 \n",
       "L 344.558667 133.66804 \n",
       "L 345.168615 133.644529 \n",
       "L 346.388509 133.934405 \n",
       "L 348.21835 134.197381 \n",
       "L 348.828298 134.173056 \n",
       "L 349.438245 134.37085 \n",
       "L 353.097928 134.224844 \n",
       "L 353.707875 134.419649 \n",
       "L 354.317822 134.176992 \n",
       "L 354.927769 134.371077 \n",
       "L 359.197399 134.311598 \n",
       "L 361.637188 134.537027 \n",
       "L 362.247135 134.513093 \n",
       "L 364.076977 134.970116 \n",
       "L 365.906818 134.476531 \n",
       "L 365.906818 134.476531 \n",
       "\" clip-path=\"url(#p0fb797d5c7)\" style=\"fill: none; stroke: #9467bd; stroke-width: 1.5; stroke-linecap: square\"/>\n",
       "   </g>\n",
       "   <g id=\"line2d_21\">\n",
       "    <path d=\"M 61.543182 175.221818 \n",
       "L 62.153129 175.221818 \n",
       "L 62.763076 192.72409 \n",
       "L 63.373023 201.475227 \n",
       "L 63.98297 175.221818 \n",
       "L 64.592918 166.470682 \n",
       "L 65.202865 160.219867 \n",
       "L 65.812812 155.531761 \n",
       "L 66.422759 157.719543 \n",
       "L 67.032706 164.720457 \n",
       "L 68.252601 157.719543 \n",
       "L 68.862548 150.9879 \n",
       "L 69.472495 148.968407 \n",
       "L 70.082442 150.718641 \n",
       "L 70.692389 155.531761 \n",
       "L 71.912284 151.885452 \n",
       "L 73.132178 148.968407 \n",
       "L 74.352072 151.355086 \n",
       "L 74.962019 154.675676 \n",
       "L 76.181914 156.319361 \n",
       "L 76.791861 159.065871 \n",
       "L 77.401808 157.719543 \n",
       "L 78.011755 160.219867 \n",
       "L 78.621702 160.737183 \n",
       "L 79.23165 157.719543 \n",
       "L 79.841597 158.28414 \n",
       "L 80.451544 160.454278 \n",
       "L 81.061491 156.128429 \n",
       "L 81.671438 156.689997 \n",
       "L 83.50128 153.935272 \n",
       "L 85.331121 155.531761 \n",
       "L 86.551016 153.969056 \n",
       "L 87.77091 154.935093 \n",
       "L 88.380857 151.885452 \n",
       "L 88.990804 153.534223 \n",
       "L 89.600752 151.761323 \n",
       "L 90.210699 152.250088 \n",
       "L 90.820646 151.647333 \n",
       "L 91.430593 152.118823 \n",
       "L 92.04054 151.542271 \n",
       "L 92.650487 151.99765 \n",
       "L 93.260435 153.426539 \n",
       "L 93.870382 153.830154 \n",
       "L 94.480329 150.400418 \n",
       "L 95.090276 148.968407 \n",
       "L 96.31017 151.684278 \n",
       "L 97.530065 152.468866 \n",
       "L 98.140012 151.120331 \n",
       "L 99.359906 151.885452 \n",
       "L 100.579801 150.9879 \n",
       "L 101.189748 152.150643 \n",
       "L 101.799695 152.494991 \n",
       "L 102.409642 151.284888 \n",
       "L 103.019589 151.631802 \n",
       "L 103.629536 151.218704 \n",
       "L 104.239484 151.556777 \n",
       "L 104.849431 149.69767 \n",
       "L 105.459378 149.328043 \n",
       "L 106.679272 147.218182 \n",
       "L 107.289219 147.586651 \n",
       "L 107.899167 148.627455 \n",
       "L 109.729008 149.624742 \n",
       "L 110.338955 149.292529 \n",
       "L 110.948902 150.249068 \n",
       "L 112.168797 149.593492 \n",
       "L 112.778744 148.65955 \n",
       "L 113.388691 149.578955 \n",
       "L 113.998638 149.873698 \n",
       "L 114.608585 149.565075 \n",
       "L 115.218533 150.443317 \n",
       "L 117.048374 149.539138 \n",
       "L 117.658321 150.379887 \n",
       "L 118.268268 150.085575 \n",
       "L 118.878216 150.350171 \n",
       "L 119.488163 151.156197 \n",
       "L 120.09811 151.404292 \n",
       "L 120.708057 151.111545 \n",
       "L 121.318004 150.294338 \n",
       "L 123.147846 152.571816 \n",
       "L 124.36774 153.007393 \n",
       "L 124.977687 152.718894 \n",
       "L 125.587634 151.44515 \n",
       "L 126.807529 149.940758 \n",
       "L 127.417476 149.690981 \n",
       "L 128.027423 150.400418 \n",
       "L 128.63737 150.150992 \n",
       "L 129.247317 150.374841 \n",
       "L 129.857265 149.665404 \n",
       "L 132.297053 148.744019 \n",
       "L 132.907 148.078468 \n",
       "L 133.516948 147.865323 \n",
       "L 134.126895 147.218182 \n",
       "L 134.736842 147.883561 \n",
       "L 135.956736 146.620544 \n",
       "L 136.566683 146.851199 \n",
       "L 137.176631 146.658107 \n",
       "L 137.786578 146.884803 \n",
       "L 139.006472 146.507156 \n",
       "L 139.616419 147.136779 \n",
       "L 140.226366 146.545017 \n",
       "L 140.836314 146.363106 \n",
       "L 141.446261 146.979514 \n",
       "L 143.276102 147.607119 \n",
       "L 144.495997 148.776779 \n",
       "L 145.105944 148.207441 \n",
       "L 145.715891 148.024043 \n",
       "L 146.325838 147.468217 \n",
       "L 148.765627 146.780625 \n",
       "L 149.375574 145.890427 \n",
       "L 149.985521 146.450963 \n",
       "L 151.205415 146.839752 \n",
       "L 151.815363 146.677847 \n",
       "L 152.42531 146.868138 \n",
       "L 153.035257 146.708182 \n",
       "L 153.645204 146.895773 \n",
       "L 154.255151 147.424089 \n",
       "L 154.865098 146.922688 \n",
       "L 155.475046 145.75025 \n",
       "L 156.084993 145.602586 \n",
       "L 159.134729 146.522437 \n",
       "L 159.744676 146.051362 \n",
       "L 160.354623 145.908196 \n",
       "L 160.96457 146.086938 \n",
       "L 161.574517 145.308845 \n",
       "L 162.184464 145.172736 \n",
       "L 162.794412 145.352667 \n",
       "L 163.404359 145.21792 \n",
       "L 164.014306 145.395458 \n",
       "L 164.624253 145.879771 \n",
       "L 165.2342 146.051362 \n",
       "L 166.454095 145.781578 \n",
       "L 167.673989 146.718118 \n",
       "L 168.283936 146.88007 \n",
       "L 168.893883 147.336842 \n",
       "L 169.50383 147.493497 \n",
       "L 170.113778 147.355072 \n",
       "L 170.723725 147.509888 \n",
       "L 171.333672 147.372896 \n",
       "L 171.943619 147.525912 \n",
       "L 172.553566 147.390336 \n",
       "L 173.773461 146.555932 \n",
       "L 175.603302 146.175492 \n",
       "L 176.213249 146.329181 \n",
       "L 176.823196 145.928539 \n",
       "L 177.433144 146.356816 \n",
       "L 178.043091 146.507156 \n",
       "L 178.653038 145.839766 \n",
       "L 179.262985 146.26187 \n",
       "L 179.872932 146.410388 \n",
       "L 181.092827 146.169827 \n",
       "L 181.702774 146.316553 \n",
       "L 182.312721 146.725653 \n",
       "L 183.532615 147.009199 \n",
       "L 184.142562 146.888935 \n",
       "L 184.75251 147.287159 \n",
       "L 186.582351 146.929307 \n",
       "L 187.802245 147.201352 \n",
       "L 188.412193 147.084193 \n",
       "L 189.02214 147.468217 \n",
       "L 189.632087 147.599749 \n",
       "L 190.242034 146.739345 \n",
       "L 191.461928 147.005537 \n",
       "L 192.071876 146.892557 \n",
       "L 193.29177 147.153656 \n",
       "L 193.901717 147.523268 \n",
       "L 194.511664 147.649745 \n",
       "L 195.731559 148.374439 \n",
       "L 196.341506 148.258861 \n",
       "L 196.951453 147.673397 \n",
       "L 198.781294 147.342092 \n",
       "L 199.391242 147.464908 \n",
       "L 200.611136 146.790178 \n",
       "L 201.221083 147.142084 \n",
       "L 202.440977 147.384155 \n",
       "L 203.050925 147.278279 \n",
       "L 204.270819 147.516093 \n",
       "L 204.880766 147.411007 \n",
       "L 205.490713 147.528353 \n",
       "L 206.10066 147.424089 \n",
       "L 207.320555 148.093294 \n",
       "L 207.930502 148.20586 \n",
       "L 208.540449 148.100532 \n",
       "L 209.150396 148.428214 \n",
       "L 210.980238 148.114639 \n",
       "L 211.590185 148.436961 \n",
       "L 212.200132 148.333245 \n",
       "L 212.810079 148.441233 \n",
       "L 214.639921 149.385128 \n",
       "L 215.249868 149.072179 \n",
       "L 217.079709 149.378618 \n",
       "L 217.689657 149.27487 \n",
       "L 218.299604 148.968407 \n",
       "L 218.909551 149.069777 \n",
       "L 220.129445 148.063117 \n",
       "L 221.34934 148.26965 \n",
       "L 221.959287 148.17285 \n",
       "L 222.569234 147.878647 \n",
       "L 223.179181 148.178836 \n",
       "L 223.789128 148.280119 \n",
       "L 224.399075 147.988803 \n",
       "L 225.009023 147.894851 \n",
       "L 226.228917 148.096526 \n",
       "L 226.838864 148.389289 \n",
       "L 228.058758 148.58515 \n",
       "L 229.278653 148.397684 \n",
       "L 229.8886 148.494523 \n",
       "L 230.498547 148.401792 \n",
       "L 231.108494 148.497919 \n",
       "L 231.718441 148.405837 \n",
       "L 232.938336 148.596018 \n",
       "L 233.548283 148.50457 \n",
       "L 234.768177 147.95512 \n",
       "L 235.988072 148.145129 \n",
       "L 236.598019 148.421462 \n",
       "L 237.207966 147.969149 \n",
       "L 237.817913 147.701001 \n",
       "L 239.037807 148.249135 \n",
       "L 240.867649 147.989468 \n",
       "L 241.477596 148.081472 \n",
       "L 242.087543 147.81927 \n",
       "L 242.69749 148.087426 \n",
       "L 243.307438 147.826961 \n",
       "L 243.917385 147.743251 \n",
       "L 245.137279 146.882049 \n",
       "L 245.747226 146.975579 \n",
       "L 246.357173 146.895773 \n",
       "L 247.577068 146.394544 \n",
       "L 248.187015 146.317413 \n",
       "L 248.796962 146.581736 \n",
       "L 251.236751 146.27575 \n",
       "L 251.846698 145.864976 \n",
       "L 252.456645 145.624024 \n",
       "L 254.286487 145.904135 \n",
       "L 254.896434 145.831207 \n",
       "L 256.116328 146.014901 \n",
       "L 256.726275 145.615175 \n",
       "L 257.94617 145.798494 \n",
       "L 258.556117 145.727247 \n",
       "L 259.166064 145.818 \n",
       "L 259.776011 146.069263 \n",
       "L 260.385958 145.997845 \n",
       "L 260.995905 146.24702 \n",
       "L 261.605853 146.335088 \n",
       "L 262.2158 146.104402 \n",
       "L 262.825747 145.716474 \n",
       "L 263.435694 145.489042 \n",
       "L 264.045641 145.736011 \n",
       "L 265.265536 145.598572 \n",
       "L 266.48543 145.774372 \n",
       "L 267.095377 146.016842 \n",
       "L 267.705324 145.638334 \n",
       "L 268.925219 146.1198 \n",
       "L 270.145113 146.289489 \n",
       "L 270.75506 145.763051 \n",
       "L 271.974954 145.933335 \n",
       "L 273.194849 145.498134 \n",
       "L 273.804796 145.583299 \n",
       "L 274.414743 145.36794 \n",
       "L 275.02469 145.303407 \n",
       "L 276.244585 144.58045 \n",
       "L 276.854532 144.370356 \n",
       "L 278.074426 144.248699 \n",
       "L 278.684373 144.482531 \n",
       "L 279.29432 144.568401 \n",
       "L 279.904268 144.215008 \n",
       "L 280.514215 144.446994 \n",
       "L 282.344056 144.267383 \n",
       "L 282.954003 144.352423 \n",
       "L 283.563951 144.580857 \n",
       "L 284.173898 144.664575 \n",
       "L 284.783845 144.461695 \n",
       "L 288.443528 144.111879 \n",
       "L 289.053475 143.773884 \n",
       "L 289.663422 143.71773 \n",
       "L 290.273369 143.941164 \n",
       "L 290.883317 143.884862 \n",
       "L 291.493264 143.967758 \n",
       "L 292.103211 143.911683 \n",
       "L 294.543 144.787061 \n",
       "L 295.762894 144.399634 \n",
       "L 296.982788 144.558926 \n",
       "L 298.202683 144.176654 \n",
       "L 301.252418 144.57063 \n",
       "L 301.862366 144.515298 \n",
       "L 302.472313 144.592843 \n",
       "L 303.08226 144.537738 \n",
       "L 303.692207 144.614829 \n",
       "L 304.302154 144.428349 \n",
       "L 305.522049 144.581929 \n",
       "L 306.131996 144.788759 \n",
       "L 306.741943 144.864278 \n",
       "L 307.35189 144.809454 \n",
       "L 307.961837 144.88455 \n",
       "L 308.571784 144.700613 \n",
       "L 309.791679 144.850226 \n",
       "L 310.401626 144.667728 \n",
       "L 311.011573 144.742253 \n",
       "L 311.62152 144.560905 \n",
       "L 312.231467 144.252994 \n",
       "L 313.451362 144.4026 \n",
       "L 314.061309 144.097294 \n",
       "L 315.281203 143.994744 \n",
       "L 315.89115 144.069448 \n",
       "L 316.501098 143.893171 \n",
       "L 317.111045 143.842744 \n",
       "L 317.720992 143.667844 \n",
       "L 318.940886 143.817034 \n",
       "L 319.550833 144.014938 \n",
       "L 320.770728 143.914937 \n",
       "L 321.380675 143.742322 \n",
       "L 321.990622 143.815868 \n",
       "L 322.600569 144.011472 \n",
       "L 323.210516 143.961945 \n",
       "L 323.820464 144.156304 \n",
       "L 324.430411 144.228208 \n",
       "L 325.040358 144.421057 \n",
       "L 325.650305 144.492022 \n",
       "L 326.260252 144.321252 \n",
       "L 326.870199 144.271702 \n",
       "L 328.700041 144.483204 \n",
       "L 329.309988 144.433732 \n",
       "L 329.919935 144.146359 \n",
       "L 331.13983 144.286654 \n",
       "L 331.749777 144.119804 \n",
       "L 332.969671 144.494736 \n",
       "L 333.579618 144.563479 \n",
       "L 334.189565 144.749114 \n",
       "L 334.799513 144.816981 \n",
       "L 335.40946 145.001231 \n",
       "L 336.019407 144.951814 \n",
       "L 336.629354 145.018781 \n",
       "L 337.239301 144.969544 \n",
       "L 337.849248 144.804877 \n",
       "L 338.459196 144.987124 \n",
       "L 339.069143 144.938278 \n",
       "L 339.67909 145.004549 \n",
       "L 340.898984 144.678635 \n",
       "L 342.118879 144.811144 \n",
       "L 343.338773 144.715698 \n",
       "L 344.558667 144.282319 \n",
       "L 345.168615 144.348715 \n",
       "L 345.778562 144.077515 \n",
       "L 346.388509 144.031869 \n",
       "L 348.21835 144.230531 \n",
       "L 350.658139 144.049348 \n",
       "L 351.268086 144.225148 \n",
       "L 353.707875 144.155287 \n",
       "L 356.757611 144.583822 \n",
       "L 357.367558 144.430782 \n",
       "L 358.587452 144.556977 \n",
       "L 360.417294 144.209649 \n",
       "L 361.027241 144.165959 \n",
       "L 362.247135 144.504266 \n",
       "L 362.857082 144.460248 \n",
       "L 364.076977 144.055803 \n",
       "L 365.296871 144.075489 \n",
       "L 365.906818 144.032769 \n",
       "L 365.906818 144.032769 \n",
       "\" clip-path=\"url(#p0fb797d5c7)\" style=\"fill: none; stroke: #8c564b; stroke-width: 1.5; stroke-linecap: square\"/>\n",
       "   </g>\n",
       "   <g id=\"line2d_22\">\n",
       "    <path d=\"M 46.325 140.042251 \n",
       "L 381.125 140.042251 \n",
       "\" clip-path=\"url(#p0fb797d5c7)\" style=\"fill: none; stroke-dasharray: 5.55,2.4; stroke-dashoffset: 0; stroke: #000000; stroke-width: 1.5\"/>\n",
       "   </g>\n",
       "   <g id=\"patch_3\">\n",
       "    <path d=\"M 46.325 238.23 \n",
       "L 46.325 7.2 \n",
       "\" style=\"fill: none; stroke: #000000; stroke-width: 0.8; stroke-linejoin: miter; stroke-linecap: square\"/>\n",
       "   </g>\n",
       "   <g id=\"patch_4\">\n",
       "    <path d=\"M 381.125 238.23 \n",
       "L 381.125 7.2 \n",
       "\" style=\"fill: none; stroke: #000000; stroke-width: 0.8; stroke-linejoin: miter; stroke-linecap: square\"/>\n",
       "   </g>\n",
       "   <g id=\"patch_5\">\n",
       "    <path d=\"M 46.325 238.23 \n",
       "L 381.125 238.23 \n",
       "\" style=\"fill: none; stroke: #000000; stroke-width: 0.8; stroke-linejoin: miter; stroke-linecap: square\"/>\n",
       "   </g>\n",
       "   <g id=\"patch_6\">\n",
       "    <path d=\"M 46.325 7.2 \n",
       "L 381.125 7.2 \n",
       "\" style=\"fill: none; stroke: #000000; stroke-width: 0.8; stroke-linejoin: miter; stroke-linecap: square\"/>\n",
       "   </g>\n",
       "   <g id=\"legend_1\">\n",
       "    <g id=\"patch_7\">\n",
       "     <path d=\"M 302.125 96.528125 \n",
       "L 374.125 96.528125 \n",
       "Q 376.125 96.528125 376.125 94.528125 \n",
       "L 376.125 14.2 \n",
       "Q 376.125 12.2 374.125 12.2 \n",
       "L 302.125 12.2 \n",
       "Q 300.125 12.2 300.125 14.2 \n",
       "L 300.125 94.528125 \n",
       "Q 300.125 96.528125 302.125 96.528125 \n",
       "z\n",
       "\" style=\"fill: #ffffff; opacity: 0.8; stroke: #cccccc; stroke-linejoin: miter\"/>\n",
       "    </g>\n",
       "    <g id=\"line2d_23\">\n",
       "     <path d=\"M 304.125 19.965625 \n",
       "L 314.125 19.965625 \n",
       "L 324.125 19.965625 \n",
       "\" style=\"fill: none; stroke: #1f77b4; stroke-width: 1.5; stroke-linecap: square\"/>\n",
       "    </g>\n",
       "    <g id=\"text_18\">\n",
       "     <!-- P(die=1) -->\n",
       "     <g transform=\"translate(332.125 23.465625) scale(0.1 -0.1)\">\n",
       "      <defs>\n",
       "       <path id=\"SimHei-50\" d=\"M 2975 3075 \n",
       "Q 2975 2475 2625 2125 \n",
       "Q 2275 1775 1650 1775 \n",
       "L 925 1775 \n",
       "L 925 100 \n",
       "L 350 100 \n",
       "L 350 4375 \n",
       "L 1650 4375 \n",
       "Q 2275 4375 2625 4025 \n",
       "Q 2975 3675 2975 3075 \n",
       "z\n",
       "M 2400 3075 \n",
       "Q 2400 3550 2175 3725 \n",
       "Q 1950 3900 1500 3900 \n",
       "L 925 3900 \n",
       "L 925 2250 \n",
       "L 1500 2250 \n",
       "Q 1950 2250 2175 2425 \n",
       "Q 2400 2600 2400 3075 \n",
       "z\n",
       "\" transform=\"scale(0.015625)\"/>\n",
       "       <path id=\"SimHei-28\" d=\"M 3000 -225 \n",
       "L 2725 -500 \n",
       "Q 2100 100 1787 750 \n",
       "Q 1475 1400 1475 2225 \n",
       "Q 1475 3050 1787 3700 \n",
       "Q 2100 4350 2725 4975 \n",
       "L 3000 4700 \n",
       "Q 2425 4150 2137 3562 \n",
       "Q 1850 2975 1850 2225 \n",
       "Q 1850 1475 2137 887 \n",
       "Q 2425 300 3000 -225 \n",
       "z\n",
       "\" transform=\"scale(0.015625)\"/>\n",
       "       <path id=\"SimHei-3d\" d=\"M 3000 2875 \n",
       "L 150 2875 \n",
       "L 150 3275 \n",
       "L 3000 3275 \n",
       "L 3000 2875 \n",
       "z\n",
       "M 3000 1350 \n",
       "L 150 1350 \n",
       "L 150 1750 \n",
       "L 3000 1750 \n",
       "L 3000 1350 \n",
       "z\n",
       "\" transform=\"scale(0.015625)\"/>\n",
       "       <path id=\"SimHei-29\" d=\"M 1700 2225 \n",
       "Q 1700 1400 1387 750 \n",
       "Q 1075 100 450 -500 \n",
       "L 175 -225 \n",
       "Q 750 300 1037 887 \n",
       "Q 1325 1475 1325 2225 \n",
       "Q 1325 2975 1037 3562 \n",
       "Q 750 4150 175 4700 \n",
       "L 450 4975 \n",
       "Q 1075 4350 1387 3700 \n",
       "Q 1700 3050 1700 2225 \n",
       "z\n",
       "\" transform=\"scale(0.015625)\"/>\n",
       "      </defs>\n",
       "      <use xlink:href=\"#SimHei-50\"/>\n",
       "      <use xlink:href=\"#SimHei-28\" x=\"50\"/>\n",
       "      <use xlink:href=\"#SimHei-64\" x=\"100\"/>\n",
       "      <use xlink:href=\"#SimHei-69\" x=\"150\"/>\n",
       "      <use xlink:href=\"#SimHei-65\" x=\"200\"/>\n",
       "      <use xlink:href=\"#SimHei-3d\" x=\"250\"/>\n",
       "      <use xlink:href=\"#SimHei-31\" x=\"300\"/>\n",
       "      <use xlink:href=\"#SimHei-29\" x=\"350\"/>\n",
       "     </g>\n",
       "    </g>\n",
       "    <g id=\"line2d_24\">\n",
       "     <path d=\"M 304.125 33.520312 \n",
       "L 314.125 33.520312 \n",
       "L 324.125 33.520312 \n",
       "\" style=\"fill: none; stroke: #ff7f0e; stroke-width: 1.5; stroke-linecap: square\"/>\n",
       "    </g>\n",
       "    <g id=\"text_19\">\n",
       "     <!-- P(die=2) -->\n",
       "     <g transform=\"translate(332.125 37.020312) scale(0.1 -0.1)\">\n",
       "      <use xlink:href=\"#SimHei-50\"/>\n",
       "      <use xlink:href=\"#SimHei-28\" x=\"50\"/>\n",
       "      <use xlink:href=\"#SimHei-64\" x=\"100\"/>\n",
       "      <use xlink:href=\"#SimHei-69\" x=\"150\"/>\n",
       "      <use xlink:href=\"#SimHei-65\" x=\"200\"/>\n",
       "      <use xlink:href=\"#SimHei-3d\" x=\"250\"/>\n",
       "      <use xlink:href=\"#SimHei-32\" x=\"300\"/>\n",
       "      <use xlink:href=\"#SimHei-29\" x=\"350\"/>\n",
       "     </g>\n",
       "    </g>\n",
       "    <g id=\"line2d_25\">\n",
       "     <path d=\"M 304.125 47.075 \n",
       "L 314.125 47.075 \n",
       "L 324.125 47.075 \n",
       "\" style=\"fill: none; stroke: #2ca02c; stroke-width: 1.5; stroke-linecap: square\"/>\n",
       "    </g>\n",
       "    <g id=\"text_20\">\n",
       "     <!-- P(die=3) -->\n",
       "     <g transform=\"translate(332.125 50.575) scale(0.1 -0.1)\">\n",
       "      <use xlink:href=\"#SimHei-50\"/>\n",
       "      <use xlink:href=\"#SimHei-28\" x=\"50\"/>\n",
       "      <use xlink:href=\"#SimHei-64\" x=\"100\"/>\n",
       "      <use xlink:href=\"#SimHei-69\" x=\"150\"/>\n",
       "      <use xlink:href=\"#SimHei-65\" x=\"200\"/>\n",
       "      <use xlink:href=\"#SimHei-3d\" x=\"250\"/>\n",
       "      <use xlink:href=\"#SimHei-33\" x=\"300\"/>\n",
       "      <use xlink:href=\"#SimHei-29\" x=\"350\"/>\n",
       "     </g>\n",
       "    </g>\n",
       "    <g id=\"line2d_26\">\n",
       "     <path d=\"M 304.125 60.629687 \n",
       "L 314.125 60.629687 \n",
       "L 324.125 60.629687 \n",
       "\" style=\"fill: none; stroke: #d62728; stroke-width: 1.5; stroke-linecap: square\"/>\n",
       "    </g>\n",
       "    <g id=\"text_21\">\n",
       "     <!-- P(die=4) -->\n",
       "     <g transform=\"translate(332.125 64.129687) scale(0.1 -0.1)\">\n",
       "      <use xlink:href=\"#SimHei-50\"/>\n",
       "      <use xlink:href=\"#SimHei-28\" x=\"50\"/>\n",
       "      <use xlink:href=\"#SimHei-64\" x=\"100\"/>\n",
       "      <use xlink:href=\"#SimHei-69\" x=\"150\"/>\n",
       "      <use xlink:href=\"#SimHei-65\" x=\"200\"/>\n",
       "      <use xlink:href=\"#SimHei-3d\" x=\"250\"/>\n",
       "      <use xlink:href=\"#SimHei-34\" x=\"300\"/>\n",
       "      <use xlink:href=\"#SimHei-29\" x=\"350\"/>\n",
       "     </g>\n",
       "    </g>\n",
       "    <g id=\"line2d_27\">\n",
       "     <path d=\"M 304.125 74.184375 \n",
       "L 314.125 74.184375 \n",
       "L 324.125 74.184375 \n",
       "\" style=\"fill: none; stroke: #9467bd; stroke-width: 1.5; stroke-linecap: square\"/>\n",
       "    </g>\n",
       "    <g id=\"text_22\">\n",
       "     <!-- P(die=5) -->\n",
       "     <g transform=\"translate(332.125 77.684375) scale(0.1 -0.1)\">\n",
       "      <use xlink:href=\"#SimHei-50\"/>\n",
       "      <use xlink:href=\"#SimHei-28\" x=\"50\"/>\n",
       "      <use xlink:href=\"#SimHei-64\" x=\"100\"/>\n",
       "      <use xlink:href=\"#SimHei-69\" x=\"150\"/>\n",
       "      <use xlink:href=\"#SimHei-65\" x=\"200\"/>\n",
       "      <use xlink:href=\"#SimHei-3d\" x=\"250\"/>\n",
       "      <use xlink:href=\"#SimHei-35\" x=\"300\"/>\n",
       "      <use xlink:href=\"#SimHei-29\" x=\"350\"/>\n",
       "     </g>\n",
       "    </g>\n",
       "    <g id=\"line2d_28\">\n",
       "     <path d=\"M 304.125 87.739062 \n",
       "L 314.125 87.739062 \n",
       "L 324.125 87.739062 \n",
       "\" style=\"fill: none; stroke: #8c564b; stroke-width: 1.5; stroke-linecap: square\"/>\n",
       "    </g>\n",
       "    <g id=\"text_23\">\n",
       "     <!-- P(die=6) -->\n",
       "     <g transform=\"translate(332.125 91.239062) scale(0.1 -0.1)\">\n",
       "      <defs>\n",
       "       <path id=\"SimHei-36\" d=\"M 2850 1550 \n",
       "Q 2850 850 2550 450 \n",
       "Q 2250 50 1650 50 \n",
       "Q 1050 50 700 550 \n",
       "Q 350 1050 350 2175 \n",
       "Q 350 3200 712 3812 \n",
       "Q 1075 4425 1750 4425 \n",
       "Q 2225 4425 2512 4075 \n",
       "Q 2800 3725 2800 3300 \n",
       "L 2225 3300 \n",
       "Q 2225 3550 2087 3750 \n",
       "Q 1950 3950 1725 3950 \n",
       "Q 1350 3950 1150 3562 \n",
       "Q 950 3175 925 2375 \n",
       "Q 1100 2700 1300 2825 \n",
       "Q 1500 2950 1775 2950 \n",
       "Q 2250 2950 2550 2575 \n",
       "Q 2850 2200 2850 1550 \n",
       "z\n",
       "M 2250 1550 \n",
       "Q 2250 2000 2100 2250 \n",
       "Q 1950 2500 1675 2500 \n",
       "Q 1350 2500 1162 2250 \n",
       "Q 975 2000 975 1650 \n",
       "Q 975 1100 1162 800 \n",
       "Q 1350 500 1675 500 \n",
       "Q 1900 500 2075 725 \n",
       "Q 2250 950 2250 1550 \n",
       "z\n",
       "\" transform=\"scale(0.015625)\"/>\n",
       "      </defs>\n",
       "      <use xlink:href=\"#SimHei-50\"/>\n",
       "      <use xlink:href=\"#SimHei-28\" x=\"50\"/>\n",
       "      <use xlink:href=\"#SimHei-64\" x=\"100\"/>\n",
       "      <use xlink:href=\"#SimHei-69\" x=\"150\"/>\n",
       "      <use xlink:href=\"#SimHei-65\" x=\"200\"/>\n",
       "      <use xlink:href=\"#SimHei-3d\" x=\"250\"/>\n",
       "      <use xlink:href=\"#SimHei-36\" x=\"300\"/>\n",
       "      <use xlink:href=\"#SimHei-29\" x=\"350\"/>\n",
       "     </g>\n",
       "    </g>\n",
       "   </g>\n",
       "  </g>\n",
       " </g>\n",
       " <defs>\n",
       "  <clipPath id=\"p0fb797d5c7\">\n",
       "   <rect x=\"46.325\" y=\"7.2\" width=\"334.8\" height=\"231.03\"/>\n",
       "  </clipPath>\n",
       " </defs>\n",
       "</svg>\n"
      ],
      "text/plain": [
       "<Figure size 432x306 with 1 Axes>"
      ]
     },
     "metadata": {
      "needs_background": "light"
     },
     "output_type": "display_data"
    }
   ],
   "source": [
    "counts = multinomial.Multinomial(10, fair_probs).sample((500,))\n",
    "cum_counts = counts.cumsum(dim=0) # 按维度0累加\n",
    "estimates = cum_counts / cum_counts.sum(dim=1, keepdims=True) #不降维求出每个面的概率\n",
    "\n",
    "fc.set_figsize((6, 4.25))\n",
    "\n",
    "for i in range(6):\n",
    "    fc.plt.plot(estimates[:, i].numpy(), #甩到i的情况\n",
    "label=(\"P(die=\" + str(i + 1) + \")\"))\n",
    "fc.plt.axhline(y=0.167, color='black', linestyle='dashed') #水平参考\n",
    "fc.plt.gca().set_xlabel('Groups of experiments')\n",
    "fc.plt.gca().set_ylabel('Estimated probability')\n",
    "fc.plt.legend()"
   ]
  },
  {
   "cell_type": "markdown",
   "metadata": {},
   "source": [
    "### 概率论公理"
   ]
  },
  {
   "cell_type": "markdown",
   "metadata": {},
   "source": [
    "#### 样本空间(S):随机实验所有可能结果的集合\n",
    "##### - 事件(A):样本空间的一个子集,表示随机实验的某些结果\n",
    "##### - 概率(P(A)):映射事件到[0,1]区间的一个函数\n",
    "##### - 概率的基本公理: (1)非负性:P(A) ≥ 0 (2)归一性:P(S) = 1 (3)可数可加性:P(并集) = P(A1) + P(A2) + ... (对于互斥事件)\n",
    "##### - 可以基于这些公理严格地推导和证明概率相关的等式\n",
    "##### - 例如可以证明不可能事件的概率为0:P(空集) = 0 "
   ]
  },
  {
   "cell_type": "markdown",
   "metadata": {},
   "source": [
    "\n"
   ]
  },
  {
   "cell_type": "markdown",
   "metadata": {},
   "source": [
    "### 随机变量\n",
    "#### 在我们掷骰子的随机实验中,我们引入了随机变量(random variable)的概念。随机变量几乎可以是任何数量,并且它可以在随机实验的一组可能性中取一个值。\n",
    "\n",
    "#### 考虑一个随机变量X,其值在掷骰子的样本空间S = {1, 2, 3, 4, 5, 6}中。我们可以将事件“看到一个5”表示为{X = 5}或X = 5,其概率表示为P({X = 5})或P(X = 5)。\n",
    "\n",
    "#### 通过P(X = a),我们区分了随机变量X和X可以采取的值(例如a)。\n",
    "\n",
    "#### 主要概念\n",
    "##### -随机变量(X):可以取多个值的变量,它在一个随机实验中可以取到样本空间中的某一个值。\n",
    "##### -分布P(X):随机变量X上定义的一个概率分布,表示X取不同值的概率。\n",
    "##### -事件和随机变量的关系:事件可以表示为{X = a},随机变量X取值为a的概率为P(X=a),简写为P(a)。\n",
    "##### -离散随机变量:样本空间是离散的,每个值的概率可以非零。如骰子面值。\n",
    "##### -连续随机变量:值的范围是一个区间,单一点的概率为0,需要定义密度。如人的身高体重。\n",
    "##### -密度:连续随机变量上定义的概率密度,表示落在某区间内的概率"
   ]
  },
  {
   "cell_type": "markdown",
   "metadata": {},
   "source": [
    "### 2.6.2 处理多个随机变量"
   ]
  },
  {
   "cell_type": "markdown",
   "metadata": {},
   "source": [
    "#### 很多时候，我们会考虑多个随机变量。比如，我们可能需要对疾病和症状之间的关系进行建模\n",
    "#### 再举一个更复杂的例子：图像包含数百万像素，因此有数百万个随机变量\n",
    "#### 图像会附带一个标签（label），标识图像中的对象。我们也可以将标签视为一个随机变量"
   ]
  },
  {
   "cell_type": "markdown",
   "metadata": {},
   "source": [
    "### 联合概率\n",
    "#### 第一个被称为联合概率(joint probability)$P(A = a, B = b)$。给定任意值a和b,联合概率可以回答:A = a和B = b同时满足的概率是多少?\n",
    "\n",
    "#### 请注意,对于任何a和b的取值,$P(A = a, B = b) ≤ P(A = a)$。这点是确定的,因为要同时发生$A = a$和$B = b$,$A = a$就必须发生,$B = b$也必须发生(反之亦然)。\n",
    "\n",
    "### 条件概率\n",
    "#### 联合概率的不等式带给我们一个有趣的比率:$0 ≤ P(A = a, B = b) / P(A = a) ≤ 1$。我们称这个比率为条件概率(conditional probability),并用$P(B = b | A = a)$表示它:它是$B = b$的概率,前提是$A = a$已发生。\n",
    "\n",
    "### 贝叶斯定理\n",
    "#### 使用条件概率的定义,我们可以得出统计学中最有用的方程之一:Bayes定理(Bayes’ theorem)。\n",
    "\n",
    "#### 根据乘法法则(multiplication rule)可得到:\n",
    "\n",
    "####  $$P(A, B) = P(B | A)P(A)$$\n",
    "\n",
    "### 边际化\n",
    "#### 为了能进行事件概率求和,我们需要求和法则(sum rule),即B的概率相当于计算A的所有可能选择,并将所有选择的联合概率聚合在一起:\n",
    "\n",
    "#### $$P(B) = ΣΣ P(A, B)$$\n",
    "\n",
    "#### 这也称为边际化(marginalization)。边际化结果的概率或分布称为边际概率(marginal probability)或边际分布(marginal distribution)。\n",
    "\n",
    "### 独立性\n",
    "#### 另一个有用属性是依赖(dependence)与独立(independence)。如果两个随机变量A和B是独立的,意味着事件A的发生跟B事件的发生无关。在这种情况下,统计学家通常将这一点表述为$A ⊥ B$。\n",
    "\n",
    "#### 根据贝叶斯定理,马上就能同样得到$P(A | B) = P(A)$。在所有其他情况下,我们称A和B依赖。"
   ]
  },
  {
   "cell_type": "markdown",
   "metadata": {},
   "source": [
    "## HIV测试的概率分析\n",
    "\n",
    "在这个场景中，我们考虑了两次对患者进行HIV测试的情况。我们用贝叶斯定理来计算患者实际感染HIV的概率。\n",
    "\n",
    "### 第一次测试\n",
    "\n",
    "- **测试准确性**:\n",
    "  - 如果患者未感染HIV，测试呈阳性的概率为1% (`P(D1 = 1 | H = 0) = 0.01`)\n",
    "  - 如果患者感染HIV，测试永远呈阳性 (`P(D1 = 1 | H = 1) = 1`)\n",
    "\n",
    "- **患者实际感染HIV的先验概率**:\n",
    "  - `P(H = 1) = 0.0015`（即人口中有0.15%的人感染了HIV）\n",
    "\n",
    "- **计算患者测试呈阳性的总概率**:\n",
    "  - `P(D1 = 1) = P(D1 = 1 | H = 0)P(H = 0) + P(D1 = 1 | H = 1)P(H = 1) = 0.011485`\n",
    "\n",
    "- **应用贝叶斯定理计算患者感染HIV的后验概率**:\n",
    "  - `P(H = 1 | D1 = 1) = P(D1 = 1 | H = 1)P(H = 1) / P(D1 = 1) = 0.1306`\n",
    "  - 即使测试非常准确，测试呈阳性的患者实际上感染HIV的概率只有13.06%。\n",
    "\n",
    "### 第二次测试\n",
    "\n",
    "- **第二次测试的准确性**:\n",
    "  - 感染HIV时呈阳性的概率为98% (`P(D2 = 1 | H = 1) = 0.98`)\n",
    "  - 未感染HIV时呈阳性的概率为3% (`P(D2 = 1 | H = 0) = 0.03`)\n",
    "\n",
    "- **两次测试都呈阳性的条件概率**:\n",
    "  - 未感染HIV: `P(D1 = 1, D2 = 1 | H = 0) = P(D1 = 1 | H = 0)P(D2 = 1 | H = 0) = 0.0003`\n",
    "  - 感染HIV: `P(D1 = 1, D2 = 1 | H = 1) = P(D1 = 1 | H = 1)P(D2 = 1 | H = 1) = 0.98`\n",
    "\n",
    "- **两次测试都呈阳性的总概率**:\n",
    "  - `P(D1 = 1, D2 = 1) = P(D1 = 1, D2 = 1 | H = 0)P(H = 0) + P(D1 = 1, D2 = 1 | H = 1)P(H = 1) = 0.00176955`\n",
    "\n",
    "- **应用贝叶斯定理计算两次测试都呈阳性的情况下患者感染HIV的后验概率**:\n",
    "  - `P(H = 1 | D1 = 1, D2 = 1) = P(D1 = 1, D2 = 1 | H = 1)P(H = 1) / P(D1 = 1, D2 = 1) = 0.8307`\n",
    "  - 这意味着在两次测试都呈阳性的情况下，患者感染HIV的概率显著上升到83.07%。\n",
    "\n",
    "### 结论\n",
    "\n",
    "- 即使第一次测试非常准确，单次阳性结果并不一定意味着高感染概率\n",
    "- 第二次测试虽然准确性较低，但联合两次测试结果可大幅提高对患者感染状态的预测准确性。"
   ]
  },
  {
   "cell_type": "markdown",
   "metadata": {},
   "source": [
    "### 2.6.3 期望和方差"
   ]
  },
  {
   "cell_type": "markdown",
   "metadata": {},
   "source": [
    "#### 为了概括概率分布的关键特征，我们需要一些测量方法\n",
    "#### 一个随机变量$\\chi$的期望（expectation）表示为\n",
    "#### $$ E|X| = \\sum_{x}xP(X=x)$$"
   ]
  },
  {
   "cell_type": "markdown",
   "metadata": {},
   "source": [
    "#### 当函数f(x)的输入是从分布P中抽取的随机变量时，f(x)的期望值为\n",
    "#### $$ E_{x~p}|f(x)|=\\sum_{x}f(x)P(x)$$"
   ]
  },
  {
   "cell_type": "markdown",
   "metadata": {},
   "source": [
    "#### 在许多情况下，我们希望衡量随机变量X与其期望值的偏置。这可以通过方差来量化\n",
    "#### $$ \\boldsymbol{\\Sigma} \\stackrel{\\textrm{def}}{=} \\textrm{Cov}_{\\mathbf{x} \\sim P}[\\mathbf{x}] = E_{\\mathbf{x} \\sim P}\\left[(\\mathbf{x} - \\boldsymbol{\\mu}) (\\mathbf{x} - \\boldsymbol{\\mu})^\\top\\right].$$"
   ]
  },
  {
   "cell_type": "markdown",
   "metadata": {},
   "source": [
    "#### 方差的平方根被称为标准差（standard deviation）。随机变量函数的方差衡量的是：当从该随机变量分布中采样不同值x时，函数值偏离该函数的期望的程度：\n",
    "#### $$ \\mathbf{v}^\\top \\boldsymbol{\\Sigma} \\mathbf{v} = E_{\\mathbf{x} \\sim P}\\left[\\mathbf{v}^\\top(\\mathbf{x} - \\boldsymbol{\\mu}) (\\mathbf{x} - \\boldsymbol{\\mu})^\\top \\mathbf{v}\\right] = \\textrm{Var}_{x \\sim P}[\\mathbf{v}^\\top \\mathbf{x}].$$"
   ]
  },
  {
   "cell_type": "markdown",
   "metadata": {},
   "source": [
    "### 小结\n",
    "#### • 我们可以从概率分布中采样。\n",
    "#### • 我们可以使用联合分布、条件分布、Bayes定理、边缘化和独立性假设来分析多个随机变量。\n",
    "#### • 期望和方差为概率分布的关键特征的概括提供了实用的度量形式。"
   ]
  }
 ],
 "metadata": {
  "kernelspec": {
   "display_name": "base",
   "language": "python",
   "name": "python3"
  },
  "language_info": {
   "codemirror_mode": {
    "name": "ipython",
    "version": 3
   },
   "file_extension": ".py",
   "mimetype": "text/x-python",
   "name": "python",
   "nbconvert_exporter": "python",
   "pygments_lexer": "ipython3",
   "version": "3.9.12"
  }
 },
 "nbformat": 4,
 "nbformat_minor": 2
}
